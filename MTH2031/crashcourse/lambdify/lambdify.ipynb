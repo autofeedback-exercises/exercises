{
  "cells": [
    {
      "cell_type": "markdown",
      "metadata": {
        "id": "NVOkK4hCU7RK"
      },
      "source": [
        "# Run this cell first"
      ]
    },
    {
      "cell_type": "code",
      "execution_count": 8,
      "metadata": {
        "id": "QCMw-lybOsz-"
      },
      "outputs": [],
      "source": [
        "# this code enables the automated feedback. If you remove this, you won't get any feedback\n",
        "# so don't delete this cell!\n",
        "try:\n",
        "  import AutoFeedback\n",
        "except (ModuleNotFoundError, ImportError):\n",
        "  %pip install git+https://github.com/abrown41/AutoFeedback@notebook\n",
        "  import AutoFeedback\n",
        "\n",
        "try:\n",
        "  from testsrc import test_main\n",
        "except (ModuleNotFoundError, ImportError):\n",
        "  %pip install \"git+https://github.com/autofeedback-exercises/exercises.git#subdirectory=MTH2031/crashcourse/lambdify\"\n",
        "  from testsrc import test_main\n",
        "\n",
        "def runtest(tlist):\n",
        "  import unittest\n",
        "  from contextlib import redirect_stderr\n",
        "  from os import devnull\n",
        "  with redirect_stderr(open(devnull, 'w')):\n",
        "    suite = unittest.TestSuite()\n",
        "    for tname in tlist:\n",
        "      suite.addTest(eval(f\"test_main.UnitTests.{tname}\"))\n",
        "    runner = unittest.TextTestRunner()\n",
        "    try:\n",
        "      runner.run(suite)\n",
        "    except AssertionError:\n",
        "      pass\n"
      ]
    },
    {
      "cell_type": "markdown",
      "metadata": {},
      "source": [
        "---\n",
        "\n",
        "## Defining Numerical functions with sympy\n",
        "\n",
        "Often, when working with symbolic python, we will want to switch to a numerical representation to generate results. While an expression like \n",
        "\n",
        "$$y = \\sum \\limits _{n=0} ^{N} x^n,$$\n",
        "\n",
        "is useful for manipulating the mathematics, it is not so useful for _calculating anything_. To calculate the value of the sum we would need to know the values of $x$ and $N$, and then we would either require a closed form expression for the sum (which for this simple case, the [geometric series](https://en.wikipedia.org/wiki/Geometric_series#Sum), is known), or a method (usually computational) to compute the sum explicitly, i.e. to calculate the summands and add them all together. You may have already completed an exercise like that previously (depending on which modules you have taken). The function to compute the sum of the goemetric series looks like:"
      ]
    },
    {
      "cell_type": "code",
      "execution_count": 1,
      "metadata": {},
      "outputs": [],
      "source": [
        "def sum_geometric(x, N):\n",
        "  running_total = 0\n",
        "  for n in range(N+1):\n",
        "    summand = x**n\n",
        "    running_total = running_total + summand\n",
        "  return running_total"
      ]
    },
    {
      "cell_type": "markdown",
      "metadata": {},
      "source": [
        "In other words, we provide arguments to the function (the values of $x$ and $N$), it computes the sum and returns the computed value. We can think of this diagrammatically as \n",
        "\n",
        "<center><img src='https://raw.githubusercontent.com/autofeedback-exercises/exercises/main/MTH2031/crashcourse/lambdify/function.png' height=150 /></center>\n",
        "\n",
        "or symbolically as \n",
        "\n",
        "$$S(x; N): \\mathbb{R} \\mapsto \\mathbb{R}.$$\n",
        "\n",
        "But however you think of it, the overarching idea is the same: we want to provide input (arguments) and receive output. Using our function, we could calculate the value of the geometric series for $x = 0.5$ and $N = 10$ as follows:"
      ]
    },
    {
      "cell_type": "code",
      "execution_count": 3,
      "metadata": {},
      "outputs": [
        {
          "name": "stdout",
          "output_type": "stream",
          "text": [
            "1.9990234375\n"
          ]
        }
      ],
      "source": [
        "S = sum_geometric(x=0.5, N=10)\n",
        "print(S)"
      ]
    },
    {
      "cell_type": "markdown",
      "metadata": {},
      "source": [
        "---\n",
        "\n",
        "## Sympy subs\n",
        "\n",
        "We can use `sympy` to represent the sum like this"
      ]
    },
    {
      "cell_type": "code",
      "execution_count": 4,
      "metadata": {},
      "outputs": [],
      "source": [
        "import sympy as sy\n",
        "\n",
        "x, n, N = sy.symbols('x, n, N')\n",
        "S = sy.Sum(x**n, (n, 0, N))\n"
      ]
    },
    {
      "cell_type": "markdown",
      "metadata": {},
      "source": [
        "And if we wanted to substitute particular values in for $x$ and $N$, we could do that using the `.subs()` method:"
      ]
    },
    {
      "cell_type": "code",
      "execution_count": 5,
      "metadata": {},
      "outputs": [
        {
          "name": "stdout",
          "output_type": "stream",
          "text": [
            "  10      \n",
            " ___      \n",
            " ╲        \n",
            "  ╲      n\n",
            "  ╱   0.5 \n",
            " ╱        \n",
            " ‾‾‾      \n",
            "n = 0     \n"
          ]
        }
      ],
      "source": [
        "particular_sum = S.subs(x, 0.5).subs(N, 10)\n",
        "sy.pprint(particular_sum)"
      ]
    },
    {
      "cell_type": "markdown",
      "metadata": {},
      "source": [
        "Note, however, that this hasn't actually calculated the value of the sum: just substituted in our values. To actually do the sum we have to use yet another special method, this time only useful for sums, called `.doit()`"
      ]
    },
    {
      "cell_type": "code",
      "execution_count": 6,
      "metadata": {},
      "outputs": [
        {
          "name": "stdout",
          "output_type": "stream",
          "text": [
            "1.99902343750000\n"
          ]
        }
      ],
      "source": [
        "sy.pprint(particular_sum.doit())"
      ]
    },
    {
      "cell_type": "markdown",
      "metadata": {},
      "source": [
        "If you're paying attention, you'll realise that all of this is a little unsatisfactory. We have a nice expression for our sum, but to calculate specific values, we have to use two `.subs()` and a `.doit()`, and we would need to repeat this for every pair of values, $x$ and $N$.\n",
        "\n",
        "---\n",
        "\n",
        "## `lambdify`\n",
        "\n",
        "What we would like, ideally, is to combine the symbolic power of `sympy`, with the simple calculation of a python function, and `sympy` provides that functionality with the `sy.lambdify` function. `lambdify` takes information about the function we want to build– its input arguments, and what to do with them– and turns that into an executable function like the `sum_geometric` function we defined earlier on.\n",
        "\n",
        "`lambdify` takes two input arguments.\n",
        "\n",
        "1. a list of all the inputs we want for our new function. In the case of our geometric series, there are two input arguments, `x` and `N`\n",
        "2. a sympy expression which shows what we want to do with those arguments. In our case, that will be the expression for the summation.\n",
        "\n",
        "The whole thing looks like this"
      ]
    },
    {
      "cell_type": "code",
      "execution_count": 7,
      "metadata": {},
      "outputs": [
        {
          "name": "stdout",
          "output_type": "stream",
          "text": [
            "1.9990234375\n"
          ]
        }
      ],
      "source": [
        "import sympy as sy\n",
        "\n",
        "x, n, N = sy.symbols('x, n, N')\n",
        "S = sy.Sum(x**n, (n, 0, N))\n",
        "sympy_sum_geometric = sy.lambdify([x, N], S)\n",
        "print(sympy_sum_geometric(0.5, 10))"
      ]
    },
    {
      "cell_type": "markdown",
      "metadata": {},
      "source": [
        "The key line here is `sympy_sum_geometric = sy.lambdify([x, N], S)`. The name `sympy_sum_geometric` is what we want our new function to be called. Then we use `sy.lambdify`, with the list of input arguments `[x, N]` and the expression for the sum, which we have previously saved in the variable `S`.\n",
        "\n",
        "Not only does this have the advantage that we can now use `sympy_sum_geometric` over and over again with different values of `x` and `N` without having to repeat all the extra typing, but it is also much much faster to compute (on my computer, it takes half the time).\n",
        "\n",
        "---"
      ]
    },
    {
      "cell_type": "markdown",
      "metadata": {
        "id": "bfPT1nrhU0cE"
      },
      "source": [
        "\n",
        "# TASKS\n",
        "\n",
        "For each of the three functions below do the following\n",
        "\n",
        "1. Define a sympy expression with the correct name e.g. `f1`\n",
        "2. Use lambdify to define an executable function from the sympy expression. The\n",
        "   name of the function corresponding to `f1` should be `f1_func` and so on.\n",
        "\n",
        "* $f_1(x) = x^2 -3x+4$\n"
      ]
    },
    {
      "cell_type": "code",
      "execution_count": null,
      "metadata": {
        "id": "iaDURCrZBHPu"
      },
      "outputs": [],
      "source": [
        "# your code for f1 goes here\n",
        "\n",
        "\n"
      ]
    },
    {
      "cell_type": "code",
      "execution_count": null,
      "metadata": {
        "id": "REisrVbs4VNM"
      },
      "outputs": [],
      "source": [
        "runtest(['test_f1', 'test_f1_func'])\n"
      ]
    },
    {
      "cell_type": "markdown",
      "metadata": {},
      "source": [
        "* $f_2(x) = e^{-(x-y)^2}$"
      ]
    },
    {
      "cell_type": "code",
      "execution_count": null,
      "metadata": {},
      "outputs": [],
      "source": [
        "# your code for f2 goes here\n"
      ]
    },
    {
      "cell_type": "code",
      "execution_count": null,
      "metadata": {},
      "outputs": [],
      "source": [
        "runtest(['test_f2', 'test_f2_func'])"
      ]
    },
    {
      "cell_type": "markdown",
      "metadata": {},
      "source": [
        "* $ f_3(x) = \\sin(x) + cos(x)$"
      ]
    },
    {
      "cell_type": "code",
      "execution_count": null,
      "metadata": {},
      "outputs": [],
      "source": [
        "# your code for f3 goes here\n"
      ]
    },
    {
      "cell_type": "code",
      "execution_count": null,
      "metadata": {},
      "outputs": [],
      "source": [
        "runtest(['test_f3', 'test_f3_func'])"
      ]
    }
  ],
  "metadata": {
    "colab": {
      "cell_execution_strategy": "setup",
      "collapsed_sections": [
        "NVOkK4hCU7RK"
      ],
      "private_outputs": true,
      "provenance": []
    },
    "kernelspec": {
      "display_name": "Python 3 (ipykernel)",
      "language": "python",
      "name": "python3"
    },
    "language_info": {
      "codemirror_mode": {
        "name": "ipython",
        "version": 3
      },
      "file_extension": ".py",
      "mimetype": "text/x-python",
      "name": "python",
      "nbconvert_exporter": "python",
      "pygments_lexer": "ipython3",
      "version": "3.9.13"
    }
  },
  "nbformat": 4,
  "nbformat_minor": 0
}
