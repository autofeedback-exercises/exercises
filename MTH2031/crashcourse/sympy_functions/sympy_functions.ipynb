{
  "cells": [
    {
      "cell_type": "markdown",
      "metadata": {
        "id": "NVOkK4hCU7RK"
      },
      "source": [
        "# Run this cell first"
      ]
    },
    {
      "cell_type": "code",
      "execution_count": null,
      "metadata": {
        "id": "QCMw-lybOsz-"
      },
      "outputs": [],
      "source": [
        "# this code enables the automated feedback. If you remove this, you won't get any feedback\n",
        "# so don't delete this cell!\n",
        "try:\n",
        "  import AutoFeedback\n",
        "except (ModuleNotFoundError, ImportError):\n",
        "  %pip install git+https://github.com/abrown41/AutoFeedback@notebook\n",
        "  import AutoFeedback\n",
        "\n",
        "try:\n",
        "  from testsrc import test_main\n",
        "except (ModuleNotFoundError, ImportError):\n",
        "  %pip install \"git+https://github.com/autofeedback-exercises/exercises.git#subdirectory=MTH2031/crashcourse/sympy_functions\"\n",
        "  from testsrc import test_main\n",
        "\n",
        "def runtest(tlist):\n",
        "  import unittest\n",
        "  from contextlib import redirect_stderr\n",
        "  from os import devnull\n",
        "  with redirect_stderr(open(devnull, 'w')):\n",
        "    suite = unittest.TestSuite()\n",
        "    for tname in tlist:\n",
        "      suite.addTest(eval(f\"test_main.UnitTests.{tname}\"))\n",
        "    runner = unittest.TextTestRunner()\n",
        "    try:\n",
        "      runner.run(suite)\n",
        "    except AssertionError:\n",
        "      pass"
      ]
    },
    {
      "cell_type": "markdown",
      "metadata": {},
      "source": [
        "# Sympy Basics\n",
        "\n",
        "Sympy (**sym**bolic **py**thon) is a way of working with mathematical symbols (think $x$ and $y$) to solve problems. This is different from the traditional approach to computational mathematics which is numerical and for which we use the numpy, or **num**erical **py**thon, library. As we shall see, for working with problems in classical mechanics, we often need to use a combination of both sympy and numpy. As a bonus, you'll also be using sympy extensively for MTH2011, linear algebra, so there should be some cross-over benefit from studying this material. \n",
        "\n",
        "The basic objects in sympy are symbols:"
      ]
    },
    {
      "cell_type": "code",
      "execution_count": null,
      "metadata": {},
      "outputs": [],
      "source": [
        "import sympy as sy\n",
        "\n",
        "x, y, z, t = sy.symbols('x, y, z, t')\n",
        "sy.pprint(x**2 - y*z)"
      ]
    },
    {
      "cell_type": "markdown",
      "metadata": {},
      "source": [
        "We use `sy.pprint` (or 'pretty print') to render the mathematics more elegantly. With symbols, we can construct expressions"
      ]
    },
    {
      "cell_type": "code",
      "execution_count": null,
      "metadata": {},
      "outputs": [],
      "source": [
        "t = x**2 - y*z\n",
        "sy.pprint(t)"
      ]
    },
    {
      "cell_type": "markdown",
      "metadata": {},
      "source": [
        "equations"
      ]
    },
    {
      "cell_type": "code",
      "execution_count": null,
      "metadata": {},
      "outputs": [],
      "source": [
        "Eq1 = sy.Eq(x**2, y)  # Eq takes two arguments: the lhs and rhs\n",
        "sy.pprint(Eq1)"
      ]
    },
    {
      "cell_type": "markdown",
      "metadata": {},
      "source": [
        "and solve those equations"
      ]
    },
    {
      "cell_type": "code",
      "execution_count": null,
      "metadata": {},
      "outputs": [],
      "source": [
        "ysol = sy.solve(Eq1, x)\n",
        "sy.pprint(ysol)"
      ]
    },
    {
      "cell_type": "markdown",
      "metadata": {},
      "source": [
        "We can substitute values into expressions using `.subs()`"
      ]
    },
    {
      "cell_type": "code",
      "execution_count": null,
      "metadata": {},
      "outputs": [],
      "source": [
        "Expr1 = t.subs(x, z) # replace x with z in the expression t\n",
        "Expr2 = t.subs(x, 3) # replace x with 3 in the expression t\n",
        "sy.pprint(Expr1)\n",
        "sy.pprint(Expr2)"
      ]
    },
    {
      "cell_type": "markdown",
      "metadata": {},
      "source": [
        "and simplify expressions using `sy.simplify`"
      ]
    },
    {
      "cell_type": "code",
      "execution_count": null,
      "metadata": {},
      "outputs": [],
      "source": [
        "sy.simplify(sy.exp(x) + sy.exp(-x))\n"
      ]
    },
    {
      "cell_type": "markdown",
      "metadata": {},
      "source": [
        "One thing you will not see in linear algebra is derivatives of functions, so we will cover that here, as it will play a key role in the classical mechanics problems we encounter. To differentiate a function with sympy, simply use the `.diff()` method. For instance, let's define the Gaussian function $ G(x)= e^{-x^2} $ and compute its derivatives"
      ]
    },
    {
      "cell_type": "code",
      "execution_count": null,
      "metadata": {},
      "outputs": [],
      "source": [
        "G = sy.exp(-x**2)\n",
        "G_ = G.diff(x)  # first derivative\n",
        "G_2 = G.diff(x, 2) # second derivative\n",
        "sy.pprint(G_)\n",
        "\n",
        "sy.pprint(G_2)"
      ]
    },
    {
      "cell_type": "markdown",
      "metadata": {},
      "source": [
        "This is fairly straightforward, but we can also work with the derivatives of unknown functions, which will allow us to work with differential equations. For example, let's define a function $f(x)$ , set up a basic differential equation,$f'(x)=f(x)$ , and get `sympy` to solve it. The solve is done with `sy.dsolve()`:"
      ]
    },
    {
      "cell_type": "code",
      "execution_count": null,
      "metadata": {},
      "outputs": [],
      "source": [
        "f = sy.Function('f')(x)  # f is a function of x\n",
        "diffeq = sy.Eq(f.diff(x), f)\n",
        "f = sy.dsolve(diffeq)\n",
        "sy.pprint(f)"
      ]
    },
    {
      "cell_type": "markdown",
      "metadata": {},
      "source": [
        "---"
      ]
    },
    {
      "cell_type": "markdown",
      "metadata": {
        "id": "xDMIbJHSgT69"
      },
      "source": [
        "# TASKS\n",
        "\n",
        "Define the sympy symbols x, y and z and use them to complete the following tasks\n",
        "\n",
        "1. Define the sympy equation \n",
        "$$ 2x+3y=3$$\n",
        "Solve the equation for $x$ for the value $y=2$. I.E substitute $y=2$ into the equation, and use sympy to solve the equation for $x$ storing the result in the variable `x`"
      ]
    },
    {
      "cell_type": "code",
      "execution_count": null,
      "metadata": {
        "id": "E0dIfL9IzSq3"
      },
      "outputs": [],
      "source": [
        "# your code goes here\n",
        "\n"
      ]
    },
    {
      "cell_type": "code",
      "execution_count": null,
      "metadata": {
        "id": "REisrVbs4VNM"
      },
      "outputs": [],
      "source": [
        "runtest(['test_Eq1', 'test_Eq1_sol'])\n"
      ]
    },
    {
      "cell_type": "markdown",
      "metadata": {},
      "source": [
        "---\n",
        "\n",
        "2. Define the variable `f` to be given by\n",
        "$$ f = e^{\\sin y}$$\n",
        "Differentiate `f` and store the result in the new variable `f_`\n"
      ]
    },
    {
      "cell_type": "code",
      "execution_count": null,
      "metadata": {},
      "outputs": [],
      "source": []
    },
    {
      "cell_type": "code",
      "execution_count": null,
      "metadata": {},
      "outputs": [],
      "source": [
        "runtest(['test_Expr', 'test_deriv'])"
      ]
    },
    {
      "cell_type": "markdown",
      "metadata": {},
      "source": [
        "---\n",
        "3. Define a function $g(z)$, and use it to set up the differential equation \n",
        "$$\\dfrac{d^2g}{dz^2} = g + 2z^2$$\n",
        "Store the differential equation in the variable `diffeq`. Solve the differential equation and store the solution in the variable `gsol`."
      ]
    },
    {
      "cell_type": "code",
      "execution_count": null,
      "metadata": {},
      "outputs": [],
      "source": []
    },
    {
      "cell_type": "code",
      "execution_count": null,
      "metadata": {},
      "outputs": [],
      "source": [
        "runtest(['test_g', 'test_diffeq', 'test_gsol'])"
      ]
    }
  ],
  "metadata": {
    "colab": {
      "cell_execution_strategy": "setup",
      "collapsed_sections": [
        "NVOkK4hCU7RK"
      ],
      "private_outputs": true,
      "provenance": []
    },
    "kernelspec": {
      "display_name": "Python 3 (ipykernel)",
      "language": "python",
      "name": "python3"
    },
    "language_info": {
      "codemirror_mode": {
        "name": "ipython",
        "version": 3
      },
      "file_extension": ".py",
      "mimetype": "text/x-python",
      "name": "python",
      "nbconvert_exporter": "python",
      "pygments_lexer": "ipython3",
      "version": "3.9.13"
    }
  },
  "nbformat": 4,
  "nbformat_minor": 0
}
