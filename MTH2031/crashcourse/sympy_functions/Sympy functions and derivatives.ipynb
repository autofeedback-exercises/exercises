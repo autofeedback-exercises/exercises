{
 "cells": [
  {
   "cell_type": "markdown",
   "id": "62e947fc",
   "metadata": {},
   "source": [
    "## Working with functions in sympy\n",
    "\n",
    "You will already be familiar with some sympy from MTH2011, linear algebra. As a reminder, sympy (**sym**bolic **py**thon) is a way of working with mathematical symbols (think $x$ and $y$) to solve problems. This is different from the traditional approach to computational mathematics which is numerical and for which we use the numpy, or **num**erical **py**thon, library. As we shall see, for working with problems in classical mechanics, we often need to use a combination of both sympy and numpy, and some tools from scipy: the **sci**entific **py**thon package.\n",
    "\n",
    "### Quick refresh of the basics\n",
    "The basic objects in sympy are symbols:"
   ]
  },
  {
   "cell_type": "code",
   "execution_count": 32,
   "id": "18f56127",
   "metadata": {},
   "outputs": [
    {
     "data": {
      "text/latex": [
       "$\\displaystyle x^{2} - y z$"
      ],
      "text/plain": [
       "x**2 - y*z"
      ]
     },
     "execution_count": 32,
     "metadata": {},
     "output_type": "execute_result"
    }
   ],
   "source": [
    "import sympy as sy\n",
    "\n",
    "x, y, z, t = sy.symbols('x, y, z, t')\n",
    "x**2 - y*z"
   ]
  },
  {
   "cell_type": "markdown",
   "id": "81ed9473",
   "metadata": {},
   "source": [
    "With symbols we can construct expressions"
   ]
  },
  {
   "cell_type": "code",
   "execution_count": 33,
   "id": "17463227",
   "metadata": {},
   "outputs": [
    {
     "data": {
      "text/latex": [
       "$\\displaystyle x^{2} - y z$"
      ],
      "text/plain": [
       "x**2 - y*z"
      ]
     },
     "execution_count": 33,
     "metadata": {},
     "output_type": "execute_result"
    }
   ],
   "source": [
    "t = x**2 - y*z\n",
    "t"
   ]
  },
  {
   "cell_type": "markdown",
   "id": "fe30d9eb",
   "metadata": {},
   "source": [
    "equations"
   ]
  },
  {
   "cell_type": "code",
   "execution_count": 34,
   "id": "629b141e",
   "metadata": {},
   "outputs": [
    {
     "data": {
      "text/latex": [
       "$\\displaystyle x^{2} = y$"
      ],
      "text/plain": [
       "Eq(x**2, y)"
      ]
     },
     "execution_count": 34,
     "metadata": {},
     "output_type": "execute_result"
    }
   ],
   "source": [
    "Eq1 = sy.Eq(x**2, y) # Eq takes two arguments, the lhs and rhs\n",
    "Eq1"
   ]
  },
  {
   "cell_type": "markdown",
   "id": "70545ce4",
   "metadata": {},
   "source": [
    "and solve those equations:"
   ]
  },
  {
   "cell_type": "code",
   "execution_count": 35,
   "id": "9997080a",
   "metadata": {},
   "outputs": [
    {
     "data": {
      "text/plain": [
       "[-sqrt(y), sqrt(y)]"
      ]
     },
     "execution_count": 35,
     "metadata": {},
     "output_type": "execute_result"
    }
   ],
   "source": [
    "sy.solve(Eq1, x) # this will solve Eq1 for x"
   ]
  },
  {
   "cell_type": "markdown",
   "id": "791e5a53",
   "metadata": {},
   "source": [
    "We can substitute values into expressions using .subs"
   ]
  },
  {
   "cell_type": "code",
   "execution_count": 37,
   "id": "d685353b",
   "metadata": {},
   "outputs": [
    {
     "data": {
      "text/latex": [
       "$\\displaystyle - y z + z^{2}$"
      ],
      "text/plain": [
       "-y*z + z**2"
      ]
     },
     "execution_count": 37,
     "metadata": {},
     "output_type": "execute_result"
    }
   ],
   "source": [
    "t.subs(x,z) # substitute x=z into the expression t"
   ]
  },
  {
   "cell_type": "code",
   "execution_count": 39,
   "id": "be558577",
   "metadata": {},
   "outputs": [
    {
     "data": {
      "text/latex": [
       "$\\displaystyle - y z + 9$"
      ],
      "text/plain": [
       "-y*z + 9"
      ]
     },
     "execution_count": 39,
     "metadata": {},
     "output_type": "execute_result"
    }
   ],
   "source": [
    "t.subs(x, 3) # substitute x=3 into the expression t"
   ]
  },
  {
   "cell_type": "markdown",
   "id": "3f3ce61e",
   "metadata": {},
   "source": [
    "And simplify expressions using `sy.simplify`"
   ]
  },
  {
   "cell_type": "code",
   "execution_count": 42,
   "id": "59622616",
   "metadata": {},
   "outputs": [
    {
     "data": {
      "text/latex": [
       "$\\displaystyle 2 \\cosh{\\left(x \\right)}$"
      ],
      "text/plain": [
       "2*cosh(x)"
      ]
     },
     "execution_count": 42,
     "metadata": {},
     "output_type": "execute_result"
    }
   ],
   "source": [
    "sy.simplify(sy.exp(x) + sy.exp(-x))"
   ]
  },
  {
   "cell_type": "markdown",
   "id": "f3d5a986",
   "metadata": {},
   "source": [
    "### Working with derivatives\n",
    "\n",
    "One thing you will not see in linear algebra is derivatives of functions, so we will cover that here, as it will play a key role in the classical mechanics problems we encounter. To differentiate a function with sympy, simply use the `.diff()` method. For instance, let's define the Gaussian function $G(x)= e^{-x^2}$ and compute its derivative"
   ]
  },
  {
   "cell_type": "code",
   "execution_count": 43,
   "id": "38c471ff",
   "metadata": {},
   "outputs": [
    {
     "data": {
      "text/latex": [
       "$\\displaystyle - 2 x e^{- x^{2}}$"
      ],
      "text/plain": [
       "-2*x*exp(-x**2)"
      ]
     },
     "execution_count": 43,
     "metadata": {},
     "output_type": "execute_result"
    }
   ],
   "source": [
    "G = sy.exp(-x**2)\n",
    "G.diff(x)"
   ]
  },
  {
   "cell_type": "markdown",
   "id": "98835a37",
   "metadata": {},
   "source": [
    "This is fairly straightforward, but we can also work with the derivatives of unknown functions, which will allow us to work with differential equations. For example, let's define a function $f(x)$, set up a basic differential equation, $f'(x) = f(x)$, and get sympy to solve it. The solution is done with `sy.dsolve()`:"
   ]
  },
  {
   "cell_type": "code",
   "execution_count": 50,
   "id": "1157f9ec",
   "metadata": {},
   "outputs": [
    {
     "data": {
      "text/latex": [
       "$\\displaystyle f{\\left(x \\right)} = C_{1} e^{x}$"
      ],
      "text/plain": [
       "Eq(f(x), C1*exp(x))"
      ]
     },
     "execution_count": 50,
     "metadata": {},
     "output_type": "execute_result"
    }
   ],
   "source": [
    "f = sy.Function('f')(x) # f is a function of x\n",
    "diffeq = sy.Eq(f.diff(x), f) \n",
    "f = sy.dsolve(diffeq)\n",
    "f"
   ]
  }
 ],
 "metadata": {
  "kernelspec": {
   "display_name": "Python 3 (ipykernel)",
   "language": "python",
   "name": "python3"
  },
  "language_info": {
   "codemirror_mode": {
    "name": "ipython",
    "version": 3
   },
   "file_extension": ".py",
   "mimetype": "text/x-python",
   "name": "python",
   "nbconvert_exporter": "python",
   "pygments_lexer": "ipython3",
   "version": "3.9.7"
  }
 },
 "nbformat": 4,
 "nbformat_minor": 5
}
