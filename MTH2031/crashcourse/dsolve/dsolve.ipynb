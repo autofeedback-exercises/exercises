{
  "cells": [
    {
      "cell_type": "markdown",
      "metadata": {
        "id": "NVOkK4hCU7RK"
      },
      "source": [
        "# Run this cell first"
      ],
      "outputs": []
    },
    {
      "cell_type": "code",
      "execution_count": 1,
      "metadata": {
        "id": "QCMw-lybOsz-"
      },
      "outputs": [],
      "source": [
        "# this code enables the automated feedback. If you remove this, you won't get any feedback\n",
        "# so don't delete this cell!\n",
        "try:\n",
        "  import AutoFeedback\n",
        "except (ModuleNotFoundError, ImportError):\n",
        "  !pip install git+https://github.com/abrown41/AutoFeedback@notebook\n",
        "  import AutoFeedback\n",
        "\n",
        "try:\n",
        "  from testsrc import test_main\n",
        "except (ModuleNotFoundError, ImportError):\n",
        "  !pip install \"git+https://github.com/autofeedback-exercises/exercises.git#subdirectory=MTH2031/crashcourse/dsolve\"\n",
        "  from testsrc import test_main\n",
        "\n",
        "def runtest():\n",
        "  import unittest\n",
        "  from contextlib import redirect_stderr\n",
        "  from os import devnull\n",
        "  with redirect_stderr(open(devnull, 'w')):\n",
        "    unittest.main(argv=[''], module=test_main, exit=False)\n"
      ]
    },
    {
      "cell_type": "markdown",
      "metadata": {
        "id": "lCMqVKUZ1gEu"
      },
      "source": [
        "# Instructions\n",
        "\n",
        "Consider the second order, inhomogeneous differential equation,\n",
        "\n",
        "$$\\dfrac{d^2y}{dt^2} + 2\\dfrac{dy}{dt} + 5y = 5t^2 + 12$$\n",
        "\n",
        "with the initial conditions \n",
        "\n",
        "$$ y(0) = 0 \\quad \\text{ and } \\quad \\left[ \\dfrac{dy}{dt}\\right]_{t=0} = 0$$\n",
        "\n",
        "Use `sympy.dsolve` and sympy variable substitutions to determine the particular\n",
        "solution of this diferential system.\n",
        "\n",
        "1. Store the differential equation in the variable `diffeq`\n",
        "2. Store the solution of `diffeq` in the variable `solution`\n",
        "3. Store the initial conditions in `ic1` and `ic2` respectively\n",
        "4. Store the particular solution in the variable `particular`\n",
        "\n"
      ],
      "outputs": []
    },
    {
      "cell_type": "code",
      "execution_count": null,
      "metadata": {
        "id": "is0e2oMSCSf0"
      },
      "outputs": [],
      "source": [
        "# your code goes here"
      ]
    },
    {
      "cell_type": "code",
      "execution_count": 4,
      "metadata": {
        "id": "REisrVbs4VNM"
      },
      "outputs": [],
      "source": [
        "runtest()\n"
      ]
    },
    {
      "cell_type": "code",
      "execution_count": null,
      "metadata": {
        "id": "WNfDgGMCpXdV"
      },
      "outputs": [],
      "source": []
    }
  ],
  "metadata": {
    "colab": {
      "cell_execution_strategy": "setup",
      "collapsed_sections": [
        "NVOkK4hCU7RK"
      ],
      "private_outputs": true,
      "provenance": []
    },
    "kernelspec": {
      "display_name": "Python 3 (ipykernel)",
      "language": "python",
      "name": "python3"
    },
    "language_info": {
      "codemirror_mode": {
        "name": "ipython",
        "version": 3
      },
      "file_extension": ".py",
      "mimetype": "text/x-python",
      "name": "python",
      "nbconvert_exporter": "python",
      "pygments_lexer": "ipython3",
      "version": "3.9.13"
    }
  },
  "nbformat": 4,
  "nbformat_minor": 0
}
