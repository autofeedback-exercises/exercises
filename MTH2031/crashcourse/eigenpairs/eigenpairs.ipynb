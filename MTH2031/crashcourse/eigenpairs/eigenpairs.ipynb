{
  "cells": [
    {
      "cell_type": "markdown",
      "metadata": {
        "id": "NVOkK4hCU7RK"
      },
      "source": [
        "# Run this cell first"
      ]
    },
    {
      "cell_type": "code",
      "execution_count": null,
      "metadata": {
        "id": "QCMw-lybOsz-"
      },
      "outputs": [],
      "source": [
        "# this code enables the automated feedback. If you remove this, you won't get any feedback\n",
        "# so don't delete this cell!\n",
        "try:\n",
        "  import AutoFeedback\n",
        "except (ModuleNotFoundError, ImportError):\n",
        "  %pip install AutoFeedback\n",
        "  import AutoFeedback\n",
        "\n",
        "try:\n",
        "  from testsrc import test_main\n",
        "except (ModuleNotFoundError, ImportError):\n",
        "  %pip install \"git+https://github.com/autofeedback-exercises/exercises.git#subdirectory=MTH2031/crashcourse/eigenpairs\"\n",
        "  from testsrc import test_main\n",
        "\n",
        "def runtest():\n",
        "  import unittest\n",
        "  from contextlib import redirect_stderr\n",
        "  from os import devnull\n",
        "  with redirect_stderr(open(devnull, 'w')):\n",
        "    unittest.main(argv=[''], module=test_main, exit=False)\n"
      ]
    },
    {
      "cell_type": "markdown",
      "metadata": {},
      "source": [
        "# Finding Eigenpairs with sympy and numpy\n",
        "\n",
        "As we have been stressing throughout the computer exercises, there are two fundamentally different approaches to mathematical programming: symbolic and numerical. One problem which can be solved nicely using either approach is finding eigenvalues and eigenvectors, although the numerical method is significantly faster for larger matrices.\n",
        "\n",
        "## Problem set up\n",
        "\n",
        "I don't want to bog you down with details of why we care about eigenvalues and eigenvectors, although I hope the problems you see in this module will give some concrete examples that are easier to grasp than you would learn in, say, a pure, linear algebra module.  Consider a matrix $\\underline{\\bf{M}}$. We are frequently interested in finding the so-called eigenpairs of the matrix. As a reminder, an eigenpair consists of an eigenvalue ($\\lambda$: just a number) and an eigenvector ($\\underline{\\bf{v}}$: a vector of the same dimension as the matrix) which satisfy the identity:\n",
        "\n",
        "$$\\mathbf{\\underline{M}}\\,\\mathbf{\\underline{v}} = \\lambda \\, \\mathbf{\\underline{v}}.$$\n",
        "\n",
        "We'll demonstrate the method using a specific matrix:\n",
        "\n",
        "$$\\mathbf{\\underline{M}}=\\left(\n",
        "\\begin{array}{cccc}\n",
        "0 & 1 & 0 & 0 \\\\\n",
        "0 & 0 & 1 & 0 \\\\\n",
        "0 & 0 & 0 & 1 \\\\\n",
        "1 & 0 & 0 & 0 \\\\\n",
        "\\end{array}\n",
        "\\right)$$\n",
        "\n",
        "To find the eigenpairs we will use one symbolic method and one numerical, thus we need to store the matrix in symbolic form and numerical form also. We can do this using the `sympy` `Matrix` object, and the `numpy` `array` object."
      ]
    },
    {
      "cell_type": "code",
      "execution_count": null,
      "metadata": {},
      "outputs": [],
      "source": [
        "import sympy as sy\n",
        "import numpy as np\n",
        "\n",
        "M_sym = sy.Matrix([[0, 1, 0, 0], [0, 0, 1, 0], [0, 0, 0, 1], [1, 0, 0, 0]])\n",
        "M_num = np.array([[0, 1, 0, 0], [0, 0, 1, 0], [0, 0, 0, 1], [1, 0, 0, 0]])"
      ]
    },
    {
      "cell_type": "markdown",
      "metadata": {},
      "source": [
        "---\n",
        "\n",
        "## Symbolic Solution\n",
        "\n",
        "To determine the eigenpairs analytically we use the `sympy` method `.eigenvects()`:"
      ]
    },
    {
      "cell_type": "code",
      "execution_count": null,
      "metadata": {},
      "outputs": [],
      "source": [
        "epairs_sym = M_sym.eigenvects()\n",
        "sy.pprint(epairs_sym)"
      ]
    },
    {
      "cell_type": "markdown",
      "metadata": {},
      "source": [
        "We can divide this output up into four eigenpairs (each surrounded with round brackets). Each eigenpair is actually three items (confusingly). Taking the first:"
      ]
    },
    {
      "cell_type": "code",
      "execution_count": null,
      "metadata": {},
      "outputs": [],
      "source": [
        "sy.pprint(epairs_sym[0])"
      ]
    },
    {
      "cell_type": "markdown",
      "metadata": {},
      "source": [
        "This tells us that we have an eigenvalue of $-1$ with a corresponding eigenvector of \n",
        "$$\\left[\n",
        "\\begin{array}{c}\n",
        "-1 \\\\ \\phantom{-}1 \\\\ -1 \\\\\\phantom{-}1\n",
        "\\end{array}\n",
        "\\right].$$\n",
        "\n",
        "The middle number, which you'll notice is $1$ for every eigenpair, is the so-called algebraic multiplicity, which accounts for when you have repeated eigenvalues. \n",
        "\n",
        "---\n",
        "\n",
        "## Numerical Solution\n",
        "\n",
        "To determine the eigenpairs numerically we use the function `np.linalg.eig()` like this:"
      ]
    },
    {
      "cell_type": "code",
      "execution_count": null,
      "metadata": {},
      "outputs": [],
      "source": [
        "epairs_num = np.linalg.eig(M_num)\n",
        "print(epairs_num)"
      ]
    },
    {
      "cell_type": "markdown",
      "metadata": {},
      "source": [
        "Now this output looks rather confusing. However, we can also help ourselves by separating out the eigenvalues and eigenvectors like this:"
      ]
    },
    {
      "cell_type": "code",
      "execution_count": null,
      "metadata": {},
      "outputs": [],
      "source": [
        "evals, evects = np.linalg.eig(M_num)\n",
        "print(evals)\n",
        "print()\n",
        "print(evects)"
      ]
    },
    {
      "cell_type": "markdown",
      "metadata": {},
      "source": [
        "To interpret this you need to know three things. Firstly, recall that in python the imaginary number is referred to as `j` (not `i`). Secondly the notation `-5.00000e-01+1.000000e+00j` should be read as \"minus five (`-5.00000`) times ten to the minus 1 (`e-01`) plus $i$ (`+1.000000j`)\". Finally, numerical computation will very rarely calculate a number to be exactly zero, and so something on the order of $10^{-16}$ should be thought of as effectively zero. \n",
        "\n",
        "With this information we can thus interpret the eigenvalues as being $-1, i, -i$, and $1$, which is what we got with sympy earlier (albeit in a different order)\n",
        "\n",
        "Where the two methods start to differ is in the eigenvectors. If you interpret all the numbers in the evects list and read the columns you'll see we have four eigenvectors:\n",
        "\n",
        "$$\\left[\n",
        "\\begin{array}{c}\n",
        "-0.5 \\\\ 0.5 \\\\ -0.5 \\\\ 0.5 \n",
        "\\end{array}\n",
        "\\right], \\;\n",
        "\\left[\n",
        "\\begin{array}{c}\n",
        "0.5i \\\\ -0.5 \\\\ -0.5i \\\\ 0.5 \n",
        "\\end{array}\n",
        "\\right], \\;\n",
        "\\left[\n",
        "\\begin{array}{c}\n",
        "-0.5i \\\\ -0.5 \\\\ 0.5i \\\\ 0.5 \n",
        "\\end{array}\n",
        "\\right], \\;\n",
        "\\left[\n",
        "\\begin{array}{c}\n",
        "-0.5 \\\\ -0.5 \\\\ -0.5 \\\\ -0.5 \n",
        "\\end{array}\n",
        "\\right].$$\n",
        "\n",
        "To reconcile this we must remember that 1) the ordering is different and 2) any scalar multiple of an eigenvector is itself and eigenvector. In other words, if we have an eigenpair $(\\underline{\\bf{v}}, \\lambda)$ which satisfies:\n",
        "\n",
        "$$\\mathbf{\\underline{M}}\\,\\mathbf{\\underline{v}} = \\lambda \\, \\mathbf{\\underline{v}},$$\n",
        "\n",
        "then it is trivial to show that\n",
        "\n",
        "$$\\mathbf{\\underline{M}}\\,c\\mathbf{\\underline{v}} = \\lambda \\, c\\mathbf{\\underline{v}},$$\n",
        "\n",
        "also holds and thus $c\\underline{\\bf{v}}$ is also an eigenvector. All of this to say that the eigenvectors we get from `numpy` are the same as the eigenvectors we got from `sympy`, multiplied by a constant $±0.5$. "
      ]
    },
    {
      "cell_type": "markdown",
      "metadata": {
        "id": "c2264enLnAud"
      },
      "source": [
        "--- \n",
        "\n",
        "# TASKS\n",
        "\n",
        "Consider the matrix \n",
        "\n",
        "$$ A = \\left(\n",
        "\\begin{array}{ccc}\n",
        "1 & 0 & 0 & 0 \\\\\n",
        "0 & 2 & 0 & 0 \\\\\n",
        "0 & 0 & 3 & 0 \\\\\n",
        "0 & 0 & 0 & 4 \\\\\n",
        "\\end{array}\n",
        "\\right)\n",
        "$$\n",
        "\n",
        "\n",
        "\n",
        "1. Define this matrix in both symbolic (`A_sym`) and numerical (`A_num`) forms.\n",
        "\n",
        "2. Find the eigenpairs of `A_sym` and store them in the variable `epairs_sym`. \n",
        "\n",
        "3. Find the eigenvalues and eigenvectors of `A_num` and store them in the\n",
        "   variabls `evals_num` and `evects_num` respectively.\n",
        "\n",
        "\n"
      ]
    },
    {
      "cell_type": "code",
      "execution_count": null,
      "metadata": {
        "id": "VlCDJtInCfhf"
      },
      "outputs": [],
      "source": [
        "# your code goes here\n"
      ]
    },
    {
      "cell_type": "code",
      "execution_count": null,
      "metadata": {
        "id": "REisrVbs4VNM"
      },
      "outputs": [],
      "source": [
        "runtest()\n"
      ]
    }
  ],
  "metadata": {
    "colab": {
      "cell_execution_strategy": "setup",
      "collapsed_sections": [
        "NVOkK4hCU7RK"
      ],
      "private_outputs": true,
      "provenance": []
    },
    "kernelspec": {
      "display_name": "Python 3 (ipykernel)",
      "language": "python",
      "name": "python3"
    },
    "language_info": {
      "codemirror_mode": {
        "name": "ipython",
        "version": 3
      },
      "file_extension": ".py",
      "mimetype": "text/x-python",
      "name": "python",
      "nbconvert_exporter": "python",
      "pygments_lexer": "ipython3",
      "version": "3.9.13"
    }
  },
  "nbformat": 4,
  "nbformat_minor": 0
}
