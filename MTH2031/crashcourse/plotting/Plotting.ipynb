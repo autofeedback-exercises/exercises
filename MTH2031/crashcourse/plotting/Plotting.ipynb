{
    "cells": [
        {
            "cell_type": "markdown",
            "metadata": {
                "id": "NVOkK4hCU7RK"
            },
            "source": [
                "# Run this cell first"
            ]
        },
        {
            "cell_type": "code",
            "execution_count": null,
            "metadata": {
                "id": "QCMw-lybOsz-"
            },
            "outputs": [],
            "source": [
                "# this code enables the automated feedback. If you remove this, you won't get any feedback\n",
                "# so don't delete this cell!\n",
                "try:\n",
                "  import AutoFeedback\n",
                "except (ModuleNotFoundError, ImportError):\n",
                "  %pip install AutoFeedback\n",
                "  import AutoFeedback\n",
                "\n",
                "try:\n",
                "  from testsrc import test_main\n",
                "except (ModuleNotFoundError, ImportError):\n",
                "  %pip install \"git+https://github.com/autofeedback-exercises/exercises.git#subdirectory=MTH1025/intro/Plotting\"\n",
                "  from testsrc import test_main\n",
                "\n",
                "def runtest():\n",
                "  import unittest\n",
                "  from contextlib import redirect_stderr\n",
                "  from os import devnull\n",
                "  with redirect_stderr(open(devnull, 'w')):\n",
                "    unittest.main(argv=[''], module=test_main, exit=False)\n"
            ]
        },
        {
            "cell_type": "markdown",
            "metadata": {},
            "source": [
                "# Plotting\n",
                "\n",
                "You may already have seen this material at level 1, but it is included here as a refresher, and for those who did not take MTH1025\n",
                "\n",
                "## Why should I care about plotting stuff?\n",
                "\n",
                "One of the most powerful reasons to use a computer for mathematics is the ability to visualise the problem. We might be able to solve a kinematics equation to find the trajectory of a projectile and get some equation like\n",
                "$$\\mathbf{r}(t) = v_0 \\cos \\alpha \\mathbf{\\underline{i}} + \\left( v_0 \\sin\\alpha t - \\frac{1}{2}gt^2 \\right)\\mathbf{\\underline{j}},$$\n",
                "and perhaps, given the necessary parameters you could sketch the solution and have an idea of what traectory the particle follows. But with a computer we can plot the trajectory, and then play with it for different parameters, seeing how the motion changes. This ability to interact with the maths and have a tactile understanding of the mechanism it's describing is one of the invaluable abilities afforded us by computers.\n",
                "\n",
                "---\n",
                "\n",
                "## Plotting with pyplot\n",
                "\n",
                "Once again, we will be using one of python's many libraries to allow us to plot. This time the library is called pyplot, which is actually just a small part of a larger library called matplotlib. We import it, and the numpy library like this"
            ]
        },
        {
            "cell_type": "code",
            "execution_count": null,
            "metadata": {},
            "outputs": [],
            "source": [
                "import numpy as np\n",
                "import matplotlib.pyplot as plt"
            ]
        },
        {
            "cell_type": "markdown",
            "metadata": {},
            "source": [
                "Which names the plotting library as `plt`, just as we named the numpy library `np`.\n",
                "So what can we plot? Quite often you will see questions which ask you to plot functions. This could get confusing because what you are plotting may be a mathematical function, but of course in python 'function' means something different. Python can only plot numbers. So to plot a single point with coordinates $(0,0.5)$ we would execute"
            ]
        },
        {
            "cell_type": "code",
            "execution_count": null,
            "metadata": {},
            "outputs": [],
            "source": [
                "plt.plot(0,0.5,'.')"
            ]
        },
        {
            "cell_type": "markdown",
            "metadata": {},
            "source": [
                "which tells python to put a dot `('.')` at those particular coordinates.\n",
                "\n",
                "More often, though, we will be plotting lots of points at once, in the form of arrays. What we are really doing is plotting lots of pairs of $x$ and $y$ values, and python will draw a connecting line for us. This is how we can go about plotting particular mathematical functions.\n",
                "\n",
                "Let's make a simple graph of $y=\\sin(x)$ for $0\\leq x \\leq 2\\pi$. We need some $x$\u00a0values to use, so we'll use the `np.linspace` command to generate a grid of 100 linearly spaced points between $0$\u00a0and $2\\pi$. Then we can use that array to calculate the $y$ values:\n"
            ]
        },
        {
            "cell_type": "code",
            "execution_count": null,
            "metadata": {},
            "outputs": [],
            "source": [
                "x=np.linspace(0,2*np.pi,100)\n",
                "y=np.sin(x)\n",
                "plt.plot(x,y)"
            ]
        },
        {
            "cell_type": "markdown",
            "metadata": {},
            "source": [
                "If you run these cells, you should see the plot appear. You can download this image by right clicking it and selecting the 'Download image' option, but as we'll see later, we can get better quality files using some different commands. For now, you should think of this image as a preview of the plot, which we will edit by adding extra commands. For the purposes of this tutorial, though, we'll create a new image each time. \n",
                "\n",
                "For instance, we could add a second line to our plot either by adding a second plot command like this"
            ]
        },
        {
            "cell_type": "code",
            "execution_count": null,
            "metadata": {},
            "outputs": [],
            "source": [
                "y = np.sin(x)\n",
                "plt.plot(x,y)\n",
                "z = np.cos(x)     #additional line to be plotted\n",
                "plt.plot(x,z)     #additional plot command"
            ]
        },
        {
            "cell_type": "markdown",
            "metadata": {},
            "source": [
                "You will notice that pyplot assigns default colours to the lines that are plotted. We can set the colour, and the line style too by passing our $(x,y)$ pairs with a format string like this\n"
            ]
        },
        {
            "cell_type": "code",
            "execution_count": null,
            "metadata": {},
            "outputs": [],
            "source": [
                "plt.plot(x,y,'ro')           # plots y against x in red circles\n",
                "plt.plot(x,y,'b-',x,z,'g--') # plots y in blue line and z in a green dashed line"
            ]
        },
        {
            "cell_type": "markdown",
            "metadata": {},
            "source": [
                "There's a whole list of format strings you can use:\n",
                "\n",
                "| character | color   |   | character | description    |   | character | description         |\n",
                "|-----------|---------|---|-----------|----------------|---|-----------|---------------------|\n",
                "| 'b'       | blue    |   | '.'       | point marker   |   | '-'       | solid line style    |\n",
                "| 'g'       | green   |   | 'o'       | circle marker  |   | '--'      | dashed line style   |\n",
                "| 'r'       | red     |   | 's'       | square marker  |   | '-.'      | dash-dot line style |\n",
                "| 'c'       | cyan    |   | '*'       | star marker    |   | ':'       | dotted line style   |\n",
                "| 'm'       | magenta |   | '+'       | plus marker    |   |\n",
                "| 'y'       | yellow  |   | 'x'       | x marker       |   |\n",
                "| 'k'       | black   |   | 'D'       | diamond marker |   |\n",
                "\n",
                "\n",
                "---\n",
                "\n",
                "## Axes\n",
                "\n",
                "You should always give your axes some sensible labels. You can do this like so:\n"
            ]
        },
        {
            "cell_type": "code",
            "execution_count": null,
            "metadata": {},
            "outputs": [],
            "source": [
                "plt.plot(x, y)\n",
                "plt.xlabel('x')\n",
                "plt.ylabel('y')\n",
                "plt.title('plot of sin(x)')"
            ]
        },
        {
            "cell_type": "markdown",
            "metadata": {},
            "source": [
                "Sometimes you will want to set a particular scale for your axes too. You can do this with `plt.axis`\n",
                "\n",
                "```python\n",
                "plt.axis([-2, 2, -1, 1])\n",
                "```\n",
                "\n",
                "where the where the four numbers in the square bracket are the lower and upper $x$ and $y$ values respectively.\n",
                "\n",
                "Finally, the plots are always presented on a rectangular scale by default. But if you want $x$ and $y$ on the same scale (so that squares appear square and circles appear circular, for instance) use\n",
                "\n",
                "```python\n",
                "plt.axis('equal')\n",
                "```\n",
                "\n",
                "---"
            ]
        },
        {
            "cell_type": "markdown",
            "metadata": {},
            "source": [
                "## Legends\n",
                "It is always important when you are showing multiple data sets to distinguish them somehow. Of course, giving them different colours or linestyles is useful, but it doesn't actually tell you what is what. To add a legend to your plot you must label each data set as you plot it: like this\n",
                "\n"
            ]
        },
        {
            "cell_type": "code",
            "execution_count": null,
            "metadata": {},
            "outputs": [],
            "source": [
                "x=np.linspace(0,2*np.pi,100)\n",
                "\n",
                "y=np.sin(x)\n",
                "plt.plot(x,y,'g--',label='sin(x)') # Label first line\n",
                "\n",
                "z=np.cos(x)\n",
                "plt.plot(x,z,'b-', label='cos(x)') # Label second line\n",
                "\n",
                "plt.xlabel('x')\n",
                "plt.ylabel('y')\n",
                "\n",
                "plt.legend() # Show the legend\n"
            ]
        },
        {
            "cell_type": "markdown",
            "metadata": {},
            "source": [
                "---\n",
                "\n",
                "## Saving figures \n",
                "\n",
                "As mentioned above, a simple way to use the figures you produce is to right-click them, and download or save the image. By default this will produce a png file. These files aren't the best quality- they can appear quite pixelated- but they are nice and small. \n",
                "\n",
                "Saving figures with python is actually quite easy, but working on google drive means there's a few extra steps to make sure you can actually see the files you save.\n",
                "\n",
                "The command to save a figure is \n",
                "\n",
                "```python\n",
                "plt.savefig('filename')\n",
                "```\n",
                "\n",
                "where `'filename'` is the name of the file. The filename also determines the format of the file we save, i.e. `'plot.png'` will save a png file, `'plot.pdf'` will save a pdf. For final versions of figures that you include in your reports, for instance, you will always want to use pdf format. \n",
                "\n",
                "In order to save files, you will need to allow this python notebook to access your google drive. That looks like this"
            ]
        },
        {
            "cell_type": "code",
            "execution_count": null,
            "metadata": {"skip": true,
                         "id": "asdg9014adfs"},
            "outputs": [],
            "source": [
                "from google.colab import drive\n",
                "drive.mount('/content/gdrive')"
            ]
        },
        {
            "cell_type": "markdown",
            "metadata": {},
            "source": [
                "If you run that cell, it should prompt you (with a pop up, perhaps) to grant access to your google drive. If you consent to that, then you can save files as follows"
            ]
        },
        {
            "cell_type": "code",
            "execution_count": null,
            "metadata": {"skip" : true,
                         "id": "12490dafkj412"},
            "outputs": [],
            "source": [
                "plt.plot(x, y)\n",
                "plt.savefig('/content/gdrive/My Drive/plot.pdf')"
            ]
        },
        {
            "cell_type": "markdown",
            "metadata": {},
            "source": [
                "Now if you click on the file explorer (the little folder icon) on the left hand side, you can select the directory content/gdrive/Mydrive, and find your figure there. Run the code cell below to see a quick video showing this."
            ]
        },
        {
            "cell_type": "code",
            "execution_count": null,
            "metadata": {},
            "outputs": [],
            "source": [
                "\n",
                "%%HTML\n",
                "<iframe width=\"560\" height=\"315\" src=\"https://www.youtube.com/embed/WVRpZr1l6KQ?si=Wyd-DoO8Y63xw6xU\" title=\"YouTube video player\" frameborder=\"0\" allow=\"accelerometer; autoplay; clipboard-write; encrypted-media; gyroscope; picture-in-picture; web-share\" referrerpolicy=\"strict-origin-when-cross-origin\" allowfullscreen></iframe>"
            ]
        },
        {
            "cell_type": "markdown",
            "metadata": {
                "id": "re035fXS3gi5"
            },
            "source": [
                "---\n",
                "\n",
                "# TASKS\n",
                "\n",
                "The data sets to be ploted have been defined for you: don't edit them!\n",
                "\n",
                "1. Plot the values of y against x using a solid red line\n",
                "2. Plot the values of z against x using a dashed blue line\n",
                "3. Label the x-axis 'Time (s)' and the y-axis 'Amplitude (cm)'\n",
                "4. Give the chart the title 'Harmonic motion with differing starting phases'.\n",
                "5. Include a legend labelling the lines 'phase = 0' and 'phase = pi/2' as appropriate.\n",
                "6. Set the limits on the axes such that we have\n",
                "\n",
                "$$ 0 \\leq x \\leq 2\\pi,  \\quad -1 \\leq y \\leq 1$$\n",
                "\n",
                "The figure should look like this:\n",
                "\n",
                "<center><img src='https://raw.githubusercontent.com/autofeedback-exercises/exercises/main/MTH1025/intro/Plotting/waves.png' height=300 /></center>\n",
                "\n"
            ]
        },
        {
            "cell_type": "code",
            "execution_count": null,
            "metadata": {
                "id": "-Gvh6NfQ3I2C"
            },
            "outputs": [],
            "source": [
                "import numpy as np\n",
                "import matplotlib.pyplot as plt\n",
                "\n",
                "# Don't edit these!\n",
                "x=np.linspace(0,7,500)\n",
                "y=np.sin(x) # phase = 0\n",
                "z=np.sin(x+np.pi/2) # phase = pi/2\n",
                "\n",
                "# Your code goes here\n",
                "\n",
                "\n",
                "fighand = plt.gca() # this line is required for the automated testing\n"
            ]
        },
        {
            "cell_type": "code",
            "execution_count": null,
            "metadata": {
                "id": "5At9CUQ43LdY"
            },
            "outputs": [],
            "source": [
                "runtest()"
            ]
        }
    ],
    "metadata": {
        "colab": {
            "cell_execution_strategy": "setup",
            "collapsed_sections": [
                "NVOkK4hCU7RK"
            ],
            "private_outputs": true,
            "provenance": []
        },
        "kernelspec": {
            "display_name": "Python 3 (ipykernel)",
            "language": "python",
            "name": "python3"
        },
        "language_info": {
            "codemirror_mode": {
                "name": "ipython",
                "version": 3
            },
            "file_extension": ".py",
            "mimetype": "text/x-python",
            "name": "python",
            "nbconvert_exporter": "python",
            "pygments_lexer": "ipython3",
            "version": "3.9.13"
        }
    },
    "nbformat": 4,
    "nbformat_minor": 0
}
