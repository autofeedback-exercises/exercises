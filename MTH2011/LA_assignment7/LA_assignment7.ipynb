{
 "cells": [
  {
   "cell_type": "markdown",
   "metadata": {
    "id": "NVOkK4hCU7RK"
   },
   "source": [
    "# ."
   ]
  },
  {
   "cell_type": "code",
   "execution_count": null,
   "metadata": {
    "id": "QCMw-lybOsz-"
   },
   "outputs": [],
   "source": [
    "# this code enables the automated feedback. If you remove this, you won't get any feedback\n",
    "# so don't delete this cell!\n",
    "try:\n",
    "  import AutoFeedback\n",
    "except (ModuleNotFoundError, ImportError):\n",
    "  !pip install git+https://github.com/abrown41/AutoFeedback@notebook\n",
    "  import AutoFeedback\n",
    "\n",
    "try:\n",
    "  from testsrc import test_main\n",
    "except (ModuleNotFoundError, ImportError):\n",
    "  !pip install \"git+https://github.com/autofeedback-exercises/exercises.git#subdirectory=MTH2011/LA_assignment7\"\n",
    "  from testsrc import test_main\n",
    "\n",
    "def runtest(tlist):\n",
    "  import unittest\n",
    "  from contextlib import redirect_stderr\n",
    "  from os import devnull\n",
    "  with redirect_stderr(open(devnull, 'w')):\n",
    "    suite = unittest.TestSuite()\n",
    "    for tname in tlist:\n",
    "      suite.addTest(eval(f\"test_main.UnitTests.{tname}\"))\n",
    "    runner = unittest.TextTestRunner()\n",
    "    try:\n",
    "      runner.run(suite)\n",
    "    except AssertionError:\n",
    "      pass\n"
   ]
  },
  {
   "cell_type": "markdown",
   "metadata": {
    "id": "z1c9vP6MTOcc"
   },
   "source": [
    "LA assignment 7: computer questions\n",
    "\n",
    "Q1. Let $V$ be the 2d-vector subspace of $\\mathbb{R}^3$ spanned by the vectors $(1,2,1)$ and $(1,1,1)$.\n",
    "\n",
    "A. Determine a basis for $V$ using Gram-Schmidt orthogonalisation.\n",
    "\n",
    "B. Express the vector $\\mathbf{z}=(2,2,2)$ in terms of this basis. I.E determine the coefficients $a$ and $b$ such that\n",
    "\n",
    "$$\\mathbf{z} = a \\,\\mathbf{v}_0 + b\\,\\mathbf{v}_1,$$\n",
    "\n",
    "where $\\mathbf{v}_0$ and $\\mathbf{v}_1$ are the basis vectors determined in part A.\n"
   ]
  },
  {
   "cell_type": "code",
   "execution_count": null,
   "metadata": {
    "id": "qQdOTIZ4eFtw"
   },
   "outputs": [],
   "source": [
    "import sympy as sy\n",
    "\n",
    "# Name your variables as follows\n",
    "#  V : list of vectors in subspace\n",
    "#  basis: basis vectors from GS orthogonalization\n",
    "#  z: vector to be expanded\n",
    "#  coeff: dictionary of expansion coefficients\n",
    "\n"
   ]
  },
  {
   "cell_type": "code",
   "execution_count": null,
   "metadata": {
    "id": "StaOuRWM83RT"
   },
   "outputs": [],
   "source": [
    "runtest(['test_V', 'test_basis', 'test_coeff', 'test_z'])"
   ]
  }
 ],
 "metadata": {
  "colab": {
   "cell_execution_strategy": "setup",
   "collapsed_sections": [
    "NVOkK4hCU7RK"
   ],
   "private_outputs": true,
   "provenance": []
  },
  "kernelspec": {
   "display_name": "Python 3 (ipykernel)",
   "language": "python",
   "name": "python3"
  },
  "language_info": {
   "codemirror_mode": {
    "name": "ipython",
    "version": 3
   },
   "file_extension": ".py",
   "mimetype": "text/x-python",
   "name": "python",
   "nbconvert_exporter": "python",
   "pygments_lexer": "ipython3",
   "version": "3.9.13"
  }
 },
 "nbformat": 4,
 "nbformat_minor": 1
}
