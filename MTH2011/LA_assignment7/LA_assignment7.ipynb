{
 "cells": [
  {
   "cell_type": "markdown",
   "metadata": {
    "id": "NVOkK4hCU7RK"
   },
   "source": [
    "# Run this cell first"
   ]
  },
  {
   "cell_type": "code",
   "execution_count": null,
   "metadata": {
    "id": "QCMw-lybOsz-"
   },
   "outputs": [],
   "source": [
    "# this code enables the automated feedback. If you remove this, you won't get any feedback\n",
    "# so don't delete this cell!\n",
    "try:\n",
    "  import AutoFeedback\n",
    "except (ModuleNotFoundError, ImportError):\n",
    "  %pip install AutoFeedback\n",
    "  import AutoFeedback\n",
    "\n",
    "try:\n",
    "  from testsrc import test_main\n",
    "except (ModuleNotFoundError, ImportError):\n",
    "  %pip install \"git+https://github.com/autofeedback-exercises/exercises.git#subdirectory=MTH2011/LA_assignment7\"\n",
    "  from testsrc import test_main\n",
    "\n",
    "def runtest(tlist):\n",
    "  import unittest\n",
    "  from contextlib import redirect_stderr\n",
    "  from os import devnull\n",
    "  with redirect_stderr(open(devnull, 'w')):\n",
    "    suite = unittest.TestSuite()\n",
    "    for tname in tlist:\n",
    "      suite.addTest(eval(f\"test_main.UnitTests.{tname}\"))\n",
    "    runner = unittest.TextTestRunner()\n",
    "    try:\n",
    "      runner.run(suite)\n",
    "    except AssertionError:\n",
    "      pass\n"
   ]
  },
  {
   "cell_type": "markdown",
   "metadata": {},
   "source": [
    "# LA assignment 7: computer questions\n",
    "\n",
    "**Example Problem**: Let $V$ be the linear subspace of the Euclidean space $\\mathbb{R}^4$ spanned by the vectors $(-1,1,1,1), (-1,-1,1,1)$ and $(-1,1,-1,1)$. Apply the Gram-Schmidt orthogonalisation process to the above set of vectors to obtain an orthonormal basis for $V$. \n",
    "\n",
    "As usual, `sympy` has built-in commands for performing the Gram-Schmidt procedure. We simply need to provide it with a list of the input vectors. "
   ]
  },
  {
   "cell_type": "code",
   "execution_count": null,
   "metadata": {},
   "outputs": [],
   "source": [
    "import sympy as sy\n",
    "M = [sy.Matrix([-1, 1, 1, 1]), sy.Matrix([-1, -1, 1, 1]), sy.Matrix([-1, 1, -1, 1])]\n",
    "basis = sy.GramSchmidt(M, orthonormal = True)\n",
    "sy.pprint(basis)"
   ]
  },
  {
   "cell_type": "markdown",
   "metadata": {},
   "source": [
    "Note the use of the `orthonormal = True` option in the call to `sy.GramSchmidt()` . Without this the basis vectors wouldn't be normalised. We can verify that these three vectors are othonormal by taking the dot products:"
   ]
  },
  {
   "cell_type": "code",
   "execution_count": null,
   "metadata": {},
   "outputs": [],
   "source": [
    "sy.pprint(basis[0].dot(basis[0]))\n",
    "sy.pprint(basis[1].dot(basis[1]))\n",
    "sy.pprint(basis[2].dot(basis[2]))\n"
   ]
  },
  {
   "cell_type": "code",
   "execution_count": null,
   "metadata": {},
   "outputs": [],
   "source": [
    "sy.pprint(basis[0].dot(basis[1]))\n",
    "sy.pprint(basis[0].dot(basis[2]))\n",
    "sy.pprint(basis[1].dot(basis[2]))"
   ]
  },
  {
   "cell_type": "markdown",
   "metadata": {},
   "source": [
    "We can also check that the vectors form a basis by expressing each of the starting vectors (in the question) in terms of the basis"
   ]
  },
  {
   "cell_type": "code",
   "execution_count": null,
   "metadata": {},
   "outputs": [],
   "source": [
    "a, b, c = sy.symbols(\"a, b, c\")\n",
    "for ii in range(3):\n",
    "  sy.pprint(sy.solve(a*basis[0] + b*basis[1] + c*basis[2] - M[ii], [a, b, c]))"
   ]
  },
  {
   "cell_type": "markdown",
   "metadata": {},
   "source": [
    "This piece of code takes each of the three starting vectors (that's the `for` loop) and for each solves the equation to find the expansion coefficients. So, for instance from the second line of output `({a: 1, b: √3, c: 0})` we have that\n",
    "\n",
    "$$\\left(\n",
    "\\begin{array}{ccc}\n",
    "-1 \\\\ -1 \\\\ 1 \\\\1\n",
    "\\end{array}\n",
    "\\right)\n",
    "= {\\color{red}{\\mathbf{1}}} \\cdot \n",
    "\\left(\n",
    "\\begin{array}{ccc}\n",
    "\\frac{-1}{2}\\\\ \\frac{1}{2}\\\\ \\frac{1}{2}\\\\ \\frac{1}{2}\n",
    "\\end{array}\n",
    "\\right)\n",
    "+ \n",
    "{\\color{red}{\\mathbf{\\sqrt{3}}}} \\cdot \n",
    "\\left(\n",
    "\\begin{array}{ccc}\n",
    "\\frac{-\\sqrt{3}}{6}\\\\ \\frac{-\\sqrt{3}}{2} \\\\ \\frac{\\sqrt{3}}{6}\\\\ \\frac{\\sqrt{3}}{6}\n",
    "\\end{array}\n",
    "\\right)\n",
    "+ {\\color{red}{\\mathbf{0}}}\\cdot\n",
    "\\left(\n",
    "\\begin{array}{ccc}\n",
    "\\frac{-\\sqrt{6}}{6}\\\\ 0\\\\\\frac{-\\sqrt{6}}{3}\\\\ \\frac{\\sqrt{6}}{6}\n",
    "\\end{array}\n",
    "\\right),\n",
    "$$\n",
    "where the expansion coefficients are highlighted in red."
   ]
  },
  {
   "cell_type": "markdown",
   "metadata": {
    "id": "z1c9vP6MTOcc"
   },
   "source": [
    "---\n",
    "\n",
    "## TASKS\n",
    "\n",
    "Q1. Let $V$ be the 2d-vector subspace of $\\mathbb{R}^3$ spanned by the vectors $(1,2,1)$ and $(1,1,1)$.\n",
    "\n",
    "A. Determine a basis for $V$ using Gram-Schmidt orthogonalisation.\n",
    "\n",
    "B. Express the vector $\\mathbf{z}=(2,2,2)$ in terms of this basis. I.E determine the coefficients $a$ and $b$ such that\n",
    "\n",
    "$$\\mathbf{z} = a \\,\\mathbf{v}_0 + b\\,\\mathbf{v}_1,$$\n",
    "\n",
    "where $\\mathbf{v}_0$ and $\\mathbf{v}_1$ are the basis vectors determined in part A.\n"
   ]
  },
  {
   "cell_type": "code",
   "execution_count": null,
   "metadata": {
    "id": "qQdOTIZ4eFtw"
   },
   "outputs": [],
   "source": [
    "import sympy as sy\n",
    "\n",
    "# Name your variables as follows\n",
    "#  V : list of vectors in subspace\n",
    "#  basis: basis vectors from GS orthogonalization\n",
    "#  z: vector to be expanded\n",
    "#  coeff: dictionary of expansion coefficients\n",
    "\n"
   ]
  },
  {
   "cell_type": "code",
   "execution_count": null,
   "metadata": {
    "id": "StaOuRWM83RT"
   },
   "outputs": [],
   "source": [
    "runtest(['test_V', 'test_basis', 'test_coeff', 'test_z'])"
   ]
  }
 ],
 "metadata": {
  "colab": {
   "cell_execution_strategy": "setup",
   "collapsed_sections": [
    "NVOkK4hCU7RK"
   ],
   "private_outputs": true,
   "provenance": []
  },
  "kernelspec": {
   "display_name": "Python 3 (ipykernel)",
   "language": "python",
   "name": "python3"
  },
  "language_info": {
   "codemirror_mode": {
    "name": "ipython",
    "version": 3
   },
   "file_extension": ".py",
   "mimetype": "text/x-python",
   "name": "python",
   "nbconvert_exporter": "python",
   "pygments_lexer": "ipython3",
   "version": "3.9.13"
  }
 },
 "nbformat": 4,
 "nbformat_minor": 1
}
