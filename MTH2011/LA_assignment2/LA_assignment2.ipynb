{
 "cells": [
  {
   "cell_type": "markdown",
   "metadata": {
    "id": "NVOkK4hCU7RK"
   },
   "source": [
    "# ."
   ]
  },
  {
   "cell_type": "code",
   "execution_count": null,
   "metadata": {
    "id": "QCMw-lybOsz-"
   },
   "outputs": [],
   "source": [
    "# this code enables the automated feedback. If you remove this, you won't get any feedback\n",
    "# so don't delete this cell!\n",
    "try:\n",
    "  import AutoFeedback\n",
    "except (ModuleNotFoundError, ImportError):\n",
    "  !pip install git+https://github.com/abrown41/AutoFeedback@notebook\n",
    "  import AutoFeedback\n",
    "\n",
    "try:\n",
    "  from testsrc import test_main\n",
    "except (ModuleNotFoundError, ImportError):\n",
    "  !pip install \"git+https://github.com/autofeedback-exercises/exercises.git#subdirectory=MTH2011/LA_assignment2\"\n",
    "  from testsrc import test_main\n",
    "\n",
    "def runtest(tlist):\n",
    "  import unittest\n",
    "  from contextlib import redirect_stderr\n",
    "  from os import devnull\n",
    "  with redirect_stderr(open(devnull, 'w')):\n",
    "    suite = unittest.TestSuite()\n",
    "    for tname in tlist:\n",
    "      suite.addTest(eval(f\"test_main.UnitTests.{tname}\"))\n",
    "    runner = unittest.TextTestRunner()\n",
    "    try:\n",
    "      runner.run(suite)\n",
    "    except AssertionError:\n",
    "      pass\n"
   ]
  },
  {
   "cell_type": "markdown",
   "metadata": {
    "id": "8QpzChzHLWiY"
   },
   "source": [
    "# LA assignment 2: computer questions\n",
    "\n",
    "For all questions, ensure you use the variable requested in the code cells.\n",
    "\n",
    "Q1. Consider the matrix\n",
    "\n",
    "$$A = \\left( \\begin{array}{ccc} 1 & -2 & 0 \\\\ 2 & -3 & 1 \\\\ 1 & 1& 5 \\end{array} \\right)$$\n",
    "\n",
    "Compute the $LU$ decomposition of $A$, its inverse, and determinant.\n",
    "\n"
   ]
  },
  {
   "cell_type": "code",
   "execution_count": null,
   "metadata": {
    "id": "Dykx1BmgwAdK"
   },
   "outputs": [],
   "source": [
    "import sympy as sp\n",
    "\n",
    "# Q1 Store the matrix in variable q1_A and the answers in variables q1_L, q1_U and q1_inv and q1_det.\n",
    "\n",
    "\n",
    "\n"
   ]
  },
  {
   "cell_type": "code",
   "execution_count": null,
   "metadata": {
    "id": "kG9wD-Kwi5ge"
   },
   "outputs": [],
   "source": [
    "runtest(['test_q1_A', 'test_q1_L', 'test_q1_U', 'test_q1_det', 'test_q1_inv']) \n"
   ]
  },
  {
   "cell_type": "markdown",
   "metadata": {},
   "source": [
    "Q2. Consider the matrix\n",
    "\n",
    "$$B = \\left( \\begin{array}{ccc} a-b-c & 2a & 2a \\\\ 2b &b-c-a & 2b \\\\ 2c & 2c & c-a-b \\end{array} \\right)$$\n",
    "\n",
    "Show that the determinant of $B$ is $(a+b+c)^3$."
   ]
  },
  {
   "cell_type": "code",
   "execution_count": null,
   "metadata": {},
   "outputs": [],
   "source": [
    "# Q2 Store the matrix in variable q2_B and the answer in variable q2_det\n"
   ]
  },
  {
   "cell_type": "code",
   "execution_count": null,
   "metadata": {},
   "outputs": [],
   "source": [
    "runtest(['test_q2_B', 'test_q2_det'])\n"
   ]
  },
  {
   "cell_type": "markdown",
   "metadata": {},
   "source": [
    "Q3. Compute the characteristic polynomial of the matrix\n",
    "\n",
    "$$C = \\left( \\begin{array}{ccc} 2 & 5 & 7 \\\\ 1 & 4 & -6 \\\\ 0 & 0 & 6 \\end{array} \\right)$$\n"
   ]
  },
  {
   "cell_type": "code",
   "execution_count": null,
   "metadata": {},
   "outputs": [],
   "source": [
    "# Q3 Store the matrix in variable q3_C and the answer in q3_cpoly. Use the symbol \"r\" for the Characteristic polynomial. \n"
   ]
  },
  {
   "cell_type": "code",
   "execution_count": null,
   "metadata": {},
   "outputs": [],
   "source": [
    "runtest(['test_q3_C', 'test_q3_cpoly'])"
   ]
  }
 ],
 "metadata": {
  "colab": {
   "cell_execution_strategy": "setup",
   "collapsed_sections": [
    "NVOkK4hCU7RK"
   ],
   "private_outputs": true,
   "provenance": []
  },
  "kernelspec": {
   "display_name": "Python 3 (ipykernel)",
   "language": "python",
   "name": "python3"
  },
  "language_info": {
   "codemirror_mode": {
    "name": "ipython",
    "version": 3
   },
   "file_extension": ".py",
   "mimetype": "text/x-python",
   "name": "python",
   "nbconvert_exporter": "python",
   "pygments_lexer": "ipython3",
   "version": "3.9.13"
  }
 },
 "nbformat": 4,
 "nbformat_minor": 1
}
