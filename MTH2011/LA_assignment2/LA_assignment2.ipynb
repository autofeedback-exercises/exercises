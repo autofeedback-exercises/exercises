{
  "cells": [
    {
      "cell_type": "markdown",
      "metadata": {
        "id": "NVOkK4hCU7RK"
      },
      "source": [
        "# Run this cell first"
      ],
      "outputs": []
    },
    {
      "cell_type": "code",
      "execution_count": 9,
      "metadata": {
        "id": "QCMw-lybOsz-"
      },
      "outputs": [],
      "source": [
        "# this code enables the automated feedback. If you remove this, you won't get any feedback\n",
        "# so don't delete this cell!\n",
        "try:\n",
        "  import AutoFeedback\n",
        "except (ModuleNotFoundError, ImportError):\n",
        "  %pip install AutoFeedback\n",
        "  import AutoFeedback\n",
        "\n",
        "try:\n",
        "  from testsrc import test_main\n",
        "except (ModuleNotFoundError, ImportError):\n",
        "  %pip install \"git+https://github.com/autofeedback-exercises/exercises.git#subdirectory=MTH2011/LA_assignment2\"\n",
        "  from testsrc import test_main\n",
        "\n",
        "def runtest(tlist):\n",
        "  import unittest\n",
        "  from contextlib import redirect_stderr\n",
        "  from os import devnull\n",
        "  with redirect_stderr(open(devnull, 'w')):\n",
        "    suite = unittest.TestSuite()\n",
        "    for tname in tlist:\n",
        "      suite.addTest(eval(f\"test_main.UnitTests.{tname}\"))\n",
        "    runner = unittest.TextTestRunner()\n",
        "    try:\n",
        "      runner.run(suite)\n",
        "    except AssertionError:\n",
        "      pass\n"
      ]
    },
    {
      "cell_type": "markdown",
      "metadata": {
        "id": "g3RNFAlOVJBW"
      },
      "source": [
        "# LA assignment 2: computer questions\n",
        "\n",
        "**Example problem 1**: compute the LU decomposition of the matrix\n",
        "\n",
        "$$A = \\left(\n",
        "\\begin{array}{ccc}\n",
        "1 & 2 & -4\\\\\n",
        "-1 & -1 & 5 \\\\\n",
        "2 & 7 & -3\n",
        "\\end{array}\n",
        "\\right)$$\n",
        "\n",
        "and calculate the characteristic polynomial, inverse and determinant of $A$.\n",
        "\n",
        "First we set up the matrix $A$ as a sympy matrix:"
      ],
      "outputs": []
    },
    {
      "cell_type": "code",
      "execution_count": 10,
      "metadata": {
        "id": "eVLoDdzkPZs6"
      },
      "outputs": [],
      "source": [
        "import sympy as sy\n",
        "A = sy.Matrix([[1, 2, -4], [-1, -1, 5], [2, 7, -3]])"
      ]
    },
    {
      "cell_type": "markdown",
      "metadata": {
        "id": "BRkHLApW3cMM"
      },
      "source": [
        "Note the syntax for the matrix: the entire thing is enclosed in square brackets, and each row is enclosed in square brackets. Now, to compute the LU decomposition, we can use the built-in method called `LUdecomposition`. This returns three values: L and U (the lower and upper triangular matrices) and `rs`: the row swaps. In this example, you can see that\u00a0the row swaps array is empty because all of the pivots are non-zero:"
      ],
      "outputs": []
    },
    {
      "cell_type": "code",
      "execution_count": 11,
      "metadata": {
        "id": "AwNkc7SgASmo"
      },
      "outputs": [],
      "source": [
        "L, U, rs = A.LUdecomposition()\n",
        "print (rs)"
      ]
    },
    {
      "cell_type": "markdown",
      "metadata": {
        "id": "HtdFYKYLL2sj"
      },
      "source": [
        "Now, we can also print `L` and `U` to make sure they look as we expect (say, compared to our handwritten solution). Recall that the command `sy.pprint()` (pretty print) will display things nicely for us."
      ],
      "outputs": []
    },
    {
      "cell_type": "code",
      "execution_count": 12,
      "metadata": {
        "id": "WdyO59Y5pzVL"
      },
      "outputs": [],
      "source": [
        "sy.pprint(L)\n",
        "sy.pprint(U)"
      ]
    },
    {
      "cell_type": "markdown",
      "metadata": {
        "id": "GpCVpFDSq2Pt"
      },
      "source": [
        "This is fine, but we should also check that the LU decomposition does what it should: i.e. do we have $A=LU$?"
      ],
      "outputs": []
    },
    {
      "cell_type": "code",
      "execution_count": 13,
      "metadata": {
        "id": "TfEomHekfYAy"
      },
      "outputs": [],
      "source": [
        "sy.pprint(L*U)"
      ]
    },
    {
      "cell_type": "markdown",
      "metadata": {
        "id": "P9JgWSn81ONC"
      },
      "source": [
        "So we can be happy with the result.\n",
        "\n",
        "The characteristic polynomial, \u00a0inverse and determinant are pretty easy with `sympy`, and we can check that the inverse is actually the inverse ($A\\cdot A^{-1} = I$ )"
      ],
      "outputs": []
    },
    {
      "cell_type": "code",
      "execution_count": 14,
      "metadata": {
        "id": "W75rEOIibdf4"
      },
      "outputs": [],
      "source": [
        "r = sy.symbols('r')\n",
        "A_poly = A.charpoly(r)\n",
        "sy.pprint(A_poly)\n"
      ]
    },
    {
      "cell_type": "code",
      "execution_count": 15,
      "metadata": {
        "id": "1dk8RRhxRPwY"
      },
      "outputs": [],
      "source": [
        "A_inv = A.inv()\n",
        "A_det = A.det()\n",
        "sy.pprint(A * A_inv)"
      ]
    },
    {
      "cell_type": "markdown",
      "metadata": {
        "id": "20yCkSdUKZiD"
      },
      "source": [
        "---\n",
        "\n",
        "**Example problem 2**: Consider the 3X3 Vandermonde matrix\n",
        "\n",
        "$$V = \\left(\n",
        "\\begin{array}{ccc}\n",
        "1 & a_0 & a_0^2  \\\\\n",
        "1 & a_1 & a_1^2  \\\\\n",
        "1 & a_2 & a_2^2  \\\\\n",
        "\\end{array}\n",
        "\\right)$$\n",
        "\n",
        "Show that\n",
        "\n",
        "$$\\mathrm{det}\\; V = \\prod \\limits_{0\\leq i<j \\leq3} \\left( a_j - a_i\\right)$$\n",
        "\n",
        "Here, we use the `sy.factor` command to factorise the solution:"
      ],
      "outputs": []
    },
    {
      "cell_type": "code",
      "execution_count": 16,
      "metadata": {
        "id": "cQ08xOiKINmx"
      },
      "outputs": [],
      "source": [
        "a0, a1, a2 = sy.symbols(\"a0, a1, a2\")\n",
        "V=sy.Matrix([[1, a0, a0**2], [1, a1, a1**2], [1, a2, a2**2]])\n",
        "sy.pprint(sy.factor(V.det()))"
      ]
    },
    {
      "cell_type": "markdown",
      "metadata": {
        "id": "8QpzChzHLWiY"
      },
      "source": [
        "---\n",
        "\n",
        "## TASKS\n",
        "For all questions, ensure you use the variable requested in the code cells.\n",
        "\n",
        "Q1. Consider the matrix\n",
        "\n",
        "$$A = \\left( \\begin{array}{ccc} 1 & -2 & 0 \\\\ 2 & -3 & 1 \\\\ 1 & 1& 5 \\end{array} \\right)$$\n",
        "\n",
        "Compute the $LU$ decomposition of $A$, its inverse, and determinant.\n",
        "\n"
      ],
      "outputs": []
    },
    {
      "cell_type": "code",
      "execution_count": 17,
      "metadata": {
        "id": "Dykx1BmgwAdK"
      },
      "outputs": [],
      "source": [
        "import sympy as sp\n",
        "\n",
        "# Q1 Store the matrix in variable q1_A and the answers in variables q1_L, q1_U and q1_inv and q1_det.\n",
        "\n",
        "\n",
        "\n"
      ]
    },
    {
      "cell_type": "code",
      "execution_count": 18,
      "metadata": {
        "id": "kG9wD-Kwi5ge"
      },
      "outputs": [],
      "source": [
        "runtest(['test_q1_A', 'test_q1_L', 'test_q1_U', 'test_q1_det', 'test_q1_inv']) \n"
      ]
    },
    {
      "cell_type": "markdown",
      "metadata": {
        "id": "uEGaSKKUuk7B"
      },
      "source": [
        "Q2. Consider the matrix\n",
        "\n",
        "$$B = \\left( \\begin{array}{ccc} a-b-c & 2a & 2a \\\\ 2b &b-c-a & 2b \\\\ 2c & 2c & c-a-b \\end{array} \\right)$$\n",
        "\n",
        "Show that the determinant of $B$ is $(a+b+c)^3$."
      ],
      "outputs": []
    },
    {
      "cell_type": "code",
      "execution_count": 19,
      "metadata": {
        "id": "meS0zoCDbZLy"
      },
      "outputs": [],
      "source": [
        "# Q2 Store the matrix in variable q2_B and the answer in variable q2_det\n"
      ]
    },
    {
      "cell_type": "code",
      "execution_count": 20,
      "metadata": {
        "id": "xFVfr9WazcV2"
      },
      "outputs": [],
      "source": [
        "runtest(['test_q2_B', 'test_q2_det'])\n"
      ]
    },
    {
      "cell_type": "markdown",
      "metadata": {
        "id": "XgY6Th26TiXe"
      },
      "source": [
        "Q3. Compute the characteristic polynomial of the matrix\n",
        "\n",
        "$$C = \\left( \\begin{array}{ccc} 2 & 5 & 7 \\\\ 1 & 4 & -6 \\\\ 0 & 0 & 6 \\end{array} \\right)$$\n"
      ],
      "outputs": []
    },
    {
      "cell_type": "code",
      "execution_count": 21,
      "metadata": {
        "id": "lSX2l8ASHC0P"
      },
      "outputs": [],
      "source": [
        "# Q3 Store the matrix in variable q3_C and the answer in q3_cpoly. Use the symbol \"r\" for the Characteristic polynomial. \n"
      ]
    },
    {
      "cell_type": "code",
      "execution_count": 22,
      "metadata": {
        "id": "HTcJyDiSXp2S"
      },
      "outputs": [],
      "source": [
        "runtest(['test_q3_C', 'test_q3_cpoly'])"
      ]
    }
  ],
  "metadata": {
    "colab": {
      "cell_execution_strategy": "setup",
      "collapsed_sections": [
        "NVOkK4hCU7RK"
      ],
      "private_outputs": true,
      "provenance": []
    },
    "kernelspec": {
      "display_name": "Python 3 (ipykernel)",
      "language": "python",
      "name": "python3"
    },
    "language_info": {
      "codemirror_mode": {
        "name": "ipython",
        "version": 3
      },
      "file_extension": ".py",
      "mimetype": "text/x-python",
      "name": "python",
      "nbconvert_exporter": "python",
      "pygments_lexer": "ipython3",
      "version": "3.9.13"
    }
  },
  "nbformat": 4,
  "nbformat_minor": 1
}
