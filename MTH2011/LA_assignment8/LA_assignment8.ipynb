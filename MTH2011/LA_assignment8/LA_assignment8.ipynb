{
  "cells": [
    {
      "cell_type": "markdown",
      "metadata": {
        "id": "NVOkK4hCU7RK"
      },
      "source": [
        "# Run this cell first"
      ]
    },
    {
      "cell_type": "code",
      "execution_count": null,
      "metadata": {
        "id": "QCMw-lybOsz-"
      },
      "outputs": [],
      "source": [
        "# this code enables the automated feedback. If you remove this, you won't get any feedback\n",
        "# so don't delete this cell!\n",
        "try:\n",
        "  import AutoFeedback\n",
        "except (ModuleNotFoundError, ImportError):\n",
        "  %pip install AutoFeedback\n",
        "  import AutoFeedback\n",
        "\n",
        "try:\n",
        "  from testsrc import test_main\n",
        "except (ModuleNotFoundError, ImportError):\n",
        "  %pip install \"git+https://github.com/autofeedback-exercises/exercises.git#subdirectory=MTH2011/LA_assignment8\"\n",
        "  from testsrc import test_main\n",
        "\n",
        "def runtest(tlist):\n",
        "  import unittest\n",
        "  from contextlib import redirect_stderr\n",
        "  from os import devnull\n",
        "  with redirect_stderr(open(devnull, 'w')):\n",
        "    suite = unittest.TestSuite()\n",
        "    for tname in tlist:\n",
        "      suite.addTest(eval(f\"test_main.UnitTests.{tname}\"))\n",
        "    runner = unittest.TextTestRunner()\n",
        "    try:\n",
        "      runner.run(suite)\n",
        "    except AssertionError:\n",
        "      pass\n"
      ]
    },
    {
      "cell_type": "markdown",
      "metadata": {
        "id": "d9qPfzQaSl0m"
      },
      "source": [
        "# LA assignment 8: computer questions\n",
        "\n",
        "**Example Problem 1**: Let $\\mathbb{C}^3$ be the standard 3-dimensional inner product space over $\\mathbb{C}$, and let $$T: \\mathbb{C}^3 \\to \\mathbb{C}^3, \\left(x,y,z\\right) \\mapsto \\left(x-y, y-z, z-x\\right).$$ Decide whether $T$ is Hermitian, unitary or normal.\n",
        "\n",
        "Recall that these linear maps can be encoded as matrices, and thus our task is to construct the matrix representation of $T$, and then test it for Hermiticity, unitarity and normalcy. Hopefully it is clear that the matrix representation is given by \n",
        "\n",
        "$$\\left(\n",
        "\\begin{array}{ccc}\n",
        "1 & -1 & 0 \\\\\n",
        "0 & 1 & -1 \\\\\n",
        "-1 & 0 & 1\n",
        "\\end{array}\n",
        "\\right).$$\n",
        "\n",
        "(If this is not clear, try writing out the product of this matrix with the column vector $(x,y,z)$, and compare it to the map in the question).\n",
        "\n",
        "By now you should be comfortable setting up the matrix in python"
      ]
    },
    {
      "cell_type": "code",
      "execution_count": null,
      "metadata": {
        "id": "oWJdQv6tx1G7"
      },
      "outputs": [],
      "source": [
        "import sympy as sy\n",
        "A = sy.Matrix([[1, -1, 0], [0, 1, -1], [-1, 0, 1]])"
      ]
    },
    {
      "cell_type": "markdown",
      "metadata": {
        "id": "FYF6XPn59q3R"
      },
      "source": [
        "Then we need to recall the definition of an Hermitian matrix: a Matrix, $A$, is said to be Hermitian, if and only if we have $A \\equiv A^*$  where $A^*$ is the adjoint of $A$. (Another name for Hermitian is 'self-adjoint' i.e. the matrix is its own adjoint matrix). `sympy` provides a method for computing the adjoint matrix:"
      ]
    },
    {
      "cell_type": "code",
      "execution_count": null,
      "metadata": {
        "id": "R3AE4VRtIxyn"
      },
      "outputs": [],
      "source": [
        "sy.pprint(A.adjoint())\n",
        "Hermitian = (A == A.adjoint())\n",
        "print(Hermitian)"
      ]
    },
    {
      "cell_type": "markdown",
      "metadata": {
        "id": "Q4unh3dvYy5t"
      },
      "source": [
        "Thus, the matrix $A$ is not Hermitian. What about normal? A matrix, $A$, is normal if and only if $AA^* \\equiv A^*A.$ "
      ]
    },
    {
      "cell_type": "code",
      "execution_count": null,
      "metadata": {
        "id": "bz0kUNw9fqel"
      },
      "outputs": [],
      "source": [
        "LHS = A * A.adjoint()\n",
        "RHS = A.adjoint() * A\n",
        "sy.pprint(LHS)"
      ]
    },
    {
      "cell_type": "code",
      "execution_count": null,
      "metadata": {
        "id": "feVLRDPTzFJm"
      },
      "outputs": [],
      "source": [
        "sy.pprint(RHS)"
      ]
    },
    {
      "cell_type": "code",
      "execution_count": null,
      "metadata": {
        "id": "4GoOhVFfYofZ"
      },
      "outputs": [],
      "source": [
        "normal = ( LHS == RHS )\n",
        "print(normal)"
      ]
    },
    {
      "cell_type": "markdown",
      "metadata": {
        "id": "J2KgLtfzPIT1"
      },
      "source": [
        "Thus, $A$ is normal. However, we can see from this that $A$ is certainly not unitary, because a unitary matrix satisfies $AA^* \\equiv A^*A \\equiv I$, where $I$ is the identity matrix."
      ]
    },
    {
      "cell_type": "code",
      "execution_count": null,
      "metadata": {
        "id": "Q18l61gR9jrP"
      },
      "outputs": [],
      "source": [
        "unitary = (LHS == sy.eye(3))\n",
        "print(unitary)"
      ]
    },
    {
      "cell_type": "markdown",
      "metadata": {
        "id": "XN9n9v3SC2CV"
      },
      "source": [
        "Thus $A$ is normal, but is not Hermitian or unitary.\n",
        "\n",
        "---\n",
        "\n",
        "**Example problem 2**: Determine the eigenvalues of $$B =\n",
        "\\left(\n",
        "\\begin{array}{ccc}\n",
        "0 & 2 & 1 \\\\\n",
        "2 & 0 & -1 \\\\\n",
        "1 & -1 & -1\n",
        "\\end{array}\n",
        "\\right),$$\n",
        "\n",
        "and find a basis of eigenvectors and a unitary matrix, $U$, such that $U^*BU$ is diagonal.\n",
        "\n",
        "Although we could proceed to use the `sympy` method `B.eigenvects()`, what this question is asking us to do is called \"diagonalisation\". It is such a common procedure that sympy has another method built in to do it:"
      ]
    },
    {
      "cell_type": "code",
      "execution_count": null,
      "metadata": {
        "id": "insdFZlRG8xE"
      },
      "outputs": [],
      "source": [
        "B = sy.Matrix([[0, 2, 1], [2, 0, -1], [1, -1, -1]])\n",
        "U, D = B.diagonalize(normalize = True)\n",
        "sy.pprint(U)"
      ]
    },
    {
      "cell_type": "code",
      "execution_count": null,
      "metadata": {
        "id": "CdBTfdGSNXwC"
      },
      "outputs": [],
      "source": [
        "sy.pprint(D)"
      ]
    },
    {
      "cell_type": "code",
      "execution_count": null,
      "metadata": {
        "id": "pfcSmauuN4WA"
      },
      "outputs": [],
      "source": [
        "sy.pprint(U.adjoint() * B * U)"
      ]
    },
    {
      "cell_type": "markdown",
      "metadata": {
        "id": "zqujH4raTq2w"
      },
      "source": [
        "Here, the eigenvectors are the columns of the matrix $U$, and the eigenvalues, the diagonal elements of $D$."
      ]
    },
    {
      "cell_type": "markdown",
      "metadata": {
        "id": "WOK0cRcghW9S"
      },
      "source": [
        "---\n",
        "\n",
        "## TASKS\n",
        "1. Let $\\mathbb{C}^3$ be the standard 3-dimensional inner product space over $\\mathbb{C}$ and let $T: \\mathbb{C}^3 \\to \\mathbb{C}^3, \\left(x,y,z\\right) \\mapsto \\left(x,x+y,x+y+z\\right)$\n",
        "\n",
        "\n",
        "Cast $T$ as a matrix (pay attention to the requested variable names), determine its adjoint, and use these quantities to determine whether or not $T$  is Hermitian, unitary or normal."
      ]
    },
    {
      "cell_type": "code",
      "execution_count": null,
      "metadata": {
        "id": "zE5JX2UZderC"
      },
      "outputs": [],
      "source": [
        "import sympy as sy\n",
        "\n",
        "# Q1 store the matrix as A, the adjoint as Astar, and the boolean (true/false) values for whether the matrix is Hermitian, unitary and normal in variables of the corresponding name.\n",
        "\n",
        "\n"
      ]
    },
    {
      "cell_type": "code",
      "execution_count": null,
      "metadata": {
        "id": "899NoPiL-OqV"
      },
      "outputs": [],
      "source": [
        "runtest(['test_q1_A', 'test_q1_Astar', 'test_q1_hermitian', 'test_q1_normal', 'test_q1_unitary'])"
      ]
    },
    {
      "cell_type": "markdown",
      "metadata": {
        "id": "Wje1AVEI7Ogw"
      },
      "source": [
        "--- \n",
        "2. Diagonalise the matrix\n",
        "\n",
        "$$B= \\left( \\begin{array}{ccc} 1 & 2&0\\\\ 0 & 1 & 2 \\\\ 2 & 0 & 1 \\end{array} \\right)$$\n",
        "\n",
        "\n",
        "to find a unitary matrix $U$, and a diagonal matrix $D$, such that $U^*BU=D$.\n"
      ]
    },
    {
      "cell_type": "code",
      "execution_count": null,
      "metadata": {
        "id": "wOZURTBmZRjc"
      },
      "outputs": [],
      "source": [
        "# Q2 Store the matrix as B, the unitary matrix of normalized eigenvectors as U, and the diagonal matrix as D. \n"
      ]
    },
    {
      "cell_type": "code",
      "execution_count": null,
      "metadata": {
        "id": "-npKAPabmvGW"
      },
      "outputs": [],
      "source": [
        "runtest(['test_q2_B', 'test_q2_D', 'test_q2_U'])"
      ]
    }
  ],
  "metadata": {
    "colab": {
      "cell_execution_strategy": "setup",
      "collapsed_sections": [
        "NVOkK4hCU7RK"
      ],
      "private_outputs": true,
      "provenance": []
    },
    "kernelspec": {
      "display_name": "Python 3 (ipykernel)",
      "language": "python",
      "name": "python3"
    },
    "language_info": {
      "codemirror_mode": {
        "name": "ipython",
        "version": 3
      },
      "file_extension": ".py",
      "mimetype": "text/x-python",
      "name": "python",
      "nbconvert_exporter": "python",
      "pygments_lexer": "ipython3",
      "version": "3.9.13"
    }
  },
  "nbformat": 4,
  "nbformat_minor": 1
}
