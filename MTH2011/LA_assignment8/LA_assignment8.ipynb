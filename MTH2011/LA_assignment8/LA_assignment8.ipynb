{
 "cells": [
  {
   "cell_type": "markdown",
   "metadata": {
    "id": "NVOkK4hCU7RK"
   },
   "source": [
    "# ."
   ]
  },
  {
   "cell_type": "code",
   "execution_count": null,
   "metadata": {
    "id": "QCMw-lybOsz-"
   },
   "outputs": [],
   "source": [
    "# this code enables the automated feedback. If you remove this, you won't get any feedback\n",
    "# so don't delete this cell!\n",
    "try:\n",
    "  import AutoFeedback\n",
    "except (ModuleNotFoundError, ImportError):\n",
    "  %pip install AutoFeedback\n",
    "  import AutoFeedback\n",
    "\n",
    "try:\n",
    "  from testsrc import test_main\n",
    "except (ModuleNotFoundError, ImportError):\n",
    "  %pip install \"git+https://github.com/autofeedback-exercises/exercises.git#subdirectory=MTH2011/LA_assignment8\"\n",
    "  from testsrc import test_main\n",
    "\n",
    "def runtest(tlist):\n",
    "  import unittest\n",
    "  from contextlib import redirect_stderr\n",
    "  from os import devnull\n",
    "  with redirect_stderr(open(devnull, 'w')):\n",
    "    suite = unittest.TestSuite()\n",
    "    for tname in tlist:\n",
    "      suite.addTest(eval(f\"test_main.UnitTests.{tname}\"))\n",
    "    runner = unittest.TextTestRunner()\n",
    "    try:\n",
    "      runner.run(suite)\n",
    "    except AssertionError:\n",
    "      pass\n"
   ]
  },
  {
   "cell_type": "markdown",
   "metadata": {
    "id": "WOK0cRcghW9S"
   },
   "source": [
    "# LA assignment 8: computer questions\n",
    "\n",
    "1. Let $\\mathbb{C}^3$ be the standard 3-dimensional inner product space over $\\mathbb{C}$ and let $T: \\mathbb{C}^3 \\to \\mathbb{C}^3, \\left(x,y,z\\right) \\mapsto \\left(x,x+y,x+y+z\\right)$\n",
    "\n",
    "\n",
    "Cast $T$ as a matrix (pay attention to the requested variable names), determine its adjoint, and use these quantities to determine whether or not $T$  is Hermitian, unitary or normal."
   ]
  },
  {
   "cell_type": "code",
   "execution_count": null,
   "metadata": {
    "id": "zE5JX2UZderC"
   },
   "outputs": [],
   "source": [
    "import sympy as sy\n",
    "\n",
    "# Q1 store the matrix as A, the adjoint as Astar, and the boolean (true/false) values for whether the matrix is Hermitian, unitary and normal in variables of the corresponding name.\n",
    "\n",
    "\n"
   ]
  },
  {
   "cell_type": "code",
   "execution_count": null,
   "metadata": {
    "id": "899NoPiL-OqV"
   },
   "outputs": [],
   "source": [
    "runtest(['test_q1_A', 'test_q1_Astar', 'test_q1_hermitian', 'test_q1_normal', 'test_q1_unitary'])"
   ]
  },
  {
   "cell_type": "markdown",
   "metadata": {
    "id": "Wje1AVEI7Ogw"
   },
   "source": [
    "2. Diagonalise the matrix\n",
    "\n",
    "$$B= \\left( \\begin{array}{ccc} 1 & 2&0\\\\ 0 & 1 & 2 \\\\ 2 & 0 & 1 \\end{array} \\right)$$\n",
    "\n",
    "\n",
    "to find a unitary matrix $U$, and a diagonal matrix $D$, such that $U^*BU=D$.\n"
   ]
  },
  {
   "cell_type": "code",
   "execution_count": null,
   "metadata": {
    "id": "wOZURTBmZRjc"
   },
   "outputs": [],
   "source": [
    "# Q2 Store the matrix as B, the unitary matrix of normalized eigenvectors as U, and the diagonal matrix as D. \n"
   ]
  },
  {
   "cell_type": "code",
   "execution_count": null,
   "metadata": {
    "id": "-npKAPabmvGW"
   },
   "outputs": [],
   "source": [
    "runtest(['test_q2_B', 'test_q2_D', 'test_q2_U'])"
   ]
  }
 ],
 "metadata": {
  "colab": {
   "cell_execution_strategy": "setup",
   "collapsed_sections": [
    "NVOkK4hCU7RK"
   ],
   "private_outputs": true,
   "provenance": []
  },
  "kernelspec": {
   "display_name": "Python 3 (ipykernel)",
   "language": "python",
   "name": "python3"
  },
  "language_info": {
   "codemirror_mode": {
    "name": "ipython",
    "version": 3
   },
   "file_extension": ".py",
   "mimetype": "text/x-python",
   "name": "python",
   "nbconvert_exporter": "python",
   "pygments_lexer": "ipython3",
   "version": "3.9.13"
  }
 },
 "nbformat": 4,
 "nbformat_minor": 1
}
