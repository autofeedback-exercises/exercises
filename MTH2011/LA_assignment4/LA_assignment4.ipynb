{
 "cells": [
  {
   "cell_type": "markdown",
   "metadata": {
    "id": "NVOkK4hCU7RK"
   },
   "source": [
    "# ."
   ]
  },
  {
   "cell_type": "code",
   "execution_count": null,
   "metadata": {
    "id": "QCMw-lybOsz-"
   },
   "outputs": [],
   "source": [
    "# this code enables the automated feedback. If you remove this, you won't get any feedback\n",
    "# so don't delete this cell!\n",
    "try:\n",
    "  import AutoFeedback\n",
    "except (ModuleNotFoundError, ImportError):\n",
    "  %pip install AutoFeedback\n",
    "  import AutoFeedback\n",
    "\n",
    "try:\n",
    "  from testsrc import test_main\n",
    "except (ModuleNotFoundError, ImportError):\n",
    "  %pip install \"git+https://github.com/autofeedback-exercises/exercises.git#subdirectory=MTH2011/LA_assignment4\"\n",
    "  from testsrc import test_main\n",
    "\n",
    "def runtest(tlist):\n",
    "  import unittest\n",
    "  from contextlib import redirect_stderr\n",
    "  from os import devnull\n",
    "  with redirect_stderr(open(devnull, 'w')):\n",
    "    suite = unittest.TestSuite()\n",
    "    for tname in tlist:\n",
    "      suite.addTest(eval(f\"test_main.UnitTests.{tname}\"))\n",
    "    runner = unittest.TextTestRunner()\n",
    "    try:\n",
    "      runner.run(suite)\n",
    "    except AssertionError:\n",
    "      pass\n"
   ]
  },
  {
   "cell_type": "markdown",
   "metadata": {
    "id": "komTFePzMULk"
   },
   "source": [
    "# LA assignment 4: computer questions\n",
    "\n",
    "Q1. Determine the rank of\n",
    "\n",
    "$$\\mathbf{M}= \\left( \\begin{array}{ccc} 5 & 3 & 4 & 1 \\\\ 1 & 2 & 2 & 6 \\\\ 4 & 0 & 1 & 4 \\end{array} \\right)$$\n"
   ]
  },
  {
   "cell_type": "code",
   "execution_count": null,
   "metadata": {
    "id": "Lkjw8x-yWlgO"
   },
   "outputs": [],
   "source": [
    "# For questions requiring the reduced row echelon form, set the variable to the return value of the .rref() call (i.e. including the tuple of pivot columns). \n",
    "\n",
    "# Q1: store the matrix as q1_M. Set the variable q1_rref to the reduced row echelon form of q1_M, and q1_rank to its rank."
   ]
  },
  {
   "cell_type": "code",
   "execution_count": null,
   "metadata": {
    "id": "uwrf9qDqdzBZ"
   },
   "outputs": [],
   "source": [
    "runtest(['test_q1_M', 'test_q1_rank', 'test_q1_rref'])"
   ]
  },
  {
   "cell_type": "markdown",
   "metadata": {
    "id": "ITOYJkyul6dh"
   },
   "source": [
    "Q2. Let $X : \\left\\{ x+z, t+x+2z, y-t, t+x+y,3z \\; : \\; t,x,y,z \\in \\mathbb{R} \\right\\}$. Find its dimension as a subspace of $\\mathbb{R}^5$."
   ]
  },
  {
   "cell_type": "code",
   "execution_count": null,
   "metadata": {
    "id": "6vYr8Rs5QAkg"
   },
   "outputs": [],
   "source": [
    "# For questions requiring the reduced row echelon form, set the variable to the return value of the .rref() call (i.e. including the tuple of pivot columns). \n",
    "\n",
    "# Q2 Store the matrix formed from the basis as q2_A. Set the variable q2_rref to the reduced row echelon form of q2_A, and q2_rank to its rank. "
   ]
  },
  {
   "cell_type": "code",
   "execution_count": null,
   "metadata": {
    "id": "a7nErLnV3zOb"
   },
   "outputs": [],
   "source": [
    "runtest(['test_q2_rank', 'test_q2_rref'])"
   ]
  },
  {
   "cell_type": "markdown",
   "metadata": {
    "id": "ex6QX7IcG8w-"
   },
   "source": [
    "Q3. Consider the system\n",
    "\n",
    "$$\\begin{cases} x+y+z = 2 \\\\ x+\\alpha y+2\\alpha z = 1 \\\\ x+y+\\alpha ^2 z = \\alpha +3 \\end{cases}$$\n",
    "Show that this system has\n",
    "\n",
    "* no solution when $\\alpha = 1$\n",
    "* infinitely many solutions for $\\alpha = -1$\n",
    "* a unique solution for $\\alpha =2$\n"
   ]
  },
  {
   "cell_type": "code",
   "execution_count": null,
   "metadata": {
    "id": "rMNN-nx7OWIF"
   },
   "outputs": [],
   "source": [
    "# Q3 Store the three expressions as q3_E0, q3_E1 and q3_E2, and the solutions as q3_1 (for α=1) q3_m1 (for α=-1) and q3_2 (for α=2).\n",
    "\n"
   ]
  },
  {
   "cell_type": "code",
   "execution_count": null,
   "metadata": {
    "id": "EqJzOImT9-N0"
   },
   "outputs": [],
   "source": [
    "runtest(['test_q3_1', 'test_q3_2', 'test_q3_E0', 'test_q3_E1', 'test_q3_E2', 'test_q3_m1'])"
   ]
  }
 ],
 "metadata": {
  "colab": {
   "cell_execution_strategy": "setup",
   "collapsed_sections": [
    "NVOkK4hCU7RK"
   ],
   "private_outputs": true,
   "provenance": []
  },
  "kernelspec": {
   "display_name": "Python 3 (ipykernel)",
   "language": "python",
   "name": "python3"
  },
  "language_info": {
   "codemirror_mode": {
    "name": "ipython",
    "version": 3
   },
   "file_extension": ".py",
   "mimetype": "text/x-python",
   "name": "python",
   "nbconvert_exporter": "python",
   "pygments_lexer": "ipython3",
   "version": "3.9.13"
  }
 },
 "nbformat": 4,
 "nbformat_minor": 1
}
