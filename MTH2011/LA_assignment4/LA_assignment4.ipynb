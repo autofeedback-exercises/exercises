{
 "cells": [
  {
   "cell_type": "markdown",
   "metadata": {
    "id": "NVOkK4hCU7RK"
   },
   "source": [
    "# Run this cell first"
   ]
  },
  {
   "cell_type": "code",
   "execution_count": 1,
   "metadata": {
    "id": "QCMw-lybOsz-"
   },
   "outputs": [],
   "source": [
    "# this code enables the automated feedback. If you remove this, you won't get any feedback\n",
    "# so don't delete this cell!\n",
    "try:\n",
    "  import AutoFeedback\n",
    "except (ModuleNotFoundError, ImportError):\n",
    "  %pip install AutoFeedback\n",
    "  import AutoFeedback\n",
    "\n",
    "try:\n",
    "  from testsrc import test_main\n",
    "except (ModuleNotFoundError, ImportError):\n",
    "  %pip install \"git+https://github.com/autofeedback-exercises/exercises.git#subdirectory=MTH2011/LA_assignment4\"\n",
    "  from testsrc import test_main\n",
    "\n",
    "def runtest(tlist):\n",
    "  import unittest\n",
    "  from contextlib import redirect_stderr\n",
    "  from os import devnull\n",
    "  with redirect_stderr(open(devnull, 'w')):\n",
    "    suite = unittest.TestSuite()\n",
    "    for tname in tlist:\n",
    "      suite.addTest(eval(f\"test_main.UnitTests.{tname}\"))\n",
    "    runner = unittest.TextTestRunner()\n",
    "    try:\n",
    "      runner.run(suite)\n",
    "    except AssertionError:\n",
    "      pass\n"
   ]
  },
  {
   "cell_type": "markdown",
   "metadata": {},
   "source": [
    "# LA assignment 4: computer questions\n",
    "\n",
    "**Example problem 1**: Write the matrix $$A= \\left(\n",
    "\\begin{array}{ccc}\n",
    "5 & 15 & 4 & 18 \\\\ \n",
    "1 & 3 & 2 & 6 \\\\\n",
    "4 & 12 & 3 & 14\n",
    "\\end{array}\n",
    "\\right)$$\n",
    "in reduced row echelon form, and determine its rank."
   ]
  },
  {
   "cell_type": "code",
   "execution_count": 2,
   "metadata": {},
   "outputs": [
    {
     "name": "stdout",
     "output_type": "stream",
     "text": [
      "⎛⎡1  3  0  2⎤        ⎞\n",
      "⎜⎢          ⎥        ⎟\n",
      "⎜⎢0  0  1  2⎥, (0, 2)⎟\n",
      "⎜⎢          ⎥        ⎟\n",
      "⎝⎣0  0  0  0⎦        ⎠\n"
     ]
    }
   ],
   "source": [
    "import sympy as sy\n",
    "A = sy.Matrix([[5, 15, 4, 18], [1, 3, 2, 6], [4, 12, 3, 14]])\n",
    "rrA = A.rref()\n",
    "sy.pprint(rrA)\n"
   ]
  },
  {
   "cell_type": "code",
   "execution_count": 3,
   "metadata": {},
   "outputs": [
    {
     "name": "stdout",
     "output_type": "stream",
     "text": [
      "2\n"
     ]
    }
   ],
   "source": [
    "A_rank = A.rank()\n",
    "sy.pprint(A_rank)"
   ]
  },
  {
   "cell_type": "markdown",
   "metadata": {},
   "source": [
    "Note that `A.rref()` returns two items: the first is the matrix in reduced row echelon form (as required by the question) and the second is a tuple containing the pivot columns.\n",
    "\n",
    "---\n",
    "\n",
    "**Example Problem 2**: Consider the system \n",
    "$$\\begin{cases}\n",
    "x+y-z = 1,\\\\\n",
    "2x+3y+\\alpha z = 3\\\\\n",
    "x +\\alpha y +3z =2\n",
    "\\end{cases}\n",
    "$$\n",
    "Show that this system has \n",
    "\n",
    "1. No solution for $\\alpha = -3$\n",
    "2. Infinitely many solutions for $\\alpha =2$\n",
    "3. A unique solution for $\\alpha =1$\n",
    "4. \n",
    "There are several ways of doing this (the method that you use by hand is more flexible as it doesn't require prior knowledge of the particular values of $\\alpha$). Here we'll do it in the most straightforward way: build the system of equations, sub in the three values, and print the solution."
   ]
  },
  {
   "cell_type": "code",
   "execution_count": 4,
   "metadata": {},
   "outputs": [],
   "source": [
    "import sympy as sy\n",
    "\n",
    "x, y, z, alpha = sy.symbols(\"x, y, z, alpha\")\n",
    "E1 = x + y - z - 1\n",
    "E2 = 2*x +3*y + alpha*z - 3\n",
    "E3 = x + alpha*y +3*z - 2"
   ]
  },
  {
   "cell_type": "markdown",
   "metadata": {},
   "source": [
    "Here we're using sympy expressions instead of equations. That's why we have \"brought over\" the 1, 3 and 2 from the right hand side of each equation. Doing this makes it possible to substitute values in for $\\alpha$ and solve the system."
   ]
  },
  {
   "cell_type": "code",
   "execution_count": 5,
   "metadata": {},
   "outputs": [
    {
     "name": "stdout",
     "output_type": "stream",
     "text": [
      "[]\n"
     ]
    }
   ],
   "source": [
    "ansm3 = sy.solve([E1, E2.subs(alpha, -3), E3.subs(alpha, -3)], [x, y, z])\n",
    "sy.pprint(ansm3)"
   ]
  },
  {
   "cell_type": "code",
   "execution_count": 6,
   "metadata": {},
   "outputs": [
    {
     "name": "stdout",
     "output_type": "stream",
     "text": [
      "{x: 5⋅z, y: 1 - 4⋅z}\n"
     ]
    }
   ],
   "source": [
    "ans2 = sy.solve([E1, E2.subs(alpha,  2), E3.subs(alpha,  2)], [x, y, z])\n",
    "sy.pprint(ans2)\n"
   ]
  },
  {
   "cell_type": "code",
   "execution_count": 7,
   "metadata": {},
   "outputs": [
    {
     "name": "stdout",
     "output_type": "stream",
     "text": [
      "{x: 1, y: 1/4, z: 1/4}\n"
     ]
    }
   ],
   "source": [
    "ans1 = sy.solve([E1, E2.subs(alpha,  1), E3.subs(alpha,  1)], [x, y, z])\n",
    "sy.pprint(ans1)"
   ]
  },
  {
   "cell_type": "markdown",
   "metadata": {},
   "source": [
    "We can observe the correct behaviour here as `[]` implies there is no solution for $\\alpha=-3$ and the solution for $\\alpha=2$ shows that $z$ is free (in other words there are infinitely many solutions for every possible choice of $z$. For $\\alpha=1$  we have uniquely determined values of $x$, $y$ and $z$.\n",
    "\n",
    "---\n",
    "\n",
    "**Example problem 3**: Let\n",
    "$$\n",
    "X := \\left\\{  \\left(\n",
    "a,2a-3b,5b,a+2b,a\n",
    "\\right) : a,b \\in \\mathbb{R}\n",
    "\\right\\}. $$\n",
    "Find its dimension as a subspace of $\\mathbb{R}^5$. \n",
    "\n",
    "First we note that \n",
    "\n",
    "$$\\left( a, 2a-3b, 5b, a+2b, a\\right) = a\\left(1,2,0,1,1\\right) + b\\left(0,-3,5,2,0\\right).$$ \n",
    "\n",
    "Thus, $$X = \\langle \\left(1,2,0,1,1\\right), \\left(0,-3,5,2,0\\right)\\rangle.$$\n",
    "\n",
    "To determine the dimension, we form the matrix whose rows are the elements of $X$, and then find the rank of that matrix. "
   ]
  },
  {
   "cell_type": "code",
   "execution_count": 8,
   "metadata": {},
   "outputs": [
    {
     "name": "stdout",
     "output_type": "stream",
     "text": [
      "2\n"
     ]
    }
   ],
   "source": [
    "import sympy as sy\n",
    "M = sy.Matrix([[1, 2, 0, 1, 1], [0, -3, 5, 2, 0]])\n",
    "M_rank = M.rank()\n",
    "sy.pprint(M_rank)"
   ]
  },
  {
   "cell_type": "markdown",
   "metadata": {},
   "source": [
    "Thus the dimension of $X$  is 2. "
   ]
  },
  {
   "cell_type": "markdown",
   "metadata": {
    "id": "komTFePzMULk"
   },
   "source": [
    "---\n",
    "\n",
    "## TASKS\n",
    "Q1. Determine the rank of\n",
    "\n",
    "$$\\mathbf{M}= \\left( \\begin{array}{ccc} 5 & 3 & 4 & 1 \\\\ 1 & 2 & 2 & 6 \\\\ 4 & 0 & 1 & 4 \\end{array} \\right)$$\n"
   ]
  },
  {
   "cell_type": "code",
   "execution_count": 9,
   "metadata": {
    "id": "Lkjw8x-yWlgO"
   },
   "outputs": [],
   "source": [
    "# For questions requiring the reduced row echelon form, set the variable to the return value of the .rref() call (i.e. including the tuple of pivot columns). \n",
    "\n",
    "# Q1: store the matrix as q1_M. Set the variable q1_rref to the reduced row echelon form of q1_M, and q1_rank to its rank."
   ]
  },
  {
   "cell_type": "code",
   "execution_count": 10,
   "metadata": {
    "id": "uwrf9qDqdzBZ"
   },
   "outputs": [
    {
     "name": "stdout",
     "output_type": "stream",
     "text": [
      "\u001b[91mThe variable q1_M does not exist.\n",
      "    Ensure you have named the variable properly,\n",
      "    bearing in mind that capital letters matter.\n",
      "    \u001b[0m\n",
      "\u001b[93m==============================\n",
      "\u001b[0m\n"
     ]
    }
   ],
   "source": [
    "runtest(['test_q1_M', 'test_q1_rank', 'test_q1_rref'])"
   ]
  },
  {
   "cell_type": "markdown",
   "metadata": {
    "id": "ITOYJkyul6dh"
   },
   "source": [
    "Q2. Let $X : \\left\\{ x+z, t+x+2z, y-t, t+x+y,3z \\; : \\; t,x,y,z \\in \\mathbb{R} \\right\\}$. Find its dimension as a subspace of $\\mathbb{R}^5$."
   ]
  },
  {
   "cell_type": "code",
   "execution_count": 11,
   "metadata": {
    "id": "6vYr8Rs5QAkg"
   },
   "outputs": [],
   "source": [
    "# For questions requiring the reduced row echelon form, set the variable to the return value of the .rref() call (i.e. including the tuple of pivot columns). \n",
    "\n",
    "# Q2 Store the matrix formed from the basis as q2_A. Set the variable q2_rref to the reduced row echelon form of q2_A, and q2_rank to its rank. "
   ]
  },
  {
   "cell_type": "code",
   "execution_count": 12,
   "metadata": {
    "id": "a7nErLnV3zOb"
   },
   "outputs": [
    {
     "name": "stdout",
     "output_type": "stream",
     "text": [
      "\u001b[91mThe variable q2_rank does not exist.\n",
      "    Ensure you have named the variable properly,\n",
      "    bearing in mind that capital letters matter.\n",
      "    \u001b[0m\n",
      "\u001b[93m==============================\n",
      "\u001b[0m\n"
     ]
    }
   ],
   "source": [
    "runtest(['test_q2_rank', 'test_q2_rref'])"
   ]
  },
  {
   "cell_type": "markdown",
   "metadata": {
    "id": "ex6QX7IcG8w-"
   },
   "source": [
    "Q3. Consider the system\n",
    "\n",
    "$$\\begin{cases} x+y+z = 2 \\\\ x+\\alpha y+2\\alpha z = 1 \\\\ x+y+\\alpha ^2 z = \\alpha +3 \\end{cases}$$\n",
    "Show that this system has\n",
    "\n",
    "* no solution when $\\alpha = 1$\n",
    "* infinitely many solutions for $\\alpha = -1$\n",
    "* a unique solution for $\\alpha =2$\n"
   ]
  },
  {
   "cell_type": "code",
   "execution_count": 13,
   "metadata": {
    "id": "rMNN-nx7OWIF"
   },
   "outputs": [],
   "source": [
    "# Q3 Store the three expressions as q3_E0, q3_E1 and q3_E2, and the solutions as q3_1 (for α=1) q3_m1 (for α=-1) and q3_2 (for α=2).\n",
    "\n"
   ]
  },
  {
   "cell_type": "code",
   "execution_count": 14,
   "metadata": {
    "id": "EqJzOImT9-N0"
   },
   "outputs": [
    {
     "name": "stdout",
     "output_type": "stream",
     "text": [
      "\u001b[91mThe variable q3_1 does not exist.\n",
      "    Ensure you have named the variable properly,\n",
      "    bearing in mind that capital letters matter.\n",
      "    \u001b[0m\n",
      "\u001b[93m==============================\n",
      "\u001b[0m\n"
     ]
    }
   ],
   "source": [
    "runtest(['test_q3_1', 'test_q3_2', 'test_q3_E0', 'test_q3_E1', 'test_q3_E2', 'test_q3_m1'])"
   ]
  }
 ],
 "metadata": {
  "colab": {
   "cell_execution_strategy": "setup",
   "collapsed_sections": [
    "NVOkK4hCU7RK"
   ],
   "private_outputs": true,
   "provenance": []
  },
  "kernelspec": {
   "display_name": "Python 3 (ipykernel)",
   "language": "python",
   "name": "python3"
  },
  "language_info": {
   "codemirror_mode": {
    "name": "ipython",
    "version": 3
   },
   "file_extension": ".py",
   "mimetype": "text/x-python",
   "name": "python",
   "nbconvert_exporter": "python",
   "pygments_lexer": "ipython3",
   "version": "3.9.13"
  }
 },
 "nbformat": 4,
 "nbformat_minor": 1
}
