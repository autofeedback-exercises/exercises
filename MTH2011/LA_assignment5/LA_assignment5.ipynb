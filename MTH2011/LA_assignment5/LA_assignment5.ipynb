{
  "cells": [
    {
      "cell_type": "markdown",
      "metadata": {
        "id": "NVOkK4hCU7RK"
      },
      "source": [
        "# Run this cell first"
      ],
      "outputs": []
    },
    {
      "cell_type": "code",
      "execution_count": 1,
      "metadata": {
        "id": "QCMw-lybOsz-"
      },
      "outputs": [],
      "source": [
        "# this code enables the automated feedback. If you remove this, you won't get any feedback\n",
        "# so don't delete this cell!\n",
        "try:\n",
        "  import AutoFeedback\n",
        "except (ModuleNotFoundError, ImportError):\n",
        "  %pip install AutoFeedback\n",
        "  import AutoFeedback\n",
        "\n",
        "try:\n",
        "  from testsrc import test_main\n",
        "except (ModuleNotFoundError, ImportError):\n",
        "  %pip install \"git+https://github.com/autofeedback-exercises/exercises.git#subdirectory=MTH2011/LA_assignment5\"\n",
        "  from testsrc import test_main\n",
        "\n",
        "def runtest(tlist):\n",
        "  import unittest\n",
        "  from contextlib import redirect_stderr\n",
        "  from os import devnull\n",
        "  with redirect_stderr(open(devnull, 'w')):\n",
        "    suite = unittest.TestSuite()\n",
        "    for tname in tlist:\n",
        "      suite.addTest(eval(f\"test_main.UnitTests.{tname}\"))\n",
        "    runner = unittest.TextTestRunner()\n",
        "    try:\n",
        "      runner.run(suite)\n",
        "    except AssertionError:\n",
        "      pass\n"
      ]
    },
    {
      "cell_type": "markdown",
      "metadata": {
        "id": "kWr87h8PRuzN"
      },
      "source": [
        "# LA assignment 5: computer questions\n",
        "\n",
        "**Example Problem 1**: Let $T: \\mathbb{R}^3 \\to \\mathbb{R}^4$ be a linear map defined by\n",
        "$$T(x,y,z) := (x-y+z, x-z, y, y-z+x).$$\n",
        "\n",
        "Determine the kernel, image and rank of $T$.\n",
        "\n",
        "The quantities requested can all be extracted directly from the matrix representation of the linear map. Specifically, the kernel is given by the so-called nullspace of the matrix, and the image is given by its column space. First we must be able to write the matrix corresponding to the map:\n",
        "$$\\mathbf{T} = \n",
        "\\left(\n",
        "\\begin{array}{ccc}\n",
        "1 & -1 & 1 \\\\\n",
        "1 & 0 & -1 \\\\\n",
        "0 & 1 & 0 \\\\\n",
        "1 & 1 & -1\n",
        "\\end{array}\n",
        "\\right).$$\n",
        "\n",
        "(If we take the inner product of $\\mathbf{T}$\u00a0with the column vector $(x,y,z)$,\u00a0the resulting system of equations gives the map $T$.)\n"
      ],
      "outputs": []
    },
    {
      "cell_type": "code",
      "execution_count": 2,
      "metadata": {
        "id": "ibVUGGAyl3Dt"
      },
      "outputs": [],
      "source": [
        "import sympy as sy\n",
        "T = sy.Matrix([[1, -1, 1], [1, 0, -1], [0, 1, 0], [1, 1, -1]])\n",
        "sy.pprint(T.nullspace())"
      ]
    },
    {
      "cell_type": "code",
      "execution_count": 3,
      "metadata": {
        "id": "vcOJvh07VIDh"
      },
      "outputs": [],
      "source": [
        "sy.pprint(T.columnspace())"
      ]
    },
    {
      "cell_type": "code",
      "execution_count": 4,
      "metadata": {
        "id": "lBYBZGqOkKeD"
      },
      "outputs": [],
      "source": [
        "sy.pprint(T.rank())"
      ]
    },
    {
      "cell_type": "markdown",
      "metadata": {
        "id": "9dHWwdQm0RpT"
      },
      "source": [
        "Thus the kernel (represented by the empty list `[]` here) must be $\\left\\{ \\left( 0, 0, 0\\right) \\right\\}$, the image is given by $$\\langle \\left( 1,1,0,1\\right), \\left(-1,0,1,1,\\right), \\left(1,-1,0,-1\\right) \\rangle,$$ and the rank is 3.\u00a0\n",
        "\n",
        "---\n",
        "\n",
        "**Example Problem 2**: Let $M:\\mathbb{R}^3 \\to \\mathbb{R}^3$\u00a0\u00a0be a linear map such that\n",
        "$$M(1,0,0) = (2,4,4), \\quad M(1,1,0) = (3,6,3) \\quad \\text{ and } \\quad M(0,1,1) = (4,6,2). \\quad (\u00a7)$$\n",
        "\n",
        "Find the matrix representation of $M$\u00a0with respect to the basis $\\left\\{ (1,0,0), (1,1,0), (0,1,1)\\right\\}$.\n",
        "\n",
        "This amounts to solving the matrix equation\u00a0\n",
        "\n",
        "$$\\left(\n",
        "\\begin{array}{ccc}\n",
        "1 & 1 & 0 \\\\\n",
        "0 & 1 & 1 \\\\ \n",
        "0 & 0 & 1 \n",
        "\\end{array}\n",
        "\\right)\n",
        "\\cdot \\mathbf{M} = \n",
        "\\left(\n",
        "\\begin{array}{ccc}\n",
        "2 & 3& 4 \\\\ \n",
        "4 & 6 & 6 \\\\\n",
        "4 & 3 & 2\n",
        "\\end{array}\n",
        "\\right)$$\n",
        "\n",
        "(To see this, compare the columns in the matrices on the left and right hand side with the bracketed terms in the linear map in Eq. $(\u00a7)$ above).\n",
        "\n",
        "This is very easily accomplished in sympy:"
      ],
      "outputs": []
    },
    {
      "cell_type": "code",
      "execution_count": 5,
      "metadata": {
        "id": "jOjpiZ8Agp8y"
      },
      "outputs": [],
      "source": [
        "import sympy as sy\n",
        "L = sy.Matrix([[1, 1, 0], [0, 1, 1], [0, 0, 1]])\n",
        "R = sy.Matrix([[2, 3, 4], [4, 6, 6], [4, 3, 2]])\n",
        "\n",
        "sy.pprint(L.LUsolve(R))"
      ]
    },
    {
      "cell_type": "markdown",
      "metadata": {
        "id": "Lzx3AMzyy3nD"
      },
      "source": [
        "Here we use the `.LUsolve()` method instead of the `sy.solve` function as the unknown is a matrix (rather than a vector)."
      ],
      "outputs": []
    },
    {
      "cell_type": "markdown",
      "metadata": {
        "id": "pjrgU8y5xzrV"
      },
      "source": [
        "---\n",
        "\n",
        "## TASKS\n",
        "\n",
        "Q1. Let $T: \\mathbb{R}^4 \\to \\mathbb{R}^3$ be a linear map defined by\n",
        "\n",
        "$$T(x,y,z,w) := (x-y+z, w-z, y-z+w).$$\n",
        "\n",
        "Determine the kernel, image and rank of $T$."
      ],
      "outputs": []
    },
    {
      "cell_type": "code",
      "execution_count": 6,
      "metadata": {
        "id": "v2wGkUABzcKP"
      },
      "outputs": [],
      "source": [
        "import sympy as sy\n",
        "\n",
        "# Q1, name the matrix representation of the linear map \"T\", and the quantities requested kerT, imT and rankT."
      ]
    },
    {
      "cell_type": "code",
      "execution_count": 7,
      "metadata": {
        "id": "FDWimnNUlWoA"
      },
      "outputs": [],
      "source": [
        "runtest(['test_q1_T', 'test_q1_imT', 'test_q1_kerT', 'test_q1_rankT'])"
      ]
    },
    {
      "cell_type": "markdown",
      "metadata": {
        "id": "TGxkluuM0Cgo"
      },
      "source": [
        "Q2. Let $M:\\mathbb{R}^3 \\to \\mathbb{R}^3$ be a linear map such that\n",
        "\n",
        "$$M(0,1,0) = (2,1,1), \\quad M(1,0,1) = (1,2,0) \\quad \\text{ and } \\quad M(0,1,1) = (0,2,2).$$\n",
        "\n",
        "Find the matrix representation of $M$ with respect to the basis $\\left\\{ (0,1,0), (1,0,1), (0,1,1)\\right\\}$\n"
      ],
      "outputs": []
    },
    {
      "cell_type": "code",
      "execution_count": 8,
      "metadata": {
        "id": "zcghx2x2rFXT"
      },
      "outputs": [],
      "source": [
        "# Q2, name the matrix representations of the basis and projections L and R respectively. Name the matrix representing the map M.\n"
      ]
    },
    {
      "cell_type": "code",
      "execution_count": 10,
      "metadata": {
        "id": "AALCGRvaBjjx"
      },
      "outputs": [],
      "source": [
        "runtest(['test_q2_L', 'test_q2_M', 'test_q2_R'])"
      ]
    }
  ],
  "metadata": {
    "colab": {
      "cell_execution_strategy": "setup",
      "collapsed_sections": [
        "NVOkK4hCU7RK"
      ],
      "private_outputs": true,
      "provenance": []
    },
    "kernelspec": {
      "display_name": "Python 3 (ipykernel)",
      "language": "python",
      "name": "python3"
    },
    "language_info": {
      "codemirror_mode": {
        "name": "ipython",
        "version": 3
      },
      "file_extension": ".py",
      "mimetype": "text/x-python",
      "name": "python",
      "nbconvert_exporter": "python",
      "pygments_lexer": "ipython3",
      "version": "3.9.13"
    }
  },
  "nbformat": 4,
  "nbformat_minor": 1
}
