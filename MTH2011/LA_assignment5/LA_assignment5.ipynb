{
 "cells": [
  {
   "cell_type": "markdown",
   "metadata": {
    "id": "NVOkK4hCU7RK"
   },
   "source": [
    "# Run this cell first"
   ]
  },
  {
   "cell_type": "code",
   "execution_count": 1,
   "metadata": {
    "id": "QCMw-lybOsz-"
   },
   "outputs": [],
   "source": [
    "# this code enables the automated feedback. If you remove this, you won't get any feedback\n",
    "# so don't delete this cell!\n",
    "try:\n",
    "  import AutoFeedback\n",
    "except (ModuleNotFoundError, ImportError):\n",
    "  %pip install AutoFeedback\n",
    "  import AutoFeedback\n",
    "\n",
    "try:\n",
    "  from testsrc import test_main\n",
    "except (ModuleNotFoundError, ImportError):\n",
    "  %pip install \"git+https://github.com/autofeedback-exercises/exercises.git#subdirectory=MTH2011/LA_assignment5\"\n",
    "  from testsrc import test_main\n",
    "\n",
    "def runtest(tlist):\n",
    "  import unittest\n",
    "  from contextlib import redirect_stderr\n",
    "  from os import devnull\n",
    "  with redirect_stderr(open(devnull, 'w')):\n",
    "    suite = unittest.TestSuite()\n",
    "    for tname in tlist:\n",
    "      suite.addTest(eval(f\"test_main.UnitTests.{tname}\"))\n",
    "    runner = unittest.TextTestRunner()\n",
    "    try:\n",
    "      runner.run(suite)\n",
    "    except AssertionError:\n",
    "      pass\n"
   ]
  },
  {
   "cell_type": "markdown",
   "metadata": {},
   "source": [
    "# LA assignment 5: computer questions\n",
    "\n",
    "**Example Problem 1**: Let $T: \\mathbb{R}^3 \\to \\mathbb{R}^4$ be a linear map defined by\n",
    "$$T(x,y,z) := (x-y+z, x-z, y, y-z+x).$$\n",
    "\n",
    "Determine the kernel, image and rank of $T$.\n",
    "\n",
    "The quantities requested can all be extracted directly from the matrix representation of the linear map. Specifically, the kernel is given by the so-called nullspace of the matrix, and the image is given by its column space. First we must be able to write the matrix corresponding to the map:\n",
    "$$\\mathbf{T} = \n",
    "\\left(\n",
    "\\begin{array}{ccc}\n",
    "1 & -1 & 1 \\\\\n",
    "1 & 0 & -1 \\\\\n",
    "0 & 1 & 0 \\\\\n",
    "1 & 1 & -1\n",
    "\\end{array}\n",
    "\\right).$$\n",
    "\n",
    "(If we take the inner product of $\\mathbf{T}$ with the column vector $(x,y,z)$, the resulting system of equations gives the map $T$.)\n"
   ]
  },
  {
   "cell_type": "code",
   "execution_count": 2,
   "metadata": {},
   "outputs": [
    {
     "name": "stdout",
     "output_type": "stream",
     "text": [
      "[]\n"
     ]
    }
   ],
   "source": [
    "import sympy as sy\n",
    "T = sy.Matrix([[1, -1, 1], [1, 0, -1], [0, 1, 0], [1, 1, -1]])\n",
    "sy.pprint(T.nullspace())"
   ]
  },
  {
   "cell_type": "code",
   "execution_count": 3,
   "metadata": {},
   "outputs": [
    {
     "name": "stdout",
     "output_type": "stream",
     "text": [
      "⎡⎡1⎤  ⎡-1⎤  ⎡1 ⎤⎤\n",
      "⎢⎢ ⎥  ⎢  ⎥  ⎢  ⎥⎥\n",
      "⎢⎢1⎥  ⎢0 ⎥  ⎢-1⎥⎥\n",
      "⎢⎢ ⎥, ⎢  ⎥, ⎢  ⎥⎥\n",
      "⎢⎢0⎥  ⎢1 ⎥  ⎢0 ⎥⎥\n",
      "⎢⎢ ⎥  ⎢  ⎥  ⎢  ⎥⎥\n",
      "⎣⎣1⎦  ⎣1 ⎦  ⎣-1⎦⎦\n"
     ]
    }
   ],
   "source": [
    "sy.pprint(T.columnspace())"
   ]
  },
  {
   "cell_type": "code",
   "execution_count": 4,
   "metadata": {},
   "outputs": [
    {
     "name": "stdout",
     "output_type": "stream",
     "text": [
      "3\n"
     ]
    }
   ],
   "source": [
    "sy.pprint(T.rank())"
   ]
  },
  {
   "cell_type": "markdown",
   "metadata": {},
   "source": [
    "Thus the kernel (represented by the empty list `[]` here) must be $\\left\\{ \\left( 0, 0, 0\\right) \\right\\}$, the image is given by $$\\langle \\left( 1,1,0,1\\right), \\left(-1,0,1,1,\\right), \\left(1,-1,0,-1\\right) \\rangle,$$ and the rank is 3. \n",
    "\n",
    "---\n",
    "\n",
    "**Example Problem 2**: Let $M:\\mathbb{R}^3 \\to \\mathbb{R}^3$  be a linear map such that\n",
    "$$M(1,0,0) = (2,4,4), \\quad M(1,1,0) = (3,6,3) \\quad \\text{ and } \\quad M(0,1,1) = (4,6,2). \\quad (§)$$\n",
    "\n",
    "Find the matrix representation of $M$ with respect to the basis $\\left\\{ (1,0,0), (1,1,0), (0,1,1)\\right\\}$.\n",
    "\n",
    "This amounts to solving the matrix equation \n",
    "\n",
    "$$\\left(\n",
    "\\begin{array}{ccc}\n",
    "1 & 1 & 0 \\\\\n",
    "0 & 1 & 1 \\\\ \n",
    "0 & 0 & 1 \n",
    "\\end{array}\n",
    "\\right)\n",
    "\\cdot \\mathbf{M} = \n",
    "\\left(\n",
    "\\begin{array}{ccc}\n",
    "2 & 3& 4 \\\\ \n",
    "4 & 6 & 6 \\\\\n",
    "4 & 3 & 2\n",
    "\\end{array}\n",
    "\\right)$$\n",
    "\n",
    "(To see this, compare the columns in the matrices on the left and right hand side with the bracketed terms in the linear map in Eq. $(§)$ above).\n",
    "\n",
    "This is very easily accomplished in sympy:"
   ]
  },
  {
   "cell_type": "code",
   "execution_count": 5,
   "metadata": {},
   "outputs": [
    {
     "name": "stdout",
     "output_type": "stream",
     "text": [
      "⎡2  0  0⎤\n",
      "⎢       ⎥\n",
      "⎢0  3  4⎥\n",
      "⎢       ⎥\n",
      "⎣4  3  2⎦\n"
     ]
    }
   ],
   "source": [
    "import sympy as sy\n",
    "L = sy.Matrix([[1, 1, 0], [0, 1, 1], [0, 0, 1]])\n",
    "R = sy.Matrix([[2, 3, 4], [4, 6, 6], [4, 3, 2]])\n",
    "\n",
    "sy.pprint(L.LUsolve(R))"
   ]
  },
  {
   "cell_type": "markdown",
   "metadata": {},
   "source": [
    "Here we use the `.LUsolve()` method instead of the `sy.solve` function as the unknown is a matrix (rather than a vector)."
   ]
  },
  {
   "cell_type": "markdown",
   "metadata": {
    "id": "pjrgU8y5xzrV"
   },
   "source": [
    "---\n",
    "\n",
    "## TASKS\n",
    "\n",
    "Q1. Let $T: \\mathbb{R}^4 \\to \\mathbb{R}^3$ be a linear map defined by\n",
    "\n",
    "$$T(x,y,z,w) := (x-y+z, w-z, y-z+w).$$\n",
    "\n",
    "Determine the kernel, image and rank of $T$."
   ]
  },
  {
   "cell_type": "code",
   "execution_count": 6,
   "metadata": {
    "id": "v2wGkUABzcKP"
   },
   "outputs": [],
   "source": [
    "import sympy as sy\n",
    "\n",
    "# Q1, name the matrix representation of the linear map \"T\", and the quantities requested kerT, imT and rankT."
   ]
  },
  {
   "cell_type": "code",
   "execution_count": 7,
   "metadata": {
    "id": "FDWimnNUlWoA"
   },
   "outputs": [
    {
     "name": "stdout",
     "output_type": "stream",
     "text": [
      "\u001b[91mThe variable T is the wrong size.\n",
      "    Try using len(T) to determine the size of the array, or\n",
      "    print(T to check the values look as you expect them to.\n",
      "    \u001b[0m\n",
      "\u001b[93m==============================\n",
      "\u001b[0m\n"
     ]
    }
   ],
   "source": [
    "runtest(['test_q1_T', 'test_q1_imT', 'test_q1_kerT', 'test_q1_rankT'])"
   ]
  },
  {
   "cell_type": "markdown",
   "metadata": {
    "id": "TGxkluuM0Cgo"
   },
   "source": [
    "Q2. Let $M:\\mathbb{R}^3 \\to \\mathbb{R}^3$ be a linear map such that\n",
    "\n",
    "$$M(0,1,0) = (2,1,1), \\quad M(1,0,1) = (1,2,0) \\quad \\text{ and } \\quad M(0,1,1) = (0,2,2).$$\n",
    "\n",
    "Find the matrix representation of $M$ with respect to the basis $\\left\\{ (0,1,0), (1,0,1), (0,1,1)\\right\\}$\n"
   ]
  },
  {
   "cell_type": "code",
   "execution_count": 8,
   "metadata": {
    "id": "zcghx2x2rFXT"
   },
   "outputs": [],
   "source": [
    "# Q2, name the matrix representations of the basis and projections L and R respectively. Name the matrix representing the map M.\n"
   ]
  },
  {
   "cell_type": "code",
   "execution_count": 10,
   "metadata": {
    "id": "AALCGRvaBjjx"
   },
   "outputs": [
    {
     "name": "stdout",
     "output_type": "stream",
     "text": [
      "\u001b[91mThe variable L has the wrong value(s)\n",
      "\n",
      "        We expected the output:\n",
      "        Matrix([[0, 1, 0], [1, 0, 1], [0, 1, 1]])\n",
      "        but instead we got:\n",
      "        Matrix([[1, 1, 0], [0, 1, 1], [0, 0, 1]])\n",
      "        Try using print(L) to check the values look as you expect them\n",
      "        to and ensure the expression used to calculate the variable\n",
      "        is correct.\n",
      "        \u001b[0m\n",
      "\u001b[93m==============================\n",
      "\u001b[0m\n"
     ]
    }
   ],
   "source": [
    "runtest(['test_q2_L', 'test_q2_M', 'test_q2_R'])"
   ]
  }
 ],
 "metadata": {
  "colab": {
   "cell_execution_strategy": "setup",
   "collapsed_sections": [
    "NVOkK4hCU7RK"
   ],
   "private_outputs": true,
   "provenance": []
  },
  "kernelspec": {
   "display_name": "Python 3 (ipykernel)",
   "language": "python",
   "name": "python3"
  },
  "language_info": {
   "codemirror_mode": {
    "name": "ipython",
    "version": 3
   },
   "file_extension": ".py",
   "mimetype": "text/x-python",
   "name": "python",
   "nbconvert_exporter": "python",
   "pygments_lexer": "ipython3",
   "version": "3.9.13"
  }
 },
 "nbformat": 4,
 "nbformat_minor": 1
}
