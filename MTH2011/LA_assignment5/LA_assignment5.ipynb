{
 "cells": [
  {
   "cell_type": "markdown",
   "metadata": {
    "id": "NVOkK4hCU7RK"
   },
   "source": [
    "# ."
   ]
  },
  {
   "cell_type": "code",
   "execution_count": null,
   "metadata": {
    "id": "QCMw-lybOsz-"
   },
   "outputs": [],
   "source": [
    "# this code enables the automated feedback. If you remove this, you won't get any feedback\n",
    "# so don't delete this cell!\n",
    "try:\n",
    "  import AutoFeedback\n",
    "except (ModuleNotFoundError, ImportError):\n",
    "  !pip install git+https://github.com/abrown41/AutoFeedback@notebook\n",
    "  import AutoFeedback\n",
    "\n",
    "try:\n",
    "  from testsrc import test_main\n",
    "except (ModuleNotFoundError, ImportError):\n",
    "  !pip install \"git+https://github.com/autofeedback-exercises/exercises.git@testpip#subdirectory=MTH2011/LA_assignment5\"\n",
    "  from testsrc import test_main\n",
    "\n",
    "def runtest(tlist):\n",
    "  import unittest\n",
    "  from contextlib import redirect_stderr\n",
    "  from os import devnull\n",
    "  with redirect_stderr(open(devnull, 'w')):\n",
    "    suite = unittest.TestSuite()\n",
    "    for tname in tlist:\n",
    "      suite.addTest(eval(f\"test_main.UnitTests.{tname}\"))\n",
    "    runner = unittest.TextTestRunner()\n",
    "    try:\n",
    "      runner.run(suite)\n",
    "    except AssertionError:\n",
    "      pass\n"
   ]
  },
  {
   "cell_type": "markdown",
   "metadata": {
    "id": "pjrgU8y5xzrV"
   },
   "source": [
    "# LA assignment 5: computer questions\n",
    "\n",
    "Q1. Let $T: \\mathbb{R}^4 \\to \\mathbb{R}^3$ be a linear map defined by\n",
    "\n",
    "$$T(x,y,z,w) := (x-y+z, w-z, y-z+w).$$\n",
    "\n",
    "Determine the kernel, image and rank of $T$."
   ]
  },
  {
   "cell_type": "code",
   "execution_count": null,
   "metadata": {
    "id": "v2wGkUABzcKP"
   },
   "outputs": [],
   "source": [
    "import sympy as sy\n",
    "\n",
    "# Q1, name the matrix representation of the linear map \"T\", and the quantities requested kerT, imT and rankT."
   ]
  },
  {
   "cell_type": "code",
   "execution_count": null,
   "metadata": {
    "id": "FDWimnNUlWoA"
   },
   "outputs": [],
   "source": [
    "runtest(['test_q1_T', 'test_q1_imT', 'test_q1_kerT', 'test_q1_rankT'])"
   ]
  },
  {
   "cell_type": "markdown",
   "metadata": {
    "id": "TGxkluuM0Cgo"
   },
   "source": [
    "Q2. Let $M:\\mathbb{R}^3 \\to \\mathbb{R}^3$ be a linear map such that\n",
    "\n",
    "$$M(0,1,0) = (2,1,1), \\quad M(1,0,1) = (1,2,0) \\quad \\text{ and } \\quad M(0,1,1) = (0,2,2).$$\n",
    "\n",
    "Find the matrix representation of $M$ with respect to the basis $\\left\\{ (0,1,0), (1,0,1), (0,1,1)\\right\\}$\n"
   ]
  },
  {
   "cell_type": "code",
   "execution_count": null,
   "metadata": {
    "id": "zcghx2x2rFXT"
   },
   "outputs": [],
   "source": [
    "# Q2, name the matrix representations of the basis and projections L and R respectively. Name the matrix representing the map M.\n"
   ]
  },
  {
   "cell_type": "code",
   "execution_count": null,
   "metadata": {
    "id": "AALCGRvaBjjx"
   },
   "outputs": [],
   "source": [
    "runtest(['test_q1_T', 'test_q1_imT', 'test_q1_kerT', 'test_q1_rankT', 'test_q2_L', 'test_q2_M', 'test_q2_R'])"
   ]
  }
 ],
 "metadata": {
  "colab": {
   "cell_execution_strategy": "setup",
   "collapsed_sections": [
    "NVOkK4hCU7RK"
   ],
   "private_outputs": true,
   "provenance": []
  },
  "kernelspec": {
   "display_name": "Python 3 (ipykernel)",
   "language": "python",
   "name": "python3"
  },
  "language_info": {
   "codemirror_mode": {
    "name": "ipython",
    "version": 3
   },
   "file_extension": ".py",
   "mimetype": "text/x-python",
   "name": "python",
   "nbconvert_exporter": "python",
   "pygments_lexer": "ipython3",
   "version": "3.9.13"
  }
 },
 "nbformat": 4,
 "nbformat_minor": 1
}
