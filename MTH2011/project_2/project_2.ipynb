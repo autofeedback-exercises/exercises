{
 "cells": [
  {
   "cell_type": "markdown",
   "metadata": {
    "id": "NVOkK4hCU7RK"
   },
   "source": [
    "# Mini project 2: eigenvalues and addition"
   ]
  },
  {
   "cell_type": "markdown",
   "metadata": {
    "id": "NABIvIUuAukl"
   },
   "source": [
    "In this project you will once again be exploring the relationships between eigenvalues, but this time, between several different matrices. Rather than giving a theorem and then asking you to explore it, we instead will give you a set of tasks, and at the end of those tasks, you will construct the theorem for yourself.\n",
    "\n",
    "The tasks concern two self-adjoint matrices, $A$ and $B$. We can construct a third matrix, $C=A+B$. What we want to explore is how are the eigenvalues (specifically the largest $^*$ eigenvalues) of $A$ and $B$ related to the eigenvalues of $C$.\n",
    "\n",
    "The code provided below gives a template: the comments tell you what lines of code need to be added. Note that there are no 'AutoFeedback' tests on the code. You simply have to follow the instructions to produce the plot, and then judge for yourself whether it is reasonable.\n",
    "\n",
    "The programming steps are enumerated in the comments in the code, but can also be inferred from this description, if you find that easier.\n",
    "\n",
    "When complete the code will\n",
    "\n",
    "- generate a pair of random, self-adjoint matrices, `A` and `B`\n",
    "- calculate their sum, `C`\n",
    "- calculate the eigenvalues of `A`, `B` and `C`\n",
    "- extract the largest eigenvalues of each\n",
    "- calculate the sum of the largest$^*$ eigenvalues of `A` and `B`\n",
    "- plot this value against the largest eigenvalue of `C`\n",
    "- repeat this for 1000 pairs of random matrices\n",
    "\n",
    "$^*$ Note that 'largest' here means 'highest' value, rather than 'largest absolute' value. In other words, the largest eigenvalue could be -0.001 provided the other eigenvalues are -1 and -3. The largest number in a list can be calculated very easily using the `max` command. I.E if i have a list of eigenvalues, evals, the largest is given by\n",
    "\n",
    "```python\n",
    "  largest_eval = max(evals)\n",
    "```\n",
    "\n",
    "---\n",
    "\n",
    "## Tasks\n",
    "1. (3 marks): complete the code using the template provided, to produce a plot of the sum of the largest eigenvalues of $A$ and $B$, vs the largest eigenvalue of $C$ for 1000 pairs of randomly generated self adjoint matrices, $A$ and $B$. Submit this plot (on canvas), along with a sentence describing what is shown using the [$\\LaTeX$ template provided](https://www.overleaf.com/docs?snip_uri=https://raw.githubusercontent.com/abrown41/testoverleaf/main/MTH2011_mini_project_1.zip).\n",
    "2. (4 marks): add to your document a properly constructed theorem describing the relationship between the two values plotted. Make sure to state this formally as a theorem (just as we did in the lectures).\n",
    "3. (5 marks): add to your document an explicit example of matrices $A$ and $B$ and how the sum of their largest eigenvalues and the largest eigenvalue of $A+B$ demonstrates the relationship of your theorem.\n",
    "4. (6 marks): extend all of the tasks to the corresponding minimum eigenvalues. That is, produce another plot, a second theorem and an example, that all describe how the sum of the lowest eigenvalues of $A$ and $B$, are related to the lowest eigenvalue of $A+B$.\n",
    "\n"
   ]
  },
  {
   "cell_type": "code",
   "execution_count": null,
   "metadata": {
    "id": "BIB0SiFU357E"
   },
   "outputs": [],
   "source": [
    "import numpy as np\n",
    "import matplotlib.pyplot as plt\n",
    "\n",
    "matrix_dimension = 3\n",
    "\n",
    "\n",
    "def gen_hermitian_matrix(size=4):\n",
    "    \"\"\"\n",
    "    Given a dimension 'size', return a symmetric, real-valued matrix of\n",
    "    dimension 'size', with elements randomly drawn from [-1 ,+1].\n",
    "    \"\"\"\n",
    "\n",
    "    A = np.random.rand(size, size) - 0.5\n",
    "    A =  A + A.conj().T\n",
    "    return A\n",
    "\n",
    "evalsAB, evalsC = [], []\n",
    "\n",
    "# for 1000 pairs of random matrices\n",
    "for _ in range(1000):\n",
    "    # TASK: set up matrices A and B using gen_hermitian_matrix\n",
    "\n",
    "    # TASK: calculate the matrix C\n",
    "\n",
    "    # TASK: calculate the eigenvalues of A, B and C (evA, evB, evC)\n",
    "\n",
    "    # TASK: calculate the largest eigenvalues of A, B and C (maxA, maxB, maxC)\n",
    "\n",
    "    # TASK: add maxA and maxB together to give maxAB\n",
    "\n",
    "    # plot maxAB vs maxC with a single point\n",
    "\n",
    "plt.show()"
   ]
  }
 ],
 "metadata": {
  "colab": {
   "cell_execution_strategy": "setup",
   "collapsed_sections": [
    "NVOkK4hCU7RK"
   ],
   "private_outputs": true,
   "provenance": []
  },
  "kernelspec": {
   "display_name": "Python 3 (ipykernel)",
   "language": "python",
   "name": "python3"
  },
  "language_info": {
   "codemirror_mode": {
    "name": "ipython",
    "version": 3
   },
   "file_extension": ".py",
   "mimetype": "text/x-python",
   "name": "python",
   "nbconvert_exporter": "python",
   "pygments_lexer": "ipython3",
   "version": "3.9.13"
  }
 },
 "nbformat": 4,
 "nbformat_minor": 1
}
