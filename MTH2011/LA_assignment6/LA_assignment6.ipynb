{
  "cells": [
    {
      "cell_type": "markdown",
      "metadata": {
        "id": "NVOkK4hCU7RK"
      },
      "source": [
        "# Run this cell first"
      ],
      "outputs": []
    },
    {
      "cell_type": "code",
      "execution_count": 1,
      "metadata": {
        "id": "QCMw-lybOsz-"
      },
      "outputs": [],
      "source": [
        "# this code enables the automated feedback. If you remove this, you won't get any feedback\n",
        "# so don't delete this cell!\n",
        "try:\n",
        "  import AutoFeedback\n",
        "except (ModuleNotFoundError, ImportError):\n",
        "  %pip install AutoFeedback\n",
        "  import AutoFeedback\n",
        "\n",
        "try:\n",
        "  from testsrc import test_main\n",
        "except (ModuleNotFoundError, ImportError):\n",
        "  %pip install \"git+https://github.com/autofeedback-exercises/exercises.git#subdirectory=MTH2011/LA_assignment6\"\n",
        "  from testsrc import test_main\n",
        "\n",
        "def runtest(tlist):\n",
        "  import unittest\n",
        "  from contextlib import redirect_stderr\n",
        "  from os import devnull\n",
        "  with redirect_stderr(open(devnull, 'w')):\n",
        "    suite = unittest.TestSuite()\n",
        "    for tname in tlist:\n",
        "      suite.addTest(eval(f\"test_main.UnitTests.{tname}\"))\n",
        "    runner = unittest.TextTestRunner()\n",
        "    try:\n",
        "      runner.run(suite)\n",
        "    except AssertionError:\n",
        "      pass\n"
      ]
    },
    {
      "cell_type": "markdown",
      "metadata": {
        "id": "y9TIWRSR3Ng3"
      },
      "source": [
        "# LA assignment 6: computer questions\n",
        "\n",
        "**Example Problem**: Let \n",
        "\n",
        "$$A= \n",
        "\\left(\n",
        "\\begin{array}{ccc}\n",
        "0 & 2 & -1\\\\\n",
        "2 & 3 & -2 \\\\\n",
        "-1 & -2 & 0\n",
        "\\end{array}\n",
        "\\right).$$\n",
        "Find the eigenvalues of $A$, and find an eigenvector for each one of them. Determine an invertible matrix $P$ such that $P^{-1} A P = D$ is diagonal.\n",
        "\n",
        "There are built-in commands for finding eigenvalues and eigenvectors in `sympy`. Thus the eigenpairs (as they are called) can be computed very simply:"
      ],
      "outputs": []
    },
    {
      "cell_type": "code",
      "execution_count": 2,
      "metadata": {
        "id": "PuhF3JI7Kz9D"
      },
      "outputs": [],
      "source": [
        "import sympy as sy\n",
        "A = sy.Matrix([[0, 2, -1,], [2, 3, -2], [-1, -2, 0]])\n",
        "sy.pprint(A.eigenvects())"
      ]
    },
    {
      "cell_type": "markdown",
      "metadata": {
        "id": "ZlXdagWorKWV"
      },
      "source": [
        "This might look confusing, but reading the output from left to right we see that $A$  has an eigenvalue of -1, which has 2 corresponding eigenvectors. given by $(-2, 1, 0)$ and $(1, 0, 1)$. Then we can see that there is another eigenvalue, 5, which has 1 corresponding eigenvector $(-1,-2,1)$.\n",
        "\n",
        "Now the second part of the question is a longwinded way of saying that we want to diagonalise $A$. By hand, you know how to construct the matrices $P$ and $D$ from the eigenvalues and eigenvectors of $A$. But a nice simple way of doing this in sympy is with the `.diagonalize()` method."
      ],
      "outputs": []
    },
    {
      "cell_type": "code",
      "execution_count": 3,
      "metadata": {
        "id": "THGl9B0ib4Xi"
      },
      "outputs": [],
      "source": [
        "P, D = A.diagonalize()\n",
        "sy.pprint(P)"
      ]
    },
    {
      "cell_type": "code",
      "execution_count": 4,
      "metadata": {
        "id": "ski9R31L8d0Y"
      },
      "outputs": [],
      "source": [
        "sy.pprint(D)"
      ]
    },
    {
      "cell_type": "code",
      "execution_count": 5,
      "metadata": {
        "id": "ajuvY0trPu9u"
      },
      "outputs": [],
      "source": [
        "sy.pprint(P.inv() * A * P)"
      ]
    },
    {
      "cell_type": "markdown",
      "metadata": {
        "id": "ElaY6hIkskxQ"
      },
      "source": [
        "--- \n",
        "\n",
        "## TASKS\n",
        "Q1. Determine the eigenvalues and corresponding eigenvectors of\n",
        "\n",
        "$$A = \\left( \\begin{array}{ccc} 1 & -1 & -1 \\\\ 1 & 3 & 1 \\\\ -3 & 1 & -1 \\end{array} \\right).$$\n",
        "\n",
        "Determine a diagonal matrix $D$ and an invertible matrix $P$ such that $A = PDP^{-1}$.\n"
      ],
      "outputs": []
    },
    {
      "cell_type": "code",
      "execution_count": 6,
      "metadata": {
        "id": "uubWJnLVzMVW"
      },
      "outputs": [],
      "source": [
        "import sympy as sy\n",
        "\n",
        "# Name the matrices A, P, and D (as in the question). Name the eigenpairs Epairs\n",
        "\n"
      ]
    },
    {
      "cell_type": "code",
      "execution_count": 7,
      "metadata": {
        "id": "Fswqs9wYFmbO"
      },
      "outputs": [],
      "source": [
        "runtest(['test_A', 'test_D', 'test_Epairs', 'test_P'])"
      ]
    }
  ],
  "metadata": {
    "colab": {
      "cell_execution_strategy": "setup",
      "collapsed_sections": [
        "NVOkK4hCU7RK"
      ],
      "private_outputs": true,
      "provenance": []
    },
    "kernelspec": {
      "display_name": "Python 3 (ipykernel)",
      "language": "python",
      "name": "python3"
    },
    "language_info": {
      "codemirror_mode": {
        "name": "ipython",
        "version": 3
      },
      "file_extension": ".py",
      "mimetype": "text/x-python",
      "name": "python",
      "nbconvert_exporter": "python",
      "pygments_lexer": "ipython3",
      "version": "3.9.13"
    }
  },
  "nbformat": 4,
  "nbformat_minor": 1
}
