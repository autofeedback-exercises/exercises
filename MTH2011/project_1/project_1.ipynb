{
 "cells": [
  {
   "cell_type": "markdown",
   "metadata": {
    "id": "NVOkK4hCU7RK"
   },
   "source": [
    "# Mini Project 1: Eigenvalues"
   ]
  },
  {
   "cell_type": "code",
   "execution_count": 1,
   "metadata": {
    "id": "QCMw-lybOsz-"
   },
   "outputs": [],
   "source": [
    "# The code in this cell is provided for you, you should not need to modify it\n",
    "import numpy as np\n",
    "import matplotlib.pyplot as plt\n",
    "\n",
    "\n",
    "\n",
    "matrix_dimension=3\n",
    "xvals = np.arange(-5,6,1) # range of values for the replaced elements\n",
    "\n",
    "def gen_hermitian_matrix(size = 3):\n",
    "    \"\"\"\n",
    "    Given a dimension \"size\", return a Hermitian matrix of\n",
    "    dimension \"size\", with elements randomly drawn from [-0.1 ,+0.1].\n",
    "    \"\"\"\n",
    "    A = np.random.rand(size, size) - 0.5\n",
    "    A = A + A.conj().T\n",
    "    return 0.1*A\n",
    "\n",
    "\n",
    "def reset_matrix(ii, jj, xx):\n",
    "    \"\"\"\n",
    "    given a pair of indices (ii,jj) and a value xx, return the base_matrix with\n",
    "    elements (ii,jj) and (jj,ii) replaced with xx. If base_matrix is symmetric,\n",
    "    then the matrix returned is also symmetric.\n",
    "    \"\"\"\n",
    "    A = 1*base_matrix # reset all the values to the base_matrix\n",
    "    A[ii][jj], A[jj,ii] = xx ,xx # set the correct elements equal to xx\n",
    "    return A\n"
   ]
  },
  {
   "cell_type": "markdown",
   "metadata": {
    "id": "WOK0cRcghW9S"
   },
   "source": [
    "In this mini project you'll be determining the eigenvalues of a matrix, and exploring the relationship between the elements of the matrix, and the eigenvalues. \n",
    "\n",
    "For this you will be using python, and some code which has been written for you. Unlike the previous computer exercises this code uses numpy rather than sympy (i.e. a numerical rather than a symbolic representation) which simplifies the code substantially (although you might not think that when you look at it!)\n",
    "\n",
    "The problem to be explored is as follows. Suppose we have a self-adjoint $3\\times 3$ matrix $A$, where the elements of the matrix are randomly generated real numbers. Here's an example for $n=3:\n",
    "\n",
    "$$A = \\left(\n",
    "\\begin{array}{ccc}\n",
    "0.2& -0.4 & 0.1 \\\\\n",
    "-0.4 & 0.03 & 0.9 \\\\\n",
    "0.1 & 0.9 & -0.3 \\\\\n",
    "\\end{array}\n",
    "\\right).$$\n",
    "\n",
    "(The eigenvalues of a self-adjoint matrix are known to be real, so that makes them easier to work with in python).\n",
    "\n",
    "Now suppose we replace elements $a_{ij}$ and $a_{ji}$ (for some choice of $i,j$) of the matrix with some number $x$. This new matrix, call it $A'$ is still self-adjoint, and so its eigenvalues are still real. Here we have replaced elements $a_{01}$ and $a_{10}$:\n",
    "\n",
    "$$A = \\left(\n",
    "\\begin{array}{ccc}\n",
    "0.2& x & 0.1 \\\\\n",
    "x & 0.03 & 0.9 \\\\\n",
    "0.1 & 0.9 & -0.3 \\\\\n",
    "\\end{array}\n",
    "\\right).$$\n",
    "\n",
    "The question is,\n",
    "\n",
    "> **how, if at all, is the largest eigenvalue of $A'$ related to $x$?**\n",
    "\n",
    "---"
   ]
  },
  {
   "cell_type": "markdown",
   "metadata": {},
   "source": [
    "## Tasks\n",
    "* Basic (2 marks): modify the code below to produce a plot of largest eigenvalue vs $x$ for $x$ in the top left element of the matrix ($a_{00}$) (This amounts to plotting `evals` against `xvals` for  `(ii,jj)= (0,0)`). Submit this figure along with a sentence describing the important features of the graph.\n",
    "  \n",
    "* Level up (3 marks): Explain why you get the graph using the definition of eigenvalues in a couple of sentences. This doesn't need to be (indeed shouldn't be) longer than a sentence or two.\n",
    "  \n",
    "* Advanced (4 marks): Show a second graph for  in the off diagonal positions ($a_{ij}, i\\neq j$). For a $3\\times 3$ self-adjoint matrix there are only three possibilities for the position of $x$. You should give a single plot showing the behaviour of all three for a single matrix. Explain why you get the graph using the definition of eigenvalues in a couple of sentences. "
   ]
  },
  {
   "cell_type": "code",
   "execution_count": 15,
   "metadata": {
    "id": "zE5JX2UZderC"
   },
   "outputs": [
    {
     "name": "stdout",
     "output_type": "stream",
     "text": [
      "ii , jj : [list of largest eigenvalues with elements (ii,jj) and (jj,ii) replaced by -5, -4, ..., 4, 5]\n",
      "\n",
      "0, 1:  [-5.003482604582699, -4.003633578907816, -3.0038843496074206, -2.0043827300074915, -1.0058533125133435, 0.11409923182446594, -1.0069601558330958, -2.0049596383969526, -3.004274170949789, -4.003927897450575, -5.003718995450574]\n",
      "0, 2:  [-5.001783477432877, -4.001980505722536, -3.0023073074686693, -2.0029550120581843, -1.004851439427382, 0.11362827559834825, -1.0043104717578413, -2.0026737345548895, -3.002117411255702, -4.001837196284645, -5.001668405288681]\n",
      "1, 2:  [5.072773556387368, 4.0727848780190605, 3.0728033936298793, 2.0728391530643213, 1.0729372421812502, -0.07835409946819845, 1.0727534620427657, 2.07274086471252, 3.072736312586237, 4.072733963152441, 5.072732528987574]\n"
     ]
    }
   ],
   "source": [
    "\n",
    "base_matrix = gen_hermitian_matrix(matrix_dimension)\n",
    "\n",
    "print (\"ii , jj : [list of largest eigenvalues with elements (ii,jj) and (jj,ii) \\\n",
    "replaced by -5, -4, ..., 4, 5]\\n\")\n",
    "\n",
    "\n",
    "for ii in range(matrix_dimension): # ii = 0, 1, ... matrix_dimension-1\n",
    "    for jj in range(ii+1,matrix_dimension): # jj = ii, ii+1, ..., matrix_dimension -1\n",
    "        evals=[]\n",
    "        for xx in xvals:\n",
    "            A = reset_matrix(ii,jj,xx) # set up the new matrix\n",
    "            ev = np.linalg.eigvalsh(A) # calclate all the eigenvalues\n",
    "            evals.append(max(ev, key = abs)) # extract the largest (absolute value) eigenvalue \n",
    "        print (f'{ii}, {jj}:  {[ i for i in evals]}')\n",
    "\n"
   ]
  },
  {
   "cell_type": "markdown",
   "metadata": {},
   "source": [
    "## Hints\n",
    "* Run the code a few times to ensure that whatever behaviour you're seeing is part of a pattern. With random numbers you can some times observe a sort of freak behaviour, but the general trend should reveal itself if you repeat the experiment multiple times.\n",
    "\n",
    "* Make sure you include axis labels in your plots. In case you haven't done it before, or have forgotten, instructions for the plotting commands can be found ![here](https://matplotlib.org/stable/tutorials/pyplot.html).\n",
    "\n",
    "* The explanation for the advanced task is not straightforward. In fact we're not even sure if there is a \"right\" answer. What we're looking for is instead evidence that you have explored the problem and can say something meaningful about it. \n",
    "\n",
    "* Don't spend more than a few hours on this. If you aren't able to make sense of the code, ask for help. And if you can't make any headway with the advanced task, just submit the work for the first two tasks. \n",
    "\n",
    "* Your final piece should not exceed one side of A4. To make sure nobody tries to cram in too much text, you should use the [$\\LaTeX$ template provided](https://www.overleaf.com/docs?snip_uri=https://raw.githubusercontent.com/abrown41/testoverleaf/main/MTH2011_mini_project_1.zip).\n",
    "\n",
    "\n",
    "Bear in mind there is no automated feedback for this code, so you can play with and break it.\n",
    "\n",
    "As always, should you get stuck you can ask for help in the usual way."
   ]
  }
 ],
 "metadata": {
  "colab": {
   "cell_execution_strategy": "setup",
   "collapsed_sections": [
    "NVOkK4hCU7RK"
   ],
   "private_outputs": true,
   "provenance": []
  },
  "kernelspec": {
   "display_name": "Python 3 (ipykernel)",
   "language": "python",
   "name": "python3"
  },
  "language_info": {
   "codemirror_mode": {
    "name": "ipython",
    "version": 3
   },
   "file_extension": ".py",
   "mimetype": "text/x-python",
   "name": "python",
   "nbconvert_exporter": "python",
   "pygments_lexer": "ipython3",
   "version": "3.9.13"
  }
 },
 "nbformat": 4,
 "nbformat_minor": 1
}
