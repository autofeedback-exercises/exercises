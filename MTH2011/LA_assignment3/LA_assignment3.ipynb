{
 "cells": [
  {
   "cell_type": "markdown",
   "metadata": {
    "id": "NVOkK4hCU7RK"
   },
   "source": [
    "# ."
   ]
  },
  {
   "cell_type": "code",
   "execution_count": null,
   "metadata": {
    "id": "QCMw-lybOsz-"
   },
   "outputs": [],
   "source": [
    "# this code enables the automated feedback. If you remove this, you won't get any feedback\n",
    "# so don't delete this cell!\n",
    "try:\n",
    "  import AutoFeedback\n",
    "except (ModuleNotFoundError, ImportError):\n",
    "  !pip install git+https://github.com/abrown41/AutoFeedback@notebook\n",
    "  import AutoFeedback\n",
    "\n",
    "try:\n",
    "  from testsrc import test_main\n",
    "except (ModuleNotFoundError, ImportError):\n",
    "  !pip install \"git+https://github.com/autofeedback-exercises/exercises.git#subdirectory=MTH2011/LA_assignment3\"\n",
    "  from testsrc import test_main\n",
    "\n",
    "def runtest(tlist):\n",
    "  import unittest\n",
    "  from contextlib import redirect_stderr\n",
    "  from os import devnull\n",
    "  with redirect_stderr(open(devnull, 'w')):\n",
    "    suite = unittest.TestSuite()\n",
    "    for tname in tlist:\n",
    "      suite.addTest(eval(f\"test_main.UnitTests.{tname}\"))\n",
    "    runner = unittest.TextTestRunner()\n",
    "    try:\n",
    "      runner.run(suite)\n",
    "    except AssertionError:\n",
    "      pass\n"
   ]
  },
  {
   "cell_type": "markdown",
   "metadata": {
    "id": "EJuyFy1K2NYd"
   },
   "source": [
    "# LA assignment 3: computer questions\n",
    "\n",
    "Q1. Show that an arbitrary matrix in $M_2(\\mathbb{R})$ can be expressed as a linear combination of:\n",
    "\n",
    "$$m_0 = \\left( \\begin{array}{ccc} 1 & 0 \\\\ 0 & 1 \\end{array} \\right), \\; \\; m_1= \\left( \\begin{array}{ccc} 1 & 0 \\\\ 0 & -1 \\end{array} \\right), \\; \\; m_2 = \\left( \\begin{array}{ccc} 0 & 1 \\\\ 1 & 0 \\end{array} \\right), \\; \\; m_3 = \\left( \\begin{array}{ccc} 0 & 1 \\\\ -1 & 0 \\end{array} \\right).$$\n",
    "\n",
    "Specifically, determine the values of the coefficients $w, x, y$ and $z$, such that\n",
    "\n",
    "$$w\\cdot m_0 + x\\cdot m_1 + y\\cdot m_2 + z\\cdot m_3 =  \\left( \\begin{array}{ccc} a & b \\\\ c & d \\end{array} \\right)$$"
   ]
  },
  {
   "cell_type": "code",
   "execution_count": null,
   "metadata": {
    "id": "X0-e2nsX7-67"
   },
   "outputs": [],
   "source": [
    "import sympy as sp\n",
    "\n",
    "# Store the 2x2 basis matrices as m0, m1, m2, m3. Also set up an arbitrary 2x2 matrix with symbolic elements a, b, c, d. Your solution (Store in the variable q1)  should be the solution of the system of linear equations i.e. the dictionary containing the values of w, x, y and z. \n",
    "\n"
   ]
  },
  {
   "cell_type": "code",
   "execution_count": null,
   "metadata": {
    "id": "IjtFbRsxNu7g"
   },
   "outputs": [],
   "source": [
    "runtest(['test_m0', 'test_m1', 'test_m2', 'test_m3', 'test_q1'])"
   ]
  },
  {
   "cell_type": "markdown",
   "metadata": {
    "id": "EJuyFy1K2NYd"
   },
   "source": [
    "Q2. Show that the vectors, $(1,2,0,0)$, $(0,-1,1,1)$ and $2,0,1,-1$ are linearly independent. **Please be wary with this one**:, `sympy` has a little bug that means that `sy.solve` does not treat matrices and arrays the same way. The best way around this is to use `sy.Matrix` for your vectors, and then use an expression (which is assumed to be equal to zero) in `sy.solve`, rather than using a `sy.Eq` (which will break `sympy`).\n"
   ]
  },
  {
   "cell_type": "code",
   "execution_count": null,
   "metadata": {
    "id": "X0-e2nsX7-67"
   },
   "outputs": [],
   "source": [
    "# Set up the basis vectors v0, v1 and v2. Build an expression for the arbitrary linear combination av0 + bv1 + cv2. Then use python to show that the solution of this system a=b=c=0. save the solution of the system in the variable q2. \n",
    "\n",
    "\n",
    "\n"
   ]
  },
  {
   "cell_type": "code",
   "execution_count": null,
   "metadata": {
    "id": "IjtFbRsxNu7g"
   },
   "outputs": [],
   "source": [
    "runtest(['test_q2', 'test_v0', 'test_v1', 'test_v2'])"
   ]
  }
 ],
 "metadata": {
  "colab": {
   "cell_execution_strategy": "setup",
   "collapsed_sections": [
    "NVOkK4hCU7RK"
   ],
   "private_outputs": true,
   "provenance": []
  },
  "kernelspec": {
   "display_name": "Python 3 (ipykernel)",
   "language": "python",
   "name": "python3"
  },
  "language_info": {
   "codemirror_mode": {
    "name": "ipython",
    "version": 3
   },
   "file_extension": ".py",
   "mimetype": "text/x-python",
   "name": "python",
   "nbconvert_exporter": "python",
   "pygments_lexer": "ipython3",
   "version": "3.9.13"
  }
 },
 "nbformat": 4,
 "nbformat_minor": 1
}
