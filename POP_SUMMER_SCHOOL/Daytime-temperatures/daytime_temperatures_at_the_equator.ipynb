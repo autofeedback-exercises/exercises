{
 "cells": [
  {
   "cell_type": "markdown",
   "metadata": {
    "id": "O971nKh88tcj"
   },
   "source": [
    "# Run this cell first"
   ]
  },
  {
   "cell_type": "code",
   "execution_count": 1,
   "metadata": {
    "id": "kx7DZMPA7zM8"
   },
   "outputs": [],
   "source": [
    "# @title\n",
    "# this code enables the automated feedback. If you remove this, you won't get any feedback\n",
    "# so don't delete this cell!\n",
    "try:\n",
    "  import AutoFeedback\n",
    "except (ModuleNotFoundError, ImportError):\n",
    "  %pip install AutoFeedback\n",
    "  import AutoFeedback\n",
    "\n",
    "try:\n",
    "  from testsrc import test_main\n",
    "except (ModuleNotFoundError, ImportError):\n",
    "  %pip install \"git+https://github.com/autofeedback-exercises/exercises.git#subdirectory=POP_SUMMER_SCHOOL/Daytime-temperatures\"\n",
    "  from testsrc import test_main\n",
    "\n",
    "def runtest(tlist):\n",
    "  import unittest\n",
    "  from contextlib import redirect_stderr\n",
    "  from os import devnull\n",
    "  with redirect_stderr(open(devnull, 'w')):\n",
    "    suite = unittest.TestSuite()\n",
    "    for tname in tlist:\n",
    "      suite.addTest(eval(f\"test_main.UnitTests.{tname}\"))\n",
    "    runner = unittest.TextTestRunner()\n",
    "    try:\n",
    "      runner.run(suite)\n",
    "    except AssertionError:\n",
    "      pass"
   ]
  },
  {
   "cell_type": "markdown",
   "metadata": {
    "id": "DQpW6WnY9Jam"
   },
   "source": [
    "# Introduction\n",
    "\n",
    "The exercises in this notebook are designed to accompany the quiz on daytime temperatures at the equator. As you saw in the last of these exercises you can use, python to help you with your homework.\n",
    "\n",
    "You need to start by executing the following cell, which imports the libraries that we need."
   ]
  },
  {
   "cell_type": "code",
   "execution_count": 2,
   "metadata": {
    "id": "_SYREaSs7tpi"
   },
   "outputs": [],
   "source": [
    "import matplotlib.pyplot as plt\n",
    "import numpy as np"
   ]
  },
  {
   "cell_type": "markdown",
   "metadata": {
    "id": "k_Ja4I2Z-N1H"
   },
   "source": [
    "# Question 1\n",
    "\n",
    "We will again use what we learned about writing functions to solve the problems in the quiz. The instructions in the quiz tell us that the temperature of the moon, $T$, is given by the following expression:\n",
    "\n",
    "$$\n",
    "(1-\\alpha) \\frac{S_0}{d^2} \\cos \\phi = \\epsilon \\sigma T^4\n",
    "$$\n",
    "\n",
    "We are also told that:\n",
    "\n",
    "$$\n",
    "\\frac{S_0}{d^2} = 1361 \\qquad \\alpha = 0.12 \\qquad \\epsilon = 0.98 \\qquad \\sigma = 5.67 \\times 10^{-8}\n",
    "$$\n",
    "\n",
    "while:\n",
    "\n",
    "$$\n",
    "\\phi = 15(t-12)\n",
    "$$\n",
    "\n",
    "where $t$ is the time of day.  \n",
    "\n",
    "Your task is to use this information to write a function called `moon_temperature` that takes one argument.  This argument tells the function the time of day $t$.  Your function should return the temperature, $T$, at that time of day. If you write this function in the cell below and run the cell immediately afterwards it will tell you whether your program has been implemented correctly or not.  Once you have written this function you can then use it to generate the answers for question 1 in the quiz.\n",
    "\n",
    "Note that the angle $\\phi$ that is returned by the following equation:\n",
    "\n",
    "$$\n",
    "\\phi = 15(t-12)\n",
    "$$\n",
    "\n",
    "is in degrees. To take the cosine of a number with python you can use the function `np.cos`.  However, this function expects the input angle to be in radians.  To convert the angle $\\phi$ in degrees to the angle $\\phi'$ in radians you can use the following expression:\n",
    "\n",
    "$$\n",
    "\\phi' = \\pi \\frac{\\phi}{180}\n",
    "$$\n",
    "\n",
    "Notice, furthermore, that if you want to use $\\pi$ in your function  you can use the variable `np.pi` that is defined when you load the NumPy library."
   ]
  },
  {
   "cell_type": "code",
   "execution_count": null,
   "metadata": {
    "id": "lAfDYKhl-MWZ"
   },
   "outputs": [],
   "source": []
  },
  {
   "cell_type": "code",
   "execution_count": null,
   "metadata": {
    "colab": {
     "base_uri": "https://localhost:8080/"
    },
    "id": "taR3BVdtBzEt",
    "outputId": "75f19556-4eef-424e-857b-bf98d9df6647"
   },
   "outputs": [],
   "source": [
    "runtest([\"test_moontemp\"])"
   ]
  },
  {
   "cell_type": "markdown",
   "metadata": {
    "id": "qF82lAMmT7T_"
   },
   "source": [
    "# Question 1 continued\n",
    "\n",
    "Lets now use combine what we learned about programming from the first of these notebooks with what we learned in the exercise above.  We are going to draw a graph that shows how the temperature changes over a typical day on the moon.  We will consider a Lunar Day that starts at 07:00 and finishes at 17:00.  We will then calculate the temperature on every hour of that day.  You will thus need to create a NumPy array that contains all the integers that are greater than or equal to 7 and less than or equal to 17.\n",
    "\n",
    "Once you have created this NumPy array you will use the formulas (or the function) from the previous exerecise to create a second NumPy array that contains the temperatures at each of those times of day.\n",
    "\n",
    "You should then be able to plot a graph that has the temperatures on the y-axis and the times of day on the x-axis. The axes on this graph should be labelled.  The x-axis label will be \"time of day\", the y-axis label will be \"Temperature at equator / K.\"  "
   ]
  },
  {
   "cell_type": "code",
   "execution_count": null,
   "metadata": {
    "colab": {
     "base_uri": "https://localhost:8080/",
     "height": 430
    },
    "id": "gb_cPdpLB4vJ",
    "outputId": "551752f6-8ce4-44e7-8442-e731af4c6a17"
   },
   "outputs": [],
   "source": [
    "# Your code here:\n",
    "\n",
    "\n",
    "\n",
    "\n",
    "\n",
    "\n",
    "# This code is required for the autofeedback- don't delete it!\n",
    "fighand = plt.gca()"
   ]
  },
  {
   "cell_type": "code",
   "execution_count": null,
   "metadata": {},
   "outputs": [],
   "source": [
    "runtest([\"test_moongraph1\"])"
   ]
  },
  {
   "cell_type": "markdown",
   "metadata": {
    "id": "vyQHlmZBW7Wx"
   },
   "source": [
    "# Question 2\n",
    "\n",
    "In the second question we are trying to develop an interepretation of the times that we used in x-axis of the last figure and that you have been inserting into the `moon_temperature` function.  What I want you to recognise is that the temperature does not change by over 100 K over the course of 12 Earth hours.  \n",
    "\n",
    "Much as we do on Earth, we can measure the time on the moon by looking at the position of the sun in the sky.  However, the sun moves across the moon's sky much more slowly than it does across the Earth's. On Earth the sun appears to fully rotate around us every 24 hours.  By contrast, if you were on the moon, if you were on the moon the sun would appear to take 29.5 Earth days to rotate around you.\n",
    "\n",
    "In the cell below, I would thus like you to write a function called `moon_rotation` that takes in a duration of time in Earth hours.  Your function should return the angle in degrees that you would observe the sun to rotate through if you spent that amount of time on the moon.\n",
    "\n",
    "If you implement this function correctly you can use it to answer question 2 on the quiz.\n",
    "\n",
    "_Hint: The sun rotates though 360 degrees if you spend 29.5 Earth days on the surface of the moon._\n",
    "\n"
   ]
  },
  {
   "cell_type": "code",
   "execution_count": null,
   "metadata": {
    "id": "uexYL4o2Whjb"
   },
   "outputs": [],
   "source": []
  },
  {
   "cell_type": "code",
   "execution_count": null,
   "metadata": {
    "colab": {
     "base_uri": "https://localhost:8080/"
    },
    "id": "KTJFrZzJa6ly",
    "outputId": "5807d463-ea57-4414-b94e-69312f8994fc"
   },
   "outputs": [],
   "source": [
    "runtest([\"test_moon_rotation\"])"
   ]
  },
  {
   "cell_type": "markdown",
   "metadata": {
    "id": "HmgH_Zlbb-u-"
   },
   "source": [
    "# Question 2 continued\n",
    "\n",
    "Lets now return to the graph that we plotted in the last but one exercise and try to use a more intuitive unit of time for the x-axis.  \n",
    "\n",
    "For this exercise, I would like you to plot the temperatures on the surface of the moon that you calculated in the previous exercise. You probably stored these temperatures in a NumPy array in the previous exercise.  You can reuse this same list of temperatures for the y-coordinates of your graph here.\n",
    "\n",
    "I would like you to transform the list of times at which the points were plotted (i.e. the x-coordinates of the points in your graph) from lunar times to times elapsed since 7 AM lunar time in Earth days.  Recall that a lunar day is decomposed into 24 lunar hours.  However, a lunar day is 29.5 Earth days long.  The x-axis label for your graph should read \"time / Earth days\" while the y-axis label should be \"Temperature at equator / K\"."
   ]
  },
  {
   "cell_type": "code",
   "execution_count": null,
   "metadata": {
    "colab": {
     "base_uri": "https://localhost:8080/",
     "height": 430
    },
    "id": "eAd6d2s_a8qU",
    "outputId": "e00524da-a391-4792-b646-ab462a964c23"
   },
   "outputs": [],
   "source": [
    "# Your code here:\n",
    "\n",
    "\n",
    "\n",
    "\n",
    "\n",
    "\n",
    "\n",
    "\n",
    "# This code is required for the autofeedback- don't delete it!\n",
    "fighand = plt.gca()"
   ]
  },
  {
   "cell_type": "code",
   "execution_count": null,
   "metadata": {},
   "outputs": [],
   "source": [
    "runtest([\"test_moongraph2\"])"
   ]
  },
  {
   "cell_type": "markdown",
   "metadata": {
    "id": "4uuzE74Yfp_u"
   },
   "source": [
    "# Question 3\n",
    "\n",
    "I would now like you to write a second function for calculating the temperature on the surface of the moon called `lunar_temperature`.  This function should again take a single argument - how far in degrees that the sun is above the horizon.  Within your function you will need to:\n",
    "\n",
    "1. Convert this input angle to a value $\\phi$ in degrees - read the definition of $\\phi$ in the instructions to learn how to do this.\n",
    "2. Convert $\\phi$ from degrees to radians.\n",
    "3. Calculate the temperature (in Kelvin) on the moon for this $\\phi$ value using the formula that was introduced in question 1.\n",
    "\n",
    "Your function should return the temperature on the Moon's surface for the input angle in Celsius.  You can get the temperature in Celsius by subtracting 273 from the temperature in Kelvin.\n",
    "\n",
    "You should be able to answer questions 3 and 4 in the quiz using your function."
   ]
  },
  {
   "cell_type": "code",
   "execution_count": null,
   "metadata": {
    "id": "1VVuBQQcekfO"
   },
   "outputs": [],
   "source": []
  },
  {
   "cell_type": "code",
   "execution_count": null,
   "metadata": {
    "colab": {
     "base_uri": "https://localhost:8080/"
    },
    "id": "Tjx2mU_nhSVy",
    "outputId": "14b4f91e-c7d5-4a5d-a449-e71ba31db06f"
   },
   "outputs": [],
   "source": [
    "runtest([\"test_lunar_temperature\"])"
   ]
  }
 ],
 "metadata": {
  "colab": {
   "provenance": []
  },
  "kernelspec": {
   "display_name": "Python 3",
   "language": "python",
   "name": "python3"
  },
  "language_info": {
   "codemirror_mode": {
    "name": "ipython",
    "version": 3
   },
   "file_extension": ".py",
   "mimetype": "text/x-python",
   "name": "python",
   "nbconvert_exporter": "python",
   "pygments_lexer": "ipython3",
   "version": "3.9.13"
  }
 },
 "nbformat": 4,
 "nbformat_minor": 1
}
