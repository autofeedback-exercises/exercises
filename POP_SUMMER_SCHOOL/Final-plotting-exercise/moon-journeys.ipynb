{
 "cells": [
  {
   "cell_type": "markdown",
   "id": "380b07a1",
   "metadata": {},
   "source": [
    "# Run this cell first"
   ]
  },
  {
   "cell_type": "code",
   "execution_count": null,
   "id": "f1bb8180",
   "metadata": {},
   "outputs": [],
   "source": [
    "# @title\n",
    "# this code enables the automated feedback. If you remove this, you won't get any feedback\n",
    "# so don't delete this cell!\n",
    "try:\n",
    "  import AutoFeedback\n",
    "except (ModuleNotFoundError, ImportError):\n",
    "  %pip install AutoFeedback\n",
    "  import AutoFeedback\n",
    "\n",
    "try:\n",
    "  from testsrc import test_main\n",
    "except (ModuleNotFoundError, ImportError):\n",
    "  %pip install \"git+https://github.com/autofeedback-exercises/exercises.git#subdirectory=POP_SUMMER_SCHOOL/Final-plotting-exercise\"\n",
    "  from testsrc import test_main\n",
    "\n",
    "def runtest(tlist):\n",
    "  import unittest\n",
    "  from contextlib import redirect_stderr\n",
    "  from os import devnull\n",
    "  with redirect_stderr(open(devnull, 'w')):\n",
    "    suite = unittest.TestSuite()\n",
    "    for tname in tlist:\n",
    "      suite.addTest(eval(f\"test_main.UnitTests.{tname}\"))\n",
    "    runner = unittest.TextTestRunner()\n",
    "    try:\n",
    "      runner.run(suite)\n",
    "    except AssertionError:\n",
    "      pass"
   ]
  },
  {
   "cell_type": "markdown",
   "id": "0452a2ae",
   "metadata": {},
   "source": [
    "# Introduction\n",
    "\n",
    "The exercises in this notebook are designed to accompany the quiz on travelling on the moon. As you saw in the last of these exercises you can use, python to help you with your homework.\n",
    "\n",
    "You need to start by executing the following cell, which imports the libraries that we need."
   ]
  },
  {
   "cell_type": "code",
   "execution_count": 1,
   "id": "1c790db1",
   "metadata": {},
   "outputs": [],
   "source": [
    "import matplotlib.pyplot as plt\n",
    "import numpy as np"
   ]
  },
  {
   "cell_type": "markdown",
   "id": "089d1f8c",
   "metadata": {},
   "source": [
    "## Exercise 1\n",
    "\n",
    "The notes on temperatures at different lattitudes on the moon have finally brought us to the following equation for the temperature on the moon:\n",
    "\n",
    "$$\n",
    "(1-\\alpha)\\frac{S_0}{d^2}\\cos(\\lambda)\\cos(15(t-12)) = \\epsilon \\sigma T^4\n",
    "$$\n",
    "\n",
    "In this expression, $\\sigma$ is the Stefan-Boltzmann constant which has a value of $5.67 \\times 10^{-8}$ W m$^{-2}$ K$^{-4}$, $\\alpha$ is the albedo, $\\epsilon$ is the emissivity.  For the moon the values of these constants are:\n",
    "\n",
    "$$\n",
    "\\alpha = 0.12 \\qquad \\textrm{and} \\qquad \\epsilon=0.98\n",
    "$$\n",
    "\n",
    "For the moon, we can also assume that $\\frac{S_0}{d^2} = 1361$ W/m$^2$.\n",
    "\n",
    "By rearranging the expression above and inserting these constants we can thus derive an expression for the temperature on the moon as a function of:\n",
    "\n",
    "* $t$ - the time of day \n",
    "* $\\lambda$ - The lattitude on the moon\n",
    "\n",
    "Your task for this first exercise is to write a function called `moon_temperature` that takes in the two arguments above and that returns the temperature at the temperature on the moon at that time of day and at the lattitude specified.  The first argument to your function should be the time of day and the second argument should be the lattitude.\n",
    "\n",
    "You should be able to use this function to answer question 1 on the quiz.\n",
    "\n"
   ]
  },
  {
   "cell_type": "code",
   "execution_count": null,
   "id": "155ecad1",
   "metadata": {},
   "outputs": [],
   "source": []
  },
  {
   "cell_type": "code",
   "execution_count": null,
   "id": "fbcc495f",
   "metadata": {},
   "outputs": [],
   "source": [
    "runtest([\"test_ex1\"])"
   ]
  },
  {
   "cell_type": "markdown",
   "id": "ebf4ec3d",
   "metadata": {},
   "source": [
    "## Exercise 2\n",
    "\n",
    "Lets now suppose that there is a base at a lattitude of 30 degrees.  Can you use the function from the previous section that shows how the temperature at this location changes over the course of a Lunar Day that starts at 07:00 and finishes at 17:00. You should calculate the temperature on every hour of that day. You will thus need to create a NumPy array that contains all the integers that are greater than or equal to 7 and less than or equal to 17.\n",
    "\n",
    "Once you have created this NumPy array you will use the formulas (or the function) from the previous exerecise to create a second NumPy array that contains the temperatures at each of those times of day.\n",
    "You should then be able to plot a graph that has the temperatures on the y-axis and the times of day on the x-axis. The axes on this graph should be labelled. The x-axis label will be \"time of day\", the y-axis label will be \"Temperature at lattitude of 30 degrees / K.\""
   ]
  },
  {
   "cell_type": "code",
   "execution_count": null,
   "id": "2338db99",
   "metadata": {},
   "outputs": [],
   "source": []
  },
  {
   "cell_type": "code",
   "execution_count": null,
   "id": "2d255abc",
   "metadata": {},
   "outputs": [],
   "source": [
    "runtest([\"test_ex2\"])"
   ]
  },
  {
   "cell_type": "markdown",
   "id": "27fa6c8b",
   "metadata": {},
   "source": [
    "## Exercise 3\n",
    "\n",
    "Lets now suppose that we have a set of instruments for measuring the temperature of the at 10 degree intervals of lattitude.  In other words, we are measuring the temperature at lattitudes of 0, 10, 20, 30, 40, 50, 60, 70, 80, and 90 degrees.\n",
    "\n",
    "Suppose that we use these instruments to measure the temperaure at all these lattitudes at 10:00.  Can you use the model above to calculate the temperatures at all these lattitudes at this time so that we can compare the model with the results from our instruments.\n",
    "\n",
    "Draw a graph that shows the 10 results from your calculation.  The x-axis label should be \"latitude / degrees\" the y-axis label should be \"Temperature at 10:00 / K\". "
   ]
  },
  {
   "cell_type": "code",
   "execution_count": null,
   "id": "aa33e6a8",
   "metadata": {},
   "outputs": [],
   "source": []
  },
  {
   "cell_type": "code",
   "execution_count": null,
   "id": "3a56a10f",
   "metadata": {},
   "outputs": [],
   "source": [
    "runtest([\"test_ex3\"])"
   ]
  },
  {
   "cell_type": "markdown",
   "id": "fd460438",
   "metadata": {},
   "source": [
    "## Exercise 4\n",
    "\n",
    "Let's now suppose that we undertake a journey on the moon.  At the start of this journey we are at lattitude `initial_lattitude` and the time is `start_time`.  The journey takes `duration` lunar hours to complete and ends in `final_latitude`.  Can you write a function called `temperature_change` that takes these four parameters in input and that returns the difference in the temperature at the start and end of our journey.\n",
    "\n",
    "_HINT: You should include two calls to the `moon_temperature` function that you wrote for exercise 1 in the new function you are writing for this exercise._\n",
    "\n",
    "You should be able to use this function to answer question 2 on the quiz."
   ]
  },
  {
   "cell_type": "code",
   "execution_count": null,
   "id": "93dbda07",
   "metadata": {},
   "outputs": [],
   "source": [
    "def temperature_change( initial_lattitude, start_time, duration, duration ) :"
   ]
  },
  {
   "cell_type": "code",
   "execution_count": null,
   "id": "0d89db25",
   "metadata": {},
   "outputs": [],
   "source": [
    "runtest([\"test_ex4\"])"
   ]
  },
  {
   "cell_type": "markdown",
   "id": "726a9885",
   "metadata": {},
   "source": [
    "## Exercise 5\n",
    "\n",
    "Suppose that you take a journey on the moon that takes you along a line of longitude so that your lattitude will not change.  Does the model above tell us that the temperature changes as you move?\n",
    "\n",
    "It is tempting to say no in answer to this question as the model tells us that the temperature only depends on the lattitude and that it does not depend on the longitude.  Importantly, however, in giving this answer you are assuming that the journey takes zero time.  In other words, you are assuming that you travel instantaneously from point A to point B.  This type of instantaneous travel is not possible.  The journey will take a finite time and the temperature will thus change because the model tells us that the temperature at a particular lattitude depends upon the time of day.\n",
    "\n",
    "You task in this exercise is thus to consider a journey on the moon along the 25 degree lattitude.  This journey starts at 7:00 and takes 11 lunar hours.  Plot a graph that shows how the temperature changes over the course of this journey. \n",
    "\n",
    "In drawing this graph you should plot points that show the temperature at 7:00, 8:00, 9:00, 10:00, 11:00, 12:00, 13:00, 14:00, 15:00, 16:00 and 17:00 lunar time.  You can then draw a line between these points.  The x-axis label should be \"time / lunar hours\" and the y-axis label should be \"temperature at latitude 25 degrees / Kelvin\". "
   ]
  },
  {
   "cell_type": "code",
   "execution_count": null,
   "id": "07431528",
   "metadata": {},
   "outputs": [],
   "source": []
  },
  {
   "cell_type": "code",
   "execution_count": null,
   "id": "3867076d",
   "metadata": {},
   "outputs": [],
   "source": [
    "runtest([\"test_ex5\"])"
   ]
  },
  {
   "cell_type": "markdown",
   "id": "de60076c",
   "metadata": {},
   "source": [
    "## Exercise 6\n",
    "\n",
    "Lets now suppose that you take a journey on the moon from the equator (lattitude 90 degrees) to lattitude 35 degrees. You start this journey at 07:00 lunar time and it takes 11 hours.  You are thus travelling at a speed of 5 degrees per lunar hour.  Use the cell below to draw a graph that shows how the temperature changes over the course of this journey.\n",
    "\n",
    "As in the exercise above, in drawing this graph you should plot points that show the temperature at 7:00, 8:00, 9:00, 10:00, 11:00, 12:00, 13:00, 14:00, 15:00, 16:00 and 17:00 lunar time. You can then draw a line between these points. Importantly, however, you will be at a different lattitude at each of those times as you undertake this new journey.  \n",
    "\n",
    "The x-axis label for your graph should be \"time / lunar hours\" and the y-axis label should be \"temperature / K\"."
   ]
  },
  {
   "cell_type": "code",
   "execution_count": null,
   "id": "e5e37076",
   "metadata": {},
   "outputs": [],
   "source": []
  },
  {
   "cell_type": "code",
   "execution_count": null,
   "id": "65e6cc34",
   "metadata": {},
   "outputs": [],
   "source": [
    "runtest([\"test_ex6\"])"
   ]
  },
  {
   "cell_type": "markdown",
   "id": "b865fba6",
   "metadata": {},
   "source": [
    "## Exercise 7\n",
    "\n",
    "This final exercise is your chance to combine everything that you have learned during this course.  I want you to make a graph showing how the temperature changes during the course of a journey along the moon.  \n",
    "\n",
    "Once you have completed your graph, I would like you to insert it into  a short report that describes the journey that you chose to study. The quiz contains a question that allows you to submit your report.\n",
    "\n",
    "There is plenty of scope for creativity here.  For example, you could:\n",
    "\n",
    "* Have the transport travel at different speeds at different times.  \n",
    "* Have part of the journey with travel parallel to a particular longitude direction and other parts with travel parallel to a particular lattitude.\n",
    "* Have parts of the journey where the transport is accelerating/decelerating rather than travelling at a constant speed as was assumed in the previous examples."
   ]
  },
  {
   "cell_type": "code",
   "execution_count": null,
   "id": "f4fe019f",
   "metadata": {},
   "outputs": [],
   "source": []
  }
 ],
 "metadata": {
  "kernelspec": {
   "display_name": "Python 3 (ipykernel)",
   "language": "python",
   "name": "python3"
  },
  "language_info": {
   "codemirror_mode": {
    "name": "ipython",
    "version": 3
   },
   "file_extension": ".py",
   "mimetype": "text/x-python",
   "name": "python",
   "nbconvert_exporter": "python",
   "pygments_lexer": "ipython3",
   "version": "3.9.19"
  }
 },
 "nbformat": 4,
 "nbformat_minor": 5
}
