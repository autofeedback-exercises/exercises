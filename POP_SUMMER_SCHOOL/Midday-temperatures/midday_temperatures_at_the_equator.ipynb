{
 "cells": [
  {
   "cell_type": "markdown",
   "metadata": {
    "id": "pZIvaUVLvz9z"
   },
   "source": [
    "# Run this cell first"
   ]
  },
  {
   "cell_type": "code",
   "execution_count": null,
   "metadata": {
    "colab": {
     "base_uri": "https://localhost:8080/"
    },
    "id": "KJwRLGd-vyhQ",
    "outputId": "2070205d-4d41-4d12-b5b7-2e881273d904"
   },
   "outputs": [
    {
     "name": "stdout",
     "output_type": "stream",
     "text": [
      "Collecting AutoFeedback\n",
      "  Downloading AutoFeedback-2.17-py3-none-any.whl.metadata (2.9 kB)\n",
      "Requirement already satisfied: numpy in /usr/local/lib/python3.10/dist-packages (from AutoFeedback) (1.26.4)\n",
      "Requirement already satisfied: scipy in /usr/local/lib/python3.10/dist-packages (from AutoFeedback) (1.13.1)\n",
      "Requirement already satisfied: multipledispatch in /usr/local/lib/python3.10/dist-packages (from AutoFeedback) (1.0.0)\n",
      "Requirement already satisfied: pyyaml in /usr/local/lib/python3.10/dist-packages (from AutoFeedback) (6.0.2)\n",
      "Requirement already satisfied: sympy in /usr/local/lib/python3.10/dist-packages (from AutoFeedback) (1.13.1)\n",
      "Requirement already satisfied: matplotlib in /usr/local/lib/python3.10/dist-packages (from AutoFeedback) (3.8.0)\n",
      "Requirement already satisfied: contourpy>=1.0.1 in /usr/local/lib/python3.10/dist-packages (from matplotlib->AutoFeedback) (1.3.1)\n",
      "Requirement already satisfied: cycler>=0.10 in /usr/local/lib/python3.10/dist-packages (from matplotlib->AutoFeedback) (0.12.1)\n",
      "Requirement already satisfied: fonttools>=4.22.0 in /usr/local/lib/python3.10/dist-packages (from matplotlib->AutoFeedback) (4.55.3)\n",
      "Requirement already satisfied: kiwisolver>=1.0.1 in /usr/local/lib/python3.10/dist-packages (from matplotlib->AutoFeedback) (1.4.7)\n",
      "Requirement already satisfied: packaging>=20.0 in /usr/local/lib/python3.10/dist-packages (from matplotlib->AutoFeedback) (24.2)\n",
      "Requirement already satisfied: pillow>=6.2.0 in /usr/local/lib/python3.10/dist-packages (from matplotlib->AutoFeedback) (11.0.0)\n",
      "Requirement already satisfied: pyparsing>=2.3.1 in /usr/local/lib/python3.10/dist-packages (from matplotlib->AutoFeedback) (3.2.0)\n",
      "Requirement already satisfied: python-dateutil>=2.7 in /usr/local/lib/python3.10/dist-packages (from matplotlib->AutoFeedback) (2.8.2)\n",
      "Requirement already satisfied: mpmath<1.4,>=1.1.0 in /usr/local/lib/python3.10/dist-packages (from sympy->AutoFeedback) (1.3.0)\n",
      "Requirement already satisfied: six>=1.5 in /usr/local/lib/python3.10/dist-packages (from python-dateutil>=2.7->matplotlib->AutoFeedback) (1.17.0)\n",
      "Downloading AutoFeedback-2.17-py3-none-any.whl (32 kB)\n",
      "Installing collected packages: AutoFeedback\n",
      "Successfully installed AutoFeedback-2.17\n",
      "Collecting git+https://github.com/autofeedback-exercises/exercises.git#subdirectory=New-SOR3012/Randomness\n",
      "  Cloning https://github.com/autofeedback-exercises/exercises.git to /tmp/pip-req-build-4w6w0jj0\n",
      "  Running command git clone --filter=blob:none --quiet https://github.com/autofeedback-exercises/exercises.git /tmp/pip-req-build-4w6w0jj0\n",
      "  Resolved https://github.com/autofeedback-exercises/exercises.git to commit 6f1e3189777451c095d67a8e3bbaf97ca62e77ca\n",
      "  Preparing metadata (setup.py) ... \u001b[?25l\u001b[?25hdone\n",
      "Requirement already satisfied: numpy in /usr/local/lib/python3.10/dist-packages (from testsrc==1.0) (1.26.4)\n",
      "Building wheels for collected packages: testsrc\n",
      "  Building wheel for testsrc (setup.py) ... \u001b[?25l\u001b[?25hdone\n",
      "  Created wheel for testsrc: filename=testsrc-1.0-py3-none-any.whl size=2350 sha256=db5a5d00242e9ca1edd827cbf9162c637924d1a67b1c850a842f22e361668fb8\n",
      "  Stored in directory: /tmp/pip-ephem-wheel-cache-ee6yb2ya/wheels/e3/82/75/40cb03f27d65f641ae468401bb382e78c0abc4a1f601b72881\n",
      "Successfully built testsrc\n",
      "Installing collected packages: testsrc\n",
      "Successfully installed testsrc-1.0\n"
     ]
    }
   ],
   "source": [
    "# @title\n",
    "# this code enables the automated feedback. If you remove this, you won't get any feedback\n",
    "# so don't delete this cell!\n",
    "try:\n",
    "  import AutoFeedback\n",
    "except (ModuleNotFoundError, ImportError):\n",
    "  %pip install AutoFeedback\n",
    "  import AutoFeedback\n",
    "\n",
    "try:\n",
    "  from testsrc import test_main\n",
    "except (ModuleNotFoundError, ImportError):\n",
    "  %pip install \"git+https://github.com/autofeedback-exercises/exercises.git#subdirectory=New-SOR3012/Randomness\"\n",
    "  from testsrc import test_main\n",
    "\n",
    "def runtest(tlist):\n",
    "  import unittest\n",
    "  from contextlib import redirect_stderr\n",
    "  from os import devnull\n",
    "  with redirect_stderr(open(devnull, 'w')):\n",
    "    suite = unittest.TestSuite()\n",
    "    for tname in tlist:\n",
    "      suite.addTest(eval(f\"test_main.UnitTests.{tname}\"))\n",
    "    runner = unittest.TextTestRunner()\n",
    "    try:\n",
    "      runner.run(suite)\n",
    "    except AssertionError:\n",
    "      pass"
   ]
  },
  {
   "cell_type": "markdown",
   "metadata": {
    "id": "fjcuouM0v8dH"
   },
   "source": [
    "# Introduction\n",
    "\n",
    "The exercises in this notebook are designed to accompany the quiz on midday temperatures at the equator. I want to show youyou can use python to help you with your homework.\n",
    "\n",
    "You need to start by executing the following cell, which imports the libraries that we need."
   ]
  },
  {
   "cell_type": "code",
   "execution_count": null,
   "metadata": {
    "id": "VJvXUqkhv7L3"
   },
   "outputs": [],
   "source": [
    "import matplotlib.pyplot as plt\n",
    "import numpy as np"
   ]
  },
  {
   "cell_type": "markdown",
   "metadata": {
    "id": "onzysnz_xfHa"
   },
   "source": [
    "Before we start on the homework we need to do a brief digression and introduce the concept of a function in python programming.  This five-minute video explains the basic idea."
   ]
  },
  {
   "cell_type": "code",
   "execution_count": null,
   "metadata": {
    "colab": {
     "base_uri": "https://localhost:8080/",
     "height": 336
    },
    "id": "78BleWoRxjn4",
    "outputId": "5c3f598f-ccb8-44a7-a2f4-b07aab884723"
   },
   "outputs": [
    {
     "data": {
      "text/html": [
       "<iframe width=\"560\" height=\"315\" src=\"https://www.youtube.com/embed/1ATU98fSTEg?si=rwD9vC4ZvQapudmM\" title=\"YouTube video player\" frameborder=\"0\" allow=\"accelerometer; autoplay; clipboard-write; encrypted-media; gyroscope; picture-in-picture; web-share\" referrerpolicy=\"strict-origin-when-cross-origin\" allowfullscreen></iframe>\n"
      ],
      "text/plain": [
       "<IPython.core.display.HTML object>"
      ]
     },
     "metadata": {},
     "output_type": "display_data"
    }
   ],
   "source": [
    "%%HTML\n",
    "<iframe width=\"560\" height=\"315\" src=\"https://www.youtube.com/embed/1ATU98fSTEg?si=rwD9vC4ZvQapudmM\" title=\"YouTube video player\" frameborder=\"0\" allow=\"accelerometer; autoplay; clipboard-write; encrypted-media; gyroscope; picture-in-picture; web-share\" referrerpolicy=\"strict-origin-when-cross-origin\" allowfullscreen></iframe>"
   ]
  },
  {
   "cell_type": "markdown",
   "metadata": {
    "id": "eclP70xxxqqb"
   },
   "source": [
    "# Writing your first function\n",
    "\n",
    "Now it is your turn to try to write a function.  We can write a function to add two numbers together like this:\n",
    "\n",
    "\n",
    "```python\n",
    "def add( a, b )\n",
    "    return a + b\n",
    "```\n",
    "\n",
    "\n",
    "This function takes in two __arguments__, `a` and `b`.  These arguments are variables that are passed into the function. It then returns a single number `a+b`.\n",
    "\n",
    "On its own the code above does nothing.  To make it do something we need to call it as shown below:\n",
    "\n",
    "```python\n",
    "c = add(3, 4)\n",
    "```\n",
    "\n",
    "When the function is called in this way the input argument `a` is set equal to 3 and the input argument `b` is set equal to 3.  The variable `c` is thus set equal to the return value of the function `a+b=3+4=7`.\n",
    "\n",
    "__To complete the exercise write a function called `multiply` that, like `add` above, that takes two arguments in input.  The function should multiply these two input arguments together and return the resulting quantity.__"
   ]
  },
  {
   "cell_type": "code",
   "execution_count": null,
   "metadata": {
    "id": "2GA9K0r5xtWs"
   },
   "outputs": [],
   "source": []
  },
  {
   "cell_type": "code",
   "execution_count": null,
   "metadata": {
    "id": "UZRiYpH6xtgg"
   },
   "outputs": [],
   "source": [
    "runtest(['test_variables'])"
   ]
  },
  {
   "cell_type": "markdown",
   "metadata": {
    "id": "bS7415F3xyOA"
   },
   "source": [
    "# Modulo function\n",
    "\n",
    "You can use all the Python that you have learned elsewhere within the functions that you define.  With this in mind try to see if you can use an if statement within a function block to define a function called `modulo`\n",
    "that returns the modulus of a real number.  Remember that to calculate the modulus of a number you multiply it by minus one if it is less than 0 and you multiply by one if it is greater than or equal to zero.\n",
    "\n",
    "Your function will take one argument in input and will return a single number"
   ]
  },
  {
   "cell_type": "code",
   "execution_count": null,
   "metadata": {
    "id": "iO-fiwFKxz3R"
   },
   "outputs": [],
   "source": []
  },
  {
   "cell_type": "code",
   "execution_count": null,
   "metadata": {
    "id": "iionH6J5x0A2"
   },
   "outputs": [],
   "source": [
    "runtest(['test_variables_1'])"
   ]
  },
  {
   "cell_type": "markdown",
   "metadata": {
    "id": "L7iq91fNwRAv"
   },
   "source": [
    "# Question 1\n",
    "\n",
    "The instructions in the quiz tell us that the temperature of the moon, $T$, is given by the following expression:\n",
    "\n",
    "$$\n",
    "(1-\\alpha) \\frac{S_0}{d^2} \\cos \\phi = \\epsilon \\sigma T^4\n",
    "$$\n",
    "\n",
    "We are also told that:\n",
    "\n",
    "$$\n",
    "S_0 = 1361 \\qquad \\alpha = 0.12 \\qquad \\epsilon = 0.98 \\qquad \\sigma = 5.67 \\times 10^{-8}\n",
    "$$\n",
    "\n",
    "To answer question one you need to write a function called `moon_temperature` that takes in the value of $d$ in the expression above.  The function should then return the value of $T$ that can be obtained by rearranging the equation above and by using the parameters in the question.\n",
    "\n",
    "Remember that you can take the fourth root of a number by raising that number to a power of $\\frac{1}{4}$.  If you want to calculate the fourth root of 16 using python you would thus write code like this:\n",
    "\n",
    "```python\n",
    "fourth_root = 16**(1/4)\n",
    "```\n",
    "\n",
    "Further note that to set a variable called `sigma` equal to $5.67 \\times 10^{-8}$ you would write the following code:\n",
    "\n",
    "```python\n",
    "sigma = 5.67E-8\n",
    "```\n",
    "\n",
    "The exponent of 10 in $5.67 \\times 10^{-8}$ is written after a capital E.\n",
    "\n",
    "If you write this function correctly you should be able to use it to answer the first question in the quiz."
   ]
  },
  {
   "cell_type": "code",
   "execution_count": null,
   "metadata": {},
   "outputs": [],
   "source": []
  },
  {
   "cell_type": "code",
   "execution_count": null,
   "metadata": {},
   "outputs": [],
   "source": [
    "runtest([\"test_moontemperature\"])"
   ]
  },
  {
   "cell_type": "markdown",
   "metadata": {
    "id": "QuEo409Byuot"
   },
   "source": [
    "# Question 2\n",
    "\n",
    "Functions can take more than one argument in input, which is useful when it comes to answering the second question in the quiz.  To answer this question you should write a function called `planet_temperature` that takes three arguments:\n",
    "\n",
    "1. `emmissivity` - the emmissivity of the planet for which you would like to calculate the temperature.\n",
    "2. `albedo` - the albedo of the planet for which you would like to calculate the temperature.\n",
    "3. `d` - the distance between the planet of interest and the sun in AU.\n",
    "\n",
    "You should be able to use the function you write to answer question 2 in the quiz."
   ]
  },
  {
   "cell_type": "code",
   "execution_count": null,
   "metadata": {
    "id": "jX0EAI65wQJz"
   },
   "outputs": [],
   "source": []
  },
  {
   "cell_type": "code",
   "execution_count": null,
   "metadata": {},
   "outputs": [],
   "source": [
    "runtest([\"test_planettemperature\"])"
   ]
  }
 ],
 "metadata": {
  "colab": {
   "provenance": []
  },
  "kernelspec": {
   "display_name": "Python 3 (ipykernel)",
   "language": "python",
   "name": "python3"
  },
  "language_info": {
   "codemirror_mode": {
    "name": "ipython",
    "version": 3
   },
   "file_extension": ".py",
   "mimetype": "text/x-python",
   "name": "python",
   "nbconvert_exporter": "python",
   "pygments_lexer": "ipython3",
   "version": "3.9.19"
  }
 },
 "nbformat": 4,
 "nbformat_minor": 1
}
