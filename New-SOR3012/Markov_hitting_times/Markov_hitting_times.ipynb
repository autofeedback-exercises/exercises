{
 "cells": [
  {
   "cell_type": "markdown",
   "metadata": {
    "id": "NVOkK4hCU7RK"
   },
   "source": [
    "# Run this cell first"
   ]
  },
  {
   "cell_type": "code",
   "execution_count": null,
   "metadata": {
    "id": "QCMw-lybOsz-"
   },
   "outputs": [],
   "source": [
    "# this code enables the automated feedback. If you remove this, you won't get any feedback\n",
    "# so don't delete this cell!\n",
    "try:\n",
    "  import AutoFeedback\n",
    "except (ModuleNotFoundError, ImportError):\n",
    "  !pip install git+https://github.com/abrown41/AutoFeedback@notebook\n",
    "  import AutoFeedback\n",
    "\n",
    "try:\n",
    "  from testsrc import test_main\n",
    "except (ModuleNotFoundError, ImportError):\n",
    "  !pip install \"git+https://github.com/autofeedback-exercises/exercises.git#subdirectory=New-SOR3012/Markov-hitting-times\"\n",
    "  from testsrc import test_main\n",
    "\n",
    "def runtest(tlist):\n",
    "  import unittest\n",
    "  from contextlib import redirect_stderr\n",
    "  from os import devnull\n",
    "  with redirect_stderr(open(devnull, 'w')):\n",
    "    suite = unittest.TestSuite()\n",
    "    for tname in tlist:\n",
    "      suite.addTest(eval(f\"test_main.UnitTests.{tname}\"))\n",
    "    runner = unittest.TextTestRunner()\n",
    "    try:\n",
    "      runner.run(suite)\n",
    "    except AssertionError:\n",
    "      pass\n"
   ]
  },
  {
   "cell_type": "markdown",
   "metadata": {
    "id": "OWWCZ8WqEjvP"
   },
   "source": [
    "# Multinomial trials\n",
    "\n",
    "We are now going to move away generating Bernoulli random variables and move towards generating a random variable that can take on any value in the set {0,1,2,3,4}.  The probability mass distribution for this random variable will be:\n",
    "\n",
    "![](equation.png)\n",
    "\n",
    "I have started writing a function called `myvariable` that can be used to generate this type of random variable.  Your task is to complete this function and to also complete the process of filling in the array called `probs` that should contain the five elements of the probability mass function that is defined above.\n",
    "\n",
    "The function `myvariable` works by generating a uniform random variable between 0 and 1.  An if statement is then used to decide if this random variable falls in the line segment of length P(X=0) between 0 and P(X=0).  In this case a value of 0 is returned.  If the random variable does not fall within this first line segment we then test if the random variable falls into the line segment of length P(X=1) between P(X=0) and P(X=0) + P(X=1) and return a value of 1 if this condition is satisfied.  If this condition is not satisfied we then test if the random variable is the line segment of length P(X=2) between P(X=0) + P(X=1) and P(X=0) + P(X=1) + P(X=2) and return a value of 2 if the condition is satisfied.  This process is then repeated for all the possible values that the random variable can take.\n"
   ]
  },
  {
   "cell_type": "code",
   "execution_count": null,
   "metadata": {
    "id": "FPGcdDOdiedB"
   },
   "outputs": [],
   "source": [
    "import numpy as np\n",
    "\n",
    "def myvariable( probs ) :\n",
    "  myvar = np.random.uniform(0,1)\n",
    "  if myvar < probs[0] : return 0\n",
    "  if myvar < probs[0] + probs[1] : return 1\n",
    "  # You will need to write the rest of this function here\n",
    "\n",
    "probs = np.array([0.5, 0.1, ])  # You need to fill in the rest of this vector\n",
    "print( myvariable( probs ), myvariable( probs ), myvariable( probs ) )\n"
   ]
  },
  {
   "cell_type": "code",
   "execution_count": null,
   "metadata": {
    "id": "55H5jKOaRcb9"
   },
   "outputs": [],
   "source": [
    "runtest(['test_probb_vector', 'test_variable'])"
   ]
  },
  {
   "cell_type": "markdown",
   "metadata": {
    "id": "GEf2r3H-cSlJ"
   },
   "source": [
    "# Generating multinomial trials revisited\n",
    "\n",
    "We are going to look again at this business of performing a random trial with more than two possible outcomes.  This task in particular will ask you to perform the same exercise as you have just done.  We are going to achieve the same outcome with fewer lines of code.  Remember that we are aiming to sample a random variable with the following probability mass function:\n",
    "\n",
    "![](equation.png)\n",
    "\n",
    "In our last attempt we had to use lots of if statements within our function in order to achieve this.  In  this exercise I would like you to replace all those if statements with a single while statement.   I have defined three variables `myvar` and `accum` that you will need to use within the while statement. I have also set these two quantities equal to the appropriate initial values.  In addition, I have generated a uniform random variable (`myrand`) that is between 0 and 1.\n",
    "\n",
    "Your task is to think about how to achieve what all the if statements were achieving in the last exercise by using a while loop instead.\n"
   ]
  },
  {
   "cell_type": "code",
   "execution_count": null,
   "metadata": {
    "id": "ycBriR7RAwey"
   },
   "outputs": [],
   "source": [
    "import numpy as np\n",
    "\n",
    "def myvariable( probs ) :\n",
    "  myrand = np.random.uniform(0,1)\n",
    "  myvar, accum = 0, probs[0]\n",
    "  while\n",
    "    # You will need to write contents of the while loop here and the\n",
    "    # condition for leaving the loop on the previous line.  Notice that\n",
    "    # I have defined three quantities and written a return statement below\n",
    "    # to give you a clue as to how to proceed.\n",
    "\n",
    "\n",
    "  return myvar\n",
    "\n",
    "probs = np.array([0.5, 0.1, 0.2, 0.05, 0.15 ])\n",
    "print( myvariable( probs ), myvariable( probs ), myvariable( probs ) )\n"
   ]
  },
  {
   "cell_type": "code",
   "execution_count": null,
   "metadata": {
    "id": "WaH4qmtKpKxY"
   },
   "outputs": [],
   "source": [
    "runtest(['test_variable_1'])"
   ]
  },
  {
   "cell_type": "markdown",
   "metadata": {
    "id": "YMZn165XcYLi"
   },
   "source": [
    "# Sampling a Markov chain\n",
    "\n",
    "In this exercise we are going to learn how to write a function that generates the next random variable if we have a Markov chain.   We will consider a Markov chain with the following transition matrix in the exercise:\n",
    "\n",
    "![](matrix.png)\n",
    "\n",
    "As you can see from the sample code in `main.py` we can create a variable called `A` in python and set it equal to this matrix by using the code below:\n",
    "\n",
    "```python\n",
    "A = np.array([[0.3,0.5,0.2],[0.3,0.4,0.3],[0.2,0.5,0.3]])\n",
    "```\n",
    "\n",
    "Your task in this exercise is to write a function called `markov_move` that takes two arguments.  The first of these arguments, `trans`, should be the 1-step transition matrix for the Markov chain that is being simulated.  The second argument is then the current state `start` is the state that the system is currently within.  Your function should generate the next state in the chain.\n",
    "\n",
    "Notice that each row of the 1-step transition probablity matrix is a probablity mass function for a multinomial trial.  The function you write will thus be similar to the functions you have written in the past for generating multinomial random variables.  You will need to use the variable called `start` to decide which row of the matrix to use when generating the multinomial variable.\n"
   ]
  },
  {
   "cell_type": "code",
   "execution_count": null,
   "metadata": {
    "id": "pPpG3UaY5qIC"
   },
   "outputs": [],
   "source": [
    "import numpy as np\n",
    "\n",
    "def markov_move( trans, start ) :\n",
    "\n",
    "\n",
    "\n",
    "\n",
    "\n",
    "# Setup the transition matrix\n",
    "A = np.array([[0.3,0.5,0.2],[0.3,0.4,0.3],[0.2,0.5,0.3]])\n",
    "# Now generate a random move if we start in state 0\n",
    "print( markov_move( A, 0 ), markov_move( A, 0 ), markov_move( A, 0 ) )\n",
    "# Now generate a random move if we start in state 1\n",
    "print( markov_move( A, 1 ), markov_move( A, 1 ), markov_move( A, 1 ) )\n",
    "# Now generate a random move if we start in state 2\n",
    "print( markov_move( A, 2 ), markov_move( A, 2 ), markov_move( A, 2 ) )\n",
    "\n"
   ]
  },
  {
   "cell_type": "code",
   "execution_count": null,
   "metadata": {
    "id": "44dP4p3p5Cw-"
   },
   "outputs": [],
   "source": [
    "runtest(['test_variable_2'])"
   ]
  },
  {
   "cell_type": "markdown",
   "metadata": {
    "id": "VuUrfuyO-KQD"
   },
   "source": [
    "# Simulating the number of steps until absorption\n",
    "\n",
    "Consder the Markov chain that is illustrated in the transition graph shown below:\n",
    "\n",
    "![](chain.png)\n",
    "\n",
    "States 2, 3 and 4 in this chain are transient and states 1 and 5 are absorbing.  If the chain is run for long enough the system is guaranteed to end up in state 1 or state 5.  If we told that a phenomenon can be modelled using this Markov chain we might choose to investigate the random variable that measures how many transitions occur before the system ends up in state 1 or 5.  Your task in this exercise is thus to write a function to generate samples of this random variable.\n",
    "\n",
    "I would recommend that you start by noting that the transition matrix that corresponds to the chain above is:\n",
    "\n",
    "![](matrix.png)\n",
    "\n",
    "You can thus set a variable `A` equal to this matrix by using the `np.array` command that was introduced in previous exercises.\n",
    "\n",
    "To sample the chain you should write a function called `markov_move` that is similar to the function that you wrote for generating the next state in a Markov chain.  Just as in the previous exercises this function takes two arguments.  The first of these arguments, `trans`, should be the 1-step transition matrix for the Markov chain that is being simulated.  The second argument, `start`, is the state that the system is currently within.  Your function should generate the next state in the chain.\n",
    "\n",
    "The last function you should write should be called `nsteps_to_absorption`.  This function should take two arguments.  The first of these arguments, `trans`, should be the 1-step transition matrix for the Markov chain that is being simulated.  The second argument `start` is then state that the system starts within. Within your `time_to_absorption` function you should use a while loop to call `markov_move` until you have arrived in one of the absorbing states.  Once you arrive in one of he absorbing states the function should return the number of times that `nsteps_to_absorption` has been called.\n",
    "\n",
    "To complete the exercise you will need to generate 20 samples of the number of steps the chain takes starting from state 2 until it is absorbed in either state 1 or state 5.  These samples should be plotted on the y-axis of a graph.  The x-coordinates of the points should be the integers from 1 to 100.  The x-axis label should be 'Index' and the y-axis label shold be 'Number of steps till absorption'.\n"
   ]
  },
  {
   "cell_type": "code",
   "execution_count": null,
   "metadata": {
    "id": "Cbge4TPzUKGU"
   },
   "outputs": [],
   "source": [
    "import matplotlib.pyplot as plt\n",
    "import numpy as np\n",
    "\n",
    "\n",
    "def markov_move( trans, start ) :\n",
    "\n",
    "\n",
    "def nsteps_to_absorption( trans, start ) :\n",
    "\n",
    "\n",
    "\n",
    "# Setup the transition matrix here\n",
    "A = \n",
    "\n",
    "# This code is required for the autofeedback- don't delete it!\n",
    "fighand = plt.gca()"
   ]
  },
  {
   "cell_type": "code",
   "execution_count": null,
   "metadata": {
    "id": "duODIDspztPL"
   },
   "outputs": [],
   "source": [
    "runtest(['test_plot'])"
   ]
  },
  {
   "cell_type": "markdown",
   "metadata": {
    "id": "IxRVOsc8Htz3"
   },
   "source": [
    "# Simulating the hitting probabilities\n",
    "\n",
    "Consder the Markov chain that is illustrated in the transition graph shown below:\n",
    "\n",
    "![](chain.png)\n",
    "\n",
    "States 2, 3 and 4 in this chain are transient and states 1 and 5 are absorbing.  If the chain is run for long enough the system is guaranteed to end up in state 1 or state 5.  If we simulate this chain until absorption we can thus define a Bernoulli random variable and state that this random variable is 1 if the chain finishes in state 5 and is zero if the chain finishes in state 1.  Your task in this exercise is to write a function to estimate the p parameter of this Bernoulli random variable by sampling.\n",
    "\n",
    "I would recommend that you start by noting that the transition matrix that corresponds to the chain above is:\n",
    "\n",
    "![](matrix.png)\n",
    "\n",
    "You can thus set a variable `A` equal to this matrix by using the `np.array` command that was introduced in previous exercises.\n",
    "\n",
    "To sample the chain you should write a function called `markov_move` that is similar to the function that you wrote for generating the next state in a Markov chain.  Just as in the previous exercises this function takes two arguments.  The first of these arguments, `trans`, should be the 1-step transition matrix for the Markov chain that is being simulated.  The second argument, `start`, is the state that the system is currently within.  Your function should generate the next state in the chain.\n",
    "\n",
    "Next you should write a function called `endstate`.  This function should take two arguments.  The first of these arguments, `trans`, should be the 1-step transition matrix for the Markov chain that is being simulated.  The second argument `start` is then state that the system starts within. Within your `endstate` function you should use a while loop to call `markov_move` until you have arrived in one of the absorbing states.  Once you arrive in one of the absorbing states the function should return a 1 if you have finished in state 5 and a 0 if you have finished in state 1.\n",
    "\n",
    "The final function you should write should be called `sample_mean`.   This function should take three arguments.  The first of these arguments, `trans`, should be the 1-step transition matrix for the Markov chain that is being simulated.  The second argument `start` is then state that the system starts within.  The final argument `nsamples` should be the number of samples that are going to be generated by calling `endstate`.  This final function should call `endstate` `nsamples` times and thus generate `nsamples` samples of the Bernoulli random variable of interest.  You should calculate a sample mean and a sample variance from these `nsamples` copies of the random variable.  The function `sample_mean` should then return 2 arguments:\n",
    "\n",
    "* `mean` - the sample mean that was obtained by calling `endstate` `nsamples` times\n",
    "* `conf` - the 90% confidence limit around this estimate of the mean\n",
    "\n",
    "You can calculate the confidence limit by using the ideas about the central limit theorem that were introduced in previous exercises.\n"
   ]
  },
  {
   "cell_type": "code",
   "execution_count": null,
   "metadata": {
    "id": "Yir8voR4Wg9M"
   },
   "outputs": [],
   "source": [
    "import matplotlib.pyplot as plt\n",
    "import scipy.stats\n",
    "import numpy as np\n",
    "\n",
    "\n",
    "def markov_move( trans, start ) :\n",
    "\n",
    "\n",
    "def endstate( trans, start ) :\n",
    "\n",
    "\n",
    "def sample_mean( trans, start, nsamples ) :\n",
    "\n",
    "    return mean, conf\n",
    "\n",
    "# Setup the transition matrix here\n",
    "A =\n",
    "\n",
    "\n",
    "# Now estimate some hitting probablities if we start from state 2\n",
    "prob, conf = sample_mean( A, 1, 100 )\n",
    "print('There is a 90% probablity that the conditional probablity of finishing in state 5 given you start in state 2 is within', conf, 'of', prob )\n",
    "prob, conf = sample_mean( A, 2, 100 )\n",
    "print('There is a 90% probablity that the conditional probablity of finishing in state 5 given you start in state 3 is within', conf, 'of', prob )\n",
    "prob, conf = sample_mean( A, 3, 100 )\n",
    "print('There is a 90% probablity that the conditional probablity of finishing in state 5 given you start in state 4 is within', conf, 'of', prob )\n"
   ]
  },
  {
   "cell_type": "code",
   "execution_count": null,
   "metadata": {
    "id": "qYMR0Nak0NfP"
   },
   "outputs": [],
   "source": [
    "runtest(['test_markov_move', 'test_endstate', 'test_mean'])"
   ]
  },
  {
   "cell_type": "markdown",
   "metadata": {
    "id": "cYXUBMgAzBUG"
   },
   "source": [
    "# Hitting probabilities using linear algebra\n",
    "\n",
    "If you have a Markov chain with a mixture of transient and absorbing states such as the one illustrated in the transition graph below the chain will eventually end up in one of the absorbing states.\n",
    "\n",
    "![](chain.png)\n",
    "\n",
    "For the chain above the system will eventually either be absorbed in state 1 or state 5.  Furthermore, in previous exercises we have learned how quantities such as the conditional probability of finishing in state 5 given you start in state 2 can be calculated by sampling the Markov chain repeatedely.  These quantities can also be calculated using linear algebra, however.  In this exercise, I am going to show you how this can be done using computer by considering the Markov chain with the transition graph above.\n",
    "\n",
    "The transition matrix that corresponds to the Markov chain in the figure above is as follows:\n",
    "\n",
    "![](matrix.png)\n",
    "\n",
    "It is straightforward to show that the matrix of hitting probabilities can be calculated using:\n",
    "\n",
    "![](equation.png)\n",
    "\n",
    "In this expression, I is the identity matrix, Q is a matrix that describes the transition probablities between the transient states and R is a matrix that describes the transition probabilities from the transient states to the absorbing states.  For the Markov chain whose transition matrix is given above Q and R are given by:\n",
    "\n",
    "![](QR.png)\n",
    "\n",
    "Remember that you can set a variables equal to Q and R by using the `np.array` command.  You can then get a 3x3 identity matrix by using the following command:\n",
    "\n",
    "```python\n",
    "I = np.identity(3)\n",
    "```\n",
    "\n",
    "To invert the matrix `A` you can use the following command:\n",
    "\n",
    "```python\n",
    "inv = np.linalg.inv( A )\n",
    "```\n",
    "\n",
    "Lastly, if you want to multiply the matrix `A` by the matrix `B` you use:\n",
    "\n",
    "```python\n",
    "# The quantity C that is output here is a matrix\n",
    "C = np.dot(  A, B )\n",
    "```\n",
    "\n",
    "You should be able to use the commands above to compute the hitting probabilities using the formula above.  Your task here is, therefore, to use these ideas to draw a bar chart.  The x-coordinates of the bars should be set equal to the label for the initial transient states in the graph above.  The heights of the bars should then be equal to the probability of absorption in state 5.  The title for the x-axis should be 'Initial state'.  The title for the y-axis should be 'Probability of absorption in state 5'.\n",
    "\n"
   ]
  },
  {
   "cell_type": "code",
   "execution_count": null,
   "metadata": {
    "id": "vgMRMFFWzLKF"
   },
   "outputs": [],
   "source": [
    "import matplotlib.pyplot as plt\n",
    "import numpy as np\n",
    "\n",
    "\n",
    "# This code is required for the autofeedback- don't delete it!\n",
    "fighand = plt.gca()"
   ]
  },
  {
   "cell_type": "code",
   "execution_count": null,
   "metadata": {
    "id": "v4aYRcKDCAfN"
   },
   "outputs": [],
   "source": [
    "runtest(['test_plot_1'])"
   ]
  },
  {
   "cell_type": "markdown",
   "metadata": {
    "id": "l5c2lHDSyOnF"
   },
   "source": [
    "# Hitting times using linear algebra\n",
    "\n",
    "If you have a Markov chain with a mixture of transient and absorbing states such as the one illustrated in the transition graph below the chain will eventually end up in one of the absorbing states.\n",
    "\n",
    "![](chain.png)\n",
    "\n",
    "In previous exercises we have learned how the average number of steps till absorbption can be calculated by sampling.  The expectations for these quantities can also be calculated using linear algebra, however.  In this exercise, I am going to show you how such calculations can be performed using a computer by considering the Markov chain with the transition graph above.\n",
    "\n",
    "The transition matrix that corresponds to the Markov chain in the figure above is as follows:\n",
    "\n",
    "![](matrix.png)\n",
    "\n",
    "It is straightforward to show that the hitting probabilities can be calculated using:\n",
    "\n",
    "![](equation.png)\n",
    "\n",
    "In this expression, I is the identity matrix, 1 is a vector that contains all ones and Q is a matrix that describes the transition probablities between the transient states.  For the Markov chain whose transition matrix is given above Q is:\n",
    "\n",
    "![](Q.png)\n",
    "\n",
    "Remember that you can set a variable equal to Q by using the `np.array` command.  You can then get a 3x3 identity matrix by using the following command:\n",
    "\n",
    "```python\n",
    "I = np.identity(3)\n",
    "```\n",
    "\n",
    "To invert the matrix `A` you can use the following command:\n",
    "\n",
    "```python\n",
    "inv = np.linalg.inv( A )\n",
    "```\n",
    "\n",
    "Lastly, if you want to multiply the 3x3 matrix `A` by a vector that contains all ones you would use the following command:\n",
    "\n",
    "```python\n",
    "# The quantity T that is output here is a vector\n",
    "T = np.dot(  A, np.array([1,1,1]) )\n",
    "```\n",
    "\n",
    "You should be able to use the commands above to compute the hitting times using the formula above.  Your task here is therefore to use these ideas to draw a bar chart.  The x-coordinates of the bars should be set equal to the label for the initial transient states in the graph above.  The heights of the bars should then be equal to the expected number of steps till absorbtion if the chain starts in each of these intial states.  The title for the x-axis should be 'Initial state'.  The title for the y-axis should be 'Expected number of steps till absorbtion'\n",
    "\n",
    "\n"
   ]
  },
  {
   "cell_type": "code",
   "execution_count": null,
   "metadata": {
    "id": "8-O34gfMKgGO"
   },
   "outputs": [],
   "source": [
    "import matplotlib.pyplot as plt\n",
    "import numpy as np\n",
    "\n",
    "\n",
    "\n",
    "\n",
    "\n",
    "\n",
    "# This code is required for the autofeedback- don't delete it!\n",
    "fighand = plt.gca()"
   ]
  },
  {
   "cell_type": "code",
   "execution_count": null,
   "metadata": {
    "id": "1E6Nhl7XDkD7"
   },
   "outputs": [],
   "source": [
    "runtest(['test_plot_2'])"
   ]
  }
 ],
 "metadata": {
  "colab": {
   "cell_execution_strategy": "setup",
   "collapsed_sections": [
    "NVOkK4hCU7RK"
   ],
   "private_outputs": true,
   "provenance": []
  },
  "kernelspec": {
   "display_name": "Python 3 (ipykernel)",
   "language": "python",
   "name": "python3"
  },
  "language_info": {
   "codemirror_mode": {
    "name": "ipython",
    "version": 3
   },
   "file_extension": ".py",
   "mimetype": "text/x-python",
   "name": "python",
   "nbconvert_exporter": "python",
   "pygments_lexer": "ipython3",
   "version": "3.9.13"
  }
 },
 "nbformat": 4,
 "nbformat_minor": 1
}
