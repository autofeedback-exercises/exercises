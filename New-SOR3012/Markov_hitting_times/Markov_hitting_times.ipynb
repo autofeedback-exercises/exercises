{
 "cells": [
  {
   "cell_type": "markdown",
   "metadata": {
    "id": "NVOkK4hCU7RK"
   },
   "source": [
    "# Run this cell first"
   ]
  },
  {
   "cell_type": "code",
   "execution_count": null,
   "metadata": {
    "id": "QCMw-lybOsz-"
   },
   "outputs": [],
   "source": [
    "# this code enables the automated feedback. If you remove this, you won't get any feedback\n",
    "# so don't delete this cell!\n",
    "try:\n",
    "  import AutoFeedback\n",
    "except (ModuleNotFoundError, ImportError):\n",
    "  %pip install AutoFeedback\n",
    "  import AutoFeedback\n",
    "\n",
    "try:\n",
    "  from testsrc import test_main\n",
    "except (ModuleNotFoundError, ImportError):\n",
    "  %pip install \"git+https://github.com/autofeedback-exercises/exercises.git#subdirectory=New-SOR3012/Markov_hitting_times\"\n",
    "  from testsrc import test_main\n",
    "\n",
    "def runtest(tlist):\n",
    "  import unittest\n",
    "  from contextlib import redirect_stderr\n",
    "  from os import devnull\n",
    "  with redirect_stderr(open(devnull, 'w')):\n",
    "    suite = unittest.TestSuite()\n",
    "    for tname in tlist:\n",
    "      suite.addTest(eval(f\"test_main.UnitTests.{tname}\"))\n",
    "    runner = unittest.TextTestRunner()\n",
    "    try:\n",
    "      runner.run(suite)\n",
    "    except AssertionError:\n",
    "      pass\n"
   ]
  },
  {
   "cell_type": "markdown",
   "metadata": {
    "id": "DIvAaDPVUymn"
   },
   "source": [
    "# Introduction\n",
    "\n",
    "Thus far in this course we have introduced the probability models with specific purposes in mind. For example, the binomial random variable can be used to model the number of sucesses in a set of identical trials, while the geometric random variable and gamblers ruin can be used to model the number of trials you perform until a particular event occurs.\n",
    "\n",
    "Mathematics will often proceed by recognising that there is a common (and more abstract) theory that underpins ideas that were previously thought separate.  In the next part of the course we are thus going to start to introduce the theory of Markov chains that is a more abstract body of theory that can be used to reformulate many of the ideas we have encountered in this course.  We will see how, because this theory is more abstract, it is also more powerful and how it allows us to easily construct models that describe more elaborate scenarios.\n",
    "\n",
    "Before you start on the exercises remember to load the libraries that we will need."
   ]
  },
  {
   "cell_type": "code",
   "execution_count": null,
   "metadata": {
    "id": "Rfl9z8nlUymo"
   },
   "outputs": [],
   "source": [
    "import matplotlib.pyplot as plt\n",
    "import numpy as np\n",
    "import scipy.stats"
   ]
  },
  {
   "cell_type": "markdown",
   "metadata": {
    "id": "OWWCZ8WqEjvP"
   },
   "source": [
    "# Multinomial trials\n",
    "\n",
    "Before we introduce Markov chains we first need to talk about how we can generate a random variable that can take on any value in the set {0,1,2,3,4}.  The probability mass distribution for this random variable will be:\n",
    "\n",
    "$$\n",
    "P(X=0)=0.5 \\qquad P(X=1)=0.1 \\qquad P(X=2)=0.2 \\qquad P(X=3)=0.05 \\qquad P(X=4)=0.15\n",
    "$$\n",
    "\n",
    "A method that you can use to generate this type of random variable is discussed in the following video."
   ]
  },
  {
   "cell_type": "code",
   "execution_count": null,
   "metadata": {
    "id": "0Z-VmbCBUymo"
   },
   "outputs": [],
   "source": [
    "%%HTML\n",
    "<iframe width=\"560\" height=\"315\" src=\"https://www.youtube.com/embed/2w7OTQ5vYPc?si=XV4luZjawckGWF7_\" title=\"YouTube video player\" frameborder=\"0\" allow=\"accelerometer; autoplay; clipboard-write; encrypted-media; gyroscope; picture-in-picture; web-share\" referrerpolicy=\"strict-origin-when-cross-origin\" allowfullscreen></iframe>"
   ]
  },
  {
   "cell_type": "markdown",
   "metadata": {
    "id": "iisFySGxUymo"
   },
   "source": [
    "In the following cell I have started writing a function called `myvariable` that can be used to generate this type of random variable.  Your task is to complete this function and to also complete the process of filling in the array called `probs` that should contain the five elements of the probability mass function that is defined above."
   ]
  },
  {
   "cell_type": "code",
   "execution_count": null,
   "metadata": {
    "id": "FPGcdDOdiedB"
   },
   "outputs": [],
   "source": [
    "def myvariable( probs ) :\n",
    "    myvar = np.random.uniform(0,1)\n",
    "    if myvar < probs[0] : return 0\n",
    "    if myvar < probs[0] + probs[1] : return 1\n",
    "    # You will need to write the rest of this function here\n",
    "\n",
    "\n",
    "\n",
    "probs = np.array([0.5, 0.1, ])  # You need to fill in the rest of this vector\n",
    "print( myvariable( probs ), myvariable( probs ), myvariable( probs ) )"
   ]
  },
  {
   "cell_type": "code",
   "execution_count": null,
   "metadata": {
    "id": "55H5jKOaRcb9"
   },
   "outputs": [],
   "source": [
    "runtest(['test_probb_vector', 'test_variable'])"
   ]
  },
  {
   "cell_type": "markdown",
   "metadata": {
    "id": "GEf2r3H-cSlJ"
   },
   "source": [
    "# Generating multinomial trials revisited\n",
    "\n",
    "The code that you have writen to generate the random variable in the previous exercise is fine.  However, there is a better way to generate this type of random variable.  The premise of this idea is explained in the following video\n"
   ]
  },
  {
   "cell_type": "code",
   "execution_count": null,
   "metadata": {
    "id": "jsrPlN_IUymp"
   },
   "outputs": [],
   "source": [
    "%%HTML\n",
    "<iframe width=\"560\" height=\"315\" src=\"https://www.youtube.com/embed/DfElR4r85SY?si=hMKPaminq9VYe0SK\" title=\"YouTube video player\" frameborder=\"0\" allow=\"accelerometer; autoplay; clipboard-write; encrypted-media; gyroscope; picture-in-picture; web-share\" referrerpolicy=\"strict-origin-when-cross-origin\" allowfullscreen></iframe>"
   ]
  },
  {
   "cell_type": "markdown",
   "metadata": {
    "id": "XwJvRlQlUymp"
   },
   "source": [
    "The last attempt to generate this random variable with the probability mass function:\n",
    "\n",
    "$$\n",
    "P(X=0)=0.5 \\qquad P(X=1)=0.1 \\qquad P(X=2)=0.2 \\qquad P(X=3)=0.05 \\qquad P(X=4)=0.15\n",
    "$$\n",
    "\n",
    "had to use lots of if statements.  You can avoid all these if statements by using a while loop in the way the video discusses. In this exercise I would like you to do this.   To get you started I have defined three variables `myvar` and `accum` that you will need to use within the while statement. I have also set these two quantities equal to the appropriate initial values.  In addition, I have generated a uniform random variable (`myrand`) that is between 0 and 1.\n",
    "\n",
    "Your task is to think about how to achieve what all the if statements were achieving in the last exercise by using a while loop instead."
   ]
  },
  {
   "cell_type": "code",
   "execution_count": null,
   "metadata": {
    "id": "ycBriR7RAwey"
   },
   "outputs": [],
   "source": [
    "def myvariable( probs ) :\n",
    "    myrand = np.random.uniform(0,1)\n",
    "    myvar, accum = 0, probs[0]\n",
    "    while \n",
    "        # You will need to write contents of the while loop here and the\n",
    "        # condition for leaving the loop on the previous line.  Notice that\n",
    "        # I have defined three quantities and written a return statement below\n",
    "        # to give you a clue as to how to proceed.\n",
    "\n",
    "\n",
    "    return myvar\n",
    "\n",
    "probs = np.array([0.5, 0.1, 0.2, 0.05, 0.15 ])\n",
    "print( myvariable( probs ), myvariable( probs ), myvariable( probs ) )\n"
   ]
  },
  {
   "cell_type": "code",
   "execution_count": null,
   "metadata": {
    "id": "WaH4qmtKpKxY"
   },
   "outputs": [],
   "source": [
    "runtest(['test_variable_1'])"
   ]
  },
  {
   "cell_type": "markdown",
   "metadata": {
    "id": "YMZn165XcYLi"
   },
   "source": [
    "# Sampling a Markov chain\n",
    "\n",
    "Now that we have established how to generate Multinomial random variables we can move to simulating the moves between states in a Markov chain.  We are going to consider a Markov chain with the following transition matrix in this exercise.\n",
    "\n",
    "$$\n",
    "A = \\left(\n",
    "\\begin{matrix}\n",
    "0.3 & 0.5 & 0.2 \\\\\n",
    "0.3 & 0.4 & 0.3 \\\\\n",
    "0.2 & 0.5 & 0.3\n",
    "\\end{matrix}\n",
    "\\right)\n",
    "$$\n",
    "\n",
    "The following video explains how you can write a program to generate the moves between states that make up a Markov chain."
   ]
  },
  {
   "cell_type": "code",
   "execution_count": null,
   "metadata": {
    "id": "G0CkQgytUymp"
   },
   "outputs": [],
   "source": [
    "%%HTML\n",
    "<iframe width=\"560\" height=\"315\" src=\"https://www.youtube.com/embed/IFopZAen_sI?si=mNZXNxLH48HKojw1\" title=\"YouTube video player\" frameborder=\"0\" allow=\"accelerometer; autoplay; clipboard-write; encrypted-media; gyroscope; picture-in-picture; web-share\" referrerpolicy=\"strict-origin-when-cross-origin\" allowfullscreen></iframe>"
   ]
  },
  {
   "cell_type": "markdown",
   "metadata": {
    "id": "go1uJwPqUymp"
   },
   "source": [
    "Your task is to implement the function described in the video.  As you can see from the sample code below we can create a variable called `A` in python and set it equal to this matrix by using the code below:\n",
    "\n",
    "```python\n",
    "A = np.array([[0.3,0.5,0.2],[0.3,0.4,0.3],[0.2,0.5,0.3]])\n",
    "```\n",
    "\n",
    "Your task in this exercise is to write a function called `markov_move` that takes two arguments.  The first of these arguments, `trans`, should be the 1-step transition matrix for the Markov chain that is being simulated.  The second argument is then the current state `start` is the state that the system is currently within.  Your function should generate the next state in the chain.\n",
    "\n",
    "Notice that each row of the 1-step transition probablity matrix is a probablity mass function for a multinomial trial.  The function you write will thus be similar to the functions you have written in the past for generating multinomial random variables.  You will need to use the variable called `start` to decide which row of the matrix to use when generating the multinomial variable."
   ]
  },
  {
   "cell_type": "code",
   "execution_count": null,
   "metadata": {
    "id": "pPpG3UaY5qIC"
   },
   "outputs": [],
   "source": [
    "def markov_move( trans, start ) :\n",
    "\n",
    "\n",
    "\n",
    "\n",
    "\n",
    "\n",
    "# Setup the transition matrix\n",
    "A = np.array([[0.3,0.5,0.2],[0.3,0.4,0.3],[0.2,0.5,0.3]])\n",
    "# Now generate a random move if we start in state 0\n",
    "print( markov_move( A, 0 ), markov_move( A, 0 ), markov_move( A, 0 ) )\n",
    "# Now generate a random move if we start in state 1\n",
    "print( markov_move( A, 1 ), markov_move( A, 1 ), markov_move( A, 1 ) )\n",
    "# Now generate a random move if we start in state 2\n",
    "print( markov_move( A, 2 ), markov_move( A, 2 ), markov_move( A, 2 ) )\n",
    "\n"
   ]
  },
  {
   "cell_type": "code",
   "execution_count": null,
   "metadata": {
    "id": "44dP4p3p5Cw-"
   },
   "outputs": [],
   "source": [
    "runtest(['test_variable_2'])"
   ]
  },
  {
   "cell_type": "markdown",
   "metadata": {
    "id": "M7T2FgPcUymq"
   },
   "source": [
    "# Transient and recurrent states\n",
    "\n",
    "Before we can develop a Markov chain we need to introduce a little more theory.  Watch the following 12-minute video before continuing, which introduces the distinction between transient and recurrent states."
   ]
  },
  {
   "cell_type": "code",
   "execution_count": null,
   "metadata": {
    "id": "rO6AxcN0Uymq"
   },
   "outputs": [],
   "source": [
    "%%HTML\n",
    "<iframe width=\"560\" height=\"315\" src=\"https://www.youtube.com/embed/5YS2sn9vzWk?si=y3bzl3MZ3bXL2EhV\" title=\"YouTube video player\" frameborder=\"0\" allow=\"accelerometer; autoplay; clipboard-write; encrypted-media; gyroscope; picture-in-picture; web-share\" referrerpolicy=\"strict-origin-when-cross-origin\" allowfullscreen></iframe>"
   ]
  },
  {
   "cell_type": "markdown",
   "metadata": {
    "id": "VuUrfuyO-KQD"
   },
   "source": [
    "# Simulating the number of steps until absorption\n",
    "\n",
    "If you have a Markov chain that contains a mixture of transient and recurrent states an interesting thing to model is the time that elapses before the system arrives in a recurrent state.  That is what we are going to do in this next exercise.  To understand how we can write a program to sample this time watch the following video."
   ]
  },
  {
   "cell_type": "code",
   "execution_count": null,
   "metadata": {
    "id": "Uo73iA4FUymq"
   },
   "outputs": [],
   "source": [
    "%%HTML\n",
    "<iframe width=\"560\" height=\"315\" src=\"https://www.youtube.com/embed/bpwq6xpCbSA?si=M4zf7fGd4NTCOweA\" title=\"YouTube video player\" frameborder=\"0\" allow=\"accelerometer; autoplay; clipboard-write; encrypted-media; gyroscope; picture-in-picture; web-share\" referrerpolicy=\"strict-origin-when-cross-origin\" allowfullscreen></iframe>"
   ]
  },
  {
   "cell_type": "markdown",
   "metadata": {
    "id": "8_bgzqhLUymq"
   },
   "source": [
    "Here is your chance to apply the theory from the video.  You are going to write a program to simulate a Markov chain with the following transition matrix:\n",
    "\n",
    "$$\n",
    "A = \\left(\n",
    "\\begin{matrix}\n",
    "1 & 0 & 0 & 0 & 0 \\\\\n",
    "1/3 & 1/3 & 1/3 & 0 & 0 \\\\\n",
    "0 & 1/2 & 0 & 1/2 & 0 \\\\\n",
    "0 & 1/2 & 0 & 0 & 1/2 \\\\\n",
    "0 & 0 & 0 & 0 & 1\n",
    "\\end{matrix}\n",
    "\\right)\n",
    "$$\n",
    "\n",
    "Notice that, states 2, 3 and 4 in this chain are transient and states 1 and 5 are absorbing.  If the chain is run for long enough the system is guaranteed to end up in state 1 or state 5.\n",
    "\n",
    "To complete the exiercise you will need to set a variable `A` equal to this matrix by using the `np.array` command that was introduced in previous exercises to complete this exercise.  You will then need to complet the function called `nsteps_to_absorption`.  This function should take two arguments.  The first of these arguments, `trans`, should be the 1-step transition matrix for the Markov chain that is being simulated.  The second argument `start` is then state that the system starts within. Within your `time_to_absorption` function you should use a while loop to call `markov_move` function that you wrote for an earlier exercise until you have arrived in one of the absorbing states.  Once you arrive in one of he absorbing states the function should return the number of times that `nsteps_to_absorption` has been called.\n",
    "\n",
    "To complete the exercise you will need to generate 20 samples of the number of steps the chain takes starting from state 2 until it is absorbed in either state 1 or state 5.  These samples should be plotted on the y-axis of a graph.  The x-coordinates of the points should be the integers from 1 to 100.  The x-axis label should be 'Index' and the y-axis label shold be 'Number of steps till absorption'."
   ]
  },
  {
   "cell_type": "code",
   "execution_count": null,
   "metadata": {
    "id": "Cbge4TPzUKGU"
   },
   "outputs": [],
   "source": [
    "def nsteps_to_absorption( trans, start ) :\n",
    "\n",
    "\n",
    "\n",
    "# Setup the transition matrix here\n",
    "A = \n",
    "\n",
    "\n",
    "\n",
    "# This code is required for the autofeedback- don't delete it!\n",
    "fighand = plt.gca()"
   ]
  },
  {
   "cell_type": "code",
   "execution_count": null,
   "metadata": {
    "id": "duODIDspztPL"
   },
   "outputs": [],
   "source": [
    "runtest(['test_plot'])"
   ]
  },
  {
   "cell_type": "markdown",
   "metadata": {
    "id": "IxRVOsc8Htz3"
   },
   "source": [
    "# Simulating the hitting probabilities\n",
    "\n",
    "Consder a Markov chain with the following transition matrix:\n",
    "\n",
    "$$\n",
    "A = \\left(\n",
    "\\begin{matrix}\n",
    "1 & 0 & 0 & 0 & 0 \\\\\n",
    "1/3 & 1/3 & 1/3 & 0 & 0 \\\\\n",
    "0 & 1/2 & 0 & 1/2 & 0 \\\\\n",
    "0 & 1/2 & 0 & 0 & 1/2 \\\\\n",
    "0 & 0 & 0 & 0 & 1\n",
    "\\end{matrix}\n",
    "\\right)\n",
    "$$\n",
    "\n",
    "States 2, 3 and 4 in this chain are transient and states 1 and 5 are absorbing.  If the chain is run for long enough the system is guaranteed to end up in state 1 or state 5.  If we simulate this chain until absorption we can thus define a Bernoulli random variable and state that this random variable is 1 if the chain finishes in state 5 and is zero if the chain finishes in state 1.  The video below explains how you can estimate the $p$ parameter of this Bernoulli random variable by sampling."
   ]
  },
  {
   "cell_type": "code",
   "execution_count": null,
   "metadata": {
    "id": "fspZ5KZgUymq"
   },
   "outputs": [],
   "source": [
    "%%HTML\n",
    "<iframe width=\"560\" height=\"315\" src=\"https://www.youtube.com/embed/Cki7aocbA8s?si=pLwiMW7YKbE8ApTi\" title=\"YouTube video player\" frameborder=\"0\" allow=\"accelerometer; autoplay; clipboard-write; encrypted-media; gyroscope; picture-in-picture; web-share\" referrerpolicy=\"strict-origin-when-cross-origin\" allowfullscreen></iframe>"
   ]
  },
  {
   "cell_type": "markdown",
   "metadata": {
    "id": "0qzrt_X5Uymr"
   },
   "source": [
    "I would like you to implement what you have learned from the video in the cell below.  I would recommend that you do this by writing a function called `endstate`.  This function should take two arguments.  The first of these arguments, `trans`, should be the 1-step transition matrix for the Markov chain that is being simulated.  The second argument `start` is then state that the system starts within. Within your `endstate` function you should use a while loop to call the `markov_move` function that you wrote for an earlier exercise until you have arrived in one of the absorbing states.  Once you arrive in one of the absorbing states the function should return a 1 if you have finished in state 5 and a 0 if you have finished in state 1.\n",
    "\n",
    "You shoudl then write a function called `sample_mean`.   This function should take three arguments.  The first of these arguments, `trans`, should be the 1-step transition matrix for the Markov chain that is being simulated.  The second argument `start` is then state that the system starts within.  The final argument `nsamples` should be the number of samples that are going to be generated by calling `endstate`.  This final function should call `endstate` `nsamples` times and thus generate `nsamples` samples of the Bernoulli random variable of interest.  You should calculate a sample mean and a sample variance from these `nsamples` copies of the random variable.  The function `sample_mean` should then return 2 arguments:\n",
    "\n",
    "* `mean` - the sample mean that was obtained by calling `endstate` `nsamples` times\n",
    "* `conf` - the 90% confidence limit around this estimate of the mean\n",
    "\n",
    "You can calculate the confidence limit by using the ideas about the central limit theorem that were introduced in previous blocks."
   ]
  },
  {
   "cell_type": "code",
   "execution_count": null,
   "metadata": {
    "id": "Yir8voR4Wg9M"
   },
   "outputs": [],
   "source": [
    "def endstate( trans, start ) :\n",
    "\n",
    "\n",
    "\n",
    "\n",
    "def sample_mean( trans, start, nsamples ) :\n",
    "\n",
    "    return mean, conf\n",
    "\n",
    "# Setup the transition matrix here\n",
    "A = \n",
    "\n",
    "\n",
    "# Now estimate some hitting probablities if we start from state 2\n",
    "prob, conf = sample_mean( A, 1, 100 )\n",
    "print('There is a 90% probablity that the conditional probablity of finishing in state 5 given you start in state 2 is within', conf, 'of', prob )\n",
    "prob, conf = sample_mean( A, 2, 100 )\n",
    "print('There is a 90% probablity that the conditional probablity of finishing in state 5 given you start in state 3 is within', conf, 'of', prob )\n",
    "prob, conf = sample_mean( A, 3, 100 )\n",
    "print('There is a 90% probablity that the conditional probablity of finishing in state 5 given you start in state 4 is within', conf, 'of', prob )\n"
   ]
  },
  {
   "cell_type": "code",
   "execution_count": null,
   "metadata": {
    "id": "qYMR0Nak0NfP"
   },
   "outputs": [],
   "source": [
    "runtest(['test_markov_move', 'test_endstate', 'test_mean'])"
   ]
  },
  {
   "cell_type": "markdown",
   "metadata": {
    "id": "cYXUBMgAzBUG"
   },
   "source": [
    "# Hitting probabilities using linear algebra\n",
    "\n",
    "Although you can calculate hitting probabilities and hitting times by sampling there is a better person.  It turns out that you can get exact values for the hitting probabilities and hitting times by doing a bit of linear algebra.  The following video explains why this works (you don't need to watch it if you are not interested).  "
   ]
  },
  {
   "cell_type": "code",
   "execution_count": null,
   "metadata": {
    "id": "eVrzI_vGUymr"
   },
   "outputs": [],
   "source": [
    "%%HTML\n",
    "<iframe width=\"560\" height=\"315\" src=\"https://www.youtube.com/embed/kAuZf1MLQHc?si=QmaHXWTLpxDpIDqM\" title=\"YouTube video player\" frameborder=\"0\" allow=\"accelerometer; autoplay; clipboard-write; encrypted-media; gyroscope; picture-in-picture; web-share\" referrerpolicy=\"strict-origin-when-cross-origin\" allowfullscreen></iframe>"
   ]
  },
  {
   "cell_type": "markdown",
   "metadata": {
    "id": "uXjfIVYoUymr"
   },
   "source": [
    "The following video then explains how you can use NumPy do these calculations for you."
   ]
  },
  {
   "cell_type": "code",
   "execution_count": null,
   "metadata": {
    "id": "lAVoxYM4Uymr"
   },
   "outputs": [],
   "source": [
    "%%HTML\n",
    "<iframe width=\"560\" height=\"315\" src=\"https://www.youtube.com/embed/xSUQtebegUY?si=2hzdD5xVJniOhHZI\" title=\"YouTube video player\" frameborder=\"0\" allow=\"accelerometer; autoplay; clipboard-write; encrypted-media; gyroscope; picture-in-picture; web-share\" referrerpolicy=\"strict-origin-when-cross-origin\" allowfullscreen></iframe>"
   ]
  },
  {
   "cell_type": "markdown",
   "metadata": {
    "id": "tkOXxT6xUymr"
   },
   "source": [
    "You should be able to use the commands from the video above to compute the hitting probabilities.  Your task here is, therefore, to use these ideas to draw a bar chart.  The x-coordinates of the bars should be set equal to the label for the initial transient states in the graph above.  The heights of the bars should then be equal to the probability of absorption in state 5.  The title for the x-axis should be 'Initial state'.  The title for the y-axis should be 'Probability of absorption in state 5'."
   ]
  },
  {
   "cell_type": "code",
   "execution_count": null,
   "metadata": {
    "id": "vgMRMFFWzLKF"
   },
   "outputs": [],
   "source": [
    "\n",
    "\n",
    "\n",
    "\n",
    "# This code is required for the autofeedback- don't delete it!\n",
    "fighand = plt.gca()"
   ]
  },
  {
   "cell_type": "code",
   "execution_count": null,
   "metadata": {
    "id": "v4aYRcKDCAfN"
   },
   "outputs": [],
   "source": [
    "runtest(['test_plot_1'])"
   ]
  },
  {
   "cell_type": "markdown",
   "metadata": {
    "id": "l5c2lHDSyOnF"
   },
   "source": [
    "# Hitting times using linear algebra\n",
    "\n",
    "The second video in the section above discussed how you can also use NumPy to calculate the hitting times. Your task here is therefore to use these ideas to draw a bar chart.  The x-coordinates of the bars should be set equal to the label for the initial transient states in the graph above.  The heights of the bars should then be equal to the expected number of steps till absorbtion if the chain starts in each of these intial states.  The title for the x-axis should be 'Initial state'.  The title for the y-axis should be 'Expected number of steps till absorbtion'"
   ]
  },
  {
   "cell_type": "code",
   "execution_count": null,
   "metadata": {
    "id": "8-O34gfMKgGO"
   },
   "outputs": [],
   "source": [
    "\n",
    "\n",
    "\n",
    "\n",
    "\n",
    "\n",
    "# This code is required for the autofeedback- don't delete it!\n",
    "fighand = plt.gca()"
   ]
  },
  {
   "cell_type": "code",
   "execution_count": null,
   "metadata": {
    "id": "1E6Nhl7XDkD7"
   },
   "outputs": [],
   "source": [
    "runtest(['test_plot_2'])"
   ]
  },
  {
   "cell_type": "markdown",
   "metadata": {
    "id": "W34c2F1sUymt"
   },
   "source": [
    "# Taking it further\n",
    "\n",
    "To take the ideas in this notebook further you can develop your own Markov chain to investigate.  Your chain should have a mixture of transient and recurrent states.  You should then try to extract the hitting times or hitting probabilities for your chain.  You can check if you have done this correctly by calculating these quantities by sampling and by using the analytic methods that I introduced you to at the end of the exercise.  If the coding has been done correctly you should get similar numbers from both methods.\n",
    "\n",
    "__N.B. Remember that if you are estimating quantities by taking averages you need to provide a suitable estimate of the errors on your estimates__"
   ]
  },
  {
   "cell_type": "code",
   "execution_count": null,
   "metadata": {
    "id": "u1qDMg7LUymt"
   },
   "outputs": [],
   "source": []
  }
 ],
 "metadata": {
  "colab": {
   "cell_execution_strategy": "setup",
   "private_outputs": true,
   "provenance": []
  },
  "kernelspec": {
   "display_name": "Python 3 (ipykernel)",
   "language": "python",
   "name": "python3"
  },
  "language_info": {
   "codemirror_mode": {
    "name": "ipython",
    "version": 3
   },
   "file_extension": ".py",
   "mimetype": "text/x-python",
   "name": "python",
   "nbconvert_exporter": "python",
   "pygments_lexer": "ipython3",
   "version": "3.9.19"
  }
 },
 "nbformat": 4,
 "nbformat_minor": 1
}
