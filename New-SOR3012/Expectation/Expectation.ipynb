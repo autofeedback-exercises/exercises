{
 "cells": [
  {
   "cell_type": "markdown",
   "metadata": {
    "id": "NVOkK4hCU7RK"
   },
   "source": [
    "# Run this cell first"
   ]
  },
  {
   "cell_type": "code",
   "execution_count": null,
   "metadata": {
    "id": "QCMw-lybOsz-"
   },
   "outputs": [],
   "source": [
    "# this code enables the automated feedback. If you remove this, you won't get any feedback\n",
    "# so don't delete this cell!\n",
    "try:\n",
    "  import AutoFeedback\n",
    "except (ModuleNotFoundError, ImportError):\n",
    "  !pip install git+https://github.com/abrown41/AutoFeedback@notebook\n",
    "  import AutoFeedback\n",
    "\n",
    "try:\n",
    "  from testsrc import test_main\n",
    "except (ModuleNotFoundError, ImportError):\n",
    "  !pip install \"git+https://github.com/autofeedback-exercises/exercises.git@testpip#subdirectory=New-SOR3012/Expectation\"\n",
    "  from testsrc import test_main\n",
    "\n",
    "def runtest(tlist):\n",
    "  import unittest\n",
    "  from contextlib import redirect_stderr\n",
    "  from os import devnull\n",
    "  with redirect_stderr(open(devnull, 'w')):\n",
    "    suite = unittest.TestSuite()\n",
    "    for tname in tlist:\n",
    "      suite.addTest(eval(f\"test_main.UnitTests.{tname}\"))\n",
    "    runner = unittest.TextTestRunner()\n",
    "    try:\n",
    "      runner.run(suite)\n",
    "    except AssertionError:\n",
    "      pass\n"
   ]
  },
  {
   "cell_type": "markdown",
   "metadata": {
    "id": "0pKx6PGAxoY2"
   },
   "source": [
    "# Calculating the data range\n",
    "\n",
    "For these next three exericses I have sampled some random variables from a distribution for you.  The data I have generated is contained in the `data.dat` file.  I have also loaded the data from this file into a NumPy array called `x` by using the command:\n",
    "\n",
    "```python\n",
    "x = np.loadtxt(<some_url>)\n",
    "```\n",
    "\n",
    "The aim of these exercise is to determine something about the distribution that the data in `data.dat` was sampled from.  We do this by calculating quantities know as summary statistics.  Summary statistics are useful because they allow\n",
    "us to summarise information contained in our data set using fewer numbers.  For example, if we were writing a report about our results we might want to summarise the experimental data that we obtained using a sentence like the one below:\n",
    "\n",
    "_N measurements of this quantity were obtained.  The lowest value obtained was L, while the highest value was U._\n",
    "\n",
    "This sentence provides a one-line summary of the range of results that we obtained in the experiment.\n",
    "\n",
    "Notice that we can get the number of elements in a NumPy array called `myarray` by using the command:\n",
    "\n",
    "```python\n",
    "number = len( myarray )\n",
    "```\n",
    "\n",
    "Furthermore, we can use python to determine the largest and smallest values in a np.array called `myarray` by using the commands:\n",
    "\n",
    "```python\n",
    "lowest = min( myarray )\n",
    "highest = max( myarray )\n",
    "```\n",
    "\n",
    "__To complete this task write a program that determines the values that should be used to replace `N`, `L` and `U` in the sentence in italics above given the data in the `data.dat` file.__\n",
    "I have loaded the data in this file into an array called `x` for you.  To pass the test you will need to define three variables called `N`, `L` and `U` in your code.  The values of these\n",
    "variables should be set so that the sentence in italics above is an accurate description of the information in `data.dat`.\n"
   ]
  },
  {
   "cell_type": "code",
   "execution_count": null,
   "metadata": {
    "id": "0WkqhMvRXGSM"
   },
   "outputs": [],
   "source": [
    "import numpy as np\n",
    "\n",
    "# This loads the data that we are going to investigate\n",
    "x = np.loadtxt('https://raw.githubusercontent.com/autofeedback-exercises/exercises/testpip/New-SOR3012/Expectation/data.dat')\n",
    "\n",
    "# Your code will go here\n"
   ]
  },
  {
   "cell_type": "code",
   "execution_count": null,
   "metadata": {
    "id": "RIxrsA4EjgTf"
   },
   "outputs": [],
   "source": [
    "runtest(['test_N', 'test_L', 'test_U'])"
   ]
  },
  {
   "cell_type": "markdown",
   "metadata": {
    "id": "RbREVQHt46VR"
   },
   "source": [
    "# Calculating the cumulative distribution for the data\n",
    "\n",
    "Each of the random variables that you have learned to sample in the earlier parts of this exercise has a corresponding distribution that is sampled when we generate the data.\n",
    "A question we might ask, therefore, is whether we can calculate the distribution if we are given a sample of random variables from a particular distribution.  The answer to this is no.  There are, however,\n",
    "a number of ways we can estimate the distribution function for a random variable.  In this exericse I am going to show you how we can estimate the cumulative probability distribution function, P(X<=x).\n",
    "\n",
    "Watching [this video](https://www.youtube.com/watch?v=VaZTKmcxLvY) will help you to better understand this exercise.\n",
    "\n",
    "I have started writing the code to calculate the cumulative distribution for you in the file `main.py`.  As you can see I have loaded the data set from the file data.dat saved it in a list called `x`.  The two lines at the end of the script that read:\n",
    "\n",
    "```python\n",
    "plt.plot( x, y, 'k-' )\n",
    "\n",
    "```\n",
    "\n",
    "Are then going to plot our cumulative probability distribution function.  You will notice that the list called `y` that we are plotting with the plot command is not defined anywhere in the code.  One of your tasks is, therefore, to write the code that calculates this variable.\n",
    "\n",
    "Recall from the video that calculating the cumulative distribution for a dataset involves two steps:\n",
    "\n",
    "1. Sorting the data.  You can sort the data in the array called `x` by issuing the command `x.sort()`\n",
    "2. Plotting a graph in which the x-coordinates give the sorted data values and the y-coordinates are the index of the corresponding x coordinate in the sorted list divided by the total number of points in the list. .\n",
    "3. Label the x-axis of your graph 'x' and the y-axis of your graph 'cumulative distribution'\n",
    "\n",
    "Once you have sorted `x` you just need to create the list called `y` that you are going to plot.  This list is going to contain the numbers between 1 and the number of data points in your list divided by the total number of data points.  If you had four data points `y` would thus be:\n",
    "\n",
    "```python\n",
    "y = [1/4, 2/4, 3/4, 4/4]\n",
    "```\n",
    "\n",
    "Try to write the rest of the code to plot your cumulative probability distribution now.\n"
   ]
  },
  {
   "cell_type": "code",
   "execution_count": null,
   "metadata": {
    "id": "0KNqRn6InCe-"
   },
   "outputs": [],
   "source": [
    "import matplotlib.pyplot as plt\n",
    "import numpy as np\n",
    "\n",
    "# This loads the data that we are going to investigate\n",
    "x = np.loadtxt('https://raw.githubusercontent.com/autofeedback-exercises/exercises/testpip/New-SOR3012/Expectation/data.dat')\n",
    "\n",
    "# Your code will go here\n",
    "\n",
    "\n",
    "\n",
    "# This code is required for the autofeedback- don't delete it!\n",
    "fighand = plt.gca()\n"
   ]
  },
  {
   "cell_type": "code",
   "execution_count": null,
   "metadata": {
    "id": "L7v-zD1birxT"
   },
   "outputs": [],
   "source": [
    "runtest(['test_plot'])"
   ]
  },
  {
   "cell_type": "markdown",
   "metadata": {
    "id": "jlXNd1U5s11C"
   },
   "source": [
    "# The median and percentiles\n",
    "\n",
    "Plotting the cumulative probability distribution is useful as if we know this function we can use it to describe the data using a sentence such as:\n",
    "\n",
    "_z % of the data points are less than or equal to x._\n",
    "\n",
    "In this exercise I am going to show you how to determine the value of x if you are given z.\n",
    "We can do this using the function `np.percentile` as shown below:\n",
    "\n",
    "```python\n",
    "x = np.percentile( data, z )\n",
    "```\n",
    "\n",
    "The quantity, x, that is output by this function can gives us a value that z % of the data in the NumPy array `data` is less or equal to.\n",
    "\n",
    "__To complete this exercise I would like you to use `np.percentile` to calculate:__\n",
    "\n",
    "1. the minimum of the data set\n",
    "2. the lower quartile\n",
    "3. the median\n",
    "4. the upper quartile\n",
    "5. the maximum\n",
    "\n",
    "for the data contained in the np array called `x`.  These quantities should be saved in variables called `dmin`, `lowq`, `median`, `highq` and `dmax`.\n",
    "\n",
    "We can display these 5 points graphically by using a box plot.  I have included some code at the end of the program that will produce a box plot for you.\n"
   ]
  },
  {
   "cell_type": "code",
   "execution_count": null,
   "metadata": {
    "id": "Avm9tkyxQq9r"
   },
   "outputs": [],
   "source": [
    "import matplotlib.pyplot as plt\n",
    "import numpy as np\n",
    "\n",
    "# This loads the data that we are going to investigate\n",
    "x = np.loadtxt('https://raw.githubusercontent.com/autofeedback-exercises/exercises/testpip/New-SOR3012/Expectation/data.dat')\n",
    "\n",
    "# Your code will go here\n",
    "\n",
    "\n",
    "\n",
    "\n",
    "# This will produce a box plot for you automatically\n",
    "plt.boxplot\n",
    "# This code is required for the autofeedback- don't delete it!\n",
    "fighand = plt.gca()\n"
   ]
  },
  {
   "cell_type": "code",
   "execution_count": null,
   "metadata": {
    "id": "NvJngeJOFYEH"
   },
   "outputs": [],
   "source": [
    "runtest(['test_dmin', 'test_lowq', 'test_median', 'test_highq', 'test_dmax'])"
   ]
  },
  {
   "cell_type": "markdown",
   "metadata": {
    "id": "bd4pCOeljzlT"
   },
   "source": [
    "# Calculating the expectation\n",
    "\n",
    "As discussed in the previous couple of exercises the sample mean that we calculate is a random variable.  In order to make our result reproducible we must provide some information about the distribution whenever we quote this quantity.  When we calculate the mean, however, we are estimating the expectation of the random variable.  The expectation of a discrete random variable can be calculated exactly by using the following expression:\n",
    "\n",
    "![](equation-1.png)\n",
    "\n",
    "The sum in this expression runs over all the values that the random variable can take and P(X=x) is the probablity mass function.  Critically the value of the expectation that is calculated using the sum above is __not__ random.  You can thus calculate it exactly.\n",
    "\n",
    "In these exercises we are calculating sample means by adding together independent and identical uniform, binomial, Bernoulli, geometric, exponential, negative binomial and normal random variables.  You know exact expressions for the expectations of all these types of random variable.  For expample, you know that the expectation of a binomial random variable Y with parameters n and p is:\n",
    "\n",
    "![](equation-2.png)\n",
    "\n",
    "Whenever you write codes to estimate the expectation of one of these variables you should check that the true expectation lies within the confidence limit that you calculate as a sanity check on your code.\n",
    "\n",
    "For this expression I want you to write functions that return the true expectations for the following kinds of random variables:\n",
    "\n",
    "* Bernoulli random variables\n",
    "* Binomial random variables\n",
    "* Geometric random variables\n",
    "* Uniform discrete random variables\n",
    "* Uniform continuous random variables\n",
    "* Negative binomial random variables\n",
    "* Exponential random variables\n",
    "* Normal random variables\n",
    "\n",
    "As you can see in the stub code on the left, each of your functions take the parameters of the random variable as input.  You then need to use the formula for the expectation within the function.  N.B. If you have forgotten the expression for the expectation of any one of these types of random variable you can easily look it up on Wikipedia.\n"
   ]
  },
  {
   "cell_type": "code",
   "execution_count": null,
   "metadata": {
    "id": "SS0f7bMSCNyx"
   },
   "outputs": [],
   "source": [
    "import numpy as np\n",
    "\n",
    "def bernoulli(p) :\n",
    "  # Insert code for calculating and returning the expectation of a Bernoulli random variable here\n",
    "\n",
    "def binomial(n, p) :\n",
    "  # Insert code for calculating and returning the expectation of a binomial random variable here\n",
    "\n",
    "def geometric(p) :\n",
    "  # Insert code for calculating and returning the expectation of a geometric random variable here\n",
    "\n",
    "def negative_binomial(r, p) :\n",
    "  # Insert code for calculating and returning the expectation of a negative binomial random variable here\n",
    "\n",
    "def uniform_continuous(a, b) :\n",
    "  # Insert code for calculating and returning the expectation of a uniform continuous random variable here\n",
    "\n",
    "def uniform_discrete(a,b) :\n",
    "  # Insert code for calculating and returning the expectation of a uniform discrete random variable here\n",
    "\n",
    "def exponential(lam) :\n",
    "  # Insert code for calculating and returning the expectation of a exponential random variable here\n",
    "\n",
    "def normal(mu, sigma) :\n",
    "  # Insert code for calculating and returning the expectation of a Normal random variable here\n",
    "\n",
    "\n",
    "print('The expectation for a Bernoulli random variable with p=0.5 is', bernoulli(0.5) )\n",
    "print('The expectation for a binomial random variable with n=5, p=0.5 is', binomial(5,0.5) )\n",
    "print('The expectation for a geometric random variable with p=0.5 is', geometric(0.5) )\n",
    "print('The expectation for a negative binomial random variable with r=3 and p=0.5 is', negative_binomial(3,0.5) )\n",
    "print('The expectation for a uniform continusou random variable with a=0 and b=1 is', uniform_continuous(0,1) )\n",
    "print('The expectation for a uniform discrete random variable with a=1 and b=8 is', uniform_discrete(1,8) )\n",
    "print('The expectation for a exponential random variable with lambda=2 is', exponential(2) )\n",
    "print('The expectation for a normal random variable with mu=4 and sigma=2 is', normal(4,2) )\n"
   ]
  },
  {
   "cell_type": "code",
   "execution_count": null,
   "metadata": {
    "id": "DLMyt8QeR0Y9"
   },
   "outputs": [],
   "source": [
    "runtest(['test_bernoulli', 'test_binomial', 'test_geometric', 'test_negative_binomial', 'test_uniform_continuous', 'test_uniform_discrete', 'test_exponential', 'test_normal'])"
   ]
  },
  {
   "cell_type": "markdown",
   "metadata": {
    "id": "j3g8pMzAI37j"
   },
   "source": [
    "# Calculating the sample mean\n",
    "\n",
    "We can calculate the sample mean from a set of random variables using the expression below:\n",
    "\n",
    "![](equation.png)\n",
    "\n",
    "It is worth considering what happens if each of the Xi in the sum on the right-hand side of the expression is a random variable from one of the distributions that we learned about last week.  Obviously, as all the Xi are random, it\n",
    "stands to reason that the quantity on the left-hand side is also a random variable.  We thus would like to know something about how the statistic on the left-hand side is distributed.\n",
    "\n",
    "The easiest way to investigate this distribution is to sample random variables from this distribution multiple times.  __To complete this exercise I would thus like you to complete the function called `average` in `main.py`__.  This function takes an integer called `n` as input.  Within the function, you should generate `n` uniform random variables between 0 and 1.  You should then calculate the sample mean from these `n` variables using the expression above and then `return` this quantity from your function.\n",
    "\n",
    "When your code is complete a graph will be generated.  The red points are all uniform random variables that lie between 0 and 1.  The black points, meanwhile, are all sample means computed from sets of 100 uniform random variables.  __Before moving on take a look at this graph and consider which of the two distributions is more precisely distributed.__\n"
   ]
  },
  {
   "cell_type": "code",
   "execution_count": null,
   "metadata": {
    "id": "QfUE9-q5nO4K"
   },
   "outputs": [],
   "source": [
    "import matplotlib.pyplot as plt\n",
    "import numpy as np\n",
    "\n",
    "def average(n) :\n",
    "  # Your code to compute the average for a set of n uniform random variables goes here.\n",
    "\n",
    "\n",
    "# You should not need to adjust the code from here onwards\n",
    "xv, yv1, yv2 = np.linspace(1,100,100), np.zeros(100), np.zeros(100)\n",
    "for i in range(100) :\n",
    "  yv1[i] = np.random.uniform(0,1)\n",
    "  yv2[i] = average(100)\n",
    "\n",
    "plt.plot( xv, yv1, 'ro' )\n",
    "plt.plot( xv, yv2, 'ko' )\n",
    "\n",
    "# This code is required for the autofeedback- don't delete it!\n",
    "fighand = plt.gca()\n"
   ]
  },
  {
   "cell_type": "code",
   "execution_count": null,
   "metadata": {
    "id": "5XSDJbuhP2-P"
   },
   "outputs": [],
   "source": [
    "runtest(['test_variables'])"
   ]
  },
  {
   "cell_type": "markdown",
   "metadata": {
    "id": "tstee1gTav7P"
   },
   "source": [
    "# How the sample mean changes with sample size\n",
    "\n",
    "In this exercise, we want to look at how the value of the sample mean changes as we change the number of random variables that it is calculated from.  Once you have finished it the code in `main.py` will draw a graph showing how the sample mean computed from a number of uniform random variables changes as you increase the number of random variables from which the mean is computed.  To complete the code you will need to:\n",
    "\n",
    "1. Set the first element of the list called `indices` equal to 1, the second element of the list called `indices` to 2 and so on.\n",
    "2. Set the first element of the list called  `average` equal to a sample mean calculated by generating 1 uniform random variable that lies between 0 and 1, the second element of the list `average` equal to a sample mean calculated by generating 2 uniform random variables that lie between 0 and 1, set the third element of the list called `average` equal to a sample mean calculated by generating 3 uniform random variables that lie between 0 and 1 and so on until you have computed an average by generating 200 uniform random variables.\n",
    "\n",
    "Remember that the sample mean is defined as:\n",
    "\n",
    "![](equation.png)\n",
    "\n",
    "When the code is complete it should generate a graph of the sample mean versus the number of samples they are calculated from.  The red points on this graph are your various estimates of the sample mean.  The black, dashed horizontal line, meanwhile, shows indicate the value of the true expectation for this distribution.  You should see that the sample mean gets progressively closer and closer to this line as the number of samples it is computed from increases.\n"
   ]
  },
  {
   "cell_type": "code",
   "execution_count": null,
   "metadata": {
    "id": "rSjyfocGayYp"
   },
   "outputs": [],
   "source": [
    "import matplotlib.pyplot as plt\n",
    "import numpy as np\n",
    "\n",
    "ssum, indices, average = 0, np.zeros(200), np.zeros(200)\n",
    "for i in range(200) :\n",
    "  # Add code to setup the numpy arrays called indices and average to generate the desired\n",
    "  # plot here.\n",
    "\n",
    "\n",
    "\n",
    "# This will plot the graph for the data.  You should not need to adjust this.\n",
    "plt.plot( indices, average, 'ro' )\n",
    "plt.plot( [0,200], [0.5,0.5], 'k--' )\n",
    "plt.xlabel('Number of random variables')\n",
    "plt.ylabel('Sample mean')\n",
    "\n",
    "# This code is required for the autofeedback- don't delete it!\n",
    "fighand = plt.gca()\n"
   ]
  },
  {
   "cell_type": "code",
   "execution_count": null,
   "metadata": {
    "id": "pmZ5y9OXTX-y"
   },
   "outputs": [],
   "source": [
    "runtest(['test_variables_1'])"
   ]
  },
  {
   "cell_type": "markdown",
   "metadata": {
    "id": "jy5qnbv9TU3d"
   },
   "source": [
    "# Sampling the mean\n",
    "\n",
    "You have learned a sample mean computed by adding together n identical random variables has a value that close to the value of the expectation of the random variable.  Furthermore, the larger the value of n the closer the sample mean will be to the true expectation.  Importantly, however, the sample mean is not equal to the expectation as the sample mean is a random variable.  When we quote means we therefore need to do what we learned in previous exercises.  We need to provide some information about the distribution that the mean was sampled from.  We cannot simply quote a single number as that number is random.  The randomness makes it impossible for colleagues to reproduce our results.  What they should be able to show, however, is that the distribution they are sampling in their experiment is the same as the distribution we are sampling in ours.\n",
    "\n",
    "In this exercise I want to ensure that you understand what it means for us to generate a sample of sample means.  I thus want you to complete the following tasks:\n",
    "\n",
    "1. Write a function called `sample_mean`.  This function should take in a single argument `n` and should return a sample mean that is computed by adding together `n` uniform continuous random variables that lie between 0 and 1.\n",
    "\n",
    "2. Write a second function called `sample`.  This function should take in two arguments `m` and `n`.  It should return a NumPy array that contains `m` elements.  Each of these `m` elements should be equal to a sample mean that was computed by adding together `n` uniform continuous random variables that lie between 0 and 1.\n",
    "\n",
    "N.B. Your function called `sample` should call your function called `sample_mean`.\n"
   ]
  },
  {
   "cell_type": "code",
   "execution_count": null,
   "metadata": {
    "id": "tSaOcU39kgGv"
   },
   "outputs": [],
   "source": [
    "import numpy as np\n",
    "\n",
    "\n",
    "def sample_mean(n) :\n",
    "  # Code for generating the sample mean goes here\n",
    "\n",
    "\n",
    "def sample(m,n) :\n",
    "  # Code for generating the sample goes here\n"
   ]
  },
  {
   "cell_type": "code",
   "execution_count": null,
   "metadata": {
    "id": "82IJ9X6iLtnH"
   },
   "outputs": [],
   "source": [
    "runtest(['test_mean', 'test_sample'])"
   ]
  },
  {
   "cell_type": "markdown",
   "metadata": {
    "id": "RuGFdvSWctbY"
   },
   "source": [
    "# Confidence limit on mean\n",
    "\n",
    "As discussed previously any sample mean that we calculate is a random variable.  In order to make our result reproducible we must provide some information about the distribution whenever we quote a sample mean.  In previous exercises we have seen how we can provide this information on the distribution by proposing a confidence limit.  The process that we used to do this in those previous exercises involved:\n",
    "\n",
    "1. Generating multiple random variables.\n",
    "\n",
    "2. Using the `np.percentile` function to find a range that 90% of these random samples falls within.\n",
    "\n",
    "We could thus make our result by reprocible by noting that if our colleague was sampling the same distribution as us he should obtain a result that falls between the 5th and 95th percentile of our distribution of results with a probablity of 90%.\n",
    "\n",
    "To complete this exercise I want you to apply this idea for quoting confidence limits on a sample mean.  To complete the exericse you will need to complete the following functions in `main.py`:\n",
    "\n",
    "1. `sample_mean` should take in a single number `n`.  This function should return a sample mean that is calculated by adding `n` uniform random variables that lie between 0 and 1 together.\n",
    "\n",
    "2. `limit` should take in two numbers `n` and `m`.  This funciton should generate `m` sample means and store them in a NumPy array.  Each of these sample means should be calculated by adding together `n` uniform random variables that lie between 0 and 1.  This function should then return three numbers.  The first of these numbers `lower` should be the 5th percentile of the distribution of sample means that were generated.   The second of these numbers `median` should be the median of the sample means that was generated.  The final number `upper` should be the 95th percentile of the distribution of sample means.\n"
   ]
  },
  {
   "cell_type": "code",
   "execution_count": null,
   "metadata": {
    "id": "Y6f7sVpkwrP-"
   },
   "outputs": [],
   "source": [
    "import numpy as np\n",
    "import scipy.stats\n",
    "\n",
    "def sample_mean(n) :\n",
    "  # Your code for calculating the sample mean for n\n",
    "  # uniform random variabels between 0 and 1 goes here.\n",
    "\n",
    "def limit(n,m) :\n",
    "  # Your code to calculate the m sample means goes here.\n",
    "  # Each of these sample means should be computed from\n",
    "  # n uniform random variables between 0 and 1 goes\n",
    "  # here.\n",
    "\n",
    "\n",
    "  # When completed this function should return\n",
    "  # lower = the 5th percentile of the distribution for the sample mean\n",
    "  # median = your estimate for the median\n",
    "  # upper = the 95th percentile of the distribution for the sample mean\n",
    "  return lower, median, upper\n",
    "\n",
    "print( limit(10,100) )\n",
    "print( limit(10,100) )\n",
    "print( limit(10,100) )\n",
    "print( limit(10,100) )\n"
   ]
  },
  {
   "cell_type": "code",
   "execution_count": null,
   "metadata": {
    "id": "NgEWMrcAdCh2"
   },
   "outputs": [],
   "source": [
    "runtest(['test_mean_1', 'test_limit'])"
   ]
  },
  {
   "cell_type": "markdown",
   "metadata": {
    "id": "lNVsO-n6k2ou"
   },
   "source": [
    "# Variance of mean\n",
    "\n",
    "In this exercise I want you to calculate the variance of the sample mean:\n",
    "\n",
    "![](equation.png)\n",
    "\n",
    "In the expression above each of the X_ij values is a uniform continuous random variable that lies between 0 and 1.  The sums over j are thus simply calculations of the sample mean.  The sample variance is thus calculated from n estimates fo teh sample mean.\n",
    "\n",
    "I would like you to investigate how the value of the variance  changes as the number of variables (i.e. m) that were used in the calculation of __the sample mean__ changes.  As in the previous exercise, you will need to complete the two functions:\n",
    "\n",
    "1.  `sample_mean` - takes a single integer `m` in input.  It should return a sample mean that is computed by generating `m` uniform random variables that lie between 0 and 1.\n",
    "2. `variance` - takes two integers in input `m` and `n`.  This function should return an estimate of the variance for a sample mean computed from `m` uniform random variables that lie between 0 and 1.  This variance should be calculated by generating `n` estimates of the sample mean.\n",
    "\n",
    "You then need to write the internals of the loop that I have started to set the variables `xvals` and `yvals`:\n",
    "\n",
    "1. The first element of `xvals` should be set equal to 1, the second element should be set to two and so on.\n",
    "2. The first element of `yvals` should be set equal to an estimate of the variance for a sample mean computed from one random variable, the second element should be set equal to an estimate of the sample variance for a sample mean computed from two random variables, the third element should be set equal to an estimate of the sample variance for a sample mean computed from three random variables.  This process should be continued until you have an estimate of the sample variance for a sample mean computed from 50 random variables.\n",
    "\n",
    "All your estimates for the sample variance should be computed from 10 random variables.\n",
    "\n",
    "You should plot a graph showing your values for the sample variance on the y-axis and the number of random variables that were added together to compute the mean on the x-axis.  The label\n",
    "for the x-axis should be 'Number of variables used to calculate mean' and the y-axis label should be 'Variance'\n"
   ]
  },
  {
   "cell_type": "code",
   "execution_count": null,
   "metadata": {
    "id": "24TB-1jxNR5S"
   },
   "outputs": [],
   "source": [
    "import matplotlib.pyplot as plt\n",
    "import numpy as np\n",
    "\n",
    "def sample_mean(m) :\n",
    "  # Your code to calculate a  sample mean from m\n",
    "  # uniform random variables between 0 and 1 goes here\n",
    "\n",
    "\n",
    "def variance(n,m) :\n",
    "  # Your code to estimate the variance for a set of n\n",
    "  # sample means, which are each computed from m\n",
    "  # uniform random variables between 0 and 1 goes here.\n",
    "\n",
    "xvals, yvals = np.zeros(50), np.zeros(50)\n",
    "for i in range(50) :\n",
    "  # Your code to set xvals and yvals as described in the panel\n",
    "  # on the right goes here\n",
    "\n",
    "\n",
    "# This code is required for the autofeedback- don't delete it!\n",
    "fighand = plt.gca()\n",
    "\n"
   ]
  },
  {
   "cell_type": "code",
   "execution_count": null,
   "metadata": {
    "id": "4oT2lzXxudLi"
   },
   "outputs": [],
   "source": [
    "runtest(['test_variables_2'])"
   ]
  },
  {
   "cell_type": "markdown",
   "metadata": {
    "id": "55iwnBsYE8Kw"
   },
   "source": [
    "# Calculating the sample variance\n",
    "\n",
    "If we do not know the exact value of the expectation for the distribution we should use the following estimator for the sample variance:\n",
    "\n",
    "![](equation1.png)\n",
    "\n",
    "which we can easily rearrange to:\n",
    "\n",
    "![](equation2.png)\n",
    "\n",
    "__Your task in this exercise is to write a function called `variance` that calculates an estimate of this quantity.__  This function should take in a single number `n`.  Within the function you should then generate `n` uniform\n",
    "random variables that all lie between 0 and 1.  From these `n` random variables you should then calculate an estimate for the variance of the underlying distribution using the second of the two expressions above.\n"
   ]
  },
  {
   "cell_type": "code",
   "execution_count": null,
   "metadata": {
    "id": "EYIII21LBTBm"
   },
   "outputs": [],
   "source": [
    "import numpy as np\n",
    "\n",
    "def variance(n) :\n",
    "  # Your function to calculate the variance for a set of n uniform random variables goes here\n",
    "\n"
   ]
  },
  {
   "cell_type": "code",
   "execution_count": null,
   "metadata": {
    "id": "vvb5aObQtnNp"
   },
   "outputs": [],
   "source": [
    "runtest(['test_variables_3'])"
   ]
  },
  {
   "cell_type": "markdown",
   "metadata": {
    "id": "cdOhCT0rvYdD"
   },
   "source": [
    "# Converging the sample variance\n",
    "\n",
    "Let's look again at the sample variance computed, which is computed using:\n",
    "\n",
    "![](equation.png)\n",
    "\n",
    "Let's now look at how this quantity depends on the number of random variables that it is computed from.  __To complete the exercise you need to generate a graph that shows how the estimate of the sample variance for a uniform random variable that lies between 0 and 1 depends on the number of random variables it is computed from.__   I have written some code to get you started with the exercise.  To complete the task you need to:\n",
    "\n",
    "1. Set the first element of the array called `indices` equal to 2, the second element of the array called `indices` to 3 and so on.  (Notice that the sample variance with n=1 is not defined as if n=1 the n-1 in the denominator is 0 and the numerator is similarly zero).\n",
    "\n",
    "2. Set the first element of the array called `S2` equal to a sample variance computed using the above formula with n=2, the second element of this list to a sample variance computed using the above formula with n=3 and so up until you have computed the formula above with n=201.\n",
    "\n",
    "3. Draw a graph that has the number of random variables that were used to calculate the variance on the x-axis and the estimate of the variance on the y-axis.  The x-axis label for this graph should be __Number of random variables__ and the y-axis label should be __Sample variance__.\n",
    "\n",
    "When your code is complete a graph showing the value of the estimate of the sample variance as a function of n will be generated.\n"
   ]
  },
  {
   "cell_type": "code",
   "execution_count": null,
   "metadata": {
    "id": "xwqhA6-SDhwM"
   },
   "outputs": [],
   "source": [
    "import matplotlib.pyplot as plt\n",
    "import numpy as np\n",
    "\n",
    "myvar = np.random.uniform(0,1)\n",
    "ssum, ssum2 = myvar, myvar*myvar\n",
    "indices, S2 = np.zeros(200), np.zeros(200)\n",
    "for i in range(200) :\n",
    "  # Add code to setup the numpy arrays called indices and average to generate the desired plot here.\n",
    "\n",
    "\n",
    "# This code is required for the autofeedback- don't delete it!\n",
    "fighand = plt.gca()"
   ]
  },
  {
   "cell_type": "code",
   "execution_count": null,
   "metadata": {
    "id": "k9DVlWOA0-JG"
   },
   "outputs": [],
   "source": [
    "runtest(['test_variables_4'])"
   ]
  },
  {
   "cell_type": "markdown",
   "metadata": {
    "id": "jIFsa8Ybs1lq"
   },
   "source": [
    "# Using the normal distribution for error bars\n",
    "\n",
    "It is reasonable to assume that any sample mean we calculate is a sample from normal distribution.  This assumption is useful because it makes it straightforward to calculate confidence limits.  If the mean is a sample from a normal distribution we no longer need to do any resampling as we know the distribution we are sampling from.  In this exercise, we are going to see how easy this realisation makes the process of calculating error bars.\n",
    "\n",
    "The fact that sample means are samples from normal distribution is a consequence of a the central limit theorem.  This theorem tells us the cumulative probability distribution function for the sample mean.  __The cumulative probability distribution function for the sample mean is that of a normal distribution with an expectation equal to the sample mean and a variance equal to the sample variance divided by the number of random variables from which the sample mean was computed.__  To compute error bars around a sample mean we need simply to compute the sample variance and to then use the inverse of the cumulative probability distribution for a normal random variable to get the percentiles.  There is no longer any need to resample.\n",
    "\n",
    "The exercise in the panel on the left will hopefully help you to understand how you can compute an error bar by using the central limit theorem.  To complete this code you will need to write a function called `mean_with_errors` that takes in a parameter called `n`.  This function should return a sample mean computed from `n` uniform random variables that lie between 0 and 1.  This quantity should be returned in the variable called `mean`.  In addition, you should also compute the 5th and 95th percentiles for the distribution that mean was sampled from.  These two quantities should be retuned as `lower` and `upper`.  When calculating `lower` and `upper` you should assume that the sample mean is a sample from a normal distribution with suitable parameters.\n",
    "\n",
    "Within the function called `mean_with_errors` you will need to compute the sample mean and the sample variance for your sample of `n` uniform random variables.  You should then be able to calculate lower and upper using your computed values for the sample mean and sample variance and the following python function:\n",
    "\n",
    "```python\n",
    "ppp = scipy.stats.norm.ppf(0.95)\n",
    "```\n",
    "\n",
    "The call above computes the 95th percentile for a standard normal random variable.  i.e. A normal random variable with expectation 0 and variance 1.\n"
   ]
  },
  {
   "cell_type": "code",
   "execution_count": null,
   "metadata": {
    "id": "obXqAJtQRGoV"
   },
   "outputs": [],
   "source": [
    "import numpy as np\n",
    "import scipy.stats\n",
    "\n",
    "def mean_with_errors(n) :\n",
    "  # Your code to calculate the sample mean and sample variance\n",
    "  # for a set of n uniform random variables between 0 and 1 goes\n",
    "  # here.\n",
    "\n",
    "\n",
    "  # When complete this function should return\n",
    "  # lower = the 5th percentile of the distribution that was sampled\n",
    "  # mean = your estimate for the sample mean\n",
    "  # upper = the 95th percentile of the distribution that was sampled\n",
    "  # N.B. To compute lower and upper you should be using the central\n",
    "  # limit theorem as discussed in the explanatory text.\n",
    "  return lower, mean, upper\n",
    "\n",
    "print( mean_with_errors(100) )\n",
    "print( mean_with_errors(100) )\n",
    "print( mean_with_errors(100) )\n",
    "print( mean_with_errors(100) )\n"
   ]
  },
  {
   "cell_type": "code",
   "execution_count": null,
   "metadata": {
    "id": "t8Rhy9sLKhue"
   },
   "outputs": [],
   "source": [
    "runtest(['test_function'])"
   ]
  }
 ],
 "metadata": {
  "colab": {
   "cell_execution_strategy": "setup",
   "collapsed_sections": [
    "NVOkK4hCU7RK"
   ],
   "private_outputs": true,
   "provenance": []
  },
  "kernelspec": {
   "display_name": "Python 3 (ipykernel)",
   "language": "python",
   "name": "python3"
  },
  "language_info": {
   "codemirror_mode": {
    "name": "ipython",
    "version": 3
   },
   "file_extension": ".py",
   "mimetype": "text/x-python",
   "name": "python",
   "nbconvert_exporter": "python",
   "pygments_lexer": "ipython3",
   "version": "3.9.13"
  }
 },
 "nbformat": 4,
 "nbformat_minor": 1
}
