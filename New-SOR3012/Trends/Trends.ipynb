{
 "cells": [
  {
   "cell_type": "markdown",
   "metadata": {
    "id": "NVOkK4hCU7RK"
   },
   "source": [
    "# Run this cell first"
   ]
  },
  {
   "cell_type": "code",
   "execution_count": null,
   "metadata": {
    "id": "QCMw-lybOsz-"
   },
   "outputs": [],
   "source": [
    "# this code enables the automated feedback. If you remove this, you won't get any feedback\n",
    "# so don't delete this cell!\n",
    "try:\n",
    "  import AutoFeedback\n",
    "except (ModuleNotFoundError, ImportError):\n",
    "  !pip install git+https://github.com/abrown41/AutoFeedback@notebook\n",
    "  import AutoFeedback\n",
    "\n",
    "try:\n",
    "  from testsrc import test_main\n",
    "except (ModuleNotFoundError, ImportError):\n",
    "  !pip install \"git+https://github.com/autofeedback-exercises/exercises.git#subdirectory=New-SOR3012/Trends\"\n",
    "  from testsrc import test_main\n",
    "\n",
    "def runtest(tlist):\n",
    "  import unittest\n",
    "  from contextlib import redirect_stderr\n",
    "  from os import devnull\n",
    "  with redirect_stderr(open(devnull, 'w')):\n",
    "    suite = unittest.TestSuite()\n",
    "    for tname in tlist:\n",
    "      suite.addTest(eval(f\"test_main.UnitTests.{tname}\"))\n",
    "    runner = unittest.TextTestRunner()\n",
    "    try:\n",
    "      runner.run(suite)\n",
    "    except AssertionError:\n",
    "      pass\n"
   ]
  },
  {
   "cell_type": "markdown",
   "metadata": {},
   "source": [
    "# Introduction\n",
    "\n",
    "The random variables that have been introduced in previous blocks contain parameters.  For example, the Bernoulli random variable has a parameter $p$, the binomial random variable has two parameters $n$ and $p$ and the uniform random variable has two parameters $a$ and $b$.  Many stochastic models have parameters that can be varied by the modler like these.  When we are investigating such models an interesting exercise is to draw a graph that shows how the output of the model changes as the parameter is changed.  In other words, we draw a graph showing the value of the dependent variable (the random variable) on the y-axis and the independent variable (the parameter) on the x-axis.\n",
    "\n",
    "When the model is stochastic drawing these graphs is slightly more complicated as we must include estimates of the error on any random variables.  As you will see at the end of this series of exercises, you already know everything you need to know to estimate and plot these errors.  In other words, this weeks exercise are just consolidating material that you have already seen in a slightly different guise.\n",
    "\n",
    "As always start by running the cell below to load the libraries that we need for the exercises."
   ]
  },
  {
   "cell_type": "code",
   "execution_count": null,
   "metadata": {},
   "outputs": [],
   "source": [
    "import matplotlib.pyplot as plt\n",
    "import numpy as np\n",
    "import scipy.stats"
   ]
  },
  {
   "cell_type": "markdown",
   "metadata": {
    "id": "kZEnHeXquIad"
   },
   "source": [
    "# Simulating a random walk\n",
    "\n",
    "The exercise you are going to complete for this block involve simulating a random walk in 1 dimension.  During this walk you will thus take discrete steps either forward or backwards by one unit.  The decision to move forward or backward on each turn is made by generating a Bernoulli random variable with parameter `p`.  If the Bernoulli random variable is equal to 1 the walker moves forward one step.  If the Bernoulli random variabel is equal to 0 the walker moves backwards one step.  This process of generating Bernoulli random variables and deciding how to move in response is then repeated multiple times.\n",
    "\n",
    "This idea, and the code you will need to simulate the motion of this walker, is explained in the following video"
   ]
  },
  {
   "cell_type": "code",
   "execution_count": 1,
   "metadata": {},
   "outputs": [
    {
     "data": {
      "text/html": [
       "<iframe width=\"560\" height=\"315\" src=\"https://www.youtube.com/embed/QlwATPnVESU?si=I8OPSBpUmS8cWmA1\" title=\"YouTube video player\" frameborder=\"0\" allow=\"accelerometer; autoplay; clipboard-write; encrypted-media; gyroscope; picture-in-picture; web-share\" referrerpolicy=\"strict-origin-when-cross-origin\" allowfullscreen></iframe>\n"
      ],
      "text/plain": [
       "<IPython.core.display.HTML object>"
      ]
     },
     "metadata": {},
     "output_type": "display_data"
    }
   ],
   "source": [
    "%%HTML\n",
    "<iframe width=\"560\" height=\"315\" src=\"https://www.youtube.com/embed/QlwATPnVESU?si=I8OPSBpUmS8cWmA1\" title=\"YouTube video player\" frameborder=\"0\" allow=\"accelerometer; autoplay; clipboard-write; encrypted-media; gyroscope; picture-in-picture; web-share\" referrerpolicy=\"strict-origin-when-cross-origin\" allowfullscreen></iframe>"
   ]
  },
  {
   "cell_type": "markdown",
   "metadata": {},
   "source": [
    "Now write a function called `random_walk` to simulate the random walker in the cell below.  This function should take three arguments:\n",
    "\n",
    "- `startpoint` is the initial locatin of the walker on the line.\n",
    "- `nsteps` is the number of random steps that you would like the walker to take\n",
    "- `p` is the probablity that the walker takes a step forward (i.e. in the positive direction)\n",
    "\n",
    "Your function should return the final position that the walker arrives at after his series of `nsteps` random steps."
   ]
  },
  {
   "cell_type": "code",
   "execution_count": null,
   "metadata": {
    "id": "zojAzQPqXnEa"
   },
   "outputs": [],
   "source": []
  },
  {
   "cell_type": "code",
   "execution_count": null,
   "metadata": {
    "id": "Sg-7yWTLLol2"
   },
   "outputs": [],
   "source": [
    "runtest(['test_random_walk'])"
   ]
  },
  {
   "cell_type": "markdown",
   "metadata": {
    "id": "W6jXuQZmWxDS"
   },
   "source": [
    "# Simulating a gambler\n",
    "\n",
    "You can use what you have just learned about modelling a 1D random walk can be used to model how a gambler plays a game such as roulette in a casino.  The idea in such games is that the gambler places a small stake on each game.  Lets suppose this is a stake of one pound.  When the game is played the gambler will either loose their stake and the total amount of money he has will thus decrease by one unit.  Alternatively, he will win the game and in that case he wins back his stake and a prize, which we will set as one pound.  If he wins the game he will thus have one pound than the amount of money that he came in with.  As you can see if the gambler repeats this process of staking money and playing the amount of money he has will undergo a random walk in one dimension.\n",
    "\n",
    "Importantly there is a difference between the gambler and the 1D random walk, however.  The gambler usually only has a finite amount of money to gamble with.  If he looses a large number of games he is therefore forced to stop playing.  Similarly, the gambler may also have some target for how much money he would like to win.  In other words, he should have some figure N pounds, which is more than the amouont of money he entered the casino with.  He will stop gambling once he has N pounds in his pocket.\n",
    "\n",
    "The amount of money that the gambler has is an example of a stochastic process.  A stochastic process is for want of a better description a time-dependent random variable. Furthermore, the amount of money the gambler has is an example of a special kind of stochastic process that is known as a Markov chain.  \n",
    "\n",
    "A question that might be of interest is whether the gambler leaves the casino with zero pounds or whether he leaves with N pounds.  We can answer this question by running a simulation of the gambler.  Essentially we start the gambler with `s` pounds and simulate the process of him playing the game only stopping once he has zero  or `n` pounds.  We can then set a random variable equal to 1 if he has 0 pounds and 1 if he has `n` pounds.  The following video explains how we can write a program to estimate this quantity."
   ]
  },
  {
   "cell_type": "code",
   "execution_count": 2,
   "metadata": {},
   "outputs": [
    {
     "data": {
      "text/html": [
       "<iframe width=\"560\" height=\"315\" src=\"https://www.youtube.com/embed/WCCV7lXhnUI?si=CK0UT7B8tI2alvII\" title=\"YouTube video player\" frameborder=\"0\" allow=\"accelerometer; autoplay; clipboard-write; encrypted-media; gyroscope; picture-in-picture; web-share\" referrerpolicy=\"strict-origin-when-cross-origin\" allowfullscreen></iframe>\n"
      ],
      "text/plain": [
       "<IPython.core.display.HTML object>"
      ]
     },
     "metadata": {},
     "output_type": "display_data"
    }
   ],
   "source": [
    "%%HTML\n",
    "<iframe width=\"560\" height=\"315\" src=\"https://www.youtube.com/embed/WCCV7lXhnUI?si=CK0UT7B8tI2alvII\" title=\"YouTube video player\" frameborder=\"0\" allow=\"accelerometer; autoplay; clipboard-write; encrypted-media; gyroscope; picture-in-picture; web-share\" referrerpolicy=\"strict-origin-when-cross-origin\" allowfullscreen></iframe>"
   ]
  },
  {
   "cell_type": "markdown",
   "metadata": {},
   "source": [
    "__Your task in this exercise is use the ideas from the video to write a function called `gambler` that simulates this procedure.__ Your function should take three arguments:\n",
    "\n",
    "1. `start` the amount of money the gambler starts with.  This should be a positive number\n",
    "2. `n` the target amount of money that the gambler wants to win.  The gambler should stop playing once he has `n` pounds or when he runs out of money and has zero pounds.\n",
    "3. `p` the probability of winning each individual game the gambler plays.  If the gambler wins a game the amount of money he has increases by one pound.  If he looses the amount of money he has decreases by one pound.\n",
    "\n",
    "Within the function the random 1D walk should be simulated until the walker arrives in state 0 or in state N.  If the walk finishes with the walker arriving in state 0 the function should return 1.  If the walk finishes with the walker arriving in state N the function should return 0."
   ]
  },
  {
   "cell_type": "code",
   "execution_count": null,
   "metadata": {
    "id": "tYSw332oF7Jq"
   },
   "outputs": [],
   "source": []
  },
  {
   "cell_type": "code",
   "execution_count": null,
   "metadata": {
    "id": "IbtMj5SXFoNb"
   },
   "outputs": [],
   "source": [
    "runtest(['test_gambler'])"
   ]
  },
  {
   "cell_type": "markdown",
   "metadata": {
    "id": "cAxWJ2RVWA3F"
   },
   "source": [
    "# Calculating the hitting time\n",
    "\n",
    "When we use the 1D random walk to model how a gambler plays a game such as roulette in a casino we can use simulation to determine the likelihood the gambler has of loosing all their money.  We can also use simulation to determine how many spins of the wheel the gambler will play before leaving the casino, however.  In this exercise we are thus going to learn how write a program to calculate the number of games the gambler plays before leaving the casino.\n",
    "\n",
    "Remember the gambler usually only has a finite amount of money to gamble with. If he looses a large number of games he is therefore forced to stop playing. Similarly, the gambler may also have some target for how much money he would like to win. In other words, he should have some figure N pounds, which is more than the amouont of money he entered the casino with. He will stop gambling once he has N pounds in his pocket.\n",
    "\n",
    "To calculate the number of spins of the wheel the gambler will bet on we thus need to calculate the number of steps the random walk takes before arriving in state 0 or state n.  __Your task in this exericse is to write a function called `nplays` that simulates the changes in the amount of money the gambler has and that returns the number of spins of the wheel that take place.__  Your function should take three arguments:\n",
    "\n",
    "1. `start` the amount of money the gambler starts with. This should be a positive number\n",
    "2. `n` the target amount of money that the gambler wants to win. The gambler should stop playing once he has n pounds or when he runs out of money and has zero pounds.\n",
    "3. `p` the probability of winning each individual game the gambler plays. If the gambler wins a game the amount of money he has increases by one pound. If he looses the amount of money he has decreases by one pound.\n",
    "\n",
    "Within the function the random 1D walk should be simulated until the walker arrives in state 0 or in state N.  The number of steps the walker takes should be accumulated and it is this number of steps that should be returned at the end of the function.\n"
   ]
  },
  {
   "cell_type": "code",
   "execution_count": null,
   "metadata": {
    "id": "kSi3-ffEraru"
   },
   "outputs": [],
   "source": []
  },
  {
   "cell_type": "code",
   "execution_count": null,
   "metadata": {
    "id": "ZfBweEzFYdKT"
   },
   "outputs": [],
   "source": [
    "runtest(['test_gambler_1'])"
   ]
  },
  {
   "cell_type": "markdown",
   "metadata": {
    "id": "ZyfDhOTaIqEo"
   },
   "source": [
    "# Calculating the average probability of ruin\n",
    "\n",
    "We can use simulation to determine the likelihood the gambler has of loosing all his money when he repeatedly plays a game such as roulette.  As we have seen elsewhere it is straightforward to write programs to simulate the ammount of money the gambler has and that return the final outcome for the series of games played.  For instance, we can write a funtion that simulates a 1D random walk that stops once the walker enters state 0 or state n.  This function can also be made to return a 1 if the walker finishes in state 0 and a 0 if the walker finishes in state n.  As the return value for such a function is 0 or 1 what has been generated here is  a Bernoulli random variable.  The method via which this random variable is generated is more complicated than the typical method we have used for generating Bernoulli random variables but the return value is still a random variable that can only equal 0 or 1.  It is thus a Bernoulli random variable.\n",
    "\n",
    "You know that a Bernoulli random variable has only one parameter `p`.  In this exercise we are thus going to learn how to estimate this parameter by performing a series of simulations of the walker.  To complete the exercise you will need to complete the function called `sample_mean`. This function should take four arguments.  \n",
    "\n",
    "1. `start` the amount of money the gambler starts with.  This should be a positive number\n",
    "2. `n` the target amount of money that the gambler wants to win.  The gambler should stop playing once he has `n` pounds or when he runs out of money and has zero pounds.\n",
    "3. `p` the probability of winning each individual game the gambler plays.  If the gambler wins a game the amount of money he has increases by one pound.  If he looses the amount of money he has decreases by one pound.\n",
    "4. `m` then tells you the number of times the function `gambler` which you wrote earlier in this sequence of exericse.  \n",
    "\n",
    "Each time you call the `gambler` function you generate a sample of the random variable of interest.  You can thus calculate a sample mean and a sample variance from all the the Bernoulli random variables you will have generated.  The sample mean you calculate in this way is an estiamte for the `p` parameter of the Bernoulli random variable.  As you have estimated this parameter by sampling you need to quote a confidence limit around your estimate using what you have learned about the variance of the sample mean from other exercises.  Your `sample_mean` function should therefore return three numbers.  `lower` is the lower extent of a 90% confidence limit on the estimate of the sample mean, `mean` is the value of the sample mean and `upper` is the upper extent for the 90% confidence limit.\n",
    "\n",
    "This exercise should be revision of material from block 2."
   ]
  },
  {
   "cell_type": "code",
   "execution_count": null,
   "metadata": {
    "id": "KbBjmPlTtEzj"
   },
   "outputs": [],
   "source": [
    "def sample_mean(start,n,p,m) :\n",
    "  # Your code to calculate the the sample mean for m random variables that are generated by calling random_walker goes here\n",
    "\n",
    "\n",
    "  # When completed this function should return\n",
    "  # lower = the 5th percentile of the distribution for the sample mean\n",
    "  # mean = your sample mean\n",
    "  # upper = the 95th percentile of the distribution for the sample mean\n",
    "  return lower, mean, upper\n",
    "\n",
    "\n",
    "l, m, u = sample_mean( 5, 10, 0.3, 200 )\n",
    "print('200 random walks were generated for a chain with length 10 and a probablity of winning of 0.3')\n",
    "print('These random walks all started from state 5')\n",
    "print('A fraction',m,'of these walks finishes in state 0')\n",
    "print('Our simulations show that there is a 90% chance that the probablity of ruin lies between',l,'and',u)\n"
   ]
  },
  {
   "cell_type": "code",
   "execution_count": null,
   "metadata": {
    "id": "xm02zR38zeDO"
   },
   "outputs": [],
   "source": [
    "runtest(['test_random_walker', 'test_mean'])"
   ]
  },
  {
   "cell_type": "markdown",
   "metadata": {
    "id": "I8O4FvHD8ext"
   },
   "source": [
    "# Graphing the probablity of ruin\n",
    "\n",
    "We now know how to use simulation to determine the likelihood the gambler has of loosing all his money when he repeatedly plays a game such as roulette.  We are thus in a position to look at how this probablity depends on the values of the parameters of the model.  This probablity will depend on the three parameters of the model:\n",
    "\n",
    "* The amount of money the gambler enters the casino with.\n",
    "* The amount of money he would like to win.\n",
    "* The probablity that he has of winning each individual game.\n",
    "\n",
    "We would generally investigate one of these parameters at a time.  This parameter that we vary is often referred to as the independent variable. The output parameter that is calculated through simulation (the probablity of ruin in this case) would then be referred to as the dependent variable.  Any other parameters that might affect the final result would be kept fixed in all the simulations we perform and are referred to as control variables.\n",
    "\n",
    "Lets supppose that we want to use the amount of money the gambler enters the casino with `s` as our independent variable.  We would run a series of simulations with `s` values of 1, 2, 3, 4, 5, 6, 7, 8 and 9.  In all these simulatiosn we might fix the amount of money the gambler wants to win `n` equal to 10 as this is a control variable.  Furthermore, we would also fix the probablity of winning each individual game `p` at 0.4 as this is also a control variable.  By plotting a graph with the various values of `s` on the x-axis and the final averages that we got from the simulations on the y-axis we can see how the probablity or ruin depends on the amount of money the gambler has at the start of the game.  Furhtermore, because we have fixed `n` and `p` in all these simulations any variations we see in the probability of ruin are a consequence of the different `s` values that were used.\n",
    "\n",
    "With all this in mind __your task is to draw a graph that shows how the probablity of ruin depends on the amount of money the gambler enters the casino with.__  You should set the amount of money the gambler wants to win equal to 10 in all your simulations and the probablity of winning each game equal to 0.4.  Furthermore, each estimate of the probablity of ruin should be calculated by performing 200 simulations of the random walk.  To pass the test you will need to have calculated probability of ruin for s values of 1, 2, 3, 4, 5, 6, 7, 8 and 9.  The values of this parameter should be put on the x-axis and your estimates for the probablity of ruin should appear on the y-axis.  The x-axis title should be 'start point' and the y-axis label should be 'probability of ruin'.\n"
   ]
  },
  {
   "cell_type": "code",
   "execution_count": 3,
   "metadata": {},
   "outputs": [
    {
     "data": {
      "text/html": [
       "<iframe width=\"560\" height=\"315\" src=\"https://www.youtube.com/embed/Ln2PPEyLh7Y?si=LHlmfzKz4QrmtqWD\" title=\"YouTube video player\" frameborder=\"0\" allow=\"accelerometer; autoplay; clipboard-write; encrypted-media; gyroscope; picture-in-picture; web-share\" referrerpolicy=\"strict-origin-when-cross-origin\" allowfullscreen></iframe>\n"
      ],
      "text/plain": [
       "<IPython.core.display.HTML object>"
      ]
     },
     "metadata": {},
     "output_type": "display_data"
    }
   ],
   "source": [
    "%%HTML\n",
    "<iframe width=\"560\" height=\"315\" src=\"https://www.youtube.com/embed/Ln2PPEyLh7Y?si=LHlmfzKz4QrmtqWD\" title=\"YouTube video player\" frameborder=\"0\" allow=\"accelerometer; autoplay; clipboard-write; encrypted-media; gyroscope; picture-in-picture; web-share\" referrerpolicy=\"strict-origin-when-cross-origin\" allowfullscreen></iframe>"
   ]
  },
  {
   "cell_type": "code",
   "execution_count": null,
   "metadata": {
    "id": "CyESmlLCYlcb"
   },
   "outputs": [],
   "source": [
    "import matplotlib.pyplot as plt\n",
    "import numpy as np\n",
    "\n",
    "\n",
    "# This code is required for the autofeedback- don't delete it!\n",
    "fighand = plt.gca()"
   ]
  },
  {
   "cell_type": "code",
   "execution_count": null,
   "metadata": {
    "id": "iuxdPM0H5-wq"
   },
   "outputs": [],
   "source": [
    "runtest(['test_plot'])"
   ]
  },
  {
   "cell_type": "markdown",
   "metadata": {
    "id": "IqXavIdKKxVz"
   },
   "source": [
    "# Gamblers ruin plots with errors\n",
    "\n",
    "The previous exercise showed you how to plot a dependent variable as a function of an independent variable.  There was one important factor that was left out in the previous exercise, however.  __The depedent variable in the plot that we drew is a random variable as such we need to provide some confidence interval around the estimate of this quantity that we have extracted via simulation.__  A confidence limit of this type is almost always drawn around dependent variables in graphs as there are almost always control variables that it is not possible to control in the experiment. These uncontrolled variables effect on the outcome of the experiment and thus introduce some randomness to the final value that is extracted.\n",
    "\n",
    "__In this exercise I would like you draw another of these graphs of a dependent variable as a function of a independent variable.__  This time, however, I want you to also use what you have learned elsewhere to calculate and plot suitable error bars on each of your estimates of the dependent variable.  The dependent variable will be the probability of ruin that you computed in the previous exercise.  Once again you should simulate the gamblers ruin problem stop the walk if the walker arrives in state `n=4`.  `n` will thus be one of your control variables.  The second control variable will be the start point which will be set as `s=2`.  The independent variable in your siulations is the probability of winning each game, `p`.  You should consider `p` values of 0.3, 0.4, 0.5 and 0.7.\n",
    "For each of these values of `p` you should estimate the probablity of ruin by simulating 200 random walks and calculating a mean.  Notice that you will also need to calculate a sample variance from these 200 random variables as you will need to calculate the error bar for a 90% confidence limit.\n",
    "\n",
    "I have written the following plot commands in the `main.py` for you:\n",
    "\n",
    "```python\n",
    "plt.errorbar( x, y, yerr=error, fmt='ko' )\n",
    "plt.xlabel('Probability of winning each game')\n",
    "plt.ylabel('Probability of ruin')\n",
    "```\n",
    "\n",
    "Notice that you need to set the elements of the NumPy array called `error` equal to the width of the 90% confidence limit in order to pass the test.  This variable needs to be present and set in order to pass the tests as I check for its existence.\n",
    "\n",
    "Notice, furthermore, that when you complete this exercise for real you can extend out the range of values you investigate.  I kept the range artifically low here so as to make the calculation less expensive.\n"
   ]
  },
  {
   "cell_type": "code",
   "execution_count": null,
   "metadata": {
    "id": "ghlGjQAToBHi"
   },
   "outputs": [],
   "source": [
    "import matplotlib.pyplot as plt\n",
    "import scipy.stats\n",
    "import numpy as np\n",
    "\n",
    "# Your code to simulate the walker and to calculate the errors goes here\n",
    "\n",
    "\n",
    "plt.errorbar( x, y, yerr=error, fmt='ko' )\n",
    "plt.xlabel('Probability of winning each game')\n",
    "plt.ylabel('Probability of ruin')\n",
    "\n",
    "\n",
    "# This code is required for the autofeedback- don't delete it!\n",
    "fighand = plt.gca()\n"
   ]
  },
  {
   "cell_type": "code",
   "execution_count": null,
   "metadata": {
    "id": "1jkkC112J1Hp"
   },
   "outputs": [],
   "source": [
    "runtest(['test_plot_1', 'test_errors'])"
   ]
  },
  {
   "cell_type": "markdown",
   "metadata": {},
   "source": [
    "# Taking it further\n",
    "\n",
    "You can demonstrate that you have understood the ideas in this block by making a graph that shows the value of a random variable that was generated from a stochastic model as a function of one of the parameters of the model.  If you want to consider the model for the gamblers ruin problem you could plot either:\n",
    "\n",
    "* The probability of winning \n",
    "* The probability of loosing\n",
    "* The number of games played\n",
    "\n",
    "as a function of:\n",
    "\n",
    "* The amount of money that the gambler wants to win\n",
    "* The start amount of money the gambler starts with\n",
    "* The probability that the gambler wins each game\n",
    "\n",
    "Alternatively, you can draw a histogram illustrating the distribution for the number of turns the gambler takes before loosing all their money or winning.\n",
    "\n",
    "Be aware that because you are estimating the random variables by sampling you **should always include estimates for errors on any sample means you compute.**\n",
    "\n",
    "If you want to make your project more interesting you can make the behavior of the gambler more complicated.  For example, you can model a random walk where there is a finite probility of staying still or a finite probability of taking more than one step forward or back.\n",
    "\n",
    "If you don't want to study a gamblers ruin problem you can plot a graph showing how the mean for a random variable changes as one of the parameter values is changed.  In other words, you can calculate a sample mean for a random variables for a number of different parameter values (along with the error on your estimate) and you can plot this estimate of the true mean on a graph.  Please remember that we have expressions for the true mean for all the random variables that you have studied in this module.  If you take this option you should include a line showing how the true expectation changes with the parameter value for comparison."
   ]
  },
  {
   "cell_type": "code",
   "execution_count": null,
   "metadata": {},
   "outputs": [],
   "source": []
  }
 ],
 "metadata": {
  "colab": {
   "cell_execution_strategy": "setup",
   "collapsed_sections": [
    "NVOkK4hCU7RK"
   ],
   "private_outputs": true,
   "provenance": []
  },
  "kernelspec": {
   "display_name": "Python 3 (ipykernel)",
   "language": "python",
   "name": "python3"
  },
  "language_info": {
   "codemirror_mode": {
    "name": "ipython",
    "version": 3
   },
   "file_extension": ".py",
   "mimetype": "text/x-python",
   "name": "python",
   "nbconvert_exporter": "python",
   "pygments_lexer": "ipython3",
   "version": "3.9.19"
  }
 },
 "nbformat": 4,
 "nbformat_minor": 1
}
