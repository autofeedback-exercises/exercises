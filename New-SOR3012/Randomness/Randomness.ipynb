{
 "cells": [
  {
   "cell_type": "markdown",
   "metadata": {
    "id": "NVOkK4hCU7RK"
   },
   "source": [
    "# Run this cell first"
   ]
  },
  {
   "cell_type": "code",
   "execution_count": null,
   "metadata": {
    "id": "QCMw-lybOsz-"
   },
   "outputs": [],
   "source": [
    "# this code enables the automated feedback. If you remove this, you won't get any feedback\n",
    "# so don't delete this cell!\n",
    "try:\n",
    "  import AutoFeedback\n",
    "except (ModuleNotFoundError, ImportError):\n",
    "  %pip install AutoFeedback\n",
    "  import AutoFeedback\n",
    "\n",
    "try:\n",
    "  from testsrc import test_main\n",
    "except (ModuleNotFoundError, ImportError):\n",
    "  %pip install \"git+https://github.com/autofeedback-exercises/exercises.git#subdirectory=New-SOR3012/Randomness\"\n",
    "  from testsrc import test_main\n",
    "\n",
    "def runtest(tlist):\n",
    "  import unittest\n",
    "  from contextlib import redirect_stderr\n",
    "  from os import devnull\n",
    "  with redirect_stderr(open(devnull, 'w')):\n",
    "    suite = unittest.TestSuite()\n",
    "    for tname in tlist:\n",
    "      suite.addTest(eval(f\"test_main.UnitTests.{tname}\"))\n",
    "    runner = unittest.TextTestRunner()\n",
    "    try:\n",
    "      runner.run(suite)\n",
    "    except AssertionError:\n",
    "      pass\n"
   ]
  },
  {
   "cell_type": "markdown",
   "metadata": {},
   "source": [
    "# Introduction\n",
    "\n",
    "The exercises in this notebook introduce the idea of a random variables. I think that writing functions that return generate random variables helps you to understand this idea better.  We will thus start by introducing the concept of a python function. \n",
    "\n",
    "**Please be aware that in the rest of this course your codes generate random variables and that I test them by doing hypothesis tests.  These tests sometimes give a false positive.  In other words, they will sometimes fail even though your code is correct.  If you think you have something correct and if the test is consistently telling you that you are wrong come and ask me what is going on.** \n",
    "\n",
    "Don't forget to start by executing the following cell, which imports the libraries that we need."
   ]
  },
  {
   "cell_type": "code",
   "execution_count": null,
   "metadata": {},
   "outputs": [],
   "source": [
    "import matplotlib.pyplot as plt\n",
    "import numpy as np\n",
    "import scipy.stats"
   ]
  },
  {
   "cell_type": "markdown",
   "metadata": {},
   "source": [
    "Then watch the following five-minute video that explains what we mean when we talk about functions in python programs."
   ]
  },
  {
   "cell_type": "code",
   "execution_count": 1,
   "metadata": {},
   "outputs": [
    {
     "data": {
      "text/html": [
       "<iframe width=\"560\" height=\"315\" src=\"https://www.youtube.com/embed/1ATU98fSTEg?si=rwD9vC4ZvQapudmM\" title=\"YouTube video player\" frameborder=\"0\" allow=\"accelerometer; autoplay; clipboard-write; encrypted-media; gyroscope; picture-in-picture; web-share\" referrerpolicy=\"strict-origin-when-cross-origin\" allowfullscreen></iframe>\n"
      ],
      "text/plain": [
       "<IPython.core.display.HTML object>"
      ]
     },
     "metadata": {},
     "output_type": "display_data"
    }
   ],
   "source": [
    "%%HTML\n",
    "<iframe width=\"560\" height=\"315\" src=\"https://www.youtube.com/embed/1ATU98fSTEg?si=rwD9vC4ZvQapudmM\" title=\"YouTube video player\" frameborder=\"0\" allow=\"accelerometer; autoplay; clipboard-write; encrypted-media; gyroscope; picture-in-picture; web-share\" referrerpolicy=\"strict-origin-when-cross-origin\" allowfullscreen></iframe>"
   ]
  },
  {
   "cell_type": "markdown",
   "metadata": {
    "id": "C9jcRqFFlYe6"
   },
   "source": [
    "# Writing your first function\n",
    "\n",
    "Now it is your turn to try to write a function.  We can write a function to add two numbers together like this:\n",
    "\n",
    "\n",
    "```python\n",
    "def add( a, b )\n",
    "    return a + b\n",
    "```\n",
    "\n",
    "\n",
    "This function takes in two __arguments__, `a` and `b`.  These arguments are variables that are passed into the function. It then returns a single number `a+b`.\n",
    "\n",
    "On its own the code above does nothing.  To make it do something we need to call it as shown below:\n",
    "\n",
    "```python\n",
    "c = add(3, 4)\n",
    "```\n",
    "\n",
    "When the function is called in this way the input argument `a` is set equal to 3 and the input argument `b` is set equal to 3.  The variable `c` is thus set equal to the return value of the function `a+b=3+4=7`.\n",
    "\n",
    "__To complete the exercise write a function called `multiply` that, like `add` above, that takes two arguments in input.  The function should multiply these two input arguments together and return the resulting quantity.__\n"
   ]
  },
  {
   "cell_type": "code",
   "execution_count": null,
   "metadata": {
    "id": "UCFr36bfgeDM"
   },
   "outputs": [],
   "source": []
  },
  {
   "cell_type": "code",
   "execution_count": null,
   "metadata": {
    "id": "vizjbI6iRaMf"
   },
   "outputs": [],
   "source": [
    "runtest(['test_variables'])"
   ]
  },
  {
   "cell_type": "markdown",
   "metadata": {
    "id": "n3YLGiLKCIYi"
   },
   "source": [
    "# Modulo function\n",
    "\n",
    "You can use all the Python that you have learned elsewhere within the functions that you define.  With this in mind try to see if you can use an if statement within a function block to define a function called `modulo`\n",
    "that returns the modulus of a real number.  Remember that to calculate the modulus of a number you multiply it by minus one if it is less than 0 and you multiply by one if it is greater than or equal to zero.\n",
    "\n",
    "Your function will take one argument in input and will return a single number\n"
   ]
  },
  {
   "cell_type": "code",
   "execution_count": null,
   "metadata": {
    "id": "XJqcXDWS5tVM"
   },
   "outputs": [],
   "source": []
  },
  {
   "cell_type": "code",
   "execution_count": null,
   "metadata": {
    "id": "SwZDFobVLWax"
   },
   "outputs": [],
   "source": [
    "runtest(['test_variables_1'])"
   ]
  },
  {
   "cell_type": "markdown",
   "metadata": {
    "id": "797iw7yCuG3q"
   },
   "source": [
    "# Generating random variables\n",
    "\n",
    "The great thing about functions is that other people write them too and they let you use them.  For example, we can use the code below a function for generating uniform random variables that is part of the NumPy library:\n",
    "\n",
    "```python\n",
    "myrandom = np.random.uniform(0,1)\n",
    "```\n",
    "\n",
    "See if you can use this function and what you learned about loops, lists and plotting last week.  Generate 100 uniform random variables that lie between 0 and 1.  You should plot 100 points in a graph.\n",
    "The y-coordinates of these points should be the values of your random variables.  The x-coordinates should\n",
    "be the numbers 1, 2, 3 and so on up to 100.  The x-axis label should be 'Index' and the y-axis label should be 'random variable'.\n"
   ]
  },
  {
   "cell_type": "code",
   "execution_count": null,
   "metadata": {
    "id": "qL-eCmSV98-Z"
   },
   "outputs": [],
   "source": [
    "\n",
    "\n",
    "\n",
    "\n",
    "\n",
    "\n",
    "# This code is required for the autofeedback- don't delete it!\n",
    "fighand = plt.gca()"
   ]
  },
  {
   "cell_type": "code",
   "execution_count": null,
   "metadata": {
    "id": "tOkrJLa-KfbS"
   },
   "outputs": [],
   "source": [
    "runtest(['test_variables_2'])"
   ]
  },
  {
   "cell_type": "markdown",
   "metadata": {
    "id": "VS4gD8FkSobu"
   },
   "source": [
    "# Arbitrary uniform random variables\n",
    "\n",
    "You can generate a uniform random variable that lies between 0 and 1 using the `np.random.uniform` function as shown below:\n",
    "\n",
    "```python\n",
    "U = np.random.uniform(0,1)\n",
    "```\n",
    "\n",
    "The variable you generate in this way is a sample from U(0,1).  To complete this exercise you will need to write a function to generate uniform random variables from U(a,b).  In other words, we want\n",
    "a uniform random variable is greater than a and less than b.  It is very straightforward to generate such a random variable if we know how to generate a random variable from U(0,1).  As the following two-and-a-half-minute video explains, We simply need to generate a sample from U(0,1) and then perform the following transformation:\n",
    "\n",
    "$$\n",
    "U(a,b) = (b-a)U(0,1) + b\n",
    "$$\n",
    "\n",
    "The number output here is (obviously) a uniform random variable that lies between $a$ and $b$."
   ]
  },
  {
   "cell_type": "code",
   "execution_count": 2,
   "metadata": {},
   "outputs": [
    {
     "data": {
      "text/html": [
       "<iframe width=\"560\" height=\"315\" src=\"https://www.youtube.com/embed/0ydYnya_wIo?si=dK3yXfyVcVssF-pA\" title=\"YouTube video player\" frameborder=\"0\" allow=\"accelerometer; autoplay; clipboard-write; encrypted-media; gyroscope; picture-in-picture; web-share\" referrerpolicy=\"strict-origin-when-cross-origin\" allowfullscreen></iframe>\n"
      ],
      "text/plain": [
       "<IPython.core.display.HTML object>"
      ]
     },
     "metadata": {},
     "output_type": "display_data"
    }
   ],
   "source": [
    "%%HTML\n",
    "<iframe width=\"560\" height=\"315\" src=\"https://www.youtube.com/embed/0ydYnya_wIo?si=dK3yXfyVcVssF-pA\" title=\"YouTube video player\" frameborder=\"0\" allow=\"accelerometer; autoplay; clipboard-write; encrypted-media; gyroscope; picture-in-picture; web-share\" referrerpolicy=\"strict-origin-when-cross-origin\" allowfullscreen></iframe>"
   ]
  },
  {
   "cell_type": "markdown",
   "metadata": {},
   "source": [
    "__To complete the exercise you thus need to complete the function called `uniform`__.  This function takes two arguments; namely, the `a` and `b` parameters that are introduced above.  It should `return` a uniform random variable between `a` and `b`.\n",
    "I have included some code at the bottom of the `main.py` file that will draw variables from various uniform continuous distributions and plot them for you.  You can thus see how the spread of the variables is affected by how the `a` and `b` parameters\n",
    "are set."
   ]
  },
  {
   "cell_type": "code",
   "execution_count": null,
   "metadata": {
    "id": "5fci2KAvmw65"
   },
   "outputs": [],
   "source": [
    "def uniform( a, b ) :\n",
    "  # Your code to generate a random variable that is distributed uniformly\n",
    "  # between a and b goes here.\n",
    "\n",
    "\n",
    "# You should not need to adjust any of the code from here onwards\n",
    "xv, yv1, yv2, yv3, yv4 = np.linspace(1,100,100), np.zeros(100), np.zeros(100), np.zeros(100), np.zeros(100)\n",
    "for i in range(100) :\n",
    "  yv1[i] = uniform(1,5)\n",
    "  yv2[i] = uniform(-5,-1)\n",
    "  yv3[i] = uniform( 2.5, 3.5 )\n",
    "  yv4[i] = uniform( -3.5, -2.5 )\n",
    "\n",
    "plt.plot( xv, yv1, 'ro' )\n",
    "plt.plot( xv, yv2, 'bo' )\n",
    "plt.plot( xv, yv3, 'go' )\n",
    "plt.plot( xv, yv4, 'ko' )\n",
    "plt.xlabel('index')\n",
    "plt.ylabel('random variable')\n",
    "\n",
    "\n",
    "# This code is required for the autofeedback- don't delete it!\n",
    "fighand = plt.gca()\n"
   ]
  },
  {
   "cell_type": "code",
   "execution_count": null,
   "metadata": {
    "id": "ElQ31Zt8okCB"
   },
   "outputs": [],
   "source": [
    "runtest(['test_variables_3'])"
   ]
  },
  {
   "cell_type": "markdown",
   "metadata": {},
   "source": [
    "# Generating Bernoulli random variables\n",
    "\n",
    "The following five-minute video explains how to write a function to generate Bernoulli random variables."
   ]
  },
  {
   "cell_type": "code",
   "execution_count": 3,
   "metadata": {},
   "outputs": [
    {
     "data": {
      "text/html": [
       "<iframe width=\"560\" height=\"315\" src=\"https://www.youtube.com/embed/WJcuKYJK6rw?si=LnE-324ksWWm0bKV\" title=\"YouTube video player\" frameborder=\"0\" allow=\"accelerometer; autoplay; clipboard-write; encrypted-media; gyroscope; picture-in-picture; web-share\" referrerpolicy=\"strict-origin-when-cross-origin\" allowfullscreen></iframe>\n"
      ],
      "text/plain": [
       "<IPython.core.display.HTML object>"
      ]
     },
     "metadata": {},
     "output_type": "display_data"
    }
   ],
   "source": [
    "%%HTML\n",
    "<iframe width=\"560\" height=\"315\" src=\"https://www.youtube.com/embed/WJcuKYJK6rw?si=LnE-324ksWWm0bKV\" title=\"YouTube video player\" frameborder=\"0\" allow=\"accelerometer; autoplay; clipboard-write; encrypted-media; gyroscope; picture-in-picture; web-share\" referrerpolicy=\"strict-origin-when-cross-origin\" allowfullscreen></iframe>"
   ]
  },
  {
   "cell_type": "markdown",
   "metadata": {
    "id": "Fnf67j6qACsZ"
   },
   "source": [
    "Try to use the ides from the video write a program to generate Bernoulli random variables.  Remember the probablity mass function for a Bernoulli random variable, X, is given by:\n",
    "\n",
    "$$\n",
    "P(X=x) = \\begin{cases}\n",
    "1-p & \\textrm{if} x=0 \\\\\n",
    "p &  \\textrm{if} \\quad x=1 \\\\\n",
    "0 &  \\textrm{otherwise}\n",
    "\\end{cases}\n",
    "$$\n",
    "\n",
    "To complete this exercise you are going to need to use all the ideas that we have covered in the other parts of these programming exercise as:\n",
    "\n",
    "- I want you to write a function called `bernoulli` that takes in a parameter called `p`.  This parameter gives the probability that the trial is successful - and that the function thus returns a 1.\n",
    "\n",
    "- Within your function called `bernoulli` you will need to generate a uniform random variable using the `np.random.uniform` function that we learned about in the previous exercise.\n",
    "\n",
    "- You will then need to use a conditional (if) statement to decide whether the program should return a 1 (indicating that the trial was successful) or a 0 (indicating that the trial was a failure).  This decision on whether the trial was a success or a failure will be made based on the value obtained when you generated your uniform random variable."
   ]
  },
  {
   "cell_type": "code",
   "execution_count": null,
   "metadata": {
    "id": "0ZMM1wnVzqX2"
   },
   "outputs": [],
   "source": [
    "def bernoulli(p):\n",
    "   # Your code goes here\n",
    "\n",
    "\n",
    "print( bernoulli(0.5), bernoulli(0.5), bernoulli(0.5)  )\n"
   ]
  },
  {
   "cell_type": "code",
   "execution_count": null,
   "metadata": {
    "id": "uPPWVMdCRVmo"
   },
   "outputs": [],
   "source": [
    "runtest(['test_mean'])"
   ]
  },
  {
   "cell_type": "markdown",
   "metadata": {
    "id": "2vGKyvQycgMi"
   },
   "source": [
    "# Plotting Bernoulli trials\n",
    "\n",
    "We are now going to combine what you did  the previous exercise with what you did in the previous.  You are going to generate 100 Bernoulli random variables and you are going to draw a scatter plot graph showing the values of all these random variables.\n",
    "\n",
    "To complete this exercise you will need to:\n",
    "\n",
    "- Use the `bernoulli` function from the last exercise and what you know about loops, lists and functions to generate a NumPy array that contains 100 Bernoulli random variables all of which have the parameter p set to the global variable `prob`.\n",
    "\n",
    "- Draw a scatter plot showing the values of all your random variables.  The x-coordinates of the points in this graph should be 1, 2, 3 etc and the y-coordinates should be the values of the random variables.  The x-axis label of the graph should be 'Index' and the y-axis label should be 'random variable'.\n",
    "\n",
    "N.B. The plotting part of this exercise is similar to the exercise that you did with the uniform random variables.\n"
   ]
  },
  {
   "cell_type": "code",
   "execution_count": null,
   "metadata": {
    "id": "XhCwELLOe5dp"
   },
   "outputs": [],
   "source": [
    "# Your code for generating the list of Bernoulli random variables goes here\n",
    "prob=0.5\n",
    "\n",
    "\n",
    "# This code is required for the autofeedback- don't delete it!\n",
    "fighand = plt.gca()"
   ]
  },
  {
   "cell_type": "code",
   "execution_count": null,
   "metadata": {
    "id": "sjEArBFBOc7X"
   },
   "outputs": [],
   "source": [
    "runtest(['test_variables_4'])"
   ]
  },
  {
   "cell_type": "markdown",
   "metadata": {
    "id": "5Hf9y7RzVUCH"
   },
   "source": [
    "# Generating binomial random variables\n",
    "\n",
    "The following five-minute video explains how, if you add $n$ Bernoulli random variables together, the resulting random variable is a binomial random variable."
   ]
  },
  {
   "cell_type": "code",
   "execution_count": 4,
   "metadata": {},
   "outputs": [
    {
     "data": {
      "text/html": [
       "<iframe width=\"560\" height=\"315\" src=\"https://www.youtube.com/embed/RNQFAH2wCos?si=9p5wWAgCMaS1TM8s\" title=\"YouTube video player\" frameborder=\"0\" allow=\"accelerometer; autoplay; clipboard-write; encrypted-media; gyroscope; picture-in-picture; web-share\" referrerpolicy=\"strict-origin-when-cross-origin\" allowfullscreen></iframe>\n"
      ],
      "text/plain": [
       "<IPython.core.display.HTML object>"
      ]
     },
     "metadata": {},
     "output_type": "display_data"
    }
   ],
   "source": [
    "%%HTML\n",
    "<iframe width=\"560\" height=\"315\" src=\"https://www.youtube.com/embed/RNQFAH2wCos?si=9p5wWAgCMaS1TM8s\" title=\"YouTube video player\" frameborder=\"0\" allow=\"accelerometer; autoplay; clipboard-write; encrypted-media; gyroscope; picture-in-picture; web-share\" referrerpolicy=\"strict-origin-when-cross-origin\" allowfullscreen></iframe>"
   ]
  },
  {
   "cell_type": "markdown",
   "metadata": {},
   "source": [
    "Your task in this exercise is to use this idea to write a function that generates binomial random variables.  This function should use the `bernoulli` function that you wrote for an earlier exericse in a second function called `binomial`.  This `binomial` function should take two parameters as input `n` (the number of trials to perform) and `p` (the probability of success in each individual trial).  The function should then return a binomial random variable.  This function `binomial` must call the first function `bernoulli` that you wrote.\n",
    "\n",
    "Remember that the binomial random variable simply counts the number of successes when you perform __n__ independent and identical Bernoulli trials."
   ]
  },
  {
   "cell_type": "code",
   "execution_count": null,
   "metadata": {
    "id": "TPuHGwHucCae"
   },
   "outputs": [],
   "source": [
    "def binomial(n,p) :\n",
    "  # Your code to generate the binomial random variable goes here.\n",
    "\n",
    "\n",
    "print( binomial(5,0.5), binomial(5,0.5), binomial(5,0.5) )\n"
   ]
  },
  {
   "cell_type": "code",
   "execution_count": null,
   "metadata": {
    "id": "6JHw0E2FZULy"
   },
   "outputs": [],
   "source": [
    "runtest(['test_variables_5'])"
   ]
  },
  {
   "cell_type": "markdown",
   "metadata": {
    "id": "54yCeJKZt8M5"
   },
   "source": [
    "# Plotting Binomial random variables\n",
    "\n",
    "Now that you know how to generate binomial random variables lets make a scatter plot showing 100 random variables that are sampled from this distribution.\n",
    "\n",
    "Use the `binomial` function that you wrote for the last exericse and what you know about loops, lists and plotting to make a scatter plot showing 100 binomial random variables.  The x-coordinates of the points in your plot should be 1, 2, 3 etc and the y-coordinates should be the values of 100 binomial random variables that have the n parameter set equal to the global variable `num` and the p parameter set to the global variable `prob`.  The x-axis label of the graph should be 'Index' and the y-axis label should be 'random variable'.\n"
   ]
  },
  {
   "cell_type": "code",
   "execution_count": null,
   "metadata": {
    "id": "U5LnVdRiW8Mz"
   },
   "outputs": [],
   "source": [
    "# Your code for generating the scatter plot of binomial random variables goes here\n",
    "num, prob = 5, 0.5\n",
    "\n",
    "# This code is required for the autofeedback- don't delete it!\n",
    "fighand = plt.gca()"
   ]
  },
  {
   "cell_type": "code",
   "execution_count": null,
   "metadata": {
    "id": "qXFgXHxsk4b4"
   },
   "outputs": [],
   "source": [
    "runtest(['test_variables_6'])"
   ]
  },
  {
   "cell_type": "markdown",
   "metadata": {
    "id": "P1ezrjCW8zQJ"
   },
   "source": [
    "# The geometric random variable\n",
    "\n",
    "Let's now turn our attention to a second type of the random variables that we can generate from Bernoulli random variables - geometric random variables.  The geometric random variable measures the number of trials that we have to perform until we get a success.  It thus stands to reason that to generate such a variable we will need to perform multiple Bernoulli trials and stop generating Bernoulli trials once one of them is equal to one.\n",
    "\n",
    "As I explain in the following video, we cannot use a for loop to generate a geometric random variable because, unlike the binomial random variables, we do not know how many trials we will have to perform in advance.  We thus need to use a while loop instead.  An example of a while loop is shown below:\n",
    "\n",
    "```python\n",
    "var=0\n",
    "while var<10 :\n",
    "   var = var + 1\n",
    "```\n",
    "\n",
    "This while loop runs until the variable called var is equal to 10 - in other words it runs while the variable var is less than 10.  You can do a similar thing with while loop with a function call in place of the variable as shown below:\n",
    "\n",
    "```python\n",
    "while bernoulli(p)==0 :\n",
    "   var = var + 1\n",
    "```\n",
    "\n",
    "In this case the loop will be entered into every time a call to the function bernoulli returns 0."
   ]
  },
  {
   "cell_type": "code",
   "execution_count": 5,
   "metadata": {},
   "outputs": [
    {
     "data": {
      "text/html": [
       "<iframe width=\"560\" height=\"315\" src=\"https://www.youtube.com/embed/fna3ysWxP0E?si=0aOE4TYVWTX46H3h\" title=\"YouTube video player\" frameborder=\"0\" allow=\"accelerometer; autoplay; clipboard-write; encrypted-media; gyroscope; picture-in-picture; web-share\" referrerpolicy=\"strict-origin-when-cross-origin\" allowfullscreen></iframe>\n"
      ],
      "text/plain": [
       "<IPython.core.display.HTML object>"
      ]
     },
     "metadata": {},
     "output_type": "display_data"
    }
   ],
   "source": [
    "%%HTML\n",
    "<iframe width=\"560\" height=\"315\" src=\"https://www.youtube.com/embed/fna3ysWxP0E?si=0aOE4TYVWTX46H3h\" title=\"YouTube video player\" frameborder=\"0\" allow=\"accelerometer; autoplay; clipboard-write; encrypted-media; gyroscope; picture-in-picture; web-share\" referrerpolicy=\"strict-origin-when-cross-origin\" allowfullscreen></iframe>"
   ]
  },
  {
   "cell_type": "markdown",
   "metadata": {},
   "source": [
    "Now it is your turn. Use the `bernoulli` function you wrote in an earlier exercise in a second function called `geometric`.  This `geometric` function should take one parameter `p` (the probability of success in each individual trial).  The function should then return a geometric random variable."
   ]
  },
  {
   "cell_type": "code",
   "execution_count": null,
   "metadata": {
    "id": "wYrOChvE7ORQ"
   },
   "outputs": [],
   "source": [
    "def geometric(p):\n",
    "  # Your code to generate a geometric random variable goes here\n",
    "\n",
    "print( geometric(0.5), geometric(0.5), geometric(0.5), geometric(0.5) )\n"
   ]
  },
  {
   "cell_type": "code",
   "execution_count": null,
   "metadata": {
    "id": "rqVeMajjD6Bm"
   },
   "outputs": [],
   "source": [
    "runtest(['test_variables_7'])"
   ]
  },
  {
   "cell_type": "markdown",
   "metadata": {
    "id": "5Cn3d0mUTDkG"
   },
   "source": [
    "# Plotting Geometric random variables\n",
    "\n",
    "Now that have written a function to generate geometric random varibles lets make a scatter plot for this type of random variable.  For this exercise you will need to generate 100 geometric random variables and draw a graph showing the values of all these random variables.\n",
    "\n",
    "To complete this exercise you will need to use the function you wrote in the last exericse and what you know about loops, lists and plotting to make a scatter plot showing 100 geometric random variables.  The x-coordinates of the points in your plot should be 1, 2, 3 etc and the y-coordinates should be the values of 100 geometric random variables that have the p parameter set to the global variable `prob`.  The x-axis label of the graph should be 'Index' and the y-axis label should be 'random variable'.\n"
   ]
  },
  {
   "cell_type": "code",
   "execution_count": null,
   "metadata": {
    "id": "p-MJ4mQcCFSJ"
   },
   "outputs": [],
   "source": [
    "# Your code for generating the list of geometric random variables goes here\n",
    "prob = 0.5\n",
    "\n",
    "\n",
    "# This code is required for the autofeedback- don't delete it!\n",
    "fighand = plt.gca()"
   ]
  },
  {
   "cell_type": "code",
   "execution_count": null,
   "metadata": {
    "id": "6g8bu8icNlep"
   },
   "outputs": [],
   "source": [
    "runtest(['test_variables_8'])"
   ]
  },
  {
   "cell_type": "markdown",
   "metadata": {
    "id": "DYItuzt7Ft0l"
   },
   "source": [
    "# The discrete uniform random variable\n",
    "\n",
    "We learned in a previous series of exercises that we can generate a uniformly distributed random variable between $a$ and $b+1$ by generating a uniform random variable between 0 and 1 and then transforming it using:\n",
    "\n",
    "```python\n",
    "U = a + (b-a+1)*np.random.uniform(0,1)\n",
    "```\n",
    "\n",
    "As you can see when `np.random.uniform` returns a 0 `U` will equal `a`.  By contrast, when `np.random.uniform(0,1)` returns a 1 `U` will equal `b+1`.\n",
    "\n",
    "In this exercise, we are going to introduce the code to generate another type of random variable.  The particular type of random variable we will discuss here will be the discrete uniform distribution.  This type of random variable can take one of `n` possible values and all these values have equal probabilities of `1/n` of being observed.  We sample from a distribution of this sort when we roll a fair dice and the probabilities of rolling 1, 2, 3, 4, 5 and 6 are all 1/6. \n",
    "\n",
    "As explained in the following eight-minute video you can generate this type of random variable by generating a uniform continuous random variable and then using the `np.floor` function:\n",
    "\n",
    "```\n",
    "a = np.floor(b)\n",
    "```\n",
    "\n",
    "The floor of `b` is the integer that you obtain when you strip everything after the decimal point in `b`.  Thus if in the above `b=9.85` then `a=np.floor(b)=9`.  Similarly, if `b=3.1` then `a=np.floor(b)=3`"
   ]
  },
  {
   "cell_type": "code",
   "execution_count": 6,
   "metadata": {},
   "outputs": [
    {
     "data": {
      "text/html": [
       "<iframe width=\"560\" height=\"315\" src=\"https://www.youtube.com/embed/RCvbrV1alcs?si=ibCa13YKZBg3nrQA\" title=\"YouTube video player\" frameborder=\"0\" allow=\"accelerometer; autoplay; clipboard-write; encrypted-media; gyroscope; picture-in-picture; web-share\" referrerpolicy=\"strict-origin-when-cross-origin\" allowfullscreen></iframe>\n"
      ],
      "text/plain": [
       "<IPython.core.display.HTML object>"
      ]
     },
     "metadata": {},
     "output_type": "display_data"
    }
   ],
   "source": [
    "%%HTML\n",
    "<iframe width=\"560\" height=\"315\" src=\"https://www.youtube.com/embed/RCvbrV1alcs?si=ibCa13YKZBg3nrQA\" title=\"YouTube video player\" frameborder=\"0\" allow=\"accelerometer; autoplay; clipboard-write; encrypted-media; gyroscope; picture-in-picture; web-share\" referrerpolicy=\"strict-origin-when-cross-origin\" allowfullscreen></iframe>"
   ]
  },
  {
   "cell_type": "markdown",
   "metadata": {},
   "source": [
    "__Your task is thus to write a function called `uniform_discrete` that takes the arguments `a` and `b` and that returns a uniform discrete random variable that is an integer that is greater than or equal to `a` and less than or equal to `b`.__  You will need to use the `np.floor` function discussed above in your function and you should not need to use any conditional (if) statements or for loops."
   ]
  },
  {
   "cell_type": "code",
   "execution_count": null,
   "metadata": {
    "id": "0m4NULDLhKUS"
   },
   "outputs": [],
   "source": [
    "def uniform_discrete(a,b) :\n",
    "  # Your code goes here\n",
    "\n",
    "\n",
    "\n",
    "print( uniform_discrete(1,6), uniform_discrete(1,6), uniform_discrete(1,6), uniform_discrete(1,6) )\n"
   ]
  },
  {
   "cell_type": "code",
   "execution_count": null,
   "metadata": {
    "id": "bEJRoSa5NMNy"
   },
   "outputs": [],
   "source": [
    "runtest(['test_variables_9'])"
   ]
  },
  {
   "cell_type": "markdown",
   "metadata": {
    "id": "FhAYRUKY-ZJJ"
   },
   "source": [
    "# Plotting uniform discrete random variables\n",
    "\n",
    "Now that you know you to generate uniform discrete random variables lets make a scatter plot showing 100 random variables that represent the outcomes that you get when you simulate rolling a six sided dice 100 times.\n",
    "\n",
    "To complete this exericse you will need to:\n",
    "\n",
    "- Use the function you wrote for the last exercise and what you know about loops, lists and plotting to make a scatter plot showing the outcomes that you get when you roll a six sided dice 100 times.  The x-coordinates of the points in your plot should be 1, 2, 3 etc and the y-coordinates should be the values you get when you roll the (virtual) dice.  Notice that a dice has six sides, each side has a different integer on it and these integers are the numbers from 1 to 6.  The outcome for the dice roll is the number that appears uppermost when you roll the dice.  Furthermore, because the dice is fair the probabilities of finishing with each of the sides uppermost are all the same.\n",
    "\n",
    "- The x-axis label of the graph should be **'Index'** and the y-axis label should be **'dice roll'**.\n"
   ]
  },
  {
   "cell_type": "code",
   "execution_count": null,
   "metadata": {
    "id": "30JjKJRhzpph"
   },
   "outputs": [],
   "source": [
    "# Your code for generating the scatter plot of dice rolls variables goes here\n",
    "\n",
    "\n",
    "# This code is required for the autofeedback- don't delete it!\n",
    "fighand = plt.gca()"
   ]
  },
  {
   "cell_type": "code",
   "execution_count": null,
   "metadata": {
    "id": "UeeaoJlJil4N"
   },
   "outputs": [],
   "source": [
    "runtest(['test_variables_10'])"
   ]
  },
  {
   "cell_type": "markdown",
   "metadata": {},
   "source": [
    "# Generating normal random variables\n",
    "\n",
    "To generate a standard normal random variable you can use the following function\n",
    "\n",
    "```python\n",
    "x = np.random.normal(0,1)\n",
    "```\n",
    "\n",
    "in the same way that you used the standard uniform random variable.\n",
    "\n",
    "# Taking it further\n",
    "\n",
    "Submitting the scatter plots that you generated for the exercises in this notebook for your portfolio is fine. However, please be aware that you were introduced to **all** these distributions in the level one course SOR1020.  Consequently, if you submit a plot showing a sample of points from a binomial distribution I am going to expect you to be able to recall information about this type of random variable such as:\n",
    "\n",
    "- Whether it is a discrete or continuous random variable\n",
    "- The expectation and variance of the random variable\n",
    "- The probability mass/density function for the random variable.\n",
    "- The cumulative probablity distribution function for the random variable.\n",
    "\n",
    "\n",
    "You are thus encouraged to use your notes from the first-year course to revise these distributions as you will lose a mark for not knowing these things.  \n",
    "\n",
    "While you are revising those notes you can also find ways to impress me by generating a plot showing a sample of random variables from a distribution that was not covered in this set of exercises.  You encountered the following types of random variable in the level one course and it is easy to generate random variables from these distributions using the ideas from within this notebook:\n",
    "\n",
    "- Negative binomial random variables\n",
    "- Normal distribution\n",
    "- Sums of multiple independent random variables of one of the types in this notebook\n",
    "- Functions of the the types of random random variables in this notebook\n",
    "- Functions of sums of random variables of one of the types in this notebook\n",
    "\n",
    "Distributions that you also covered in the first year that are little bit harder to generate (but still not difficult) include:\n",
    "\n",
    "- The exponential distribution\n",
    "- The Erlang distribution\n",
    "- The hypergeometric distribution\n",
    " \n",
    "Try to be creative in what you submit if you can.  You will understand more if you engage creatively with this material. \n",
    "\n"
   ]
  },
  {
   "cell_type": "markdown",
   "metadata": {},
   "source": [
    " "
   ]
  }
 ],
 "metadata": {
  "colab": {
   "cell_execution_strategy": "setup",
   "collapsed_sections": [
    "NVOkK4hCU7RK"
   ],
   "private_outputs": true,
   "provenance": []
  },
  "kernelspec": {
   "display_name": "Python 3 (ipykernel)",
   "language": "python",
   "name": "python3"
  },
  "language_info": {
   "codemirror_mode": {
    "name": "ipython",
    "version": 3
   },
   "file_extension": ".py",
   "mimetype": "text/x-python",
   "name": "python",
   "nbconvert_exporter": "python",
   "pygments_lexer": "ipython3",
   "version": "3.9.19"
  }
 },
 "nbformat": 4,
 "nbformat_minor": 1
}
