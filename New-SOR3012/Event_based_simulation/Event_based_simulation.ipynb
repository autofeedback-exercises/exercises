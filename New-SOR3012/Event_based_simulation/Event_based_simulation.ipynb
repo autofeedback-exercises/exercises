{
 "cells": [
  {
   "cell_type": "markdown",
   "metadata": {
    "id": "NVOkK4hCU7RK"
   },
   "source": [
    "# Run this cell first"
   ]
  },
  {
   "cell_type": "code",
   "execution_count": null,
   "metadata": {
    "id": "QCMw-lybOsz-"
   },
   "outputs": [],
   "source": [
    "# this code enables the automated feedback. If you remove this, you won't get any feedback\n",
    "# so don't delete this cell!\n",
    "try:\n",
    "  import AutoFeedback\n",
    "except (ModuleNotFoundError, ImportError):\n",
    "  !pip install git+https://github.com/abrown41/AutoFeedback@notebook\n",
    "  import AutoFeedback\n",
    "\n",
    "try:\n",
    "  from testsrc import test_main\n",
    "except (ModuleNotFoundError, ImportError):\n",
    "  !pip install \"git+https://github.com/autofeedback-exercises/exercises.git@testpip#subdirectory=New-SOR3012/Event_based_simulation\"\n",
    "  from testsrc import test_main\n",
    "\n",
    "def runtest(tlist):\n",
    "  import unittest\n",
    "  from contextlib import redirect_stderr\n",
    "  from os import devnull\n",
    "  with redirect_stderr(open(devnull, 'w')):\n",
    "    suite = unittest.TestSuite()\n",
    "    for tname in tlist:\n",
    "      suite.addTest(eval(f\"test_main.UnitTests.{tname}\"))\n",
    "    runner = unittest.TextTestRunner()\n",
    "    try:\n",
    "      runner.run(suite)\n",
    "    except AssertionError:\n",
    "      pass\n"
   ]
  },
  {
   "cell_type": "markdown",
   "metadata": {
    "id": "OrV6fz9dsBr1"
   },
   "source": [
    "# The exponential random variable\n",
    "\n",
    "You can generate an exponential random variable by first generating a uniform random variable in the usual way.  This random variable is inserted into the inverse function for the cumulative probability distribution for the exponential random variable.  The random variable that emerges from this inverse function is then a sample from an exponential random variable.\n",
    "\n",
    "Your task in this exercise is to write a function called `exponential` that takes in a parameter `lam`.  This function should return an exponential random variable generated from a distribution with parameter `lam`.  Please note that you can calculate the natural logarithm of a variable, `x`, by using the command:\n",
    "\n",
    "```python\n",
    "logx = np.log(x)\n",
    "```\n",
    "\n",
    "as you will need this in your function to calculate the random variable.\n"
   ]
  },
  {
   "cell_type": "code",
   "execution_count": null,
   "metadata": {
    "id": "YY93CYSr2RQa"
   },
   "outputs": [],
   "source": [
    "import numpy as np\n",
    "\n",
    "def exponential(lam):\n",
    "  # Your code to generate an exponential random variable goes here\n",
    "\n",
    "\n",
    "# Here is some code that just tests your function is working correctly\n",
    "print( exponential(2), exponential(2), exponential(2), exponential(2) )\n"
   ]
  },
  {
   "cell_type": "code",
   "execution_count": null,
   "metadata": {
    "id": "MM5lF0noopcY"
   },
   "outputs": [],
   "source": [
    "runtest(['test_lam'])"
   ]
  },
  {
   "cell_type": "markdown",
   "metadata": {
    "id": "IQEYSuwYHjIl"
   },
   "source": [
    "# Histogram for exponential random variable\n",
    "\n",
    "I would like you to estimate the probability density function for the exponential random variable by writing a function to generate this type of random variable and by repeatedly sampling the random variable by calling this function multiple times.\n",
    "\n",
    "There are two important things to bear in mind that are different when you calculate the histogram for a continuous random variable.  The first is the way that we use the `np.floor` function to describe the continuous interval into `n` discrete bins.\n",
    "If we know that the random variable is between `min` and `max` then we can work out the widths of these bins using the following python code:\n",
    "\n",
    "```python\n",
    "delr = ( max - min ) / n\n",
    "```\n",
    "\n",
    "If we now generate a random variable `U` we can work out the bin that the random falls within using the following code:\n",
    "\n",
    "```python\n",
    "mybin = int ( ( U - min ) / delr )\n",
    "```\n",
    "\n",
    "We can thus use the above within the normal code that we would employ to compute the histogram. Now, however, the height of the bars in the unormalized histogram are equal to the number of random variable that fall into each of the line segments of interest.\n",
    "As we are trying to estimate a probablity density function we must sure that the function is normalised correctly so that:\n",
    "\n",
    "![](normalisation.png)\n",
    "\n",
    "So the area under your final histogram should be one.  When you normalise the points in the list called counts you should thus divide by the number of points sampled and the width of the bins (`delr`).\n",
    "The estimates of the probability densities that once you have completed this procedure are plotted at the midpoints of the bins.  These midpoints can be generated using the command:\n",
    "\n",
    "```python\n",
    "for i in range(nbins) : xvals[i] = (i+0.5)*delr\n",
    "```\n",
    "\n",
    "Furthermore, the probablity density function should be plotted using a line rather than a series of bars as it is a continuous function.  The probablity mass function that we have estimated in previous exercises only has non-zero values for particular discrete values of x.\n",
    "\n",
    "With all this in mind, for this exercise I want you to estimate the probablity density function for the exponential random variable by sampling.   The one small problem that we have is that the exponential random variable can in theory take any value between 0 and infinity.  The probability of having a very high value for the random variable is, however, very small.  We can thus safely truncate the range and calculate our estimate of the probability density function over some finite range.\n",
    "\n",
    "Please note that you must set the variable called `lamd` equal to the parameter for the exponential random variable you sample in order to pass the tests for the task.  Furthermore, you must ensure that a graph is plotted using the `plt.plot` and `plt.savefig` commands that appear at the end of the code.\n"
   ]
  },
  {
   "cell_type": "code",
   "execution_count": null,
   "metadata": {
    "id": "epZyaFH6Qlcd"
   },
   "outputs": [],
   "source": [
    "import matplotlib.pyplot as plt\n",
    "import numpy as np\n",
    "\n",
    "def exponential(lam):\n",
    "  # Your code to generate an exponential random variable goes here\n",
    "\n",
    "lamd = 2      # The parameter for the exponential random variable you should sample\n",
    "xmax = 6     # The maximum value for x that you should use in your histogram\n",
    "nbins = 200   # The number of bins you should use for your histogram\n",
    "histo = np.zeros(nbins)     # The variable you should use to store the histogram\n",
    "xvals = np.zeros(nbins)     # The midpoints of your histogram bins that are used for plotting\n",
    "\n",
    "# Your code to compute an estimate for the probability density function of an exponential random\n",
    "# variable goes here.\n",
    "\n",
    "\n",
    "# This draws the histogram - do not delete this code\n",
    "plt.plot( xvals, histo, 'k-')\n",
    "plt.xlabel('Random variable value')\n",
    "plt.ylabel('Probability')\n",
    "\n",
    "\n",
    "# This code is required for the autofeedback- don't delete it!\n",
    "fighand = plt.gca()"
   ]
  },
  {
   "cell_type": "code",
   "execution_count": null,
   "metadata": {
    "id": "brzVMIAuluGn"
   },
   "outputs": [],
   "source": [
    "runtest(['test_plot'])"
   ]
  },
  {
   "cell_type": "markdown",
   "metadata": {
    "id": "JyJBoPJZocTA"
   },
   "source": [
    "# The poisson process\n",
    "\n",
    "In this exercise we are going to move to sampling the poisson process.  We have already seen how poisson random variables can be generated in one of the other programming tasks.  The algorithm that we wrote previously was rather complicated, however.  In this exercise we are going to learn a much simpler method for generating Poisson random variables.  The key realisation for this method is that in a Poisson process the distribution for the times between adjacent events is exponential.  Consequently, we can generate a Poisson process by simply generating exponential random variables and adding them together.  The sum of three such exponential random variables will thus give us the time at which the third of the events occurs in our Poisson process.\n",
    "\n",
    "We will explore this idea using the code in the panel on the right.  To complete this code you must:\n",
    "\n",
    "1. Write a function called `exponential` that takes a parameter called `lam`.  This function should return the value of an exponential random variable with parameter `lam`.\n",
    "2. Write a loop in which the function `exponential` is called multiple times.  Within this loop you will need to set the elements of the list called `arrival_times` and the elements of the list called `number_of_events`.  The first of these two lists should be set equal to the times at which the events occurred and the second of these two lists should be equal to the number of events that have occurred by that time.\n",
    "\n",
    "The code that is already there will draw a graph with points that have their x-coordinates equal to `arrival_times` and their y-coordinates equal to `number_of_events`.  In other words, the final result is a graph showing the how the number of events that have occurred changes with time.\n",
    "\n",
    "Notice that in order to pass the test the inter arrival times between the events in your Poisson process must be exponentially distributed random variables with the parameter `lamd`.\n",
    "\n",
    "\n"
   ]
  },
  {
   "cell_type": "code",
   "execution_count": null,
   "metadata": {
    "id": "a5xpe7MVxneS"
   },
   "outputs": [],
   "source": [
    "import matplotlib.pyplot as plt\n",
    "import numpy as np\n",
    "\n",
    "def exponential(lam) :\n",
    "  # Your code to generate an exponential random variable goes here\n",
    "\n",
    "\n",
    "nevents = 20\n",
    "lamd = 2\n",
    "number_of_events = np.zeros(nevents)\n",
    "arrival_times = np.zeros(nevents)\n",
    "for i in range(nevents) :\n",
    "  # You need to write code in here in order to set the elements\n",
    "  # of the two lists number_of_events and arrival_times\n",
    "\n",
    "\n",
    "plt.plot( arrival_times, number_of_events, 'ko' )\n",
    "plt.xlabel('time')\n",
    "plt.ylabel('number of events')\n",
    "# This code is required for the autofeedback- don't delete it!\n",
    "fighand = plt.gca()\n",
    "\n"
   ]
  },
  {
   "cell_type": "code",
   "execution_count": null,
   "metadata": {
    "id": "ORX2idt7FG0j"
   },
   "outputs": [],
   "source": [
    "runtest(['test_plot_1'])"
   ]
  }
 ],
 "metadata": {
  "colab": {
   "cell_execution_strategy": "setup",
   "collapsed_sections": [
    "NVOkK4hCU7RK"
   ],
   "private_outputs": true,
   "provenance": []
  },
  "kernelspec": {
   "display_name": "Python 3 (ipykernel)",
   "language": "python",
   "name": "python3"
  },
  "language_info": {
   "codemirror_mode": {
    "name": "ipython",
    "version": 3
   },
   "file_extension": ".py",
   "mimetype": "text/x-python",
   "name": "python",
   "nbconvert_exporter": "python",
   "pygments_lexer": "ipython3",
   "version": "3.9.13"
  }
 },
 "nbformat": 4,
 "nbformat_minor": 1
}
