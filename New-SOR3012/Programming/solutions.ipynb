{
 "cells": [
  {
   "cell_type": "markdown",
   "metadata": {
    "id": "NVOkK4hCU7RK"
   },
   "source": [
    "# Run this cell first"
   ]
  },
  {
   "cell_type": "code",
   "execution_count": 1,
   "metadata": {
    "id": "QCMw-lybOsz-"
   },
   "outputs": [],
   "source": [
    "# this code enables the automated feedback. If you remove this, you won't get any feedback\n",
    "# so don't delete this cell!\n",
    "try:\n",
    "  import AutoFeedback\n",
    "except (ModuleNotFoundError, ImportError):\n",
    "  !pip install git+https://github.com/abrown41/AutoFeedback@notebook\n",
    "  import AutoFeedback\n",
    "\n",
    "try:\n",
    "  from testsrc import test_main\n",
    "except (ModuleNotFoundError, ImportError):\n",
    "  !pip install \"git+https://github.com/autofeedback-exercises/exercises.git@testpip#subdirectory=New-SOR3012/Programming\n",
    "  from testsrc import test_main\n",
    "\n",
    "def runtest(tlist):\n",
    "  import unittest\n",
    "  from contextlib import redirect_stderr\n",
    "  from os import devnull\n",
    "  with redirect_stderr(open(devnull, 'w')):\n",
    "    suite = unittest.TestSuite()\n",
    "    for tname in tlist:\n",
    "      suite.addTest(eval(f\"test_main.UnitTests.{tname}\"))\n",
    "    runner = unittest.TextTestRunner()\n",
    "    try:\n",
    "      runner.run(suite)\n",
    "    except AssertionError:\n",
    "      pass\n"
   ]
  },
  {
   "cell_type": "markdown",
   "metadata": {
    "id": "lcmlnaNNBO7E"
   },
   "source": [
    "# Calculating the modulus\n",
    "\n",
    "Lets start these exercises by applying the ideas covered in the video.  In the video, you were shown how we can calculate set the variable `fx` equal to the modulus of a variable called `x` by using a function like the one below:\n",
    "\n",
    "```python\n",
    "x = -3\n",
    "if x<0 :\n",
    "   fx = -1*x\n",
    "else :\n",
    "   fx = x\n",
    "\n",
    "print( fx )\n",
    "```\n",
    "\n",
    "To complete this exercise you need to use code similar to the one above to set the variables `fx`, `fy` and `fz` equal to the moduli of `x`, `y` and `z` respectively.\n"
   ]
  },
  {
   "cell_type": "code",
   "execution_count": 2,
   "metadata": {
    "id": "avNuTUQ60Fs-"
   },
   "outputs": [],
   "source": [
    "x = -3\n",
    "y = 2\n",
    "z = -6\n",
    "fx = abs(x)\n",
    "fy = abs(y)\n",
    "fz = abs(z)"
   ]
  },
  {
   "cell_type": "code",
   "execution_count": 3,
   "metadata": {
    "id": "duprModfTDuN"
   },
   "outputs": [
    {
     "name": "stdout",
     "output_type": "stream",
     "text": [
      "\u001b[92mVariable fx is correct!              \n",
      "\u001b[0m\n",
      "\u001b[93m==============================\n",
      "\u001b[0m\n",
      "\u001b[92mVariable fy is correct!              \n",
      "\u001b[0m\n",
      "\u001b[93m==============================\n",
      "\u001b[0m\n",
      "\u001b[92mVariable fz is correct!              \n",
      "\u001b[0m\n",
      "\u001b[93m==============================\n",
      "\u001b[0m\n"
     ]
    }
   ],
   "source": [
    "runtest(['test_fx', 'test_fy', 'test_fz'])"
   ]
  },
  {
   "cell_type": "markdown",
   "metadata": {
    "id": "2Nf3QuFK4J5L"
   },
   "source": [
    "# Using logic within a for loop\n",
    "\n",
    "To complete the previous exercise you probably had to copy and paste the same piece of code three times.  You had one if statement for the variable `x`, one for `y` and one for `z`.  In previous exercises, we have always said that copy and pasting code is a bad way to program as if we write more code we will create more bugs.  We thus want to learn how we can reuse one if/else statement multiple times.  The answer as we have seen in previous exercises is to use a for loop and lists.\n",
    "\n",
    "In the code below the line:\n",
    "\n",
    "```python\n",
    "xvals = np.loadtxt('values.dat')\n",
    "```\n",
    "\n",
    "creates a NumPy array that contains 100 elements by reading in the numbers in the file called `values.dat`.  __Your task is to write a code that sets `yvals[i]` equal to the modulus of `xvals[i]`.__  Notice that you can print all the numbers in `xvals` on different lines by using a command like this:\n",
    "\n",
    "```python\n",
    "for i in range(len(xvals)) :\n",
    "    print( xvals[i] )\n",
    "```\n",
    "\n",
    "Notice also that the following code:\n",
    "\n",
    "```python\n",
    "for i in range(6) :\n",
    "    if i<3 :\n",
    "       print( -1*i )\n",
    "    else :\n",
    "       print( i )\n",
    "```\n",
    "\n",
    "Would output:\n",
    "\n",
    "````\n",
    "0\n",
    "-1\n",
    "-2\n",
    "3\n",
    "4\n",
    "5\n",
    "````\n",
    "\n",
    "****\n",
    "Code like this:\n",
    "\n",
    "```python\n",
    "for i in range(len(xvals)) :\n",
    "    print( xvals[i] )\n",
    "```\n",
    "\n",
    "works fine.  This way of coding is not very 'pythonic' though.  If you are interested and have time do a bit of reading.  You will find that you can write loops like this one that use less code and that are thus better.  Count how many symbols you have used to write your program.   I had 188 symbols in the solution I would expect you to write based on the instructions I have given here.  I can reduce this down to 126 symbols though by using the features I can find to shorten my code.\n",
    "\n",
    "\n"
   ]
  },
  {
   "cell_type": "code",
   "execution_count": 4,
   "metadata": {
    "id": "RpgbuP0B3qkN"
   },
   "outputs": [],
   "source": [
    "import numpy as np\n",
    "\n",
    "# This loads the data from values.dat into the NumPy array called xvals\n",
    "xvals = np.loadtxt('values.dat')\n",
    "yvals = []\n",
    "for x in xvals:\n",
    "    yvals.append(abs(x))"
   ]
  },
  {
   "cell_type": "code",
   "execution_count": 5,
   "metadata": {
    "id": "-V9mkTbOwMRP"
   },
   "outputs": [
    {
     "name": "stdout",
     "output_type": "stream",
     "text": [
      "\u001b[92mVariable yvals is correct!              \n",
      "\u001b[0m\n",
      "\u001b[93m==============================\n",
      "\u001b[0m\n"
     ]
    }
   ],
   "source": [
    "runtest(['test_arrayValues'])"
   ]
  },
  {
   "cell_type": "markdown",
   "metadata": {
    "id": "8GkYZtw3BLDy"
   },
   "source": [
    "# Beyond the modulo function\n",
    "\n",
    "We have now gone about as far as we can with the modulo function so lets see if we can do something else using what we have learned about if statements.  I have provided you with a file called `mydata.dat` and have loaded the numerical data in this file into a NumPy array called `xvals` by using the command:\n",
    "\n",
    "```python\n",
    "xvals = np.loadtxt('mydata.dat')\n",
    "```\n",
    "\n",
    "If you look at the `mydata.dat` file you can see the data that is in the file.  As you can see some of the data points are equal to 5 and some are not.  __I would like you to create an array called `ydata` that has the same length as `xvals`.__ `ydata[i]` should be set equal to 1 if `xvals[i]` is equal to 5.  If `xvals[i]` is not equal to 5 `ydata[i]` should be set equal to 0.\n"
   ]
  },
  {
   "cell_type": "code",
   "execution_count": 6,
   "metadata": {
    "id": "NNiRJa80ZQxf"
   },
   "outputs": [],
   "source": [
    "import numpy as np\n",
    "\n",
    "# This loads the data from values.dat into the NumPy array called xvals\n",
    "xvals = np.loadtxt('mydata.dat')\n",
    "\n",
    "yvals = xvals == 5"
   ]
  },
  {
   "cell_type": "code",
   "execution_count": 7,
   "metadata": {
    "id": "8RHgCYhsMpvJ"
   },
   "outputs": [
    {
     "name": "stdout",
     "output_type": "stream",
     "text": [
      "\u001b[92mVariable yvals is correct!              \n",
      "\u001b[0m\n",
      "\u001b[93m==============================\n",
      "\u001b[0m\n"
     ]
    }
   ],
   "source": [
    "runtest(['test_arrayValues_1'])"
   ]
  },
  {
   "cell_type": "markdown",
   "metadata": {
    "id": "A1Pm5reiHp3D"
   },
   "source": [
    "# Counting the number of fives\n",
    "\n",
    "For this exercise I have once again loaded the data in the file `mydata.dat` into the NumPy array called `xvals` by using the command:\n",
    "\n",
    "```python\n",
    "xvals = np.loadtxt('mydata.dat')\n",
    "```\n",
    "\n",
    "__I would like you to write a program to count the number of fives that are in `xvals` to complete this exercise.__  To complete the exercise the variable `nfives` must be set equal to the number of fives in `xvals`.\n",
    "\n",
    "Notice that you can count the total number of elements in `xvals` by writing a program like this:\n",
    "\n",
    "```python\n",
    "nelements = 0\n",
    "for i in range(len(xvals)) :\n",
    "    nelements = nelements + 1\n",
    "\n",
    "print( nelements )\n",
    "```\n",
    "\n",
    "You will need to write something like the code above to commplete this exercise.  You will also need to include an if statement in your code, however.\n"
   ]
  },
  {
   "cell_type": "code",
   "execution_count": 8,
   "metadata": {
    "id": "pJ-Dvbmit2Wt"
   },
   "outputs": [],
   "source": [
    "import numpy as np\n",
    "\n",
    "# This loads the data from values.dat into the NumPy array called xvals\n",
    "xvals = np.loadtxt('mydata.dat')\n",
    "\n",
    "# Add code so that this variable is set equal to the number of fives in xvals\n",
    "nfives=0\n",
    "for x in xvals:\n",
    "    if x == 5:\n",
    "        nfives += 1\n",
    "\n"
   ]
  },
  {
   "cell_type": "code",
   "execution_count": 9,
   "metadata": {
    "id": "YCzU1FxSvFzT"
   },
   "outputs": [
    {
     "name": "stdout",
     "output_type": "stream",
     "text": [
      "\u001b[92mVariable nfives is correct!              \n",
      "\u001b[0m\n",
      "\u001b[93m==============================\n",
      "\u001b[0m\n"
     ]
    }
   ],
   "source": [
    "runtest(['test_arrayValues_2'])"
   ]
  },
  {
   "cell_type": "markdown",
   "metadata": {
    "id": "LrOA18ZqDZjG"
   },
   "source": [
    "# One final logic exericse\n",
    "\n",
    "I have loaded the data in the file `mydata.dat` into the NumPy array called `xvals` by using the command:\n",
    "\n",
    "```python\n",
    "xvals = np.loadtxt('mydata.dat')\n",
    "```\n",
    "\n",
    "one final time.  To complete this exercise you need to use what you have learned in previous exercises __to set the variables `nlefive` and `nmefive` equal to the number of elements in `xvals` that are less than or equal to five and the number of elements in `xvvals` that are greater than or equal to five__ respectively.\n",
    "\n",
    "***\n",
    "Be aware that many novice programmers try to be clever about how they are using if statments and to thus write less code.  When they do this they often make mistakes.  When it comes to if statements it is therefore better to write more code and to be sure that it right. Coding interview problems like FizzBuzz are often designed to ensure that applicants are not trying to be too clever off the bat.\n"
   ]
  },
  {
   "cell_type": "code",
   "execution_count": 10,
   "metadata": {
    "id": "sV3CHdAzpFYh"
   },
   "outputs": [],
   "source": [
    "import numpy as np\n",
    "\n",
    "# This loads the data from values.dat into the NumPy array called xvals\n",
    "xvals = np.loadtxt('mydata.dat')\n",
    "\n",
    "# Add code so that these variables are set equal to the number of elements in\n",
    "# xvals that are less than or equal to five and that are more than five respectively\n",
    "nlefive=0\n",
    "nmefive=0\n",
    "for x in xvals:\n",
    "    if x < 5:\n",
    "        nlefive += 1\n",
    "    elif x >5:\n",
    "        nmefive += 1\n",
    "    else:\n",
    "        nlefive += 1\n",
    "        nmefive += 1\n"
   ]
  },
  {
   "cell_type": "code",
   "execution_count": 11,
   "metadata": {
    "id": "PNIHbr68Nulq"
   },
   "outputs": [
    {
     "name": "stdout",
     "output_type": "stream",
     "text": [
      "\u001b[92mVariable nlefive is correct!              \n",
      "\u001b[0m\n",
      "\u001b[93m==============================\n",
      "\u001b[0m\n",
      "\u001b[92mVariable nmefive is correct!              \n",
      "\u001b[0m\n",
      "\u001b[93m==============================\n",
      "\u001b[0m\n"
     ]
    }
   ],
   "source": [
    "runtest(['test_nlefive', 'test_nmtfive'])"
   ]
  },
  {
   "cell_type": "markdown",
   "metadata": {
    "id": "rFBVxJ7YX3xO"
   },
   "source": [
    "# Plotting data\n",
    "\n",
    "One advantage of using python to do calculations instead of using a calculator is that you can easily draw graphs using python.  In this exercise we are thus going to learn how to plot the seven times table that we have learned to calculate over the last few exercises.  To create plots with python we need to load a library called `matplotlib.pyplot.`  As you can see in `main.py` this library is loaded by including the command:\n",
    "\n",
    "```python\n",
    "import matplotlib.pyplot as plt\n",
    "```\n",
    "\n",
    "at the top of the script.  We will plot the values from the seven times table on the y-axis.  On the x-axis we will plot the numbers that must be multiplied by seven in order to get the values that have been plotted on the y-axis.  We can generate these 11 x-coordinates using the following code:\n",
    "\n",
    "```python\n",
    "xvals = np.zeros(11)\n",
    "for i in range(11) :\n",
    "    xvals[i] = i\n",
    "```\n",
    "\n",
    "If you then store the eleven values from the seven times table in a second array called `yvals` you can plot the graph by using:\n",
    "\n",
    "```python\n",
    "plt.plot( xvals, yvals, 'ko' )\n",
    "plt.xlabel('Index')\n",
    "plt.ylabel('Seven times table')\n",
    "```\n",
    "\n",
    "__To complete this task you need to combine the information that I have given about plotting with what you have learned in previous exercises to create the plot showing the the first 11 numbers in the seven times table on the y-axis.__\n",
    "\n"
   ]
  },
  {
   "cell_type": "code",
   "execution_count": 12,
   "metadata": {
    "id": "dum5vK1Awpvj"
   },
   "outputs": [
    {
     "data": {
      "image/png": "[encoded data removed]",
      "text/plain": [
       "<Figure size 640x480 with 1 Axes>"
      ]
     },
     "metadata": {},
     "output_type": "display_data"
    }
   ],
   "source": [
    "import matplotlib.pyplot as plt\n",
    "import numpy as np\n",
    "\n",
    "x = np.arange(0, 11)\n",
    "y = 7*x\n",
    "plt.plot(x, y)\n",
    "plt.xlabel(\"Index\")\n",
    "plt.ylabel(\"Seven times table\")\n",
    "\n",
    "# This code is required for the Automated feedback, don't delete it!\n",
    "fighand = plt.gca()"
   ]
  },
  {
   "cell_type": "code",
   "execution_count": 13,
   "metadata": {
    "id": "GA32qBK3KZPH"
   },
   "outputs": [
    {
     "name": "stdout",
     "output_type": "stream",
     "text": [
      "\u001b[92mDataset  plotted correctly!\n",
      "\u001b[0m\n",
      "\u001b[93m==============================\n",
      "\u001b[0m\n",
      "\u001b[92mPlot is correct!\n",
      "\u001b[0m\n",
      "\u001b[93m==============================\n",
      "\u001b[0m\n"
     ]
    }
   ],
   "source": [
    "runtest(['test_fib'])"
   ]
  },
  {
   "cell_type": "markdown",
   "metadata": {
    "id": "GNpHSr44uKgt"
   },
   "source": [
    "# Plotting\n",
    "\n",
    "The times tables that we have been calculating and plotting are examples of what are called sequences.  We can use the following nomenclature to express the seven times table as a sequence:\n",
    "\n",
    "$$ a_n = 7n \\; \\text{ for } \\; n=0,1,2,3,\\ldots$$\n",
    "Lets now consider the following sequence:\n",
    "\n",
    "$$ a_n = n^2 \\; \\text{ for } \\; n=0,1,2,3,\\dots$$\n",
    "\n",
    "__Write a program that produces a graph with x values that are the first 30 n values and y values that are the first 30 values for $a_n$.__  Label the x-axis of the graph as __Index__ and the y-axis as __Square__.\n"
   ]
  },
  {
   "cell_type": "code",
   "execution_count": 14,
   "metadata": {
    "id": "r3xO1v0yPuuH"
   },
   "outputs": [
    {
     "data": {
      "image/png": "[encoded data removed]",
      "text/plain": [
       "<Figure size 640x480 with 1 Axes>"
      ]
     },
     "metadata": {},
     "output_type": "display_data"
    }
   ],
   "source": [
    "import matplotlib.pyplot as plt\n",
    "import numpy as np\n",
    "\n",
    "x = np.arange(0,30,1)\n",
    "y = x*x \n",
    "plt.plot(x,y)\n",
    "plt.xlabel(\"Index\")\n",
    "plt.ylabel(\"Square\")\n",
    "\n",
    "# This code is required for the autofeedback, don't delete it!\n",
    "fighand = plt.gca()"
   ]
  },
  {
   "cell_type": "code",
   "execution_count": 15,
   "metadata": {
    "id": "NPtrvvPsNY6J"
   },
   "outputs": [
    {
     "name": "stdout",
     "output_type": "stream",
     "text": [
      "\u001b[92mDataset  plotted correctly!\n",
      "\u001b[0m\n",
      "\u001b[93m==============================\n",
      "\u001b[0m\n",
      "\u001b[92mPlot is correct!\n",
      "\u001b[0m\n",
      "\u001b[93m==============================\n",
      "\u001b[0m\n"
     ]
    }
   ],
   "source": [
    "runtest(['test_fib_1'])"
   ]
  },
  {
   "cell_type": "markdown",
   "metadata": {
    "id": "bIYkwEoS5HWH"
   },
   "source": [
    "# Calculating the triangular numbers\n",
    "\n",
    "In the programming exercises that we have completed thus far we have used python to calculate series where the nth element of the series is some function of n.  For example, the nth element of the seven times table (a series) is just 7 multiplied by n.  This is not the only way of explaining how the elements in a series are calculated.  The elements in the series of triangular numbers can, for instance be defined as follows:\n",
    "\n",
    "![](eq1.png)\n",
    "\n",
    "In other words, the zeroth element in this series is zero. All elements with n>0 can then be calculated by adding n to to the previous element in the series.  The first few terms in this series are thus:\n",
    "\n",
    "![](eq2.png)\n",
    "\n",
    "__To complete this exercise I would like you to complete the code in `main.py` so that it does the following__:\n",
    "\n",
    "1. Create an array called `triangularNumbers`.  This array should have 100 elements.\n",
    "2. Set `triangularNumbers[0]` equal to 0.\n",
    "3. Write a for loop that uses the formulas given above to evaluate the remaining 99 elements in the array `triangularNumbers`.\n",
    "4. Use the plot command to draw a graph that shows the triangular numbers you have calculated on the y-axis.  The first point you plot should have x=1, the second x=2, the third x=3 and so on.\n",
    "5. Use the axis labels that I have provided. \n",
    "\n",
    "***\n",
    "\n",
    "Note: If you write:\n",
    "\n",
    "```python\n",
    "for i in range(1,4) :\n",
    "    print(i)\n",
    "```\n",
    "\n",
    "This code will output:\n",
    "\n",
    "```python\n",
    "1\n",
    "2\n",
    "3\n",
    "```\n",
    "\n",
    "as the loop runs for all the integers, i, that have 0<i<4.\n"
   ]
  },
  {
   "cell_type": "code",
   "execution_count": 16,
   "metadata": {
    "id": "Fn4Yi5Lvjfl4"
   },
   "outputs": [
    {
     "data": {
      "image/png": "[encoded data removed]",
      "text/plain": [
       "<Figure size 640x480 with 1 Axes>"
      ]
     },
     "metadata": {},
     "output_type": "display_data"
    }
   ],
   "source": [
    "import matplotlib.pyplot as plt\n",
    "import numpy as np\n",
    "\n",
    "xvals = np.arange(100)\n",
    "triangularNumbers = np.zeros(100)\n",
    "# Insert your code to compute the triangular numbers here\n",
    "\n",
    "for i in range(1, 100):\n",
    "    triangularNumbers[i] = triangularNumbers[i-1] + i\n",
    "\n",
    "    \n",
    "\n",
    "\n",
    "plt.plot( xvals, triangularNumbers, 'ko' )\n",
    "plt.xlabel('Index')\n",
    "plt.ylabel('Triangular Numbers')\n",
    "\n",
    "# This code is required for the autofeedback- don't delete it!\n",
    "fighand = plt.gca()\n"
   ]
  },
  {
   "cell_type": "code",
   "execution_count": 17,
   "metadata": {
    "id": "sQ9ndzTKgmRZ"
   },
   "outputs": [
    {
     "name": "stdout",
     "output_type": "stream",
     "text": [
      "\u001b[92mDataset  plotted correctly!\n",
      "\u001b[0m\n",
      "\u001b[93m==============================\n",
      "\u001b[0m\n",
      "\u001b[92mPlot is correct!\n",
      "\u001b[0m\n",
      "\u001b[93m==============================\n",
      "\u001b[0m\n"
     ]
    }
   ],
   "source": [
    "runtest(['test_fib_2'])"
   ]
  },
  {
   "cell_type": "markdown",
   "metadata": {
    "id": "jV8XECBOQStg"
   },
   "source": [
    "# Python basics\n",
    "\n",
    "In this exercise, you are going to learn how to get python to output numbers and text.  You are also going to learn how Python can be used to evaluate mathematical expressions.  Start by typing:\n",
    "\n",
    "```python\n",
    "print('Hello World!')\n",
    "```\n",
    "\n",
    "In the box on the top left.  When you have done so, click the 'run' button at the top.\n",
    "\n",
    "When you run this code you should find the phrase 'Hello World!' is output in the black box on the bottom right.\n",
    "\n",
    "Lets now use Python as a calculator.  Python is an improvement on your calculator as when you do your calculations with Python you can see what formula was evaluated as well as the answer.  It should, therefore, be easier to detect your mistakes.  Try doing the following calculation using python:\n",
    "\n",
    "```python\n",
    "print ( 7/ 1+6 )\n",
    "```\n",
    "\n",
    "Now try this one:\n",
    "\n",
    "```python\n",
    "print ( 7/(1+6) )\n",
    "```\n",
    "\n",
    "Why is the value printed here different to the value you got from the previous exercise?\n",
    "\n",
    "Now try these two calculations:\n",
    "\n",
    "```python\n",
    "print ( 10 / 10**2 )\n",
    "print ( (10/10)**2 )\n",
    "```\n",
    "\n",
    "Given these the results from these calculations (and the results from other experiments you might try) what order does Python use when evaluating the addition, exponent and multiplication operators in an expression?  Write a program that saves the order in a list called `order`.  If you think, for instance, that Python does addition, then takes exponents and then multiplication you should write:\n",
    "\n",
    "```python\n",
    "order = ['addition', 'exponents', 'multiplication']\n",
    "```\n"
   ]
  },
  {
   "cell_type": "code",
   "execution_count": 18,
   "metadata": {
    "id": "49vJk76E8HBH"
   },
   "outputs": [],
   "source": [
    "# Add your code in this box:\n",
    "\n",
    "order = ['exponents', 'multiplication', 'addition']\n"
   ]
  },
  {
   "cell_type": "code",
   "execution_count": 19,
   "metadata": {
    "id": "m4oLxdGMVfxH"
   },
   "outputs": [
    {
     "name": "stdout",
     "output_type": "stream",
     "text": [
      "\u001b[92mVariable order is correct!              \n",
      "\u001b[0m\n",
      "\u001b[93m==============================\n",
      "\u001b[0m\n"
     ]
    }
   ],
   "source": [
    "runtest(['test_output'])"
   ]
  },
  {
   "cell_type": "markdown",
   "metadata": {
    "id": "WEFXbTl9vB7M"
   },
   "source": [
    "# Debug basics\n",
    "\n",
    "In the last exericse you established that Python performs binary operations in the same order that we perform them in maths.  In other words, Python performs operations in the BODMAS order that you learned about in school.  When an expression is evaluated by Python the computer thus:\n",
    "\n",
    "1. First evaluates all the expressions in BRACKETS\n",
    "2. It then does all the raising of numbers to powers (these are called ORDERS)\n",
    "3. It then does all the DIVISIONS in the expressions\n",
    "4. The next operations to be performed are the MULTIPLICATIONS\n",
    "5. Then the ADDITIONS\n",
    "6. And last but not least the SUBTRACTIONS\n",
    "\n",
    "Given that you now know the order that Python performs operations in the order above fix the code in the box below so that the variables are set correctly.\n",
    "\n",
    "$$ q1 = (13 \\times 4)^2 $$\n",
    "$$ q2 = \\dfrac{5}{10}$$\n",
    "$$ q3 = \\dfrac{10}{2+3}$$\n",
    "$$ q4 = 6 \\times 3 $$\n",
    "\n"
   ]
  },
  {
   "cell_type": "code",
   "execution_count": 20,
   "metadata": {
    "id": "M7AdQtjTqdCf"
   },
   "outputs": [],
   "source": [
    "q1 = (13 * 4) ** 2\n",
    "q2 = 5 / 10 \n",
    "q3 = 10/ (2 + 3)\n",
    "q4 = (6)*(3)\n"
   ]
  },
  {
   "cell_type": "code",
   "execution_count": 21,
   "metadata": {
    "id": "AeFVsCr6u3LW"
   },
   "outputs": [
    {
     "name": "stdout",
     "output_type": "stream",
     "text": [
      "\u001b[92mVariable q1 is correct!              \n",
      "\u001b[0m\n",
      "\u001b[93m==============================\n",
      "\u001b[0m\n",
      "\u001b[92mVariable q2 is correct!              \n",
      "\u001b[0m\n",
      "\u001b[93m==============================\n",
      "\u001b[0m\n",
      "\u001b[92mVariable q3 is correct!              \n",
      "\u001b[0m\n",
      "\u001b[93m==============================\n",
      "\u001b[0m\n",
      "\u001b[92mVariable q4 is correct!              \n",
      "\u001b[0m\n",
      "\u001b[93m==============================\n",
      "\u001b[0m\n"
     ]
    }
   ],
   "source": [
    "runtest(['test_output_1'])"
   ]
  },
  {
   "cell_type": "markdown",
   "metadata": {
    "id": "NNfBNBXmgsvz"
   },
   "source": [
    "# Variables\n",
    "\n",
    "Congratulations on completing the last exercise! You can now throw away your calculator and use Python instead!\n",
    "\n",
    "Python is just not a replacement for your calculator, however.  We can use it to do so much more if we just learn a few ideas from computer science.  The first of these ideas is the notion of a variable.  One of the main reasons computers are better than calculators is that computers can remember things.  Computers have a memory.  Variables are the mechanism we can use to exploit the computer's memory.  To see how memory works consider the code shown below:\n",
    "\n",
    "```python\n",
    "var = (5+4)*3\n",
    "print( var )\n",
    "```\n",
    "\n",
    "If you copy and paste this to the cell on the right and run the code you should see that the number 27 is output.  27 is output because the first line sets the variable var equal to the output of the calculation `(5+4)*3` (i.e. 27).  The print command then outputs whatever value is stored in the variable called var.\n",
    "\n",
    "When I test your code I can check if you have defined variables with specific names and if you have set these variables to the correct value.  To test if you have understood this idea of variables I would thus like you to write a code in the cell to the left that sets the variables on the left-hand sides of the equations given below as follows:\n",
    "\n",
    "$$ a1 = 3 \\\\\n",
    "b2 = \\dfrac{4+5}{2} \\\\\n",
    "c3 = 3(9+4) \\\\\n",
    "d4 = (7+4)\\dfrac{10}{2}$$\n"
   ]
  },
  {
   "cell_type": "code",
   "execution_count": 22,
   "metadata": {
    "id": "HrTcnLY2qoKh"
   },
   "outputs": [],
   "source": [
    "a1 = 3\n",
    "b2 = 4.5\n",
    "c3 = 39\n",
    "d4 = 55"
   ]
  },
  {
   "cell_type": "code",
   "execution_count": 23,
   "metadata": {
    "id": "pmtjTMaq9X0y"
   },
   "outputs": [
    {
     "name": "stdout",
     "output_type": "stream",
     "text": [
      "\u001b[92mVariable a1 is correct!              \n",
      "\u001b[0m\n",
      "\u001b[93m==============================\n",
      "\u001b[0m\n",
      "\u001b[92mVariable b2 is correct!              \n",
      "\u001b[0m\n",
      "\u001b[93m==============================\n",
      "\u001b[0m\n",
      "\u001b[92mVariable c3 is correct!              \n",
      "\u001b[0m\n",
      "\u001b[93m==============================\n",
      "\u001b[0m\n",
      "\u001b[92mVariable d4 is correct!              \n",
      "\u001b[0m\n",
      "\u001b[93m==============================\n",
      "\u001b[0m\n"
     ]
    }
   ],
   "source": [
    "runtest(['test_a1', 'test_b2', 'test_c3', 'test_d4'])"
   ]
  },
  {
   "cell_type": "markdown",
   "metadata": {
    "id": "tfGitFayb86r"
   },
   "source": [
    "# Using variables in equations\n",
    "\n",
    "Congratulations on completing the previous exercise!  Now that you understand how to set variables lets look how we can use them when writing equations.  Consider the following code:\n",
    "\n",
    "```python\n",
    "a = 4+5\n",
    "b = 2*a\n",
    "print(b)\n",
    "```\n",
    "\n",
    "When you run this code the number 18 will be output as the variable `a` is first set equal to 9 (4+5).  The variable `b` is then set equal to the value of the variable `a`, which is 9, multiplied by 2.\n",
    "\n",
    "The fact that we can use variables in equations allows us to break up complicated expressions into simpler parts.  Furthermore, if we print out the values of the variables in the simpler parts we can check our working as we move through the calculation.\n",
    "\n",
    "To see if you understand this idea I want you to evaluate the following expression:\n",
    "\n",
    "$$ r = \\dfrac{(4+5)(3+\\frac{1}{2})}{7(10-4)} $$\n",
    "\n",
    "I want you to do this by following the instructions given below:\n",
    "\n",
    "1. Set a variable called `numerator` equal to the numerator in the quotient above.\n",
    "2. Set a variable called `denominator` to the denominator of the quotient above.\n",
    "3. Set a variable called `r` equal to the variable `numerator` divided by the variable `denominator`.\n",
    "4. Finish by setting the variable called `numerator` equal to 4\n",
    "\n",
    "The tests I have written will check that the variables I have asked you to define in the instructions above have been defined and set correctly.\n"
   ]
  },
  {
   "cell_type": "code",
   "execution_count": 24,
   "metadata": {
    "id": "uc6YM1MxIrJ0"
   },
   "outputs": [],
   "source": [
    "numerator = (4+5)*3.5\n",
    "denominator = 7*6\n",
    "r = numerator/denominator\n",
    "numerator = 4\n"
   ]
  },
  {
   "cell_type": "code",
   "execution_count": 25,
   "metadata": {
    "id": "EEuiyj28mBGf"
   },
   "outputs": [
    {
     "name": "stdout",
     "output_type": "stream",
     "text": [
      "\u001b[92mVariable r is correct!              \n",
      "\u001b[0m\n",
      "\u001b[93m==============================\n",
      "\u001b[0m\n",
      "\u001b[92mVariable numerator is correct!              \n",
      "\u001b[0m\n",
      "\u001b[93m==============================\n",
      "\u001b[0m\n",
      "\u001b[92mVariable denominator is correct!              \n",
      "\u001b[0m\n",
      "\u001b[93m==============================\n",
      "\u001b[0m\n"
     ]
    }
   ],
   "source": [
    "runtest(['test_r', 'test_numerator', 'test_denominator'])"
   ]
  },
  {
   "cell_type": "markdown",
   "metadata": {
    "id": "ua4Pwjts51m6"
   },
   "source": [
    "# Debugging codes with variables\n",
    "\n",
    "Congratulations on completing the last exercise.  You now can now use variables when you evaluate mathematical expressions.  You can thus exploit Python effectively when doing the more laborious computations that are required in some of the homework assignments.  Using Python to do the calculations in your homework is actually a pretty sensible way of getting better at programming.\n",
    "\n",
    "In this exercise we are going to look at a pitfall you might run into if you use Python to do the calculations in your homework.  To understand this pitfall consider the code given below:\n",
    "\n",
    "```python\n",
    "a = b+4\n",
    "b = 2\n",
    "print( a )\n",
    "````\n",
    "\n",
    "You might think that this code will output a value of 6.  It will not do so, however, it will instead return the following error:\n",
    "\n",
    "````\n",
    "Traceback (most recent call last):\n",
    "  File 'python', line 1, in <module>\n",
    "NameError: name 'b' is not defined\n",
    "````\n",
    "\n",
    "The reason is Python reads the code sequentially.  The variable `b` is defined on the second line of the code above after it is used on the first line.  When Python tries to evaluate `b+4` on the first line it cannot as it does not understand what `b` is.\n",
    "\n",
    "To check you understand this point I have written a program below in which a number of variables have been defined after they are used.  You do not need to write any new code here.  You just need to rearrange what is there and to ensure that the code runs.\n"
   ]
  },
  {
   "cell_type": "code",
   "execution_count": 26,
   "metadata": {
    "id": "giuCg7MZr3tL"
   },
   "outputs": [],
   "source": [
    "c3 = 4\n",
    "\n",
    "e5 = c3 + 5\n",
    "\n",
    "b2 = e5*c3\n",
    "f6 = b2 + e5\n",
    "d4 = c3 / f6\n",
    "a1 = ( c3 + e5 ) / ( f6 + d4 )\n",
    "\n",
    "\n",
    "\n",
    "\n",
    "\n",
    "\n"
   ]
  },
  {
   "cell_type": "code",
   "execution_count": 27,
   "metadata": {
    "id": "xunoqT6Q49Ey"
   },
   "outputs": [
    {
     "name": "stdout",
     "output_type": "stream",
     "text": [
      "\u001b[92mVariable c3 is correct!              \n",
      "\u001b[0m\n",
      "\u001b[93m==============================\n",
      "\u001b[0m\n",
      "\u001b[92mVariable e5 is correct!              \n",
      "\u001b[0m\n",
      "\u001b[93m==============================\n",
      "\u001b[0m\n",
      "\u001b[92mVariable b2 is correct!              \n",
      "\u001b[0m\n",
      "\u001b[93m==============================\n",
      "\u001b[0m\n",
      "\u001b[92mVariable f6 is correct!              \n",
      "\u001b[0m\n",
      "\u001b[93m==============================\n",
      "\u001b[0m\n",
      "\u001b[92mVariable d4 is correct!              \n",
      "\u001b[0m\n",
      "\u001b[93m==============================\n",
      "\u001b[0m\n",
      "\u001b[92mVariable a1 is correct!              \n",
      "\u001b[0m\n",
      "\u001b[93m==============================\n",
      "\u001b[0m\n"
     ]
    }
   ],
   "source": [
    "runtest(['test_c4', 'test_e5', 'test_b3', 'test_f6', 'test_d5', 'test_a2'])"
   ]
  },
  {
   "cell_type": "markdown",
   "metadata": {
    "id": "gDJo0uWbgAKt"
   },
   "source": [
    "# Good programming practise\n",
    "\n",
    "Congratulations on completing the last exercise.  Now that you understand how to set and use variables you can write computer programs to solve most of the problems that will come up in your maths course.  Furthermore, there is only one additional thing (logic) that you need to need to learn about. You will then be able to write programs that solve __all__ the maths problems you might encounter.  Logic will be introduced in another one of these repl courses.  In the rest of this particular set of exercises, we are going to learn how to apply the first rule of good programming.  This first rule states:\n",
    "\n",
    "__The more code you write the more mistakes you will make.__\n",
    "\n",
    "In response to this realisation, the people who develop programming languages have introduced a lot of programming commands that allow you to shorten the codes you write.  Learning these commands does not allow you to write programs that complete more mathematical tasks.  To be clear, __you can already write programs that complete all the tasks that will be introduced in the next few exercises__.    Using these new commands will, however, allow you to solve these problems using less code.\n",
    "\n",
    "To see how these commands work we are going to rewrite the code in below.  This code evaluates and prints the first 11 terms in the seven times table.^  The code is 23 lines long and 12 different variables are used within it.  By the time you complete all the exercise in section 2, we will have reduced this to four lines of python and we will have only three variables.\n",
    "\n",
    "For this first exercise, however, I  just want to check that you understand how the code works.  So, with that in mind:\n",
    "\n",
    "__Modify the code below so that it outputs the first 11 numbers in the 13 times table.__\n",
    "\n",
    "^ *0 times 7 is maybe not the first number in the seven times table that you learned at school.  Trust me when I tell you that this is there for an important reason, which we will come to in due course.*\n"
   ]
  },
  {
   "cell_type": "code",
   "execution_count": 28,
   "metadata": {
    "id": "ibSIkgCT3YVa"
   },
   "outputs": [
    {
     "name": "stdout",
     "output_type": "stream",
     "text": [
      "0\n",
      "13\n",
      "26\n",
      "39\n",
      "52\n",
      "65\n",
      "78\n",
      "91\n",
      "104\n",
      "117\n",
      "130\n"
     ]
    }
   ],
   "source": [
    "table = 13\n",
    "\n",
    "zeroTimes = 0*table\n",
    "oneTimes = 1*table\n",
    "twoTimes = 2*table\n",
    "threeTimes = 3*table\n",
    "fourTimes = 4*table\n",
    "fiveTimes = 5*table\n",
    "sixTimes = 6*table\n",
    "sevenTimes = 7*table\n",
    "eightTimes = 8*table\n",
    "nineTimes = 9*table\n",
    "tenTimes = 10*table\n",
    "\n",
    "print(zeroTimes)\n",
    "print(oneTimes)\n",
    "print(twoTimes)\n",
    "print(threeTimes)\n",
    "print(fourTimes)\n",
    "print(fiveTimes)\n",
    "print(sixTimes)\n",
    "print(sevenTimes)\n",
    "print(eightTimes)\n",
    "print(nineTimes)\n",
    "print(tenTimes)\n"
   ]
  },
  {
   "cell_type": "code",
   "execution_count": 29,
   "metadata": {
    "id": "xfcbI-XCIDkg"
   },
   "outputs": [
    {
     "name": "stdout",
     "output_type": "stream",
     "text": [
      "\u001b[92mVariable zeroTimes is correct!              \n",
      "\u001b[0m\n",
      "\u001b[93m==============================\n",
      "\u001b[0m\n",
      "\u001b[92mVariable oneTimes is correct!              \n",
      "\u001b[0m\n",
      "\u001b[93m==============================\n",
      "\u001b[0m\n",
      "\u001b[92mVariable twoTimes is correct!              \n",
      "\u001b[0m\n",
      "\u001b[93m==============================\n",
      "\u001b[0m\n",
      "\u001b[92mVariable threeTimes is correct!              \n",
      "\u001b[0m\n",
      "\u001b[93m==============================\n",
      "\u001b[0m\n",
      "\u001b[92mVariable fourTimes is correct!              \n",
      "\u001b[0m\n",
      "\u001b[93m==============================\n",
      "\u001b[0m\n",
      "\u001b[92mVariable fiveTimes is correct!              \n",
      "\u001b[0m\n",
      "\u001b[93m==============================\n",
      "\u001b[0m\n",
      "\u001b[92mVariable sixTimes is correct!              \n",
      "\u001b[0m\n",
      "\u001b[93m==============================\n",
      "\u001b[0m\n",
      "\u001b[92mVariable sevenTimes is correct!              \n",
      "\u001b[0m\n",
      "\u001b[93m==============================\n",
      "\u001b[0m\n",
      "\u001b[92mVariable eightTimes is correct!              \n",
      "\u001b[0m\n",
      "\u001b[93m==============================\n",
      "\u001b[0m\n",
      "\u001b[92mVariable nineTimes is correct!              \n",
      "\u001b[0m\n",
      "\u001b[93m==============================\n",
      "\u001b[0m\n",
      "\u001b[92mVariable tenTimes is correct!              \n",
      "\u001b[0m\n",
      "\u001b[93m==============================\n",
      "\u001b[0m\n"
     ]
    }
   ],
   "source": [
    "runtest(['test_zero', 'test_one', 'test_two', 'test_three', 'test_four', 'test_five', 'test_six', 'test_seven', 'test_eight', 'test_nine', 'test_ten'])"
   ]
  },
  {
   "cell_type": "markdown",
   "metadata": {
    "id": "U7ArfNAoy08I"
   },
   "source": [
    "# Arrays\n",
    "\n",
    "Good work on completing the last task.  You clearly understand the code so lets now follow the first rule or programming and make it shorter.\n",
    "\n",
    "In this first exercise, we are going to reduce the number of variables we have used from 12 down to 2 by using arrays.  An array is essentially a list of N numbers.  We can create an array containing 11 elements by using the following command:\n",
    "\n",
    "```python\n",
    "timesTable = np.zeros(11)\n",
    "```\n",
    "\n",
    "This command tells python to create 11 spaces for storing numbers in memory and sets them all to zero.  What we want to do, however, is to set the first of these spaces in memory equal to the first number in the seven times table, the second space equal to the second number in the seven times table and so on.  We thus have to learn how to set the elements of the array.  Setting these elements is easy, though.  To set the first element equal to zero we simply have to write:\n",
    "\n",
    "```python\n",
    "timesTable[0] = 0\n",
    "```\n",
    "\n",
    "We can then set the second element using:\n",
    "\n",
    "```python\n",
    "timesTable[1] = 7\n",
    "```\n",
    "\n",
    "and so on for all subsequent elements.\n",
    "\n",
    "- Use what you have just learned about arrays to modify the code in the cell so that the 11 numbers from the seven times table are stored in an array called `timesTable` instead of being stored in 11 distinct variables.\n",
    "- In addition, replace the 11 print commands with the single command:\n",
    "\n",
    "```python\n",
    "print( timesTable )\n",
    "```\n",
    "\n",
    "Make sure to run your code and to see what the output looks like before running the tests.\n",
    "\n",
    "***\n",
    "\n",
    "Notice that for the command:\n",
    "\n",
    "```python\n",
    "timesTable = np.zeros(11)\n",
    "```\n",
    "\n",
    "to work we need to have the command:\n",
    "\n",
    "```python\n",
    "import numpy as np\n",
    "```\n",
    "\n",
    "at the top of the program.  As you will hopefully learn in future this command allows us to use functionality from something called NumPy that sits on top of the Python programming language.  In theory, we can use Python lists (which are a bit like arrays) to complete this task.  The advantage of using lists is that we then do not need to import the functionality from numpy.  NumPy arrays, however, are, unlike lists, specifically designed for doing maths, which is why I am using them here.\n",
    "\n",
    "\n"
   ]
  },
  {
   "cell_type": "code",
   "execution_count": 30,
   "metadata": {
    "id": "g0kswoZ0Dujh"
   },
   "outputs": [],
   "source": [
    "import numpy as np\n",
    "\n",
    "table = 7\n",
    "\n",
    "timesTable = 7 * np.arange(0, 11, 1)\n"
   ]
  },
  {
   "cell_type": "code",
   "execution_count": 31,
   "metadata": {
    "id": "fKfi8G8pri6T"
   },
   "outputs": [
    {
     "name": "stdout",
     "output_type": "stream",
     "text": [
      "\u001b[92mVariable timesTable is correct!              \n",
      "\u001b[0m\n",
      "\u001b[93m==============================\n",
      "\u001b[0m\n"
     ]
    }
   ],
   "source": [
    "runtest(['test_arrayValues_3'])"
   ]
  },
  {
   "cell_type": "markdown",
   "metadata": {
    "id": "a7D96M3HXz1q"
   },
   "source": [
    "# Printing rethought\n",
    "\n",
    "At the end of the last task, you should have arrived at a code that looked something like the one shown in `main.py`.  By using an array you have reduced the number of variables from 12 down to two and the number of lines of code from 23 down to 15.  This reduction was achieved by introducing a second type of variable - an array.  The net result of this is that although the symbol `table` refers to a single number the symbol `timesTable` refers to a list of 11 numbers.  These two variables are of different types.\n",
    "\n",
    "This trick of using symbols to refer to different things is called the object-oriented paradigm and it was not invented by computer scientists.  Mathematicians were using this idea well before computers were even invented!  In a mathematical derivation, for instance, we might use the symbols a and b to refer to scalars or we might use the symbols a and b to refer to vectors.  In both cases, we can write c = a + b.  What we would do to evaluate c is, however, dependent on whether a and b are scalars or vectors.  We can see a difference like this in the print statement for the code on the left.  The two commands:\n",
    "\n",
    "```python\n",
    "print(table)\n",
    "print(timesTable)\n",
    "```\n",
    "\n",
    "look very similar.   Both are asking us to print the value of a variable.  The first, however, will print a single number as the variable `table` has been set equal to an integer.  The second command, meanwhile, will print 11 numbers as the variable `timesTable` has been set equal to an array.  Notice also that, the 11 numbers output by this second command appear in square brackets to indicate that these 11 numbers are grouped together in an array.\n",
    "\n",
    "This trick of using symbols to refer to more than just a single number makes our mathematical derivations and our programs longer.  To test if you have understood this I would like you to think about what is output by the command:\n",
    "\n",
    "```python\n",
    "print( timesTable[2] )\n",
    "```\n",
    "\n",
    "Now try the command:\n",
    "\n",
    "```python\n",
    "print( timesTable[2], timesTable[5] )\n",
    "```\n",
    "\n",
    "You will pass the tests for this exercise once you have worked out how to use what you have learned from these experiments to modify the code in the cell on the left so that it gives the following output:\n",
    "\n",
    "````\n",
    "7\n",
    "0.0 7.0 14.0 21.0 28.0 35.0 42.0 49.0 56.0 63.0 70.0\n",
    "````\n",
    "\n",
    "Hint: Notice the absence of square brackets in the second line here.\n"
   ]
  },
  {
   "cell_type": "code",
   "execution_count": 32,
   "metadata": {
    "id": "Td1dsBwsRYEf"
   },
   "outputs": [],
   "source": [
    "%%capture out\n",
    "import numpy as np\n",
    "\n",
    "table = 7\n",
    "timesTable = np.zeros(11)\n",
    "\n",
    "timesTable[0] = 0*table\n",
    "timesTable[1]  = 1*table\n",
    "timesTable[2]  = 2*table\n",
    "timesTable[3]  = 3*table\n",
    "timesTable[4]  = 4*table\n",
    "timesTable[5]  = 5*table\n",
    "timesTable[6]  = 6*table\n",
    "timesTable[7]  = 7*table\n",
    "timesTable[8]  = 8*table\n",
    "timesTable[9]  = 9*table\n",
    "timesTable[10]  = 10*table\n",
    "\n",
    "print(table)\n",
    "print(timesTable[0], timesTable[1], timesTable[2], timesTable[3], timesTable[4],timesTable[5], timesTable[6], timesTable[7], timesTable[8],timesTable[9], timesTable[10]) \n"
   ]
  },
  {
   "cell_type": "code",
   "execution_count": 33,
   "metadata": {
    "id": "RdhoSeOluivN"
   },
   "outputs": [
    {
     "name": "stdout",
     "output_type": "stream",
     "text": [
      "7\n",
      "0.0 7.0 14.0 21.0 28.0 35.0 42.0 49.0 56.0 63.0 70.0\n",
      "\n",
      "\u001b[92mVariable timesTable is correct!              \n",
      "\u001b[0m\n",
      "\u001b[93m==============================\n",
      "\u001b[0m\n",
      "\u001b[92mVariable output is correct!              \n",
      "\u001b[0m\n",
      "\u001b[93m==============================\n",
      "\u001b[0m\n"
     ]
    }
   ],
   "source": [
    "# # This code is required for the autofeedback- don't delete it!\n",
    "output = out.stdout\n",
    "print(output)\n",
    "runtest(['test_arrayValues_4', 'test_output_2'])"
   ]
  },
  {
   "cell_type": "markdown",
   "metadata": {
    "id": "50YN3H2VdCAz"
   },
   "source": [
    "# Introduction to loops\n",
    "\n",
    "In `main.py`, you will see our now familiar program for calculating the seven times table. In the last exercise, you learned that although the variable `timesTable` is an array that is treated differently to the variable `table` each of the elements of the array `timesTable` (e.g. `timesTable[3]`) is a single number just like table.  This is an important realisation but it didn't help us to reduce the number of lines in the code further.  To reduce the number of lines we are, in this exercise, going to introduce loops.  To understand what loops do consider this piece of python code:\n",
    "\n",
    "```python\n",
    "for i in range(4) :\n",
    "    print( i )\n",
    "```\n",
    "\n",
    "When this code runs it will produce the following output:\n",
    "\n",
    "````\n",
    "0\n",
    "1\n",
    "2\n",
    "3\n",
    "````\n",
    "\n",
    "as the loop tells python to repeat instructions in the indented code that sits within the for loop four times.  The first time, however,  `i=0`, the second time `i=1`, the third time  `i=2` and the fourth and final time `i=3`.\n",
    "\n",
    "To see if you have understood this idea see if you can replace these 11 lines from the code in main.py with two lines containing a for loop:\n",
    "\n",
    "```python\n",
    "timesTable[0] = 0*table\n",
    "timesTable[1]  = 1*table\n",
    "timesTable[2]  = 2*table\n",
    "timesTable[3]  = 3*table\n",
    "timesTable[4]  = 4*table\n",
    "timesTable[5]  = 5*table\n",
    "timesTable[6]  = 6*table\n",
    "timesTable[7]  = 7*table\n",
    "timesTable[8]  = 8*table\n",
    "timesTable[9]  = 9*table\n",
    "timesTable[10]  = 10*table\n",
    "```\n",
    "\n",
    "__To pass the test the variable that you use for your loop must be called `i`.__  To be clear, you can use any variable name for a loop variable.  I need you to use `i` here, however, so that I can test if you have used the loop correctly.\n"
   ]
  },
  {
   "cell_type": "code",
   "execution_count": 34,
   "metadata": {
    "id": "ayERQUz2hRWp"
   },
   "outputs": [
    {
     "name": "stdout",
     "output_type": "stream",
     "text": [
      "0.0\n",
      "7.0\n",
      "14.0\n",
      "21.0\n",
      "28.0\n",
      "35.0\n",
      "42.0\n",
      "49.0\n",
      "56.0\n",
      "63.0\n",
      "70.0\n",
      "[ 0.  7. 14. ... 56. 63. 70.]\n"
     ]
    }
   ],
   "source": [
    "import numpy as np\n",
    "\n",
    "table = 7\n",
    "timesTable = np.zeros(11)\n",
    "\n",
    "timesTable[0] = 0*table\n",
    "timesTable[1]  = 1*table\n",
    "timesTable[2]  = 2*table\n",
    "timesTable[3]  = 3*table\n",
    "timesTable[4]  = 4*table\n",
    "timesTable[5]  = 5*table\n",
    "timesTable[6]  = 6*table\n",
    "timesTable[7]  = 7*table\n",
    "timesTable[8]  = 8*table\n",
    "timesTable[9]  = 9*table\n",
    "timesTable[10]  = 10*table\n",
    "\n",
    "for i in range(11):\n",
    "    print(timesTable[i])\n",
    "print(timesTable)\n"
   ]
  },
  {
   "cell_type": "code",
   "execution_count": 35,
   "metadata": {
    "id": "0IeHID747Fcu"
   },
   "outputs": [
    {
     "name": "stdout",
     "output_type": "stream",
     "text": [
      "\u001b[92mVariable timesTable is correct!              \n",
      "\u001b[0m\n",
      "\u001b[93m==============================\n",
      "\u001b[0m\n",
      "\u001b[92mVariable i is correct!              \n",
      "\u001b[0m\n",
      "\u001b[93m==============================\n",
      "\u001b[0m\n"
     ]
    }
   ],
   "source": [
    "runtest(['test_arrayValues_5', 'test_loop'])"
   ]
  },
  {
   "cell_type": "markdown",
   "metadata": {
    "id": "REQcAamk5zrE"
   },
   "source": [
    "# The 27 times table\n",
    "\n",
    "To ensure that you have understood all the exercise thus far see if you can use what you have learned to write a program to calculate the first 16 numbers in the 27 times table.  The smallest of these numbers is 0 and the largest is 405.  These 16 numbers should be stored in an array called `timesTable`.  Please use a for loop in your program and use `i` as the loop variable.\n"
   ]
  },
  {
   "cell_type": "code",
   "execution_count": 36,
   "metadata": {
    "id": "2rDJt-Fi2o5q"
   },
   "outputs": [],
   "source": [
    "import numpy as np\n",
    "\n",
    "table = 27\n",
    "timesTable = [] \n",
    "for i in range(16):\n",
    "    timesTable.append(table*i)\n",
    "\n",
    "\n"
   ]
  },
  {
   "cell_type": "code",
   "execution_count": 37,
   "metadata": {
    "id": "DIwMXRDy9bPk"
   },
   "outputs": [
    {
     "name": "stdout",
     "output_type": "stream",
     "text": [
      "\u001b[92mVariable timesTable is correct!              \n",
      "\u001b[0m\n",
      "\u001b[93m==============================\n",
      "\u001b[0m\n",
      "\u001b[92mVariable i is correct!              \n",
      "\u001b[0m\n",
      "\u001b[93m==============================\n",
      "\u001b[0m\n"
     ]
    }
   ],
   "source": [
    "runtest(['test_arrayValues_6', 'test_loop_1'])"
   ]
  },
  {
   "cell_type": "markdown",
   "metadata": {
    "id": "lIlCNtZ8AhHw"
   },
   "source": [
    "# The Fibonacci Series\n",
    "\n",
    "In that last exercise, showed you how we can evaluate a sum of terms by writing a computer program containing a loop.  Mathematical series that are constructed in this way are very interesting.  One particularly interesting series is the so called\n",
    "Fibonacci series.  The 1st and 2nd term in the Fibonacci series are both 1.  All remaining terms in the Fibonacci series are evaluated using the following formula:\n",
    "\n",
    "$$ f_n = f_{n-2} + f_{n-1}$$\n",
    "\n",
    "The third term in the series is thus $1+1=2$, the fourth term is $1+2=3$, the fifth term is $2+3=5$ and so on.\n",
    "\n",
    "To complete this exercise I would thus like you to:\n",
    "\n",
    "1. Create an array called `fibonacci`.  This array should have 100 elements.\n",
    "2. Set `fibonacci[0]` and `fibonacci[1]` both equal to 1.\n",
    "3. Write a for loop that uses the formula given above to evaluate set the remaining 98 elements in the array `fibonacci`\n",
    "4. Use the plot command in the input to draw a graph that shows the elements of the Fibonacci series you have calculated on the y-axis.  The first point you plot should have x=1, the second x=2, the third x=3 and so on.\n",
    "\n",
    "At the end of your program the elements of `fibonacci` should be set equal to the first 100 numbers in the Fibonacci series.\n",
    "\n",
    "***\n",
    "\n",
    "Note: If you write:\n",
    "\n",
    "```python\n",
    "for i in range(2,4) :\n",
    "    print(i)\n",
    "```\n",
    "\n",
    "This code will output:\n",
    "\n",
    "````\n",
    "2\n",
    "3\n",
    "````\n",
    "\n",
    "as the loop runs for all the integers, $i$, that have $1<i<4$.\n"
   ]
  },
  {
   "cell_type": "code",
   "execution_count": 38,
   "metadata": {
    "id": "Ld2rvgFk6OD9"
   },
   "outputs": [
    {
     "data": {
      "image/png": "[encoded data removed]",
      "text/plain": [
       "<Figure size 640x480 with 1 Axes>"
      ]
     },
     "metadata": {},
     "output_type": "display_data"
    }
   ],
   "source": [
    "import matplotlib.pyplot as plt\n",
    "import numpy as np\n",
    "\n",
    "xvals = np.arange(1, 101, 1)\n",
    "fibonacci = [1, 1]\n",
    "# Insert your code for the fibonacci series here\n",
    "\n",
    "for _ in range(98):\n",
    "    fibonacci.append(sum(fibonacci[-2:])) \n",
    "\n",
    "\n",
    "\n",
    "plt.plot( xvals, fibonacci, 'ko' )\n",
    "plt.xlabel('Index')\n",
    "plt.ylabel('Fibonacci series')\n",
    "\n",
    "# This code is required for the autofeedback- don't delete it!\n",
    "fighand = plt.gca()\n"
   ]
  },
  {
   "cell_type": "code",
   "execution_count": 39,
   "metadata": {
    "id": "yFOZFr-zD6z3"
   },
   "outputs": [
    {
     "name": "stdout",
     "output_type": "stream",
     "text": [
      "\u001b[92mDataset  plotted correctly!\n",
      "\u001b[0m\n",
      "\u001b[93m==============================\n",
      "\u001b[0m\n",
      "\u001b[92mPlot is correct!\n",
      "\u001b[0m\n",
      "\u001b[93m==============================\n",
      "\u001b[0m\n"
     ]
    }
   ],
   "source": [
    "runtest(['test_fib_3'])"
   ]
  },
  {
   "cell_type": "markdown",
   "metadata": {
    "id": "R5DfpCDJYY6c"
   },
   "source": [
    "# Plotting series data\n",
    "\n",
    "Lets now plot the geometric sequence:\n",
    "\n",
    "$$a_n = \\left(\\dfrac{1}{2}\\right)^n$$\n",
    "\n",
    "The first few terms in this series are:\n",
    "\n",
    "$$ a_0 = \\left(\\dfrac{1}{2}\\right)^0 = 1 \\quad \n",
    "   a_1 = \\left(\\dfrac{1}{2}\\right)^1 = \\dfrac{1}{2} \\quad \n",
    "   a_2 = \\left(\\dfrac{1}{2}\\right)^2 = \\dfrac{1}{4} \\quad \n",
    "   a_3 = \\left(\\dfrac{1}{2}\\right)^3 = \\dfrac{1}{8}$$\n",
    "I want you to proceed in a similar way to the previous exercise.  In other words, I want you to create an array.  This time your array should have only 20 elements and you should use a for loop to the elements of this array to the first 20 terms in this sequence.\n",
    "The first element of the array will thus be 0, the second will be 1/2, the third 1/4 and so on.\n",
    "\n",
    "In addition, to this array I also want you to create a 20-element array that holds the integers from 0 up to 19.  The first element in this array should be 0 the second element should be 1 and so on.\n",
    "\n",
    "To complete this exercise I want you to use python to draw a graph in which the first 20 integers are on the x-axis and the terms in the geometric sequence are on the right.\n",
    "\n",
    "Remember the python commands you  use to draw a graph in which the x-coordinates of the points are in an array called `indices` and the y-coordinates are in an array called `geometric`  are:\n",
    "\n",
    "```python\n",
    "plt.plot( indices, geometric, 'ko' )\n",
    "```\n",
    "\n",
    "The x-axis should be labelled __Index__ and the y-axis label should be labelled __Geometric series__\n"
   ]
  },
  {
   "cell_type": "code",
   "execution_count": 40,
   "metadata": {
    "id": "ZRndnNDfKNwD"
   },
   "outputs": [
    {
     "data": {
      "image/png": "[encoded data removed]",
      "text/plain": [
       "<Figure size 640x480 with 1 Axes>"
      ]
     },
     "metadata": {},
     "output_type": "display_data"
    }
   ],
   "source": [
    "import matplotlib.pyplot as plt\n",
    "import numpy as np\n",
    "\n",
    "xvals = np.linspace(0,19,20)\n",
    "yvals = 0.5**xvals \n",
    "\n",
    "plt.plot( xvals, yvals, 'ko' )\n",
    "plt.xlabel(\"Index\")\n",
    "plt.ylabel(\"Geometric series\")\n",
    "\n",
    "# This code is required for the autofeedback- don't delete it!\n",
    "fighand = plt.gca()\n"
   ]
  },
  {
   "cell_type": "code",
   "execution_count": 41,
   "metadata": {
    "id": "J4iHucVNbhmS"
   },
   "outputs": [
    {
     "name": "stdout",
     "output_type": "stream",
     "text": [
      "\u001b[92mDataset  plotted correctly!\n",
      "\u001b[0m\n",
      "\u001b[93m==============================\n",
      "\u001b[0m\n",
      "\u001b[92mPlot is correct!\n",
      "\u001b[0m\n",
      "\u001b[93m==============================\n",
      "\u001b[0m\n"
     ]
    }
   ],
   "source": [
    "runtest(['test_fib_4'])"
   ]
  }
 ],
 "metadata": {
  "colab": {
   "cell_execution_strategy": "setup",
   "collapsed_sections": [
    "NVOkK4hCU7RK"
   ],
   "private_outputs": true,
   "provenance": []
  },
  "kernelspec": {
   "display_name": "Python 3 (ipykernel)",
   "language": "python",
   "name": "python3"
  },
  "language_info": {
   "codemirror_mode": {
    "name": "ipython",
    "version": 3
   },
   "file_extension": ".py",
   "mimetype": "text/x-python",
   "name": "python",
   "nbconvert_exporter": "python",
   "pygments_lexer": "ipython3",
   "version": "3.9.13"
  }
 },
 "nbformat": 4,
 "nbformat_minor": 1
}
