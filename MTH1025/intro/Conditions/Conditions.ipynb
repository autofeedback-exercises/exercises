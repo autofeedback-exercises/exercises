{
 "cells": [
  {
   "cell_type": "markdown",
   "metadata": {
    "id": "NVOkK4hCU7RK"
   },
   "source": [
    "# ."
   ]
  },
  {
   "cell_type": "code",
   "execution_count": null,
   "metadata": {
    "id": "QCMw-lybOsz-"
   },
   "outputs": [],
   "source": [
    "# this code enables the automated feedback. If you remove this, you won't get any feedback\n",
    "# so don't delete this cell!\n",
    "try:\n",
    "  import AutoFeedback\n",
    "except (ModuleNotFoundError, ImportError):\n",
    "  %pip install git+https://github.com/abrown41/AutoFeedback@notebook\n",
    "  import AutoFeedback\n",
    "\n",
    "try:\n",
    "  from testsrc import test_main\n",
    "except (ModuleNotFoundError, ImportError):\n",
    "  %pip install \"git+https://github.com/autofeedback-exercises/exercises.git@testpip#subdirectory=MTH1025/intro/Conditions\"\n",
    "  from testsrc import test_main\n",
    "\n",
    "def runtest():\n",
    "  import unittest\n",
    "  from contextlib import redirect_stderr\n",
    "  from os import devnull\n",
    "  with redirect_stderr(open(devnull, 'w')):\n",
    "    unittest.main(argv=[''], module=test_main, exit=False)\n"
   ]
  },
  {
   "cell_type": "markdown",
   "metadata": {
    "id": "re035fXS3gi5"
   },
   "source": [
    "# Conditions\n",
    "\n",
    "The built in function `np.sqrt` does not give an answer when the input is negative. Of course, if the input is negative, you should get an imaginary solution.\n",
    "\n",
    "Define a new function called `better_sqrt` which when given a value `x`, tests it to see if it is positive or negative.\n",
    "\n",
    "If it is positive, the function should return the square root of that number, as given by `np.sqrt`.\n",
    "\n",
    "If it is negative, then your function should calculate the square root of `-x`  and then return this value multiplied by the imaginary number (recall that the imaginary number in python is designated by the variable `1j`)\n",
    "\n",
    "```\n",
    ">> print(1j)\n",
    "1j\n",
    ">> print(7*1j)\n",
    "7j\n",
    ">> print(1j**2)\n",
    "(-1,0j)\n",
    "```\n"
   ]
  },
  {
   "cell_type": "code",
   "execution_count": null,
   "metadata": {
    "id": "-Gvh6NfQ3I2C"
   },
   "outputs": [],
   "source": [
   ]
  },
  {
   "cell_type": "code",
   "execution_count": null,
   "metadata": {
    "id": "5At9CUQ43LdY"
   },
   "outputs": [],
   "source": [
    "runtest()"
   ]
  }
 ],
 "metadata": {
  "colab": {
   "cell_execution_strategy": "setup",
   "collapsed_sections": [
    "NVOkK4hCU7RK"
   ],
   "private_outputs": true,
   "provenance": []
  },
  "kernelspec": {
   "display_name": "Python 3 (ipykernel)",
   "language": "python",
   "name": "python3"
  },
  "language_info": {
   "codemirror_mode": {
    "name": "ipython",
    "version": 3
   },
   "file_extension": ".py",
   "mimetype": "text/x-python",
   "name": "python",
   "nbconvert_exporter": "python",
   "pygments_lexer": "ipython3",
   "version": "3.9.13"
  }
 },
 "nbformat": 4,
 "nbformat_minor": 1
}
