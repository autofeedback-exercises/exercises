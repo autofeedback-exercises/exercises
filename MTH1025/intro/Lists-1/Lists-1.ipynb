{
 "cells": [
  {
   "cell_type": "markdown",
   "metadata": {
    "id": "NVOkK4hCU7RK"
   },
   "source": [
    "# ."
   ]
  },
  {
   "cell_type": "code",
   "execution_count": null,
   "metadata": {
    "id": "QCMw-lybOsz-"
   },
   "outputs": [],
   "source": [
    "# this code enables the automated feedback. If you remove this, you won't get any feedback\n",
    "# so don't delete this cell!\n",
    "try:\n",
    "  import AutoFeedback\n",
    "except (ModuleNotFoundError, ImportError):\n",
    "  %pip install git+https://github.com/abrown41/AutoFeedback@notebook\n",
    "  import AutoFeedback\n",
    "\n",
    "try:\n",
    "  from testsrc import test_main\n",
    "except (ModuleNotFoundError, ImportError):\n",
    "  %pip install \"git+https://github.com/autofeedback-exercises/exercises.git@testpip#subdirectory=MTH1025/intro/Lists-1\"\n",
    "  from testsrc import test_main\n",
    "\n",
    "def runtest():\n",
    "  import unittest\n",
    "  from contextlib import redirect_stderr\n",
    "  from os import devnull\n",
    "  with redirect_stderr(open(devnull, 'w')):\n",
    "    unittest.main(argv=[''], module=test_main, exit=False)\n"
   ]
  },
  {
   "cell_type": "markdown",
   "metadata": {
    "id": "re035fXS3gi5"
   },
   "source": [
    "# Working with lists\n",
    "\n",
    "Write two functions that will add or take away an element from a list.\n",
    "\n",
    "## Adding to a list\n",
    "Your function should \n",
    "\n",
    "1. be called `addToList`\n",
    "2. take two input arguments: `mylist`, the list you want to edit and `x` the\n",
    "   element you want to add to the list\n",
    "3. return the extended list\n",
    "\n",
    "Thus\n",
    "      \n",
    "      print(addToList([1, 2, 3], 4))\n",
    "should print out `[1, 2, 3, 4]`\n",
    "\n",
    "## Truncating a list\n",
    "Your function should\n",
    "\n",
    "1. be called `truncateList`\n",
    "2. take two input arguments: `mylist`, the list you want to edit and `N` the\n",
    "   number of elements you want to remove from the end\n",
    "3. if `N` is larger than the number of elements in the list, your function\n",
    "   should return the `mylist` unedited.\n",
    "\n",
    "Thus \n",
    "   \n",
    "      print(truncateList([1, 2, 3], 1))\n",
    "should print out `[1, 2]` (we're removing the last element), but\n",
    "\n",
    "      print(truncateList([1, 2, 3], 4))\n",
    "should print out `[1, 2, 3]` (we asked to remove four elements, but there are\n",
    "only three, so the list is returned, unedited).\n",
    "\n"
   ]
  },
  {
   "cell_type": "code",
   "execution_count": null,
   "metadata": {
    "id": "-Gvh6NfQ3I2C"
   },
   "outputs": [],
   "source": []
  },
  {
   "cell_type": "code",
   "execution_count": null,
   "metadata": {
    "id": "5At9CUQ43LdY"
   },
   "outputs": [],
   "source": [
    "runtest()"
   ]
  }
 ],
 "metadata": {
  "colab": {
   "cell_execution_strategy": "setup",
   "collapsed_sections": [
    "NVOkK4hCU7RK"
   ],
   "private_outputs": true,
   "provenance": []
  },
  "kernelspec": {
   "display_name": "Python 3 (ipykernel)",
   "language": "python",
   "name": "python3"
  },
  "language_info": {
   "codemirror_mode": {
    "name": "ipython",
    "version": 3
   },
   "file_extension": ".py",
   "mimetype": "text/x-python",
   "name": "python",
   "nbconvert_exporter": "python",
   "pygments_lexer": "ipython3",
   "version": "3.9.13"
  }
 },
 "nbformat": 4,
 "nbformat_minor": 1
}
