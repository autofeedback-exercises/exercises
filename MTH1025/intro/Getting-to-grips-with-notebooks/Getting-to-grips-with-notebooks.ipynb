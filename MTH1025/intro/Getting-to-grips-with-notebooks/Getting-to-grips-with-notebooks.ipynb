{
 "cells": [
  {
   "cell_type": "markdown",
   "metadata": {},
   "source": [
    "# Click on the arrow to the left to hide the marking cell"
   ]
  },
  {
   "cell_type": "code",
   "execution_count": null,
   "metadata": {},
   "outputs": [],
   "source": [
    "# this code enables the automated feedback. If you remove this, you won't get any feedback\n",
    "# so don't delete this cell!\n",
    "try:\n",
    "  import AutoFeedback\n",
    "except (ModuleNotFoundError, ImportError):\n",
    "  !pip install git+https://github.com/abrown41/AutoFeedback@notebook\n",
    "  import AutoFeedback\n",
    "\n",
    "try:\n",
    "  from testsrc import test_main\n",
    "except (ModuleNotFoundError, ImportError):\n",
    "  !pip install \"git+https://github.com/autofeedback-exercises/exercises.git@testpip#subdirectory=MTH1025/intro/Getting-to-grips-with-notebooks\"\n",
    "  from testsrc import test_main\n",
    "\n",
    "def runtest():\n",
    "  import unittest\n",
    "  from contextlib import redirect_stderr\n",
    "  from os import devnull\n",
    "  with redirect_stderr(open(devnull, 'w')):\n",
    "    unittest.main(argv=[''], module=test_main, exit=False)"
   ]
  },
  {
   "cell_type": "markdown",
   "metadata": {
    "id": "Rd3T9W3vykoH"
   },
   "source": [
    "# Using jupyter notebooks\n",
    "\n",
    "All of the exercises for this module will use a Jupyter notebook like this. You will see three different types of cell. There are ones like this which contain text instructions for you to follow. "
   ]
  },
  {
   "cell_type": "code",
   "execution_count": null,
   "metadata": {
    "id": "y4NWlHAS561H"
   },
   "outputs": [],
   "source": [
    "# Then there are code cells like this one, where you can type a bit of code like this:\n",
    "\n",
    "print (\"hello world\")\n",
    "\n",
    "# Comments on the code appear like this, after a # symbol \n",
    "\n",
    "# To run the code in this cell, you can either click on the little triangular 'play' icon to the left, \n",
    "# or if this cell is active (highlighted, because you've clicked on it, or are typing into it), \n",
    "# you can type the keyboard shortcuts \n",
    "# <shift + Enter> or\n",
    "# <ctrl + Enter>\n"
   ]
  },
  {
   "cell_type": "markdown",
   "metadata": {},
   "source": [
    "If you run the cell above, then you should see the output: \"hello world\" printed below it. You can try printing the results of some mathematical operations as well:"
   ]
  },
  {
   "cell_type": "code",
   "execution_count": null,
   "metadata": {},
   "outputs": [],
   "source": [
    "print (7/1 + 6)\n",
    "print (7/(1+6))\n",
    "print (10/10**2)\n",
    "print ((10/10)**2)"
   ]
  },
  {
   "cell_type": "markdown",
   "metadata": {},
   "source": [
    "Try running the cell above, and then changing some of the expressions, to see how algebraic expressions are interpreted by python (it is essentially the same way your calculator works)\n",
    "\n",
    "---"
   ]
  },
  {
   "cell_type": "markdown",
   "metadata": {},
   "source": [
    "The third type of cell you'll see will look just like the code cells, but it will already contain some commands, *which you should not edit*. Specifically, in all of the exercises in this module, the notebook contains a rather large block of code at the top which is used to set up the exercise and the automated feedback. This should run automatically when you open the notebook, but in case it doesn't, you can run it just like you would any other code cell. \n",
    "\n",
    "All of the exercises will contain cells like the one at the bottom, which calls the command `runtest`. This will check the code you have entered to ensure you have followed the instructions correctly. \n",
    "\n",
    "Try running that cell now, and you should see a message explaining how your code is failing the test. To make the test pass, entering `x=2` into the cell below, and running it and the `runtest` cells again. You should see a different error message. To fix that, change your code cell below to `x=3`, and run it, and the `runtest` cell one last time. You should now see a green message saying that the variable is defined correctly."
   ]
  },
  {
   "cell_type": "code",
   "execution_count": null,
   "metadata": {},
   "outputs": [],
   "source": []
  },
  {
   "cell_type": "code",
   "execution_count": null,
   "metadata": {
    "id": "9daGeVHJd86T"
   },
   "outputs": [],
   "source": [
    "runtest()"
   ]
  }
 ],
 "metadata": {
  "colab": {
   "cell_execution_strategy": "setup",
   "collapsed_sections": [
    "NVOkK4hCU7RK"
   ],
   "private_outputs": true,
   "provenance": []
  },
  "kernelspec": {
   "display_name": "Python 3 (ipykernel)",
   "language": "python",
   "name": "python3"
  },
  "language_info": {
   "codemirror_mode": {
    "name": "ipython",
    "version": 3
   },
   "file_extension": ".py",
   "mimetype": "text/x-python",
   "name": "python",
   "nbconvert_exporter": "python",
   "pygments_lexer": "ipython3",
   "version": "3.9.13"
  }
 },
 "nbformat": 4,
 "nbformat_minor": 1
}
