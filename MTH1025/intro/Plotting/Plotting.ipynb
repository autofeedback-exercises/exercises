{
 "cells": [
  {
   "cell_type": "markdown",
   "metadata": {
    "id": "NVOkK4hCU7RK"
   },
   "source": [
    "# ."
   ]
  },
  {
   "cell_type": "code",
   "execution_count": null,
   "metadata": {
    "id": "QCMw-lybOsz-"
   },
   "outputs": [],
   "source": [
    "# this code enables the automated feedback. If you remove this, you won't get any feedback\n",
    "# so don't delete this cell!\n",
    "try:\n",
    "  import AutoFeedback\n",
    "except (ModuleNotFoundError, ImportError):\n",
    "  %pip install git+https://github.com/abrown41/AutoFeedback@notebook\n",
    "  import AutoFeedback\n",
    "\n",
    "try:\n",
    "  from testsrc import test_main\n",
    "except (ModuleNotFoundError, ImportError):\n",
    "  %pip install \"git+https://github.com/autofeedback-exercises/exercises.git@testpip#subdirectory=MTH1025/intro/Plotting\"\n",
    "  from testsrc import test_main\n",
    "\n",
    "def runtest():\n",
    "  import unittest\n",
    "  from contextlib import redirect_stderr\n",
    "  from os import devnull\n",
    "  with redirect_stderr(open(devnull, 'w')):\n",
    "    unittest.main(argv=[''], module=test_main, exit=False)\n"
   ]
  },
  {
   "cell_type": "markdown",
   "metadata": {
    "id": "re035fXS3gi5"
   },
   "source": [
    "# Plotting\n",
    "\n",
    "The data sets to be ploted have been defined for you: don't edit them!\n",
    "\n",
    "1. Plot the values of y against x using a solid red line\n",
    "2. Plot the values of z against x using a dashed blue line\n",
    "3. Label the x-axis 'Time (s)' and the y-axis 'Amplitude (cm)'\n",
    "4. Give the chart the title 'Harmonic motion with differing starting phases'.\n",
    "5. Include a legend labelling the lines 'phase = 0' and 'phase = pi/2' as appropriate.\n",
    "6. Set the limits on the axes such that we have\n",
    "\n",
    "$$ 0 \\leq x \\leq 2\\pi,  \\quad -1 \\leq y \\leq 1$$\n",
    "\n",
    "Save the figure with the filename 'waves.png' using the plt.savefig command.\n",
    "\n",
    "The figure should look like this:\n",
    "\n",
    "<center><img src='https://raw.githubusercontent.com/autofeedback-exercises/exercises/testpip/MTH1025/intro/Plotting/waves.png' height=150 /></center>\n",
    "\n"
   ]
  },
  {
   "cell_type": "code",
   "execution_count": null,
   "metadata": {
    "id": "-Gvh6NfQ3I2C"
   },
   "outputs": [],
   "source": [
    "import numpy as np\n",
    "import matplotlib.pyplot as plt\n",
    "\n",
    "x=np.linspace(0,7,500)\n",
    "y=np.sin(x) # phase = 0\n",
    "z=np.sin(x+np.pi/2) # phase = pi/2\n"
   ]
  },
  {
   "cell_type": "code",
   "execution_count": null,
   "metadata": {
    "id": "5At9CUQ43LdY"
   },
   "outputs": [],
   "source": [
    "runtest()"
   ]
  }
 ],
 "metadata": {
  "colab": {
   "cell_execution_strategy": "setup",
   "collapsed_sections": [
    "NVOkK4hCU7RK"
   ],
   "private_outputs": true,
   "provenance": []
  },
  "kernelspec": {
   "display_name": "Python 3 (ipykernel)",
   "language": "python",
   "name": "python3"
  },
  "language_info": {
   "codemirror_mode": {
    "name": "ipython",
    "version": 3
   },
   "file_extension": ".py",
   "mimetype": "text/x-python",
   "name": "python",
   "nbconvert_exporter": "python",
   "pygments_lexer": "ipython3",
   "version": "3.9.13"
  }
 },
 "nbformat": 4,
 "nbformat_minor": 1
}
