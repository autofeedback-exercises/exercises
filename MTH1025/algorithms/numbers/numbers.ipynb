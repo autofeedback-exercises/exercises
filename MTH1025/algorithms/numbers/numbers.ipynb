{
 "cells": [
  {
   "cell_type": "markdown",
   "metadata": {
    "id": "NVOkK4hCU7RK"
   },
   "source": [
    "# ."
   ]
  },
  {
   "cell_type": "code",
   "execution_count": null,
   "metadata": {
    "id": "QCMw-lybOsz-"
   },
   "outputs": [],
   "source": [
    "# this code enables the automated feedback. If you remove this, you won't get any feedback\n",
    "# so don't delete this cell!\n",
    "try:\n",
    "  import AutoFeedback\n",
    "except (ModuleNotFoundError, ImportError):\n",
    "  !pip install git+https://github.com/abrown41/AutoFeedback@notebook\n",
    "  import AutoFeedback\n",
    "\n",
    "try:\n",
    "  from testsrc import test_main\n",
    "except (ModuleNotFoundError, ImportError):\n",
    "  # !pip install \"git+https://github.com/autofeedback-exercises/exercises.git@testpip#subdirectory=MTH1025/algorithms/numbers\"\n",
    "  from testsrc import test_main\n",
    " \n",
    "def runtest(tlist):\n",
    "  import unittest\n",
    "  from contextlib import redirect_stderr\n",
    "  from os import devnull\n",
    "  with redirect_stderr(open(devnull, 'w')):\n",
    "    suite = unittest.TestSuite()\n",
    "    for tname in tlist:\n",
    "      suite.addTest(eval(f\"test_main.UnitTests.{tname}\"))\n",
    "    runner = unittest.TextTestRunner()\n",
    "    try:\n",
    "      runner.run(suite)\n",
    "    except AssertionError:\n",
    "      pass\n"
   ]
  },
  {
   "cell_type": "markdown",
   "metadata": {
    "id": "re035fXS3gi5"
   },
   "source": [
    "# Introduction to natural numbers\n",
    "\n",
    "In this series of exercises, we are going to consider numbers in more detail and tackle a rather tricky notion; namely, that there are multiple ways to represent numbers.  It is thus wrong to think of the number three thousand two hundred and sixty as merely 3260. We can also express this number as 110010111100 or even as CBC.  This previous sentence is not a form of madness. In these second two cases, we are just using less conventional methods to represent the number.\n",
    "\n",
    "Let's start the business of understanding these other representations of numbers by understanding how the familiar representation 3260 works.  As you are no doubt aware when we write 3260 we are stating that the number we are interested in is constructed as follows:\n",
    "\n",
    "1. Multiply three by one thousand.\n",
    "2. Multiply two by one hundred.\n",
    "3. Multiply six by ten.\n",
    "4. Multiply zero by one.\n",
    "5. Add up the four numbers: `3260 = 3(1000) + 2(100) + 6(10) + 0(1)`\n",
    "\n",
    "Constructing the representation of the number can be thought of as the reverse of this process. E.G to calculate how many 'thousands' are in our number:\n",
    "\n",
    "1. Divide the number by 1000 \n",
    "2. Discard the remainder \n",
    "\n",
    "__Complete the function called `numberOfThousands`.__  This function should take an integer with a value less than or equal to 9999, which we shall call `N` as input.  The function should then return the first-digit of that number, i.e. if 3260 is input the function should return 3.  You will likely need to use the `floor` function (which is imported for you) to complete this task.  This function chops off the part of the number after the decimal point.  In other words, if we do:\n",
    "\n",
    "````\n",
    "a = floor( 3.260 )\n",
    "````\n",
    "\n",
    "then the variable `a` will be set equal to 3. \n"
   ]
  },
  {
   "cell_type": "code",
   "execution_count": null,
   "metadata": {
    "id": "-Gvh6NfQ3I2C"
   },
   "outputs": [],
   "source": [
    "from math import floor\n",
    "\n",
    "\n",
    "def numberOfThousands(N):\n",
    "    # Your code goes here\n",
    "    return \n",
    "\n",
    "\n",
    "# This calls the function you have written to check if it works\n",
    "\n",
    "print(numberOfThousands(7780))\n"
   ]
  },
  {
   "cell_type": "code",
   "execution_count": null,
   "metadata": {
    "id": "5At9CUQ43LdY"
   },
   "outputs": [],
   "source": [
    "runtest([\"test_1_thousands\"])"
   ]
  },
  {
   "cell_type": "markdown",
   "metadata": {},
   "source": [
    "# Decimal decomposition of a number\n",
    "\n",
    "Now that we have extracted the number of thousands in our four digit number,\n",
    "let's extend the idea to extract the number of hundreds, tens and \"ones\". To\n",
    "do this, you will need to fill out the function `NumberOfThousands` again, just\n",
    "like the last exercise, and introduce three new functions\n",
    "\n",
    "```python\n",
    "NumberOfHundreds\n",
    "NumberOfTens\n",
    "NumberOfOnes\n",
    "```\n",
    "\n",
    "which each return the correct digit extracted from our number. To help you, you\n",
    "can think of the algorithm for extracting the 'hundreds' for a specific four\n",
    "digit number (7328) like this\n",
    "\n",
    "1. Extract number of thousands: `floor(7328/1000) = 7`\n",
    "2. Subtract 7\\*1000 from 7328: `7328 - 7*1000 = 7`\n",
    "3. Calculate the number of hundreds in 328: ...\n",
    "\n",
    "If we attempt this without subtracting off the 7000, then we might find that the\n",
    "number of hundreds is 73 (another way of saying 7328 is \"seventy-three hundred\n",
    "and twenty eight\"). \n",
    "\n",
    "Thus, each of your functions should use the previously defined function(s) to\n",
    "remove the leading digits, and then the `floor` function to get the next digit. \n",
    "\n",
    "The function `decompose` (defined for you)then puts all of the digits together in a list so that\n",
    "if all of the `NumberOf...` functions are defined properly then \n",
    "\n",
    "```python\n",
    "print(decompose(7328))\n",
    "```\n",
    "\n",
    "should print \n",
    "\n",
    "      [7, 3, 2, 8]\n"
   ]
  },
  {
   "cell_type": "code",
   "execution_count": null,
   "metadata": {},
   "outputs": [],
   "source": [
    "def numberOfHundreds(N):\n",
    "    # your code goes here\n",
    "    return\n",
    "\n",
    "\n",
    "def numberOfTens(N):\n",
    "    # your code goes here\n",
    "    return\n",
    "\n",
    "\n",
    "def numberOfOnes(N):\n",
    "    # your code goes here\n",
    "    return\n",
    "\n",
    "\n",
    "def decompose(N):\n",
    "    return [numberOfThousands(N), numberOfHundreds(N), numberOfTens(N),\n",
    "            numberOfOnes(N)]\n",
    "\n",
    "\n",
    "# This calls the function you have written to check if it works\n",
    "print(decompose(7328))\n"
   ]
  },
  {
   "cell_type": "code",
   "execution_count": null,
   "metadata": {},
   "outputs": [],
   "source": [
    "runtest([\"test_1_thousands\", \"test_2_hundreds\", \"test_3_tens\", \"test_4_units\"])"
   ]
  },
  {
   "cell_type": "markdown",
   "metadata": {},
   "source": [
    "# Better decomposition of a number\n",
    "\n",
    "The function(s) we have constructed are fine: they do the job. But there are\n",
    "several problems\n",
    "\n",
    "1. If we want to find the decimal decomposition of a number larger than 9999,\n",
    "   our function `decompose` won't work. For instance, for the number `12345`, we\n",
    "   will get back `[12, 3, 4, 5]`, when in fact we should have `[1, 2, 3, 4, 5]`.\n",
    "2. To address this first problem we could just continue to add more\n",
    "   `NumberOf...` functions. But this is inefficient. We would like to find a more\n",
    "   streamlined way of solving this problem.\n",
    "3. The approach is restricted to finding base-10 numbers, when in fact we could\n",
    "   make it more general, and find e.g. the binary (base-2) representation of a\n",
    "   number.\n",
    "\n",
    "In this exercise we'll solve the second problem, rewriting the code for you\n",
    "so that it uses a single function, and a loop to extract each digit. The\n",
    "algorithm looks like this\n",
    "\n",
    "For a number `N` between 0 and 9999\n",
    "\n",
    "1. set `div = 1000`\n",
    "2. set `digit = floor(N/div)`\n",
    "3. set `N = N - div * digit`\n",
    "4. set `div = div/10`\n",
    "5. repeat steps 2-4 until `div = 1`\n",
    "\n",
    "We have a 'divisor' which starts at 1000, and then in the 'while' loop is reset to 100,\n",
    "10 and finally 1. Similarly, we start with our number (e.g. 7328), which is then\n",
    "reset to 328, 28 and finally 8. \n",
    "\n",
    "Implement this algorithm in the code by modifying the function below.\n"
   ]
  },
  {
   "cell_type": "code",
   "execution_count": null,
   "metadata": {},
   "outputs": [],
   "source": [
    "def decompose(N):\n",
    "    from math import floor\n",
    "    # your code goes here\n",
    "    return \n",
    "\n",
    "# This calls the function you have written to check if it works\n",
    "print(decompose(7328))\n"
   ]
  },
  {
   "cell_type": "code",
   "execution_count": null,
   "metadata": {},
   "outputs": [],
   "source": [
    "runtest(['test_decompose'])"
   ]
  },
  {
   "cell_type": "markdown",
   "metadata": {},
   "source": [
    "# Better decomposition of a number\n",
    "\n",
    "Recall the three problems with our original decompose code:\n",
    "\n",
    "1. If we want to find the decimal decomposition of a number larger than 9999,\n",
    "   our function `decompose` won't work. For instance, for the number `12345`, we\n",
    "   will get back `[12, 3, 4, 5]`, when in fact we should have `[1, 2, 3, 4, 5]`.\n",
    "2. To address this first problem we could just continue to add more\n",
    "   `NumberOf...` functions. But this is inefficient. We would like to find a more\n",
    "   streamlined way of solving this problem.\n",
    "3. The approach is restricted to finding base-10 numbers, when in fact we could\n",
    "   make it more general, and find e.g. the binary (base-2) representation of a\n",
    "   number.\n",
    "\n",
    "Now that problem 2 has been solved, you need to extend the code to solve\n",
    "problems 1 and 3. In the end your function `decompose` should take three input\n",
    "arguments\n",
    "\n",
    "1. `N` : the number we're decomposing\n",
    "2. `digits`: the number of digits we want to extract (e.g. we've been using\n",
    "   `digits=4`)\n",
    "3. `base`: the base of the number system we're using (e.g. we've been using\n",
    "   `base=10` so far, but for binary we would use `base=2`)\n",
    "\n",
    "It should then return the list `number` which contains the decomposition we're\n",
    "looking for. So \n",
    "\n",
    "```python\n",
    "   print(decompose(7328, digits=4, base=10))\n",
    "   print(decompose(80, digits=4, base=3))\n",
    "   print(decompose(21, digits=8, base=2))\n",
    "```\n",
    "gives\n",
    "\n",
    "      [7, 3, 2, 8]\n",
    "      [2, 2, 2, 2] \n",
    "      [0, 0, 0, 1, 0, 1, 0, 1]\n",
    "\n",
    "The first one is straightfoward. For the second we are calculating a 'ternary'\n",
    "(base-3) number: `80 = 2*27 + 2*9 + 2*3 +2*1`. For the last, the number '21' in\n",
    "8-bit (8-digit) binary is `00010101`, or:\n",
    "\n",
    "`21 = 0*256 + 0*128 + 0*64 + 0*32 +\n",
    "1*16 + 0 *8 + 1*4 + 0 *2 + 1*1`\n"
   ]
  },
  {
   "cell_type": "code",
   "execution_count": null,
   "metadata": {},
   "outputs": [],
   "source": [
    "from math import floor\n",
    "\n",
    "# you might want to copy-paste your definition of decompose from the previous part to begin with \n",
    "\n",
    "\n",
    "\n",
    "# This calls the function you have written to check if it works\n",
    "print(decompose(7328, digits=4, base=10))\n",
    "print(decompose(80, digits=4, base=3))\n",
    "print(decompose(21, digits=8, base=2))\n"
   ]
  },
  {
   "cell_type": "code",
   "execution_count": null,
   "metadata": {},
   "outputs": [],
   "source": [
    "runtest([\"test_1_decimal1\", \"test_2_decimal6\", \"test_3_binary\", \"test_4_arbitrary\"])"
   ]
  }
 ],
 "metadata": {
  "colab": {
   "cell_execution_strategy": "setup",
   "collapsed_sections": [
    "NVOkK4hCU7RK"
   ],
   "private_outputs": true,
   "provenance": []
  },
  "kernelspec": {
   "display_name": "venv",
   "language": "python",
   "name": "venv"
  },
  "language_info": {
   "codemirror_mode": {
    "name": "ipython",
    "version": 3
   },
   "file_extension": ".py",
   "mimetype": "text/x-python",
   "name": "python",
   "nbconvert_exporter": "python",
   "pygments_lexer": "ipython3",
   "version": "3.9.13"
  }
 },
 "nbformat": 4,
 "nbformat_minor": 1
}
