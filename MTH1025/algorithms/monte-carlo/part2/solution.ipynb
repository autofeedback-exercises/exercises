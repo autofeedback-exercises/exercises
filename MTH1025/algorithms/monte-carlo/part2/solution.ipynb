{
 "cells": [
  {
   "cell_type": "markdown",
   "metadata": {
    "id": "NVOkK4hCU7RK"
   },
   "source": [
    "# ."
   ]
  },
  {
   "cell_type": "code",
   "execution_count": null,
   "metadata": {
    "id": "QCMw-lybOsz-"
   },
   "outputs": [],
   "source": [
    "# this code enables the automated feedback. If you remove this, you won't get any feedback\n",
    "# so don't delete this cell!\n",
    "try:\n",
    "  import AutoFeedback\n",
    "except (ModuleNotFoundError, ImportError):\n",
    "  !pip install git+https://github.com/abrown41/AutoFeedback@notebook\n",
    "  import AutoFeedback\n",
    "\n",
    "try:\n",
    "  from testsrc import test_main\n",
    "except (ModuleNotFoundError, ImportError):\n",
    "  # !pip install \"git+https://github.com/autofeedback-exercises/exercises.git@testpip#subdirectory=MTH1025/algorithms/monte-carlo/part2\"\n",
    "  from testsrc import test_main\n",
    " \n",
    "def runtest(tlist):\n",
    "  import unittest\n",
    "  from contextlib import redirect_stderr\n",
    "  from os import devnull\n",
    "  with redirect_stderr(open(devnull, 'w')):\n",
    "    suite = unittest.TestSuite()\n",
    "    for tname in tlist:\n",
    "      suite.addTest(eval(f\"test_main.UnitTests.{tname}\"))\n",
    "    runner = unittest.TextTestRunner()\n",
    "    try:\n",
    "      runner.run(suite)\n",
    "    except (AssertionError, ImportError):\n",
    "      pass\n"
   ]
  },
  {
   "cell_type": "markdown",
   "metadata": {
    "id": "re035fXS3gi5"
   },
   "source": [
    "# Part 2\n",
    "\n",
    "The square and circle are plotted for you already. We're now going to add in the uniformly-randomly distributed points. \n",
    "\n",
    "For this particular Monte-Carlo simulation we require 1000 'points' inside the square. This means we need 1000 $x$-coordinates, and 1000 $y$-coordinates each drawn from a uniformly random distribution between -1 and 1. There are several ways to do this, but to make our lives easier in later tasks we will generate them using the following algorithm\n",
    "\n",
    "1. Set up empty lists `xlist` and `ylist`. \n",
    "2. REPEAT 1000 times:\n",
    "      1. SET `x` equal to a random number drawn from the uniform distribution between -1 and 1.\n",
    "      2. SET `y` equal to a random number drawn from the uniform distribution bewteen -1 and 1. \n",
    "      3. Append `x` to `xlist` and `y` to `ylist`. \n",
    "3. Plot the 1000 points (`xlist, ylist`) using black dots.\n",
    "\n",
    "To generate a uniform random variable between the limits `a` and `b` use `np.random.uniform(a, b)`\n",
    "\n",
    "(Note 1. Because we are working with random variables, ocassionally your code might fail a test because of a statistical fluke. If this happens, try running the test again. If it fails repeatedly then you have probably made a mistake.\n",
    "\n",
    "(Note 2. there are certainly quicker ways of doing this, but for later tasks it's useful to do this in a for-loop).\n"
   ]
  },
  {
   "cell_type": "code",
   "execution_count": null,
   "metadata": {},
   "outputs": [],
   "source": [
    "import numpy as np\n",
    "import matplotlib.pyplot as plt\n",
    "\n",
    "# this is the code from part 1\n",
    "\n",
    "theta = np.linspace(0, 2*np.pi, 100)\n",
    "x = np.cos(theta)\n",
    "y = np.sin(theta)\n",
    "plt.plot(x,y,'r')\n",
    "xsq = [-1, 1, 1, -1, -1]\n",
    "ysq = [-1, -1, 1, 1, -1]\n",
    "plt.plot(xsq, ysq, 'b')\n",
    "plt.axis('equal')\n",
    "\n",
    "# your code goes here\n",
    "\n",
    "xlist, ylist = [], []\n",
    "for _ in range(1000):\n",
    "    xlist.append(np.random.uniform(-1,1))\n",
    "    ylist.append(np.random.uniform(-1.0,1.0))\n",
    "\n",
    "plt.plot(xlist, ylist, 'k.')\n",
    "\n",
    "\n",
    "\n",
    "# This line is needed for the automated feedback, don't remove it!\n",
    "fighand = plt.gca()"
   ]
  },
  {
   "cell_type": "code",
   "execution_count": null,
   "metadata": {
    "id": "-Gvh6NfQ3I2C"
   },
   "outputs": [],
   "source": [
    "runtest([\"test_xlist\", \"test_ylist\", \"test_equality\", \"test_plot\"])"
   ]
  }
 ],
 "metadata": {
  "colab": {
   "cell_execution_strategy": "setup",
   "collapsed_sections": [
    "NVOkK4hCU7RK"
   ],
   "private_outputs": true,
   "provenance": []
  },
  "kernelspec": {
   "display_name": "base",
   "language": "python",
   "name": "python3"
  },
  "language_info": {
   "codemirror_mode": {
    "name": "ipython",
    "version": 3
   },
   "file_extension": ".py",
   "mimetype": "text/x-python",
   "name": "python",
   "nbconvert_exporter": "python",
   "pygments_lexer": "ipython3",
   "version": "3.9.13"
  }
 },
 "nbformat": 4,
 "nbformat_minor": 1
}
