{
 "cells": [
  {
   "cell_type": "markdown",
   "metadata": {
    "id": "NVOkK4hCU7RK"
   },
   "source": [
    "# ."
   ]
  },
  {
   "cell_type": "code",
   "execution_count": null,
   "metadata": {
    "id": "QCMw-lybOsz-"
   },
   "outputs": [],
   "source": [
    "# this code enables the automated feedback. If you remove this, you won't get any feedback\n",
    "# so don't delete this cell!\n",
    "try:\n",
    "  import AutoFeedback\n",
    "except (ModuleNotFoundError, ImportError):\n",
    "  !pip install git+https://github.com/abrown41/AutoFeedback@notebook\n",
    "  import AutoFeedback\n",
    "\n",
    "try:\n",
    "  from testsrc import test_main\n",
    "except (ModuleNotFoundError, ImportError):\n",
    "  # !pip install \"git+https://github.com/autofeedback-exercises/exercises.git@testpip#subdirectory=MTH1025/algorithms/monte-carlo/part4\"\n",
    "  from testsrc import test_main\n",
    " \n",
    "def runtest(tlist):\n",
    "  import unittest\n",
    "  from contextlib import redirect_stderr\n",
    "  from os import devnull\n",
    "  with redirect_stderr(open(devnull, 'w')):\n",
    "    suite = unittest.TestSuite()\n",
    "    for tname in tlist:\n",
    "      suite.addTest(eval(f\"test_main.UnitTests.{tname}\"))\n",
    "    runner = unittest.TextTestRunner()\n",
    "    try:\n",
    "      runner.run(suite)\n",
    "    except (AssertionError, ImportError):\n",
    "      pass\n"
   ]
  },
  {
   "cell_type": "markdown",
   "metadata": {
    "id": "re035fXS3gi5"
   },
   "source": [
    "# Part 4\n",
    "\n",
    "The plot we constructed in the previous exercise is visually pleasing, but not\n",
    "particularly useful for estimating the value of $\\pi$. Remember that for our\n",
    "Monte-Carlo simulation the only thing we really care about is the _number of\n",
    "points inside the circle_. If we know this value, and the total number of\n",
    "points, then we can estimate $\\pi$. \n",
    "\n",
    "We can thus modify, and in fact simplify, our algorithm as follows\n",
    "\n",
    "1. SET `counter` equal to zero\n",
    "2. REPEAT `N` times:\n",
    "      1. SET `x` equal to a random number drawn from the uniform distribution between -1 and 1.\n",
    "      2. SET `y` equal to a random number drawn from the uniform distribution bewteen -1 and 1. \n",
    "      3. IF the point lies within the circle \n",
    "            1. SET `counter` equal to `counter + 1`\n",
    "3. SET `pi` equal to `(4 * counter)/N`\n",
    "\n",
    "Here, `N` is just a large number, e.g. 1000, as we have been using in previous exercises. \n",
    "\n",
    "In order to implement this algorithm, write a function named `estimate_pi` which\n",
    "* takes as its input variable, `N`, the number of points to be generated\n",
    "* returns the value of `pi` estimated using the algorithm above.\n"
   ]
  },
  {
   "cell_type": "code",
   "execution_count": null,
   "metadata": {},
   "outputs": [],
   "source": [
    "# your code goes here"
   ]
  },
  {
   "cell_type": "code",
   "execution_count": null,
   "metadata": {
    "id": "-Gvh6NfQ3I2C"
   },
   "outputs": [],
   "source": [
    "runtest([\"test_init\", \"test_out\"])"
   ]
  }
 ],
 "metadata": {
  "colab": {
   "cell_execution_strategy": "setup",
   "collapsed_sections": [
    "NVOkK4hCU7RK"
   ],
   "private_outputs": true,
   "provenance": []
  },
  "kernelspec": {
   "display_name": "base",
   "language": "python",
   "name": "python3"
  },
  "language_info": {
   "codemirror_mode": {
    "name": "ipython",
    "version": 3
   },
   "file_extension": ".py",
   "mimetype": "text/x-python",
   "name": "python",
   "nbconvert_exporter": "python",
   "pygments_lexer": "ipython3",
   "version": "3.9.13"
  }
 },
 "nbformat": 4,
 "nbformat_minor": 1
}
