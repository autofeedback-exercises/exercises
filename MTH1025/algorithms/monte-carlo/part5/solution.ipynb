{
 "cells": [
  {
   "cell_type": "markdown",
   "metadata": {
    "id": "re035fXS3gi5"
   },
   "source": [
    "# Part 5\n",
    "\n",
    "The code cell below contains the function `estimate_pi` from the previous exercise.\n",
    "\n",
    "For this last part, you are going to use `estimate_pi` to compute the value of $\\pi$ for various values of `N` (the number of sample points) in the Monte-Carlo simulation. Here is an example algorithm\n",
    "\n",
    "1. SET up empty list `approx_pi`\n",
    "2. FOR `N` taking values bewteen 10 and 1000\n",
    "      1. use `estimate_pi(N)` to give a value for `pi`\n",
    "      2. append `pi` to `approx_pi`\n",
    "\n",
    "You can then plot the list `approx_pi` against the list of `N` values you have used. This will allow you to see how increasing `N` affects the accuracy of the approximation. \n",
    "\n",
    "This being a statistical problem, however, there is no guarantee that you will get a better answer in any one simulation, just because you increase the number of samples. Thus, it is important that you consider running the simulation several times, and taking an average. You will have to present the algorithm you implement (including any averaging steps, for instance) in the written piece you submit for this mini-project.\n",
    "\n",
    "Note that for this exercise there is no automated feedback: you implement your algorithm to plot the approximate values of π as a function of the sample size in whatever way you think is best. This may involve showing several simulations on a single plot, plotting the error in your simulations, or some other representation which you feel best shows off your work. Once you have a plot with which you are happy, you can submit the code, and download the figure(s) for use in your written report.\n"
   ]
  },
  {
   "cell_type": "code",
   "execution_count": 26,
   "metadata": {},
   "outputs": [],
   "source": [
    "import numpy as np\n",
    "\n",
    "def estimate_pi(N):\n",
    "    counter = 0\n",
    "    for _ in range(N):\n",
    "        x = np.random.uniform(-1, 1)\n",
    "        y = np.random.uniform(-1, 1)\n",
    "        if x*x + y*y < 1.0:\n",
    "            counter += 1\n",
    "    return(4*counter/N)\n"
   ]
  }
 ],
 "metadata": {
  "colab": {
   "cell_execution_strategy": "setup",
   "collapsed_sections": [
    "NVOkK4hCU7RK"
   ],
   "private_outputs": true,
   "provenance": []
  },
  "kernelspec": {
   "display_name": "base",
   "language": "python",
   "name": "python3"
  },
  "language_info": {
   "codemirror_mode": {
    "name": "ipython",
    "version": 3
   },
   "file_extension": ".py",
   "mimetype": "text/x-python",
   "name": "python",
   "nbconvert_exporter": "python",
   "pygments_lexer": "ipython3",
   "version": "3.9.13"
  }
 },
 "nbformat": 4,
 "nbformat_minor": 1
}
