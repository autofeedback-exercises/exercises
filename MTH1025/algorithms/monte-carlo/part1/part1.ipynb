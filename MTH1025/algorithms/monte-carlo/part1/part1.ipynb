{
 "cells": [
  {
   "cell_type": "markdown",
   "metadata": {
    "id": "NVOkK4hCU7RK"
   },
   "source": [
    "# ."
   ]
  },
  {
   "cell_type": "code",
   "execution_count": null,
   "metadata": {
    "id": "QCMw-lybOsz-"
   },
   "outputs": [],
   "source": [
    "# this code enables the automated feedback. If you remove this, you won't get any feedback\n",
    "# so don't delete this cell!\n",
    "try:\n",
    "  import AutoFeedback\n",
    "except (ModuleNotFoundError, ImportError):\n",
    "  !pip install git+https://github.com/abrown41/AutoFeedback@notebook\n",
    "  import AutoFeedback\n",
    "\n",
    "try:\n",
    "  from testsrc import test_main\n",
    "except (ModuleNotFoundError, ImportError):\n",
    "  # !pip install \"git+https://github.com/autofeedback-exercises/exercises.git@testpip#subdirectory=MTH1025/algorithms/monte-carlo/part1\"\n",
    "  from testsrc import test_main\n",
    " \n",
    "def runtest(tlist):\n",
    "  import unittest\n",
    "  from contextlib import redirect_stderr\n",
    "  from os import devnull\n",
    "  with redirect_stderr(open(devnull, 'w')):\n",
    "    suite = unittest.TestSuite()\n",
    "    for tname in tlist:\n",
    "      suite.addTest(eval(f\"test_main.UnitTests.{tname}\"))\n",
    "    runner = unittest.TextTestRunner()\n",
    "    try:\n",
    "      runner.run(suite)\n",
    "    except AssertionError:\n",
    "      pass\n"
   ]
  },
  {
   "cell_type": "markdown",
   "metadata": {
    "id": "re035fXS3gi5"
   },
   "source": [
    "# Part 1\n",
    "The first elements in our plot will be the two shapes whose areas we are comparing. These are the circle of unit radius, centred on the origin, and the square of side 2, also centred on the origin.\n",
    "\n",
    "To plot the circle use the parametric description:\n",
    "\n",
    "$$ 0 \\leq \\theta \\leq 2\\pi, \\; x = \\cos(\\theta), \\; y=\\cos(\\theta)$$\n",
    "\n",
    "1. Set up an array `theta` with 100 linearly spaced values between $0$ and $2\\pi$.\n",
    "2. Set up the corresponding arrays, `x` and `y` as defined in the formula.\n",
    "3. Plot the circle (the points(`x`,`y`)) in a solid, red line.\n",
    "\n",
    "To plot the square, we need to plot the four vertices connected by straight lines. To do this\n",
    "\n",
    "4. Define an array `xsq` which contains the x-coordinates of the vertices of the square. In order to match what the AutoFeedback software expects, you should start **and end** in the bottom left corner, and trace out the points anti-clockwise (as shown in the diagram). You have to repeat the bottom left coordinate so that pyplot draws the left hand side of the square.\n",
    "5. Define an array `ysq` which contains the y-coordinates of the vertices of the square, in the same order as `xsq`. \n",
    "\n",
    "\n",
    "<center><img src='https://raw.githubusercontent.com/autofeedback-exercises/exercises/testpip/MTH1025/algorithms/monte-carlo/squarecircle.png' height=150 /></center>\n",
    "\n",
    "6. Plot the square (the points (`xsq`, `ysq`)) using a solid, blue line.\n",
    "\n",
    "7. To make the shapes look correct (have an aspect ratio of 1), you can use the\n",
    "command `plt.axis('equal')`\n"
   ]
  },
  {
   "cell_type": "code",
   "execution_count": null,
   "metadata": {},
   "outputs": [],
   "source": [
    "import numpy as np\n",
    "import matplotlib.pyplot as plt\n",
    "\n",
    "\n",
    "# your code goes here\n",
    "\n",
    "\n",
    "\n",
    "\n",
    "# This line is needed for the automated feedback, don't remove it!\n",
    "fighand = plt.gca()"
   ]
  },
  {
   "cell_type": "code",
   "execution_count": null,
   "metadata": {
    "id": "-Gvh6NfQ3I2C"
   },
   "outputs": [],
   "source": [
    "runtest([\"test_plot\"])"
   ]
  }
 ],
 "metadata": {
  "colab": {
   "cell_execution_strategy": "setup",
   "collapsed_sections": [
    "NVOkK4hCU7RK"
   ],
   "private_outputs": true,
   "provenance": []
  },
  "kernelspec": {
   "display_name": "base",
   "language": "python",
   "name": "python3"
  },
  "language_info": {
   "codemirror_mode": {
    "name": "ipython",
    "version": 3
   },
   "file_extension": ".py",
   "mimetype": "text/x-python",
   "name": "python",
   "nbconvert_exporter": "python",
   "pygments_lexer": "ipython3",
   "version": "3.9.13"
  }
 },
 "nbformat": 4,
 "nbformat_minor": 1
}
