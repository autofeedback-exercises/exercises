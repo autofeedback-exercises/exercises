{
 "cells": [
  {
   "cell_type": "markdown",
   "metadata": {
    "id": "NVOkK4hCU7RK"
   },
   "source": [
    "# ."
   ]
  },
  {
   "cell_type": "code",
   "execution_count": 1,
   "metadata": {
    "id": "QCMw-lybOsz-"
   },
   "outputs": [],
   "source": [
    "# this code enables the automated feedback. If you remove this, you won't get any feedback\n",
    "# so don't delete this cell!\n",
    "try:\n",
    "  import AutoFeedback\n",
    "except (ModuleNotFoundError, ImportError):\n",
    "  !pip install git+https://github.com/abrown41/AutoFeedback@notebook\n",
    "  import AutoFeedback\n",
    "\n",
    "try:\n",
    "  from testsrc import test_main\n",
    "except (ModuleNotFoundError, ImportError):\n",
    "  # !pip install \"git+https://github.com/autofeedback-exercises/exercises.git@testpip#subdirectory=MTH1025/plot_labs/BSE\"\n",
    "  from testsrc import test_main\n",
    " \n",
    "def runtest(tlist):\n",
    "  import unittest\n",
    "  from contextlib import redirect_stderr\n",
    "  from os import devnull\n",
    "  with redirect_stderr(open(devnull, 'w')):\n",
    "    suite = unittest.TestSuite()\n",
    "    for tname in tlist:\n",
    "      suite.addTest(eval(f\"test_main.UnitTests.{tname}\"))\n",
    "    runner = unittest.TextTestRunner()\n",
    "    try:\n",
    "      runner.run(suite)\n",
    "    except (AssertionError, ImportError):\n",
    "      pass\n"
   ]
  },
  {
   "cell_type": "markdown",
   "metadata": {
    "id": "re035fXS3gi5"
   },
   "source": [
    "# Tasks 1 \n",
    "\n",
    "We are going to implement several basis set expansions of a simple function\n",
    "\n",
    "$$\n",
    "f(x) = \\begin{cases} -1 \n",
    "\\text{ for }  -1 \\leq x \\leq 0 \\\\ +1  \\text{ for } \\phantom{-}0 < x \\leq 1 \\end{cases}\n",
    "$$\n",
    "\n",
    "The first step is to plot this function to see what we're aiming for. \n",
    "\n",
    "1. Define a variable `x` with 100 linearly spaced values between $-\\pi$ and $\\pi$.\n",
    "2. Define a variable `y` which contains the values of f(x) as defined above. You can do this in several ways but one way is to define an array with 100 ones using the command `np.ones(100)`, and then set the first 50 values equal to -1 using array slicing (square brackets and colons). To remind you, if I have an array, `V` with 20 elements, and I wish to set the middle 10 elements equal to 4 I write\n",
    "```python\n",
    "V[5:15] = 4\n",
    "```\n",
    "3. Plot the resulting function as a black line.\n",
    "4. Label the x and y-axes as 'x' and 'y' respectively.\n",
    "5. Add a legend which labels the line as 'Target Function'\n",
    "\n"
   ]
  },
  {
   "cell_type": "code",
   "execution_count": 4,
   "metadata": {
    "id": "-Gvh6NfQ3I2C"
   },
   "outputs": [
    {
     "data": {
      "image/png": "[encoded data removed]",
      "text/plain": [
       "<Figure size 640x480 with 1 Axes>"
      ]
     },
     "metadata": {},
     "output_type": "display_data"
    }
   ],
   "source": [
    "import numpy as np\n",
    "import matplotlib.pyplot as plt\n",
    "\n",
    "x = np.linspace(-np.pi,np.pi,100)\n",
    "y= np.sign(x)\n",
    "\n",
    "plt.plot(x,y,'k',label='Target Function')\n",
    "\n",
    "plt.xlabel('x')\n",
    "plt.ylabel('y')\n",
    "plt.legend()\n",
    "\n",
    "fighand = plt.gca()"
   ]
  },
  {
   "cell_type": "code",
   "execution_count": 12,
   "metadata": {
    "id": "5At9CUQ43LdY"
   },
   "outputs": [
    {
     "name": "stdout",
     "output_type": "stream",
     "text": [
      "\u001b[92mVariable x is correct!              \n",
      "\u001b[0m\n",
      "\u001b[93m==============================\n",
      "\u001b[0m\n",
      "\u001b[92mVariable y is correct!              \n",
      "\u001b[0m\n",
      "\u001b[93m==============================\n",
      "\u001b[0m\n",
      "\u001b[92mDataset Target Function plotted correctly!\n",
      "\u001b[0m\n",
      "\u001b[93m==============================\n",
      "\u001b[0m\n",
      "\u001b[92mPlot is correct!\n",
      "\u001b[0m\n",
      "\u001b[93m==============================\n",
      "\u001b[0m\n"
     ]
    }
   ],
   "source": [
    "runtest([\"test_step1\", \"test_step2\", \"test_plot1\"])"
   ]
  },
  {
   "cell_type": "markdown",
   "metadata": {},
   "source": [
    "## Tasks 2\n",
    "\n",
    "We are going to implement what is called the Fourier Expansion for our function, $f(x)$. The general form of the Fourier expansion on the range $-1 \\leq x \\leq 1$ is given by\n",
    "\n",
    "$$ f(x) = \\dfrac{1}{2}a_0 + \\sum \\limits _{n=1} ^{\\infty} \\left\\{ \\phantom{\\dfrac{1}{1}} a_n \\cos (nx) + b_n \\sin(nx) \\phantom{\\dfrac{1}{1}}\\right\\} $$\n",
    "\n",
    "\n",
    "For the particular function we're addressing, the expansion coefficients are given by\n",
    "\n",
    "\\begin{align}\n",
    "a_n &= 0 \\text{ for all } n \\\\\n",
    "b_n &= \\begin{cases} 0 & \\text{ for even } n \\\\\n",
    "                     \\dfrac{4}{n\\pi} & \\text{ for odd } n \n",
    "       \\end{cases}\n",
    "\\end{align}\n",
    "\n",
    "We're going to write a piece of code which, given the index `n`, evaluates the $b_n$ expansion coefficient. (We don't need to do the $a$ coefficients as they're all zero).\n",
    "\n",
    "1. Define a function called `fourier_coefficient`, that takes a single input argument, `n`\n",
    "2. The function should use the formula for the coefficient $b_n$ given above to return the correct value.\n",
    "\n",
    "To test if a number is even you can use the 'remainder' operator % and an if statement.\n",
    "```python\n",
    "4 % 2 = 0\n",
    "5 % 2 = 1\n",
    "```"
   ]
  },
  {
   "cell_type": "code",
   "execution_count": 8,
   "metadata": {},
   "outputs": [],
   "source": [
    "def fourier_coefficient(n):\n",
    "  if n % 2 == 0:\n",
    "    return 0\n",
    "  else:\n",
    "    return (4/(n*np.pi))\n"
   ]
  },
  {
   "cell_type": "code",
   "execution_count": 9,
   "metadata": {},
   "outputs": [
    {
     "name": "stdout",
     "output_type": "stream",
     "text": [
      "\u001b[92mFunction, fourier_coefficient is correct!              \n",
      "\u001b[0m\n",
      "\u001b[93m==============================\n",
      "\u001b[0m\n"
     ]
    }
   ],
   "source": [
    "runtest([\"test_coefficient\"])"
   ]
  },
  {
   "cell_type": "markdown",
   "metadata": {},
   "source": [
    "\n",
    "## Tasks 3\n",
    "\n",
    "Now that we have a way to calculate the expansion coefficients we need to multiply them by the correct basis function. If we truncate the summation after some (odd) number of terms, `N`, the simplified expansion looks like this:\n",
    "\n",
    "$$ f(x) = b_1 \\sin(x) + b_3 \\sin(3x) + \\ldots + b_N\\sin(Nx)$$\n",
    "\n",
    "You might also like to look at the solution of the second exercise on for loops in the introduction to python course for help.\n",
    "\n",
    "1. Define a function `fourier_expand` which takes two arguments, `N` and `x`\n",
    "2. Within the function, set up a variable to keep the running total of the sum.\n",
    "3. Within the function, set up a loop which will run over all the integer values of `n` between 1 and `N` inclusive.\n",
    "4. Within the loop,\n",
    "     * call the function `fourier_coefficient(n)` to calculate the value of the coefficient.\n",
    "     * calculate the value of the basis function `sin (nx)`\n",
    "     * increment (add on) the corresponding term in the summation above to the running total.\n",
    "\n",
    "The function should return the running total once all the terms have been added on, i.e. the calculated value of the summation."
   ]
  },
  {
   "cell_type": "code",
   "execution_count": 10,
   "metadata": {},
   "outputs": [],
   "source": [
    "def fourier_expand(N,x):\n",
    "  F=0*x\n",
    "  for n in range(1,N+1,2):\n",
    "    a=fourier_coefficient(n)\n",
    "    b= np.sin(n*x)\n",
    "    F = F + a*b\n",
    "  return F"
   ]
  },
  {
   "cell_type": "code",
   "execution_count": 11,
   "metadata": {},
   "outputs": [
    {
     "name": "stdout",
     "output_type": "stream",
     "text": [
      "\u001b[92mFunction, fourier_expand is correct!              \n",
      "\u001b[0m\n",
      "\u001b[93m==============================\n",
      "\u001b[0m\n"
     ]
    }
   ],
   "source": [
    "runtest([\"test_expand\"])"
   ]
  },
  {
   "cell_type": "markdown",
   "metadata": {},
   "source": [
    "## Tasks 4\n",
    "\n",
    "Now that we have code to compute the Fourier expansion of our function, we should plot the expansion and the original function to see how they compare. We can do this for a range of different values of `N`. In other words, we can see how good an approximation the Fourier expansion is when truncated after a different number of terms.\n",
    "\n",
    "Adding to your plot of the target function:\n",
    "\n",
    "1. Using the function `fourier_expand`, define variables `F10`, `F20` and `F50` which contain the fourier expansion evaluated for `N=10`, `20` and 50 respectively, using the (already defined) grid, `x`.\n",
    "2. Plot the arrays `F10`, `F20` and `F50` in red, blue and green solid lines, respectively.\n",
    "3. Set the legend labels to 'F10' 'F20' and 'F50', respectively."
   ]
  },
  {
   "cell_type": "code",
   "execution_count": 13,
   "metadata": {},
   "outputs": [
    {
     "data": {
      "image/png": "[encoded data removed]",
      "text/plain": [
       "<Figure size 640x480 with 1 Axes>"
      ]
     },
     "metadata": {},
     "output_type": "display_data"
    }
   ],
   "source": [
    "x = np.linspace(-np.pi,np.pi,100)\n",
    "y= np.sign(x)\n",
    "F10= fourier_expand(10,x)\n",
    "F20= fourier_expand(20,x)\n",
    "F50=fourier_expand(50,x)\n",
    "\n",
    "plt.plot(x,y,'k',label='Target Function')\n",
    "plt.plot(x,F10,'r',label=\"F10\")\n",
    "plt.plot(x,F20,'b',label=\"F20\")\n",
    "plt.plot(x,F50,'g',label=\"F50\")\n",
    "\n",
    "plt.xlabel('x')\n",
    "plt.ylabel('y')\n",
    "plt.legend()\n",
    "\n",
    "fighand = plt.gca()\n",
    "\n"
   ]
  },
  {
   "cell_type": "code",
   "execution_count": 14,
   "metadata": {},
   "outputs": [
    {
     "name": "stdout",
     "output_type": "stream",
     "text": [
      "\u001b[92mVariable F10 is correct!              \n",
      "\u001b[0m\n",
      "\u001b[93m==============================\n",
      "\u001b[0m\n",
      "\u001b[92mVariable F20 is correct!              \n",
      "\u001b[0m\n",
      "\u001b[93m==============================\n",
      "\u001b[0m\n",
      "\u001b[92mVariable F50 is correct!              \n",
      "\u001b[0m\n",
      "\u001b[93m==============================\n",
      "\u001b[0m\n",
      "\u001b[92mDataset Target Function plotted correctly!\n",
      "\u001b[0m\n",
      "\u001b[93m==============================\n",
      "\u001b[0m\n",
      "\u001b[92mDataset F10 plotted correctly!\n",
      "\u001b[0m\n",
      "\u001b[93m==============================\n",
      "\u001b[0m\n",
      "\u001b[92mDataset F20 plotted correctly!\n",
      "\u001b[0m\n",
      "\u001b[93m==============================\n",
      "\u001b[0m\n",
      "\u001b[92mDataset F50 plotted correctly!\n",
      "\u001b[0m\n",
      "\u001b[93m==============================\n",
      "\u001b[0m\n",
      "\u001b[92mPlot is correct!\n",
      "\u001b[0m\n",
      "\u001b[93m==============================\n",
      "\u001b[0m\n"
     ]
    }
   ],
   "source": [
    "runtest([\"test_step3\", \"test_step4\", \"test_step5\", \"test_plot2\"])"
   ]
  }
 ],
 "metadata": {
  "colab": {
   "cell_execution_strategy": "setup",
   "collapsed_sections": [
    "NVOkK4hCU7RK"
   ],
   "private_outputs": true,
   "provenance": []
  },
  "kernelspec": {
   "display_name": "base",
   "language": "python",
   "name": "python3"
  },
  "language_info": {
   "codemirror_mode": {
    "name": "ipython",
    "version": 3
   },
   "file_extension": ".py",
   "mimetype": "text/x-python",
   "name": "python",
   "nbconvert_exporter": "python",
   "pygments_lexer": "ipython3",
   "version": "3.9.13"
  }
 },
 "nbformat": 4,
 "nbformat_minor": 1
}
