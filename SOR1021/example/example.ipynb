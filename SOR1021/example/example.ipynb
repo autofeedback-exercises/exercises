{
  "cells": [
    {
      "cell_type": "markdown",
      "metadata": {},
      "source": [
        "# Boilerplate\n",
        "\n",
        "This installs the AutoFeedbackR packages, and the specific tests defined for this exercise from github"
      ]
    },
    {
      "cell_type": "code",
      "execution_count": null,
      "metadata": {
        "vscode": {
          "languageId": "r"
        }
      },
      "outputs": [],
      "source": [
        "# Check if required packages are installed\n",
        "if (!require(devtools)) {\n",
        "  install.packages(\"devtools\")\n",
        "  library(devtools)\n",
        "}\n",
        "\n",
        "# Install AutoFeedbackR package from GitHub\n",
        "if (!require(AutoFeedbackR)) {\n",
        "  devtools::install_github(\"abrown41/AutoFeedbackR\")\n",
        "  library(AutoFeedbackR)\n",
        "}\n",
        "\n",
        "# Install testsrc package from GitHub\n",
        "if (!require(testsrc)) {\n",
        "  devtools::install_github(\"autofeedback-exercises/exercises\", \n",
        "                         ref = \"R-example\",\n",
        "                         subdir = \"SOR1021/example\")\n",
        "  library(testsrc)\n",
        "}"
      ]
    },
    {
      "cell_type": "markdown",
      "metadata": {},
      "source": [
        "# Testing variables\n",
        "\n",
        "Define the variable `x` to be equal to 42. If you execute the `test_x()` cell below before `x` is defined you'll get an error message stating it's not defined. Then if you try various definitions for `x` you'll see other messages (wrong size, wrong value etc.)"
      ]
    },
    {
      "cell_type": "code",
      "execution_count": null,
      "metadata": {
        "vscode": {
          "languageId": "r"
        }
      },
      "outputs": [],
      "source": [
        "# student code here\n",
        "# x <- 42"
      ]
    },
    {
      "cell_type": "code",
      "execution_count": null,
      "metadata": {
        "colab": {
          "base_uri": "https://localhost:8080/",
          "height": 68
        },
        "id": "bSErVnxtx_l7",
        "outputId": "209100c6-728f-4b16-db0b-0b0f462d43b9",
        "vscode": {
          "languageId": "r"
        }
      },
      "outputs": [],
      "source": [
        "test_x()"
      ]
    },
    {
      "cell_type": "markdown",
      "metadata": {},
      "source": [
        "# Testing functions \n",
        "\n",
        "Define a function `my_add(a, b)` which returns the sum of the two input arguments. If you execute the `test_my_add` cell, it will give you various error messages (E.g. function does not exist, function doesn't accept correct input, function returns incorrect value etc.)"
      ]
    },
    {
      "cell_type": "code",
      "execution_count": null,
      "metadata": {
        "vscode": {
          "languageId": "r"
        }
      },
      "outputs": [],
      "source": [
        "# student code here\n",
        "# my_add <- function(a, b) {\n",
        "#   return(a + b)\n",
        "# }\n",
        "\n"
      ]
    },
    {
      "cell_type": "code",
      "execution_count": null,
      "metadata": {
        "id": "SJv7okfQyC78",
        "vscode": {
          "languageId": "r"
        }
      },
      "outputs": [],
      "source": [
        "\n",
        "\n",
        "test_my_add()\n"
      ]
    }
  ],
  "metadata": {
    "colab": {
      "provenance": []
    },
    "kernelspec": {
      "display_name": "R",
      "language": "R",
      "name": "ir"
    },
    "language_info": {
      "codemirror_mode": "r",
      "file_extension": ".r",
      "mimetype": "text/x-r-source",
      "name": "R",
      "pygments_lexer": "r",
      "version": "4.4.2"
    }
  },
  "nbformat": 4,
  "nbformat_minor": 0
}
