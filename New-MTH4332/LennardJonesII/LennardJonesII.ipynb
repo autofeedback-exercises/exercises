{
 "cells": [
  {
   "cell_type": "markdown",
   "metadata": {
    "id": "NVOkK4hCU7RK"
   },
   "source": [
    "# Run this cell first"
   ]
  },
  {
   "cell_type": "code",
   "execution_count": null,
   "metadata": {
    "id": "QCMw-lybOsz-"
   },
   "outputs": [],
   "source": [
    "# this code enables the automated feedback. If you remove this, you won't get any feedback\n",
    "# so don't delete this cell!\n",
    "try:\n",
    "  import AutoFeedback\n",
    "except (ModuleNotFoundError, ImportError):\n",
    "  !pip install AutoFeedback\n",
    "  import AutoFeedback\n",
    "\n",
    "try:\n",
    "  from testsrc import test_main\n",
    "except (ModuleNotFoundError, ImportError):\n",
    "  !pip install \"git+https://github.com/autofeedback-exercises/exercises.git@main#subdirectory=New-MTH4332/LennardJonesII\"\n",
    "  from testsrc import test_main\n",
    "\n",
    "def runtest(tlist):\n",
    "  import unittest\n",
    "  from contextlib import redirect_stderr\n",
    "  from os import devnull\n",
    "  with redirect_stderr(open(devnull, 'w')):\n",
    "    suite = unittest.TestSuite()\n",
    "    for tname in tlist:\n",
    "      suite.addTest(eval(f\"test_main.UnitTests.{tname}\"))\n",
    "    runner = unittest.TextTestRunner()\n",
    "    try:\n",
    "      runner.run(suite)\n",
    "    except AssertionError:\n",
    "      pass\n"
   ]
  },
  {
   "cell_type": "markdown",
   "metadata": {},
   "source": [
    "This next cell loads some code that allows us to use ase to run simulations of systems with a pair potential of your own design.  In this notebook, that pair potential is the Lennard Jones potential.  If you want to run simulations like those that we have performed here but using some other potential it may be useful for you to copy and reuse the code in this cell.  \n",
    "\n",
    "_This is the same code that we loaded here in the exercise on running MD with a pair potential._"
   ]
  },
  {
   "cell_type": "code",
   "execution_count": null,
   "metadata": {},
   "outputs": [],
   "source": [
    "import ase\n",
    "import numpy as np\n",
    "import scipy.stats\n",
    "import matplotlib.pyplot as plt\n",
    "from ase.build import bulk,make_supercell\n",
    "from ase.visualize import view\n",
    "from ase.io import write\n",
    "from ase.neighborlist import NeighborList\n",
    "from ase.calculators.calculator import Calculator, all_changes\n",
    "from ase.stress import full_3x3_to_voigt_6_stress\n",
    "from ase.lattice.cubic import FaceCenteredCubic\n",
    "from ase.md.velocitydistribution import MaxwellBoltzmannDistribution\n",
    "from ase.md.langevin import Langevin\n",
    "from ase.io.trajectory import Trajectory \n",
    "\n",
    "class pairwise_calculator(Calculator) :\n",
    "  \"\"\"Implementation of a very basic Lennard Jones Calculator\"\"\"\n",
    "\n",
    "  implemented_properties = ['energy', 'energies', 'forces', 'free_energy']\n",
    "  implemented_properties += ['stress', 'stresses']  # bulk properties\n",
    "  default_parameters = {'rc': None,}\n",
    "  nolabel = True\n",
    "\n",
    "  def __init__(self, **kwargs ) :\n",
    "    Calculator.__init__( self, **kwargs )\n",
    "    if self.parameters.pairwise_e is None :\n",
    "      ValueError(\"function for evaluating pairwise energies has not been set\")\n",
    "    # Setup a cutoff value so we can use a neighbour list\n",
    "    if self.parameters.rc is None : \n",
    "      ValueError(\"cutoff for pairwise interactions should be set\")\n",
    "    # Setup stuff for neighbour list\n",
    "    self.nl = None\n",
    "    self.pairwise_e = self.parameters.pairwise_e\n",
    "    self.parameters.pairwise_e = None\n",
    "\n",
    "  def calculate( self, atoms=None, properties=None, system_changes=all_changes, ) :\n",
    "    if properties is None : properties = self.implemented_properties\n",
    "\n",
    "    Calculator.calculate(self, atoms, properties, system_changes)\n",
    "\n",
    "    natoms = len(self.atoms)\n",
    "\n",
    "    rc = self.parameters.rc\n",
    "    # potential value at rc\n",
    "    e0, f0 = self.pairwise_e( rc )     \n",
    "\n",
    "    if self.nl is None or 'numbers' in system_changes:\n",
    "        self.nl = NeighborList([rc / 2] * natoms, self_interaction=False, bothways=True )\n",
    "    \n",
    "    self.nl.update(self.atoms)\n",
    "\n",
    "    positions = self.atoms.positions\n",
    "    cell = self.atoms.cell\n",
    "\n",
    "    energies = np.zeros(natoms)\n",
    "    forces = np.zeros((natoms, 3))\n",
    "    stresses = np.zeros((natoms, 3, 3))\n",
    "\n",
    "    for ii in range(natoms):\n",
    "        neighbors, offsets = self.nl.get_neighbors(ii)\n",
    "        cells = np.dot(offsets, cell)\n",
    "\n",
    "        # pointing *towards* neighbours\n",
    "        distance_vectors = positions[neighbors] + cells - positions[ii]\n",
    "\n",
    "        r = np.sqrt( (distance_vectors ** 2).sum(1) )\n",
    "        pairwise_energies, pairwise_forces = self.pairwise_e( r )\n",
    "        pairwise_energies[r > rc] = 0.0\n",
    "        pairwise_forces[r > rc] = 0.0\n",
    "\n",
    "        pairwise_forces = pairwise_forces[:, np.newaxis] * distance_vectors\n",
    "        energies[ii] += 0.5 * pairwise_energies.sum()  # atomic energies\n",
    "        forces[ii] += pairwise_forces.sum(axis=0)\n",
    "        stresses[ii] += 0.5 * np.dot(pairwise_forces.T, distance_vectors)\n",
    "\n",
    "    # no lattice, no stress\n",
    "    if self.atoms.cell.rank == 3:\n",
    "        stresses = full_3x3_to_voigt_6_stress(stresses)\n",
    "        self.results['stress'] = stresses.sum(axis=0) / self.atoms.get_volume()\n",
    "        self.results['stresses'] = stresses / self.atoms.get_volume()\n",
    "\n",
    "    energy = energies.sum()\n",
    "    self.results['energy'] = energy\n",
    "    self.results['energies'] = energies\n",
    "    self.results['free_energy'] = energy\n",
    "    self.results['forces'] = forces"
   ]
  },
  {
   "cell_type": "markdown",
   "metadata": {},
   "source": [
    "# Introduction\n",
    "\n",
    "This notebook explains how you can calculate the heat capactiy for a system of interacting particles in a way that incorporates the nuclear quantum effects by exploting the harmonic approximation.  We then use this as a jumping off point for discussing how you can extract dynamic properties from MD simulations.  This part builds on what you learned in the last set of exercises about calculating static properties from MD simulations.\n",
    "\n",
    "As always please ensure that the key libraries are loaded before you start the exercises by executing the following cell."
   ]
  },
  {
   "cell_type": "code",
   "execution_count": null,
   "metadata": {},
   "outputs": [],
   "source": [
    "import matplotlib.pyplot as plt\n",
    "import numpy as np"
   ]
  },
  {
   "cell_type": "markdown",
   "metadata": {
    "id": "YPwaWJ9RICWy"
   },
   "source": [
    "# Calculating the density of states\n",
    "\n",
    "In assignments previous to this one you learned two ways to calculate the heat capacity as a function of temperature from molecular dynamics simulations.\n",
    "When you use the methods that have been introduced thus far you assume that the particles the system is composed of are classical and that the effect of\n",
    "the quantum nature of matter on the heat capacity is tiny.  In this final assignment we are going to examine this approximation that the particles are classical\n",
    "in more detail by learning one approach for determining the nuclear quantum effects.\n",
    "\n",
    "In the approach we will use, we extract properties of the 0 K structure and use these properties to determine the partition function at finite temperature by assuming that the\n",
    "system behaves as a system of independent quantum harmonic oscillators.  We can derive an exact expression for the partition function of quantum harmonic osciallator and can thus\n",
    "calculate the properties of such systems at all temperatuures.  Furthermore, the only non-thermodynamic variable that enters the expression for the partition\n",
    "function of a quantum harmonic oscillator is the oscillators characteristic frequency.  The first thing we will thus need to do is to extract a set of characteristic frequencies from\n",
    "the 0K structure.  The mathematics that we use to extract these characteristic frequencies is explained in the following video.\n",
    "\n",
    "If you need some revision on eigenvalues and eigenvectors then you can [look here](https://brilliant.org/wiki/eigenvalues-and-eigenvectors/)"
   ]
  },
  {
   "cell_type": "code",
   "execution_count": 1,
   "metadata": {},
   "outputs": [
    {
     "data": {
      "text/html": [
       "<iframe width=\"560\" height=\"315\" src=\"https://www.youtube.com/embed/3pm7O70FWUI?si=qGBqXL6ibViNU09k\" title=\"YouTube video player\" frameborder=\"0\" allow=\"accelerometer; autoplay; clipboard-write; encrypted-media; gyroscope; picture-in-picture; web-share\" referrerpolicy=\"strict-origin-when-cross-origin\" allowfullscreen></iframe>\n"
      ],
      "text/plain": [
       "<IPython.core.display.HTML object>"
      ]
     },
     "metadata": {},
     "output_type": "display_data"
    }
   ],
   "source": [
    "%%HTML\n",
    "<iframe width=\"560\" height=\"315\" src=\"https://www.youtube.com/embed/3pm7O70FWUI?si=qGBqXL6ibViNU09k\" title=\"YouTube video player\" frameborder=\"0\" allow=\"accelerometer; autoplay; clipboard-write; encrypted-media; gyroscope; picture-in-picture; web-share\" referrerpolicy=\"strict-origin-when-cross-origin\" allowfullscreen></iframe>"
   ]
  },
  {
   "cell_type": "markdown",
   "metadata": {},
   "source": [
    "We can use ASE to find the 0 K structure of a material by running an optimisation and by the calculating the vibrations.  To do these calculations we need to load some additional parts of ASE using the commands below."
   ]
  },
  {
   "cell_type": "code",
   "execution_count": null,
   "metadata": {},
   "outputs": [],
   "source": [
    "from ase.optimize import BFGS\n",
    "from ase.vibrations import Vibrations"
   ]
  },
  {
   "cell_type": "markdown",
   "metadata": {},
   "source": [
    "We then need to revise what we learned in the previous exercisors and complete\n",
    "the function `fff` so that it returns the energy for a pair of atoms that are separated by a distance $r_{ij}$ and the force that acts on these atoms when they are separated by this distance."
   ]
  },
  {
   "cell_type": "code",
   "execution_count": null,
   "metadata": {},
   "outputs": [],
   "source": [
    "def fff(r):\n",
    "   # Insert your code to calculate the Lennard Jones energy and forces here\n",
    "\n",
    "   return e, f  # First argument should be energy and second should be force"
   ]
  },
  {
   "cell_type": "code",
   "execution_count": null,
   "metadata": {},
   "outputs": [],
   "source": [
    "runtest(['test_forces1'])"
   ]
  },
  {
   "cell_type": "markdown",
   "metadata": {},
   "source": [
    "With those initial setup parts done we can now begin to run the optimisation and frequency calculations.  \n",
    "\n",
    "The optimisation calculation moves the atoms to the positions where they have the lowest energy, which is the position\n",
    "they should adopt when the system is at 0 K.  To find the minimum energy positions for the atoms in the atom type object `atoms` we can use the following ASE commands:\n",
    "\n",
    "```python\n",
    "opt = BFGS(atoms)\n",
    "opt.run(fmax=0.001)\n",
    "```\n",
    "\n",
    "The initial position of the atoms and the potential that acts between them can be set here by using what we learned about ASE in the exercises you completed for the last part of the course.\n",
    "\n",
    "Once we have found the minimum energy structure we can use ASE to calculate a matrix of second derivatives of the potential (the hessian matrix) by using the following commands:\n",
    "\n",
    "```python\n",
    "vib = Vibrations(atoms)\n",
    "vib.run()\n",
    "data = vib.get_vibrations()\n",
    "hessian = data.get_hessian_2d()\n",
    "```\n",
    "\n",
    "It is striaghtforward to show that the Hessian matrix has units of one over seconds squared.  The square roots of the eigenvalues of this matrix are thus frequencies.\n",
    "\n",
    "We can find these eigenvalues and store them in a NumPy array called `eigvals` by using the following commands:\n",
    "\n",
    "```python\n",
    "eigvals, eigvecs = np.linalg.eig( hessian )\n",
    "```\n",
    "\n",
    "If we do this when the energy is minimised we should find that the eigenvalues are all non-negative.  There should thus be no imaginary frequencies.\n",
    "\n",
    "__Your task in this exercise is to use the information above about ASE to calculate the frequencies for a system of 108 Lennard Jones particles.__  To complete this exercise you will need to use\n",
    "the code that you learned last week that generates an initial configuration for the 108 atoms by placing all the atoms on the lattice sites for an FCC crystal.  You will then need to use the\n",
    "`pairwise_calc` module that I introduced last week to setup ASE so that it uses the function `fff` that you wrote above to calculate the potential energy for any configuration of Lennard Jones particles. \n",
    "\n",
    "You should use a cutoff of 4 natural units when computing the Lennard Jones potential.  Hint: setting up the calculator was covered in the exercises on doing MD with multiple particles.\n",
    "\n",
    "Once you have setup the initial structure and calculator you should be able to use the functions described above for minimising the energy, calculating the hessian and calculating the frequencies that\n",
    "are described above.\n",
    "\n",
    "__The task is not completed once you have calculated the frequencies as I would like you to generate a graph that shows the density of states as a function of the frequencies.__  To construct this graph\n",
    "you will need to place each of the frequencies that you obtained by diagonalising the Hessian matrix into one of the `nbins` histogram bins with centers at `xvals` that I have created for you in `main.py`.\n",
    "The final lines of codes that I have written should then generate the plot of the density of states for you."
   ]
  },
  {
   "cell_type": "code",
   "execution_count": null,
   "metadata": {
    "id": "VyODsKKHpDkQ"
   },
   "outputs": [],
   "source": [
    "# Insert code to setup the initial structure here and to setup the function for calculating the potential energy\n",
    "\n",
    "# Add the code required to do the optimisation that you were given in the instructions\n",
    "\n",
    "# Add the code from the instructions to calculate the Hessian matrix and the frequencies for the minimised structure\n",
    "# the final line of this block of code should set the variable called frequencies equal to the frequencies that you\n",
    "# found from the hessian matrix\n",
    "\n",
    "# Set this variable equal to the frequencies of the hessian\n",
    "frequencies =\n",
    "\n",
    "# This sets up code for calculating a histogram with nbins bins that holds the density of states\n",
    "# the range of frequncy values starts at slightly less than minfreq and end at slightly more than maxfreq\n",
    "nbins = 100\n",
    "minfreq = min(frequencies)\n",
    "maxfreq = max(frequencies)\n",
    "delx = 1.01*(maxfreq- minfreq) / nbins\n",
    "minx = mineng - (maxfreq-minfreq)*0.005\n",
    "\n",
    "# Find the position of the center of each bin in the histogram\n",
    "xvals = np.zeros(nbins)\n",
    "for i in range(nbins) : xvals[i] = minx + (i+0.5)*delx\n",
    "\n",
    "# You now need to loop over the frequencies that emerged from the hessian and determine how many of these frequencies\n",
    "# are in each bin of your histogram. The number of frequencies in each bin of the histogram should be accumulated in the\n",
    "# numpy array called histo below\n",
    "histo = np.zeros(nbins)\n",
    "\n",
    "\n",
    "# This will plot the final density of states for you\n",
    "plt.plot( xvals, histo, 'k-')\n",
    "plt.xlabel('frequencies / arbitrary units')\n",
    "plt.ylabel('Number of states')\n",
    "plt.show()\n",
    "# This code is required for the Automated feedback, don't delete it!\n",
    "fighand = plt.gca()"
   ]
  },
  {
   "cell_type": "code",
   "execution_count": null,
   "metadata": {
    "id": "da-adz2uuKpA"
   },
   "outputs": [],
   "source": [
    "runtest(['test_calculator1', 'test_density_of_states'])"
   ]
  },
  {
   "cell_type": "markdown",
   "metadata": {
    "id": "0Kp0-DW94ja6"
   },
   "source": [
    "# Heat capacity for 1D quantum harmonic oscillator\n",
    "\n",
    "Your task for this exercise is to calculate the heat capcity for a single quantum harmonic oscillator as a function of temperature and to draw a graph of this function.  The following video gives you a short refresher on the statitstical mechanics of the quantum harmonic oscillator.  \n",
    "\n",
    "If you prefer to read this material you can find some notes [here](https://robust-creature-3df.notion.site/Harmonic-Oscillator-92855b39d13945dabb73cb831dc1234e)."
   ]
  },
  {
   "cell_type": "code",
   "execution_count": 2,
   "metadata": {},
   "outputs": [
    {
     "data": {
      "text/html": [
       "<iframe width=\"560\" height=\"315\" src=\"https://www.youtube.com/embed/JlGS74_VCX8?si=GdWXZbsrN-PELEVT\" title=\"YouTube video player\" frameborder=\"0\" allow=\"accelerometer; autoplay; clipboard-write; encrypted-media; gyroscope; picture-in-picture; web-share\" referrerpolicy=\"strict-origin-when-cross-origin\" allowfullscreen></iframe>\n"
      ],
      "text/plain": [
       "<IPython.core.display.HTML object>"
      ]
     },
     "metadata": {},
     "output_type": "display_data"
    }
   ],
   "source": [
    "%%HTML\n",
    "<iframe width=\"560\" height=\"315\" src=\"https://www.youtube.com/embed/JlGS74_VCX8?si=GdWXZbsrN-PELEVT\" title=\"YouTube video player\" frameborder=\"0\" allow=\"accelerometer; autoplay; clipboard-write; encrypted-media; gyroscope; picture-in-picture; web-share\" referrerpolicy=\"strict-origin-when-cross-origin\" allowfullscreen></iframe>"
   ]
  },
  {
   "cell_type": "markdown",
   "metadata": {},
   "source": [
    "You should implement the code for plotting the heat capacity for a single quantum harmonic oscillator as a function of temperature in the following cell.  When I test your code I assume that the $\\hbar \\omega$ value for your harmonic oscillator is equal to the variable I have\n",
    "called `frequency` that is defined below.  \n",
    "\n",
    "Please ensure that you have a variable called `T` in your final `main.py` code.  This variable should be set equal to a NumPy array that contains the temperatures\n",
    "at which you evaluated the heat capacity when you generated in the plots.  I use this variable when testing your code.  Please also set the x-axis and y-axis labels\n",
    "on your graph equal to 'Temperature / natural units' and 'Heat capacity / natural units' respectively."
   ]
  },
  {
   "cell_type": "code",
   "execution_count": null,
   "metadata": {
    "id": "Z-yOO1VOoKk5"
   },
   "outputs": [],
   "source": [
    "frequency = 1.0\n",
    "T = np.linspace( 0.1, 10, 200 )\n",
    "\n",
    "\n",
    "# This code is required for the Automated feedback, don't delete it!\n",
    "fighand = plt.gca()"
   ]
  },
  {
   "cell_type": "code",
   "execution_count": null,
   "metadata": {
    "id": "NWaDJdnirg8b"
   },
   "outputs": [],
   "source": [
    "runtest(['test_heat_capcity3'])"
   ]
  },
  {
   "cell_type": "markdown",
   "metadata": {
    "id": "GW53ohVsaEtc"
   },
   "source": [
    "# Heat capacity for N quantum harmonic oscillators\n",
    "\n",
    "It is straightforward to adapt what you have learned about calculating the heat capacity for a single quantum harmonic oscillator to calculating the heat capacity\n",
    "for the solid system that we studied in the previous but one exercise.\n",
    "\n",
    "At the end of that exercise about calculating the frequencies from the Hessian matrix we had\n",
    "calculated a vector with 3N elements, where N is the number of atoms.  This vector contained the frequencies of the 3N vibrational modes for the system of N atoms.\n",
    "Each of these modes is independent so we can thus calculate a partition function for each vibrational mode by substituing the frequency of that mode into the expression\n",
    "for the partition function of a 1D quantum harmonic oscillator.  The partition function for the N particle system is then the product of these 3N 1D partition functions.\n",
    "\n",
    "The average energy for a system of 3N harmonic oscillators is thus the sum of the average energies for each of the 3N harmonic oscillator.  The heat capacity is\n",
    "similarly a sum of the heat capacities of the 3N 1D oscillators.\n",
    "\n",
    "Given all the above your task is to plot a graph showing the heat capacity per atom as a function of temperature for the three atom system with the 9 frequencies that are\n",
    "given in the NumPy array called `frequencies`.  You will need to use the expression for the heat capacity of a quantum Harmonic oscillator that you used in the previous exercise\n",
    "to calculate the heat capacities for each of the frequencies separately.  You will then need to sum all those individual heat capacities in order to (almost) arrive at the final result (remember\n",
    "I want the heat capacity per atom and there are three atoms).\n",
    "\n",
    "Please ensure that you have a variable called `T` in your final `main.py` code.  This variable should be set equal to a NumPy array that contains the temperatures\n",
    "at which you evaluated the heat capacity when you generated in the plots.  I use this variable when testing your code.  Please also set the x-axis and y-axis labels\n",
    "on your graph equal to 'Temperature / natural units' and 'Heat capacity per atom / natural units' respectively.\n",
    "\n",
    "_Notice that you can replace the list of frequencies that I have provided you with here with the set of frequencies that you obtained from the second exercise above.  In other words, you can use the set of frequencies that you obtained by diagnalising the Hessian - the test should still pass if you use these frequencies._ \n"
   ]
  },
  {
   "cell_type": "code",
   "execution_count": null,
   "metadata": {
    "id": "FMG8dWYanSXL"
   },
   "outputs": [],
   "source": [
    "frequencies = np.array([1,1,2,2,2,3,4,5,9])\n",
    "T = np.linspace( 0.1, 30, 200 )\n",
    "\n",
    "\n",
    "# This code is required for the Automated feedback, don't delete it!\n",
    "fighand = plt.gca()"
   ]
  },
  {
   "cell_type": "code",
   "execution_count": null,
   "metadata": {
    "id": "4sFj3nSzDx3v"
   },
   "outputs": [],
   "source": [
    "runtest(['test_heat_capcity4'])"
   ]
  },
  {
   "cell_type": "markdown",
   "metadata": {
    "id": "abfnuJWnuGuI"
   },
   "source": [
    "# Running constant energy molecular dynamics\n",
    "\n",
    "In my example report I calculated dynamical properties from molecular dynamics simulations.\n",
    "When we are calculating these properties we need to be careful about controlling temperature using thermostats.  Thermostats\n",
    "work by perturbing the velocities of the particles in our simulation box and in doing so can change the measured dynamic properties.\n",
    "\n",
    "One way to avoid this issue is to run a simulation __without__ a thermostat.  In other words, you can run your simulation in the NVE\n",
    "rather than the NVT simulation.  You will be running these sorts of simulations to complete the exercises so in this exercise, we are\n",
    "thus going to learn to run a NVE simulation using ASE.\n",
    "\n",
    "The procedure that should be followed here is similar to the one that you have follwed in setting up the NVT simulations.  In particular\n",
    "you need to:\n",
    "\n",
    "1. Set up an `Atoms` object by calling the `FaceCenteredCubic` method.  As you have done in previous exercises you should run a 3x3x3 cell with a lattice constant of 2^(2/3).\n",
    "2. Set the masses of all the atoms in your `Atoms` object equal to one.\n",
    "3. Use the Maxwell Boltzmann distribution to set the velocities of all the atoms in accordance with a temperature of 2.0 natural units.\n",
    "4. Setup the atoms object to use the `pairwise_calculator` method to calculate the potential energy.  You should use a cutoff of 4 sigma when determining the interactions.  You can use the function called `fff` that you wrote above to calculate the energy and forces on a pair of atoms as you have done in previous exercises.\n",
    "5. Next you need to set the variable `initial_energy` equal to the total energy of the N particle system you are studying.\n",
    "6. Once you have done this you are in a position to run the NVE MD using the following commands:\n",
    "\n",
    "```python\n",
    "dyn = VelocityVerlet( atoms, tstep )\n",
    "dyn.run(100)\n",
    "```\n",
    "\n",
    "Before running these commands you will need to use what you learned in previous exercises about the `dyn.attach` method to capture the total energy of the system on each timestep as your final task is to generate a graph that shows the\n",
    "total energy as a function of simulation time.  The labels on the axis of this graph should be 'time / arbitrary units' and 'total energy / arbitrary units'.  The test code here checks that the total energy values that you plot in your\n",
    "graph are the same as the variable `initial_energy`.  This is a valid test as in NVE MD the total energy of the system should be constant.  In practise (because of cutoffs and the like) energy changes by a small amount in any simulation.\n",
    "I thus recommend using a small timestep for your MD simulation.\n",
    "\n",
    "N.B.\n",
    "\n",
    "_For this exercise I asked you to run a NVE simulation started directly from the input fcc structure.  In practise you would __never__ run a simulation like this.  Before you start running NVE simluations you should run some equilibration\n",
    "in the NVT ensemble.  These equilibration steps allow the system to equilibrate and get the energy to a reasonable equilibrium value for the temperature of interest.  In other words, you run the equilibration in the NVT ensemble to ensure that\n",
    "the potential energies of the structures that are being visted are reasonable._\n"
   ]
  },
  {
   "cell_type": "code",
   "execution_count": null,
   "metadata": {
    "id": "tatDyk0r18eD"
   },
   "outputs": [],
   "source": [
    "# You need to setup a very small timestep in order to get the energy to be conserved\n",
    "tstep = 0.00001\n",
    "\n",
    "# Insert code from last exercises to create an atoms object and set masses and velocities here.\n",
    "atoms =\n",
    "\n",
    "# Attach the method that should be used to calculate energies and forces to the atoms object\n",
    "\n",
    "# Calculate the initial energy for me here so I can test your code.  Please dont adjust this line\n",
    "initial_energy = atoms.get_potential_energy() + atoms.get_kinetic_energy()\n",
    "\n",
    "\n",
    "# And use the ideas that were explained in the instructions file to run 100 steps of constant energy MD.\n",
    "# Add a method to store the total energy on every step so that you can plot a graph of the energy as a function\n",
    "# of time.\n",
    "\n",
    "\n",
    "# This code is required for the Automated feedback, don't delete it!\n",
    "fighand = plt.gca()"
   ]
  },
  {
   "cell_type": "code",
   "execution_count": null,
   "metadata": {
    "id": "DRh9a4ME6fgy"
   },
   "outputs": [],
   "source": [
    "runtest(['test_calculator2', 'test_conservation'])"
   ]
  },
  {
   "cell_type": "markdown",
   "metadata": {},
   "source": [
    "# Loading a trajectory\n",
    "\n",
    "For this exercise and the next one we will be using an NVE trajectory that I have generated for you.  To load the data from this trajectory into your notebook execute the following cell.  Once you have done so you can then move on to the final two exercises, which both use the variable `ftraj` that has been created here."
   ]
  },
  {
   "cell_type": "code",
   "execution_count": null,
   "metadata": {},
   "outputs": [],
   "source": [
    "from ase.io.trajectory import Trajectory\n",
    "\n",
    "# This command uses ase to read in the trajectory\n",
    "ftraj = Trajectory('https://raw.githubusercontent.com/autofeedback-exercises/exercises/main/New-MTH4332/LennardJonesII/nve-short.traj')"
   ]
  },
  {
   "cell_type": "markdown",
   "metadata": {
    "id": "WT7Sm4JJqBYt"
   },
   "source": [
    "# The velocity autocorrelation function\n",
    "\n",
    "If we have performed a molecular dynamics simulation of a system of $N$ particles we can investigate whether or not the\n",
    "particles are undergoing an oscillatory motion by calculating the velocity autocorrelation function.  This function is introduced in the following video."
   ]
  },
  {
   "cell_type": "code",
   "execution_count": 3,
   "metadata": {},
   "outputs": [
    {
     "data": {
      "text/html": [
       "<iframe width=\"560\" height=\"315\" src=\"https://www.youtube.com/embed/E1a6HokwEzw?si=Bg179C4f2KW_zjK1\" title=\"YouTube video player\" frameborder=\"0\" allow=\"accelerometer; autoplay; clipboard-write; encrypted-media; gyroscope; picture-in-picture; web-share\" referrerpolicy=\"strict-origin-when-cross-origin\" allowfullscreen></iframe>\n"
      ],
      "text/plain": [
       "<IPython.core.display.HTML object>"
      ]
     },
     "metadata": {},
     "output_type": "display_data"
    }
   ],
   "source": [
    "%%HTML\n",
    "<iframe width=\"560\" height=\"315\" src=\"https://www.youtube.com/embed/E1a6HokwEzw?si=Bg179C4f2KW_zjK1\" title=\"YouTube video player\" frameborder=\"0\" allow=\"accelerometer; autoplay; clipboard-write; encrypted-media; gyroscope; picture-in-picture; web-share\" referrerpolicy=\"strict-origin-when-cross-origin\" allowfullscreen></iframe>"
   ]
  },
  {
   "cell_type": "markdown",
   "metadata": {},
   "source": [
    "As discussed in the video the autocorrelation function is calculated as follows:\n",
    "\n",
    "$$\n",
    "C(\\tau) = \\langle \\mathbf{v}(\\tau)\\cdot \\mathbf{v}(0) \\rangle = \\frac{1}{3NT(T-\\tau)} \\sum_{t=0}^{T-\\tau} \\mathbf{v}(t)\\cdot \\mathbf{v}(t+\\tau)\n",
    "$$\n",
    "\n",
    "In this expression $v(t)$ is a vector that contains the velocities of all the particles at time $t$, $T$ is the number of frames in the trajectory and\n",
    "$N$ is the number of atoms.  The expression above is thus the ensemble average of the dot product between the instantaneous velocities at two times separated by a time interval $\\tau$ au.\n",
    "\n",
    "If the mass of the particles is one the velocity autocorrelation should be equal to the $k_B T$ when $\\tau$ equals 0 as it is basically\n",
    "the sum of the squares of all the velocities divided by the total number of atoms, $N$.  For particles with mass 1 this is double the\n",
    "kinetic energy and we know that average kinetic energy should be equal to 0.5 $k_B T$ by equipartition.  For $\\tau>0$ the autocorrleation\n",
    "function should decay towards zero. There may, however, be some oscillations in the decay and if these are present that is indicative\n",
    "of the sorts of oscilations about the lattice sites that you see in a solid.\n",
    "\n",
    "__Your task in this exercise is to write code to calculate a velocity autocorrelation function.__  You should use the trajectory in the variable `ftraj` that we loaded earlier when calculating this function.  \n",
    "\n",
    "Remember that you can cycle over all the frames in the trajectory by using a loop like this one:\n",
    "\n",
    "```python\n",
    "for atoms in ftraj :\n",
    "    # Do some analysis on the atoms data in each frame of the trajectory\n",
    "```\n",
    "\n",
    "Notice that you can get a 1D vector with $3N$ elements that contain the velocities of all the atoms for the nth frame in the trajectory by using the command below:\n",
    "\n",
    "```python\n",
    "vel = ftraj[n].get_velocities().flatten()\n",
    "```\n",
    "\n",
    "You can then calculate the dot product that is being averaged in the equation for the autocorrelation function as follows:\n",
    "\n",
    "```pythnon\n",
    "dp = np.dot( veln.T, vel ) / len(vel)\n",
    "```\n",
    "\n",
    "In the expression above `veln` is a second vector of velocities that is extracted from the trajectory in the same way that the vector `vel` was obtained.\n",
    "\n",
    "You should calculate the autocorrelation and store its values in the NumPy array called `acf`.  This array has `ncorr` elements.  The 0th element of this array\n",
    "should contain the velocity autocorrelation for $\\tau=0$.  The 1st element should contain the velocity autocorrelation function for frames that are separated by one\n",
    "timestep.  The 2nd element frames that are separated by two timesteps and so on. To loop and accumulate these averages I would recommend using code like this:\n",
    "\n",
    "```python\n",
    "n=0\n",
    "for atoms in ftraj :\n",
    "   maxn = min(len(ftraj), n + ncorr) - n\n",
    "   for i in range(maxn) :\n",
    "       # Insert code to update the appropriate element of the autocorrelation function here.\n",
    "```\n",
    "\n",
    "If you complete the exercise correctly a graph should be generated that shows your estimate of the autocorrelation function."
   ]
  },
  {
   "cell_type": "code",
   "execution_count": null,
   "metadata": {
    "id": "MPqzj7Mvs-1c"
   },
   "outputs": [],
   "source": [
    "# This is number of frames that we are calculating the correlation function over\n",
    "ncorr = 50\n",
    "\n",
    "\n",
    "\n",
    "# This sets up arrays to hold the autocorrelation function and the number of estimates\n",
    "# of each dot product we have\n",
    "acf, norm = np.zeros(ncorr), np.zeros(ncorr)\n",
    "\n",
    "# Your code to calculate the autocorrelation function goes here\n",
    "\n",
    "\n",
    "\n",
    "\n",
    "# This will plot the autocorrelation function.  The value of 0.005 is the time\n",
    "# between each frame in the trajectory that I have given you here so the xvalues\n",
    "# are the time lags between the frames for whcih I have calculated the dot product\n",
    "# of the velocity.\n",
    "times = 0.005*np.linspace(0, ncorr-1, ncorr)\n",
    "plt.plot( times, acf, 'k-' )\n",
    "plt.xlabel('time / arbitrary units')\n",
    "plt.ylabel('velocity autoccoreation function')\n",
    "plt.show()\n",
    "# This code is required for the Automated feedback, don't delete it!\n",
    "fighand = plt.gca()"
   ]
  },
  {
   "cell_type": "code",
   "execution_count": null,
   "metadata": {
    "id": "s4zzyalCmOyo"
   },
   "outputs": [],
   "source": [
    "runtest(['test_heat_capcity1'])"
   ]
  },
  {
   "cell_type": "markdown",
   "metadata": {
    "id": "m2s4BnIhhrk1"
   },
   "source": [
    "# The virbrational density of states\n",
    "\n",
    "We can get a spectrum showing the vibrational frequencies at a particular temperature by taking the\n",
    "Fourier transform of the autocorrelation function that you learned to calculate.  Some researchers have\n",
    "then used the vibrational density of states that emerges from such calculations to calculate heat capacities\n",
    "in the way that is similar that I showed you for calculating the heat capacity from the eigenvalues of the Hessian.\n",
    "\n",
    "Calculating the autocorrelation function directly in the way that I showed you in the last exercise hopefully helped you to\n",
    "understand what this function measures. Researchers typically avoid using this method, however, as it is computationally\n",
    "expensive and there is a faster way to get the Fourier Transform of the velocity autocorrelation function that uses the\n",
    "convolution theorem.  In the following video, I thus explain this method for getting the fourier transform of the autocorrelation function (if you ever want the autocorrelation function again you can get this by taking the inverse fourier transform of the function that emerges from the method that I explain in the video.)\n",
    "\n",
    "If you have forgotten what Fourier Series and Fourier Transforms are you can read recaps of the theory of Fourier Series [here](https://brilliant.org/wiki/fourier-series/) and information on Fourier Transforms [here](https://brilliant.org/wiki/discrete-fourier-transform/)."
   ]
  },
  {
   "cell_type": "code",
   "execution_count": 4,
   "metadata": {},
   "outputs": [
    {
     "data": {
      "text/html": [
       "<iframe width=\"560\" height=\"315\" src=\"https://www.youtube.com/embed/p2ycReoDyOo?si=qJXtAGrWAjSuz0sM\" title=\"YouTube video player\" frameborder=\"0\" allow=\"accelerometer; autoplay; clipboard-write; encrypted-media; gyroscope; picture-in-picture; web-share\" referrerpolicy=\"strict-origin-when-cross-origin\" allowfullscreen></iframe>\n"
      ],
      "text/plain": [
       "<IPython.core.display.HTML object>"
      ]
     },
     "metadata": {},
     "output_type": "display_data"
    }
   ],
   "source": [
    "%%HTML\n",
    "<iframe width=\"560\" height=\"315\" src=\"https://www.youtube.com/embed/p2ycReoDyOo?si=qJXtAGrWAjSuz0sM\" title=\"YouTube video player\" frameborder=\"0\" allow=\"accelerometer; autoplay; clipboard-write; encrypted-media; gyroscope; picture-in-picture; web-share\" referrerpolicy=\"strict-origin-when-cross-origin\" allowfullscreen></iframe>"
   ]
  },
  {
   "cell_type": "markdown",
   "metadata": {},
   "source": [
    "Let's now see if we can apply the ideas intorduced in the video to the trajectory that is contained in the variable called `ftraj`.  \n",
    "\n",
    "Your\n",
    "first task in calculating the vibrational density of states is to transfer the velocity data in this trajectory into a\n",
    "matrix that I will call `vtraj` in what follows.  The matrix should have 3N rows, where N is the number of atoms, and M columns,\n",
    "where M is the number of frames in the trajectory.  The ith column in your matrix should contain the instantaneous velocities that all\n",
    "N atoms in the system had during at the start of the the ith frame in the trajectory.\n",
    "\n",
    "Once you have you set all the elements of the matrix you can calculate the spectrum using the following commands:\n",
    "\n",
    "```python\n",
    "fftraj = np.fft.rfft(vtraj,axis=1)\n",
    "fdos = np.mean(fftraj*np.conjugate(fftraj),axis=0) / len(ftraj)\n",
    "```\n",
    "\n",
    "There is already code in in the following cell to plot the spectrum for you.  Notice that I have used the function `np.fft.rfftfreq` to generate the\n",
    "set of frequencies where I have estimates for the spectrum."
   ]
  },
  {
   "cell_type": "code",
   "execution_count": null,
   "metadata": {
    "id": "oX0TKKM7muYe"
   },
   "outputs": [],
   "source": [
    "# Your code to calculate the vibrational density of states goes here\n",
    "\n",
    "\n",
    "\n",
    "# This command generates the xvalues at which your frequencies should be plotted here.\n",
    "# d here is set equal to the time between adjacent frames in the trajectory\n",
    "freqvals = np.fft.rfftfreq( len(ftraj), d=0.005 )\n",
    "# This will generate the graph showing the vibrational density of states for you.\n",
    "plt.plot( freqvals, fdos, 'k-' )\n",
    "plt.xlabel('frequency / arbitrary units')\n",
    "plt.ylabel('vibrational density of states')\n",
    "plt.show()\n",
    "# This code is required for the Automated feedback, don't delete it!\n",
    "fighand = plt.gca()"
   ]
  },
  {
   "cell_type": "code",
   "execution_count": null,
   "metadata": {
    "id": "XrIuCzGpQoaB"
   },
   "outputs": [],
   "source": [
    "runtest(['test_heat_capcity2'])"
   ]
  }
 ],
 "metadata": {
  "colab": {
   "cell_execution_strategy": "setup",
   "collapsed_sections": [
    "NVOkK4hCU7RK"
   ],
   "private_outputs": true,
   "provenance": []
  },
  "kernelspec": {
   "display_name": "Python 3 (ipykernel)",
   "language": "python",
   "name": "python3"
  },
  "language_info": {
   "codemirror_mode": {
    "name": "ipython",
    "version": 3
   },
   "file_extension": ".py",
   "mimetype": "text/x-python",
   "name": "python",
   "nbconvert_exporter": "python",
   "pygments_lexer": "ipython3",
   "version": "3.9.19"
  }
 },
 "nbformat": 4,
 "nbformat_minor": 1
}
