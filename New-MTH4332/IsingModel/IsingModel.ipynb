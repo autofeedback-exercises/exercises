{
 "cells": [
  {
   "cell_type": "markdown",
   "metadata": {
    "id": "NVOkK4hCU7RK"
   },
   "source": [
    "# Run this cell first"
   ]
  },
  {
   "cell_type": "code",
   "execution_count": null,
   "metadata": {
    "id": "QCMw-lybOsz-"
   },
   "outputs": [],
   "source": [
    "# this code enables the automated feedback. If you remove this, you won't get any feedback\n",
    "# so don't delete this cell!\n",
    "try:\n",
    "  import AutoFeedback\n",
    "except (ModuleNotFoundError, ImportError):\n",
    "  !pip install AutoFeedback\n",
    "  import AutoFeedback\n",
    "\n",
    "try:\n",
    "  from testsrc import test_main\n",
    "except (ModuleNotFoundError, ImportError):\n",
    "  !pip install \"git+https://github.com/autofeedback-exercises/exercises.git@main#subdirectory=New-MTH4332/IsingModel\"\n",
    "  from testsrc import test_main\n",
    "\n",
    "def runtest(tlist):\n",
    "  import unittest\n",
    "  from contextlib import redirect_stderr\n",
    "  from os import devnull\n",
    "  with redirect_stderr(open(devnull, 'w')):\n",
    "    suite = unittest.TestSuite()\n",
    "    for tname in tlist:\n",
    "      suite.addTest(eval(f\"test_main.UnitTests.{tname}\"))\n",
    "    runner = unittest.TextTestRunner()\n",
    "    try:\n",
    "      runner.run(suite)\n",
    "    except AssertionError:\n",
    "      pass\n"
   ]
  },
  {
   "cell_type": "markdown",
   "metadata": {},
   "source": [
    "# The 2D Ising Model\n",
    "\n",
    "In the example report I used Monte Carlo simulation to investigate the properties of the 2D Ising model.  The following exercises will help you to reproduce the calculations that I performed.  As always you should start these exercises by running the following cell which loads some python libraries we will use in the remaining exercises."
   ]
  },
  {
   "cell_type": "code",
   "execution_count": null,
   "metadata": {},
   "outputs": [],
   "source": [
    "import matplotlib.pyplot as plt\n",
    "import numpy as np\n",
    "import scipy.stats"
   ]
  },
  {
   "cell_type": "markdown",
   "metadata": {},
   "source": [
    "You should then watch the following video, which explains how we can construct a representation for the state of the Ising model using a 2D NumPy array. "
   ]
  },
  {
   "cell_type": "code",
   "execution_count": 1,
   "metadata": {},
   "outputs": [
    {
     "data": {
      "text/html": [
       "<iframe width=\"560\" height=\"315\" src=\"https://www.youtube.com/embed/hXqYslTwYKU?si=ZKV1w5FRd5XrncNO\" title=\"YouTube video player\" frameborder=\"0\" allow=\"accelerometer; autoplay; clipboard-write; encrypted-media; gyroscope; picture-in-picture; web-share\" referrerpolicy=\"strict-origin-when-cross-origin\" allowfullscreen></iframe>\n"
      ],
      "text/plain": [
       "<IPython.core.display.HTML object>"
      ]
     },
     "metadata": {},
     "output_type": "display_data"
    }
   ],
   "source": [
    "%%HTML\n",
    "<iframe width=\"560\" height=\"315\" src=\"https://www.youtube.com/embed/hXqYslTwYKU?si=ZKV1w5FRd5XrncNO\" title=\"YouTube video player\" frameborder=\"0\" allow=\"accelerometer; autoplay; clipboard-write; encrypted-media; gyroscope; picture-in-picture; web-share\" referrerpolicy=\"strict-origin-when-cross-origin\" allowfullscreen></iframe>"
   ]
  },
  {
   "cell_type": "markdown",
   "metadata": {
    "id": "Nt928KbHjo7V"
   },
   "source": [
    "# Generating a microstate\n",
    "\n",
    "As the video explained, the 2D Ising model can be used to describe interacting spins on a two-dimensional square lattice. Each spin can be in one of two states, up (+1) or down (-1) so we can thus represent\n",
    "the microstate using a 2D NumPy array with elements that are either 1 or -1.\n",
    "\n",
    "We can create a 2D NumPy array full of zeros with 5 rows and 5 columns using the command:\n",
    "\n",
    "```python\n",
    "myarray = np.zeros([5,5])\n",
    "```\n",
    "\n",
    "To assign value to element (i,j) of this array you use the command:\n",
    "\n",
    "```python\n",
    "myarray[i,j] = 1\n",
    "```\n",
    "\n",
    "and to loop over all the elements of the array you can use a double loop like this:\n",
    "\n",
    "```python\n",
    "for i in range(5) :\n",
    "    for j in range(5) : print( myarray[i,j] )\n",
    "```\n",
    "\n",
    "(This double loops prints all the elements in the array)\n",
    "\n",
    "Your task in this exercise is to write a function called `getstate` that takes one argument `N`.  Your function should return an array that contains a randomly selected microstate for a 2D Ising model\n",
    "composed of (N X N) spins.  You should generate your state so that approximately half of the spins will be in the up (+1) state and half should be in the down (-1) state.  Your function should not return\n",
    "the same state every time it is called, however.  There should be some randomness in the way the spins are assigned.\n"
   ]
  },
  {
   "cell_type": "code",
   "execution_count": null,
   "metadata": {
    "id": "khBhxSz8UmKk"
   },
   "outputs": [],
   "source": [
    "def getstate(N) :\n",
    "    # Your code for generating the random microstate goes here\n",
    "\n",
    "\n",
    "# You don't need to adjust this code.  It is just here\n",
    "# so you can look at what your function is generating.\n",
    "# This will generate a state for a 4x4 lattice of spins\n",
    "print( 'Random 4x4 state', getstate(4) )\n",
    "# This will generate a state for a 5x4 lattice of spins\n",
    "print( 'Random 5x5 state', getstate(5) )\n"
   ]
  },
  {
   "cell_type": "code",
   "execution_count": null,
   "metadata": {
    "id": "tYBjYIuUhTA4"
   },
   "outputs": [],
   "source": [
    "runtest(['test_estimate'])"
   ]
  },
  {
   "cell_type": "markdown",
   "metadata": {
    "id": "QqCqtlyczBW6"
   },
   "source": [
    "# Flipping a randomly selected spin\n",
    "\n",
    "The Monte Carlo algorithm that we are going to implement works by making random moves to new microstates of the system. In this exercise we are thus\n",
    "going to write code to generate a new microtates.\n",
    "\n",
    "To complete this exercise you need to write four functions.\n",
    "\n",
    "The first of these functions is called `flipSpin` and takes three arguments.  The first of these arguments `spins` is a 2D\n",
    "NumPy array that contains the current microstate.  The second and third arguments `i` and `j` are then the indices of the indices for the spin\n",
    "coordinate that should be flipped.  The first of these indices is the first index of the coordinate that should be flipped and the second is the second.\n",
    "This function should return a NumPy array that contains the microstate with the flipped coordinate.\n",
    "\n",
    "The second of these functions is called `flipAllSpins`.  This function takes a single argument called `spins`, which is a 2D\n",
    "NumPy array that contains the current microstate.  The function should return a new microstate in which every spin has flipped direction.\n",
    "\n",
    "The third of these function is called `chooseMove`.  This function randomly selects what type of move to perform.  It takes a single argument, `spins`, in input, which\n",
    "is a 2D NumPy array that contains the current microstate.  This function should return a Bernoulli random variable with:\n",
    "\n",
    "$$\n",
    "p = \\frac{1}{1+N^2}\n",
    "$$\n",
    "\n",
    "Where $N^2$ is the number of spins in the lattice.   If this random variable is one it tells your Monte Carlo to generate a new structure by flipping all the spins.\n",
    "\n",
    "The final function you need to write is called `chooseSpin`.  This function chooses a spin to flip.  It again takes a single argument, called `spins`, in input, which\n",
    "is a 2D NumPy array that contains the current microstate.  It should return two numbers that specify a particular spin to flip.\n",
    "\n",
    "N.B. When you come to writing your Monte Carlo code you will combine all these functions into a single function for generating moves. Your code will:\n",
    "\n",
    "1. Use functionality like that in `chooseMove` to generate a Bernoulli random variable X that determines whether you flip a single spin or all the spins.\n",
    "\n",
    "2. If X=1 then you call `flipAllSpins` to flip all the spins and you are done.\n",
    "\n",
    "4. If X=0 then you call `chooseSpin` to select the spin to flip and then pass the set of coordinates output to `flipSpin` to generate the new microstate.\n",
    "\n",
    "I have only asked you to write these functiosn separately here so that I can more easily write tests to ensure that all the parts of your implementation are correct.\n"
   ]
  },
  {
   "cell_type": "code",
   "execution_count": null,
   "metadata": {
    "id": "mKsj894MdT4U"
   },
   "outputs": [],
   "source": [
    "def flipSpin( spins, i, j ) :\n",
    "    # Your code to flip the spin in the (i,j) position of the lattice goes here\n",
    "\n",
    "\n",
    "def flipAllSpins( spins ) :\n",
    "    # Your code to flip all the spins goes here\n",
    "\n",
    "\n",
    "def chooseMove( spins ) :\n",
    "    # Your code to choose whether to flip all or one of the spins goes here\n",
    "\n",
    "\n",
    "def chooseSpin( spins ) :\n",
    "    # Your code to choose a particular spin to flip goes here\n",
    "\n",
    "\n",
    "# You may want to add code here to test your functions\n"
   ]
  },
  {
   "cell_type": "code",
   "execution_count": null,
   "metadata": {
    "id": "XZJDs9rTJKEp"
   },
   "outputs": [],
   "source": [
    "runtest(['test_flipSpin', 'test_flipAllSpins', 'test_chooseMove', 'test_chooseSpin'])"
   ]
  },
  {
   "cell_type": "markdown",
   "metadata": {
    "id": "0xHpX3bUZp5l"
   },
   "source": [
    "# Calculating the magnetisation\n",
    "\n",
    "The average magnetisation per spin for a particular configuration is calculated as:\n",
    "\n",
    "$$\n",
    "M = \\frac{!}{N} \\sum_{i=1}^N s_i\n",
    "$$\n",
    "\n",
    "where the sum runs over all of the $N$ spins in the lattice and the $s_i$ values are the spin coordinates.  Your task for this exercise is to complete\n",
    "the function called `magnetisation` and to write a function that takes a 2D NumPy array, `spins`, that contains the spin coordinate for a\n",
    "microstate of the system and that returns the magnetisation calculated using the formula above.\n"
   ]
  },
  {
   "cell_type": "code",
   "execution_count": null,
   "metadata": {
    "id": "lSGQVByrcuCh"
   },
   "outputs": [],
   "source": [
    "def magnetisation( spins ) :\n",
    "    # Your code for calculating the magnetistation goes here\n",
    "\n",
    "\n",
    "# The rest of this code is just to check if you code is doing something sensible\n",
    "spins = np.ones([10,10])\n",
    "print('The magneitation of the all up state is', magnetisation( spins ) )\n",
    "spins = -1*spins\n",
    "print('The magneitation of the all down state is', magnetisation( spins ) )\n"
   ]
  },
  {
   "cell_type": "code",
   "execution_count": null,
   "metadata": {
    "id": "2RSQt1ssy4A2"
   },
   "outputs": [],
   "source": [
    "runtest(['test_mag'])"
   ]
  },
  {
   "cell_type": "markdown",
   "metadata": {
    "id": "BAb7c7PqXe6P"
   },
   "source": [
    "# Hamiltonian for non-interacting spins\n",
    "\n",
    "In order to do Monte Carlo we are going to need a Hamiltonian to calculate the energy of the microstates.\n",
    "In these next three exercies we are thus going to write functions that describe Hamiltonians that become\n",
    "progressively more and more complicated.  Before you do those exercises watch the following video that will introduce you to the various Hamiltonians we will be using here.\n",
    "\n",
    "If you want to read more about the Ising model you can a basic introduction [here](https://en.wikipedia.org/wiki/Square_lattice_Ising_model) and a more complicated introduction [here](https://www.thphys.uni-heidelberg.de/~wolschin/statsem20_3s.pdf)"
   ]
  },
  {
   "cell_type": "code",
   "execution_count": 2,
   "metadata": {},
   "outputs": [
    {
     "data": {
      "text/html": [
       "<iframe width=\"560\" height=\"315\" src=\"https://www.youtube.com/embed/6W881fbHGlU?si=m49Y39GiHj3IFXUN\" title=\"YouTube video player\" frameborder=\"0\" allow=\"accelerometer; autoplay; clipboard-write; encrypted-media; gyroscope; picture-in-picture; web-share\" referrerpolicy=\"strict-origin-when-cross-origin\" allowfullscreen></iframe>\n"
      ],
      "text/plain": [
       "<IPython.core.display.HTML object>"
      ]
     },
     "metadata": {},
     "output_type": "display_data"
    }
   ],
   "source": [
    "%%HTML\n",
    "<iframe width=\"560\" height=\"315\" src=\"https://www.youtube.com/embed/6W881fbHGlU?si=m49Y39GiHj3IFXUN\" title=\"YouTube video player\" frameborder=\"0\" allow=\"accelerometer; autoplay; clipboard-write; encrypted-media; gyroscope; picture-in-picture; web-share\" referrerpolicy=\"strict-origin-when-cross-origin\" allowfullscreen></iframe>"
   ]
  },
  {
   "cell_type": "markdown",
   "metadata": {},
   "source": [
    "The first simple Hamiltonian that you are compute gives the energy as:\n",
    "\n",
    "$$\n",
    "E = - H \\sum_{i=1}^N s_i\n",
    "$$\n",
    "\n",
    "Where $H$ is the magnetic field strength, the sum runs over the $N$ spins in the system and $s_i$ is the spin of the $i$th particle.  You will notice that this is the Hamiltonian for a set of non-interacting spins that you studied for the first of the assignments in this module.  If the spins are not interacting, the way they are\n",
    "arranged is not particularly important so the 2D model of the spins is equivalent to the 1D model we have studied before.\n",
    "\n",
    "To complete this exercise you need to write a function called `hamiltonian` that returns the energy calculated using\n",
    "the formula above.  This function takes two arguments:\n",
    "\n",
    "* `spins` is a 2D NumPy array that contains the microscopic coordinates of all the spins.\n",
    "* `H` is the magnetic field strength."
   ]
  },
  {
   "cell_type": "code",
   "execution_count": null,
   "metadata": {
    "id": "bvkN-KGz0Mpm"
   },
   "outputs": [],
   "source": [
    "def hamiltonian( spins, H ) :\n",
    "    # Your code for calculating the hamiltonian described in the instruction goes here\n",
    "\n",
    "\n",
    "# The rest of this code is just to check if you code is doing something sensible\n",
    "spins = np.ones([10,10])\n",
    "print('The energy of the all up state is', hamiltonian( spins, -1 ) )\n",
    "print('The energy of the all up state is', hamiltonian( spins, +1 ) )\n",
    "spins = -1*spins\n",
    "print('The energy of the all down state is', hamiltonian( spins, -1 ) )\n",
    "print('The energy of the all down state is', hamiltonian( spins, +1 ) )\n"
   ]
  },
  {
   "cell_type": "code",
   "execution_count": null,
   "metadata": {
    "id": "cJ-8zm78dwOK"
   },
   "outputs": [],
   "source": [
    "runtest(['test_hamiltonian1'])"
   ]
  },
  {
   "cell_type": "markdown",
   "metadata": {
    "id": "Ej-y1v8r5S0A"
   },
   "source": [
    "# Hamiltonian for interacting spins\n",
    "\n",
    "Having revised the Hamiltonian for a set of non-interacting spins lets get on to something more interesting and\n",
    "write a function that calculate a Hamiltonian that describes the interaction between spins.  We are going to use the following Hamiltonian here:\n",
    "\n",
    "$$\n",
    "E = - \\sum_{\\langle j,j \\rangle} s_i s_j\n",
    "$$\n",
    "\n",
    "Here the sum runs over all pairs of spins that are adjacent in this lattice and $s_i$ and $s_j$ are spins coordinates.  The following diagram does a better job of describing how the spins in our system interact that the equation.\n",
    "\n",
    "![](https://raw.githubusercontent.com/autofeedback-exercises/exercises/main/New-MTH4332/IsingModel/spindiagram.png)\n",
    "\n",
    "You can see that each spin indicates with its four nearest neighour.  So the blue spin in the center of the diagram below interacts with the four spins that are shown in red.  You can implement this Hamiltonian by doing a sum over all the spins in the lattice.  Each spin should be multiplied by the spins of the four atoms that are adjacent to it in the lattice.  The whole sum then needs be divided by two to account for the double counting.\n",
    "\n",
    "To complete this exercise you need to write a function called `hamiltonian` that returns the energy calculated using the formula above.  This function takes a single argument called `spins`.  This argument is a 2D NumPy array that contains the microscopic coordinates of all the spins.\n"
   ]
  },
  {
   "cell_type": "code",
   "execution_count": null,
   "metadata": {
    "id": "QYp-VY28kxXT"
   },
   "outputs": [],
   "source": [
    "def hamiltonian( spins ) :\n",
    "    # Your code for calculating the hamiltonian described in the instruction goes here\n",
    "\n",
    "\n",
    "# The rest of this code is just to check if you code is doing something sensible\n",
    "spins = np.ones([10,10])\n",
    "print('The energy of the all up state is', hamiltonian( spins ) )\n",
    "spins = -1*spins\n",
    "print('The energy of the all down state is', hamiltonian( spins ) )"
   ]
  },
  {
   "cell_type": "code",
   "execution_count": null,
   "metadata": {
    "id": "eXJ0i0NVCF8R"
   },
   "outputs": [],
   "source": [
    "runtest(['test_hamiltonian2'])"
   ]
  },
  {
   "cell_type": "markdown",
   "metadata": {
    "id": "rAxOoYTHUotf"
   },
   "source": [
    "# The full Hamiltonian\n",
    "\n",
    "Lets now combine what we learned in the last two exercises and implement the full Hamiltonian for the 2D Ising model that is given by the equation below:\n",
    "\n",
    "$$\n",
    "E = - H \\sum_i s_i - \\sum_{\\langle j,j \\rangle} s_i s_j\n",
    "$$\n",
    "\n",
    "This is the combination of the interaction with the spins with the magnetic field with strength H and the interactions between the pairs of adjacent spins that we saw in the\n",
    "previous exercise.\n",
    "\n",
    "So as with the two previous exercicses, to complete this exercise you need to write a function called `hamiltonian` that returns the energy calculated using\n",
    "the formula above.  This function takes two arguments:\n",
    "\n",
    "* `spins` is a 2D NumPy array that contains the microscopic coordinates of all the spins.\n",
    "* `H` is the magnetic field strength.\n",
    "\n"
   ]
  },
  {
   "cell_type": "code",
   "execution_count": null,
   "metadata": {
    "id": "gp4alPTzZswr"
   },
   "outputs": [],
   "source": [
    "def hamiltonian( spins, H ) :\n",
    "    # Your code for calculating the hamiltonian described in the instruction goes here\n",
    "\n",
    "\n",
    "# The rest of this code is just to check if you code is doing something sensible\n",
    "spins = np.ones([10,10])\n",
    "print('The energy of the all up state is', hamiltonian( spins, -1 ) )\n",
    "print('The energy of the all up state is', hamiltonian( spins, +1 ) )\n",
    "spins = -1*spins\n",
    "print('The energy of the all down state is', hamiltonian( spins, -1 ) )\n",
    "print('The energy of the all down state is', hamiltonian( spins, +1 ) )\n"
   ]
  },
  {
   "cell_type": "code",
   "execution_count": null,
   "metadata": {
    "id": "ZiVLVXGFJm6w"
   },
   "outputs": [],
   "source": [
    "runtest(['test_hamiltonian3'])"
   ]
  },
  {
   "cell_type": "markdown",
   "metadata": {
    "id": "0Vyr4iTw56iK"
   },
   "source": [
    "# Running Monte Carlo\n",
    "\n",
    "The next few exercises are going to explain how to write a Monte Carlo code for simulating the Ising model.  However, before you attempt the exercises, it is worth watching the following video, which gives a brief introduction to the Metropolis Monte Carlo algorithm that we will be using here.\n",
    "\n",
    "_N.B. When this video talks about moving one of the atoms a small amount you instead use the tricks we have developed above to generate new mirostates for your system of Ising spins._"
   ]
  },
  {
   "cell_type": "code",
   "execution_count": 3,
   "metadata": {},
   "outputs": [
    {
     "data": {
      "text/html": [
       "<iframe width=\"560\" height=\"315\" src=\"https://www.youtube.com/embed/gZQ3AUbjJJc?si=_IZSBGqw-6cUEsI4\" title=\"YouTube video player\" frameborder=\"0\" allow=\"accelerometer; autoplay; clipboard-write; encrypted-media; gyroscope; picture-in-picture; web-share\" referrerpolicy=\"strict-origin-when-cross-origin\" allowfullscreen></iframe>\n"
      ],
      "text/plain": [
       "<IPython.core.display.HTML object>"
      ]
     },
     "metadata": {},
     "output_type": "display_data"
    }
   ],
   "source": [
    "%%HTML\n",
    "<iframe width=\"560\" height=\"315\" src=\"https://www.youtube.com/embed/gZQ3AUbjJJc?si=_IZSBGqw-6cUEsI4\" title=\"YouTube video player\" frameborder=\"0\" allow=\"accelerometer; autoplay; clipboard-write; encrypted-media; gyroscope; picture-in-picture; web-share\" referrerpolicy=\"strict-origin-when-cross-origin\" allowfullscreen></iframe>"
   ]
  },
  {
   "cell_type": "markdown",
   "metadata": {},
   "source": [
    "Before we try to implement a Monte Carlo code for simulating the Ising model we are going to first write a program to sample one of the 1D energy landscapes that you investigated\n",
    "using MD in the last batch of this exercises with the Monte Carlo algorithm that was discussed in the video.  With that in mind, I have written a function called Hamiltonian in the following cell.  This function takes the position of the particle and returns the energy.  As you can see the energy in this case is just a harmonic potential.\n",
    "\n",
    "You are going to write code that generates a graph that shows the series of $x$ values that are sampled by the Monte Carlo trajectory.  I will then test that you have implemented Monte Carlo correctly by determining if the series of random variables is sampling from the correct distribution.  I have started the process\n",
    "of writing this code for you by setting the inital position of the particle equal in the variable `pos`.  You will also see that I have set the variable `oldenergy` equal to the energy that the system has when the particle is at `pos`.\n",
    "\n",
    "I have then written a loop that will generate `nsamples` random variables using Monte Carlo and created NumPy arrays called `xvals` and `yvals` that will be plotted\n",
    "using Matplotlib.  __Your task is to fill in the code in this loop so that the array yval contains the frames that are generated by your Monte Carlo simulation.__\n",
    "\n",
    "The steps that need to be completed in the loop (and which you must code) are as follows:\n",
    "\n",
    "1. You need to generate a new particle position `newpos`.  To generate this new position you a uniform continuous random variable, `U`, that is between -`maxshift` and +`maxshift and add it to `pos`.  You thus generate a new position by moving `pos` either left or right by a small (random) ammount.\n",
    "\n",
    "2. You calculate the energy at the new position `newpos` by calling the function `hamiltonian`.  Save this new energy to a variable called `newenergy`\n",
    "\n",
    "3. If `newenergy` is less or equal to `oldenergy` then you __accept__ the move.  You thus set `pos=newpos` and `oldenergy=newenergy`\n",
    "\n",
    "4. If `newenergy` is greater than `oldenergy` then you calculate the following ratio:\n",
    "\n",
    "$$\n",
    "\\tau = \\frac{e^{-\\beta E_2} }{ e^{-\\beta E_1} }\n",
    "$$\n",
    "\n",
    "where $E_2$ is `newenergy` and $E_1$ is `oldenergy` and $\\beta = \\frac{1}{k_B T}$. The variable `temp` contains the value of $k_B T$ that I will assume you have used in your code when I test it.\n",
    "\n",
    "5. You then generate a second uniform random variable between 0 and 1, `Ua`, if `Ua` is less than the ratio you calculated in step 4 (r) then you accept the move and set `pos=newpos` and `oldenergy=newenergy`.  If it is greater then the move is rejected and no changes are made to the values of `pos` or `oldenergy`.\n",
    "\n",
    "This 5 step process will then be repeated multiple times because it is in a loop.  The graph that is plotted will thus show the position the particle took in the accepted moves.  Whenever a move is not accepted you will see two consecutive points that have the same y-value."
   ]
  },
  {
   "cell_type": "code",
   "execution_count": null,
   "metadata": {
    "id": "J5LVi2V1rscx"
   },
   "outputs": [],
   "source": [
    "def hamiltonian(x) :\n",
    "    return x*x / 2\n",
    "\n",
    "# Set the initial position of the particle, the number of frames,\n",
    "# the maximum value to shift the position by and the temperature\n",
    "pos, nframes, maxshift, temp = 0.0, 1000, 1.0, 1.0\n",
    "# Calculate the energy at the start of the simulation\n",
    "oldenergy = hamiltonian(pos)\n",
    "# Set up some NumPy arrays to hold data\n",
    "xvals, yvals = np.linspace(1,nframes,nframes), np.zeros(nframes)\n",
    "for i in range(nframes) :\n",
    "    # Your code to generate random move goes here\n",
    "\n",
    "    # Your code for the accept reject criteria should go here\n",
    "\n",
    "    # You need to store the 'time series' of energies in yval to pass the test\n",
    "    yvals[i] = pos\n",
    "\n",
    "# This generates the graph\n",
    "plt.plot( xvals, yvals, 'ko' )\n",
    "plt.xlabel('index')\n",
    "plt.ylabel('particle position')\n",
    "plt.show() \n",
    "# This code is required for the Automated feedback, don't delete it!\n",
    "fighand = plt.gca()"
   ]
  },
  {
   "cell_type": "code",
   "execution_count": null,
   "metadata": {
    "id": "tmcCjArsVNbX"
   },
   "outputs": [],
   "source": [
    "runtest(['test_graph4'])"
   ]
  },
  {
   "cell_type": "markdown",
   "metadata": {
    "id": "FeTh2WMp-PwK"
   },
   "source": [
    "# Writing a fast Monte Carlo code for the Ising model\n",
    "\n",
    "You are now in a position to write a Monte Carlo for the 2D Ising model by combining what you have learned about evaluating the Ising model Hamiltonian\n",
    "and what you learned in the previous exercise about how Monte Carlo codes work.  In this code you will:\n",
    "\n",
    "1. Pick an initial state for the 2D Ising model by generating a 2D NumPy array filled elements that are either -1 or 1.  You will then evaluate the energy of that initial state by using what you learned about the Ising model Hamiltonian.\n",
    "\n",
    "2. You then write a loop to do the Monte Carlo sampling.  Each time you pass through the loop you generate a trial move by either (a) flipping one spin or (b) flipping all the spins.\n",
    "\n",
    "3. You then evaluate the energy of the new state that was generated by the trial move and use the accept criteria described in the last exercise to decide if the trial move should be accepted or rejected.\n",
    "\n",
    "The naive way of implementing the Monte Carlo code is to call the function to evaluate the full Hamiltonian each time you generate a trial move in step 2.  This method of implementing the exercise is not very sensible\n",
    "as it is computationally expensive.  However, this computational expense can be avoided with a little careful though about the Hamiltonian and our trial moves.  Remember that the Hamiltonian for the 2D Ising model is:\n",
    "\n",
    "$$\n",
    "E = - H \\sum_i s_i - \\sum_{\\langle j,j \\rangle} s_i s_j\n",
    "$$\n",
    "\n",
    "It is useful to express this energy as:\n",
    "\n",
    "$$\n",
    "E = - \\sum_{i=1}^N \\sum_{j=1}^N \\frac{s_{i,j}}{2} \\left( s_{i-1,j} + s_{i,j-1} + s_{i+1,j} + s_{i,j+1}\\right) - H \\sum_{i=1}^N \\sum_{j=1}^N s_{i,j}\n",
    "$$\n",
    "\n",
    "where the double sum ensures we run over all the lattice sites.  Notice that if all the spins are flipped the term in the above sum that describes the interaction does not change as the relative orientations of all pairs of spins\n",
    "in the system does not change.  The only thing that changes is the interaction with the magnetic field which changes sign.  If all the spins are flipped we can calculate the energy of the new state as follows:\n",
    "\n",
    "$$\n",
    "E_2 = E_1 + 2 H \\sum_{i=1}^N \\sum_{j=1}^N s_{i,j}\n",
    "$$\n",
    "\n",
    "where $E_1$ is the energy of the old state.  Notice, furthermore, that when you sum over all the spins you get the magnetiation, $M$.  We can thus obtain the new magnetisation, $M_2$, and the new energy, $E_2$, from the old magnetisation, $M_1$, and old energy, $E_1$ as follows:\n",
    "\n",
    "$$\n",
    "M_2 = -1 \\times M_1 \\qquad \\textrm{and} \\qquad E_2 = E_1 + 2 \\times M_1\n",
    "$$\n",
    "\n",
    "Similar tricks can be used to calculate the new energy and magnetisation when the spin on lattice site $(i,j)$ reverses direction as follows:\n",
    "\n",
    "$$\n",
    "M_2 = M_1 - 2s_{i,j} \\qquad \\textrm{and} \\qquad E_2 = E_1 + 2s_{i,j}\\left( s_{i-1,j} + s_{i,j-1} + s_{i+1,j} + s_{i,j+1} + H \\right) \n",
    "$$\n",
    "\n",
    "By using these tricks you avoid the computational expense associated with recalculating the full Hamiltonian every time you generate a trial move.\n",
    "\n",
    "__Your task in this exercise is to implement these tricks yourself and to revise the process of calculating the full Hamiltonian__  You must complete the following two functions:\n",
    "\n",
    "1. `hamiltonian` takes in two arguments `spins` and `H`.  `spins` is a 2D NumPy array that contains the coordinates of all the spins and `H` is the magnetic field strength.  Your function should evaluate and return the energy of the configuration that is passed using the first equation on this slide.  _This exercise should be revision as you did it as part of an earlier task_.\n",
    "\n",
    "2. `new_energy` takes in four arguments `spins`, `E`, `H` and `move`.  `spins` is a 2D NumPy array that contains the coordinates of N^2 Ising spins and `E` is the energy of the configuration in `spins`.  `H` is the magnetic field strength.  `move` is an integer that is greater than or equal to 0 and less than N^2 + 1.  If this integer is equal to N^2 your function should return the energy of a configuration in which all the spins point in the opposite direction to the one they point in `spins`.  For all other values of `move` you should determine a single spin to flip using the following piece of python code:\n",
    "\n",
    "```python\n",
    "# You will flip the coordinate with spins[i,j] with i and j calculated as follows\n",
    "N = spins.shape[1]\n",
    "i, j = int( np.floor( move / N ) ), move%N\n",
    "```\n",
    "\n",
    "You should return the energy of the configuration that has this particular spin flipped.\n",
    "\n",
    "Please use the tricks that I have described above to make your `new_energy` function fast.  You code will fail if you call `hamiltonian` from the function `new_energy`\n"
   ]
  },
  {
   "cell_type": "code",
   "execution_count": null,
   "metadata": {
    "id": "i5FwWtsP2F8m"
   },
   "outputs": [],
   "source": [
    "def hamiltonian( spins, H ) :\n",
    "    # Your code to calculate the energy of Ising model configuration in the\n",
    "    # the NumPy array spins goes here\n",
    "\n",
    "\n",
    "\n",
    "def new_energy( spins, E, H, move ) :\n",
    "    # Your code to calculate the energy of the configuration in spins after\n",
    "    # the move indicated using the variable move goes here\n",
    "\n",
    "\n",
    "\n",
    "# You might want to add some test code here to test your functions before\n",
    "# running the tests\n"
   ]
  },
  {
   "cell_type": "code",
   "execution_count": null,
   "metadata": {
    "id": "TKP18DV-FMgy"
   },
   "outputs": [],
   "source": [
    "runtest(['test_hamiltonian4', 'test_move'])"
   ]
  },
  {
   "cell_type": "markdown",
   "metadata": {
    "id": "z8dmb3nP62Ut"
   },
   "source": [
    "# Writing a Monte Carlo code\n",
    "\n",
    "You now have all the pieces that you need in order to write a Monte Carlo code to simulate the 2D Ising model.  In this exercise you are thus going\n",
    "put all the ideas you have learned together and you are going to write your own Monte Carlo code for simulating the 2D Ising model.\n",
    "\n",
    "I have written an outline for your code in the following cell, which you need to fill in. As part of this outline I have written a function called\n",
    "`monte_carlo` to perform Monte Carlo simulations.  At the bottom of the cell I have then used this function to run a short Monte Carlo simulation.\n",
    "Once you complete the function and run the code a graph will be generated that will show you the energies that were sampled during your Monte Carlo\n",
    "run.\n",
    "\n",
    "__Your task is to complete the function `monte_carlo`__.  This function takes the following 7 input arguments:\n",
    "\n",
    "* `N` - the number of production steps of Monte Carlo to perform.  Statistics are accumulated during the production phase of the run.\n",
    "\n",
    "* `equil` - the number of equilibration steps that should be performed before starting the production phase of the simulation.  All the states that are visited during this equilibration phase are discarded.  They are not used when accumulating any averages and statistics.\n",
    "\n",
    "* `stride` - the frequency that should be used for collecting statistics during the production phase of the calculation.  Averages and statistics are only updated every `stride` steps.  States visted on steps that are not a multiple of stride are discarded and not used when accumulating averages and statistics.\n",
    "\n",
    "* `L` - the size of the sysstem.  An LxL array of spins in simulated.\n",
    "\n",
    "* `H` - the magnetic field strength\n",
    "\n",
    "* `T` - the temperature\n",
    "\n",
    "* `seed` - the random number seed (see the footnote at the end of the instructions for further details).\n",
    "\n",
    "`monte_carlo` should return a NumPy array with `N/stride` elements.  As you can see from the outline, the elements of this array should be the energies of the states that have been visted during the Monte Carlo simulation.\n",
    "\n",
    "To complete the function you need to do the following tasks:\n",
    "\n",
    "1. Write code to calculate the energy of the initial configuration.  The initial configuration is set up in the NumPy array called `spins`.  To calculate the energy of this configuration you will need to use what you learned in the exercises on evaluating these spin hamiltonians.  The energy should be stored in a variable called `eng`.\n",
    "\n",
    "2. Write code to calculate the energy of the new state that is generated by the trial move.  You will notice that I generate a random integer `move`.  This variable determines the random move that should be performed.  If `move` is equal to `L*L` then the trial move involves flipping every spin.  If `move` is equal to any other value then the `spin[j,k]` is flipped.  You should set the variable `neweng` equal to the energy of the new configuration.  To complete this task you will need to use what you learned in the exercise that came just before this one.\n",
    "\n",
    "3. You need to decide whether or not to accept the trial move.  You need to complete the if statement that contains a call to the `min` function.  To complete this line of the code you will need to use what you learned in the first exercise on Monte Carlo that you completed.  The exercise where you used Monte Carlo to sample a harmonic potential.\n",
    "\n",
    "4. You need to update the `spins` array so that it contains the trial move when the trial move is accepted. If this updating of `spins` is not performed then we cannot determine the energy of the trial move when we start the new move on the next pass through the loop.\n",
    "\n",
    "Once you have added these four bits of code and run the program a graph will be generated that shows the energy that the system adopted over the course of the simulation.  You should see the energy settle down to a constant value and that it then fluctuates around that constant value over the course of the simulation.\n",
    "\n",
    "===\n",
    "\n",
    "## On random numbers\n",
    "\n",
    "The random numbers that computers generate are pseudo random. If you are running Monte Carlo calculations this is usually an annoyance as if you are not careful your results are affected by the fact that the series of\n",
    "moves that you performed is not really random.  However, when I was writing the code that tests your work this lack of randomness was enormously convnient.  Basically, I test that your Monte Carlo code works corrected by running the same\n",
    "Monte Carlo calculation you did using the exact same sequence of random numbers that you used in your implementation.  I am able to do this because I pass the variable `seed` to your function.  This variable is then passed to NumPy and is\n",
    "used to determine how the pseudo random variables it generates are determined.  When I run the Monte Carlo and when you run the Monte Carlo this variable `seed` takes the same value.  The random numbers we generate are thus the same.  The\n",
    "result you get from your code and the result that I get from my test code are thus identical.\n"
   ]
  },
  {
   "cell_type": "code",
   "execution_count": null,
   "metadata": {
    "id": "QE-UFpW9CStb"
   },
   "outputs": [],
   "source": [
    "def monte_carlo( N, equil, stride, L, H, T, seed ) :\n",
    "    # Set the seed to the value input\n",
    "    np.random.seed(seed)\n",
    "\n",
    "    # Generate the initial configuration\n",
    "    spins = np.ones([L,L])\n",
    "    for i in range(L) :\n",
    "        for j in range(L) :\n",
    "            if np.random.uniform(0,1)<0.5 : spins[i,j]=-1\n",
    "\n",
    "    # Calculate the energy of the initial configuration that you generated\n",
    "    eng = 0\n",
    "    # YOUR CODE TO CALCULATE THE INITIAL ENERGY OF THE CONFIGURATION GOES HERE\n",
    "\n",
    "    # Do the main Monte Carlo loop\n",
    "    neweng, energies = 0, np.zeros( int( np.floor(N / stride) ) )\n",
    "    for i in range(equil + N) :\n",
    "        # Generate the trial move\n",
    "        move = np.floor( (L*L+1)*np.random.uniform(0,1) )\n",
    "        if move==L*L :\n",
    "           # Your code to calculate the energy when all the spins are flipped goes here\n",
    "           neweng = eng\n",
    "        else :\n",
    "           # This is going to be flipping a single spin\n",
    "           j, k = int( np.floor( move / L ) ), move%L\n",
    "           # Your code to calculate the energy when a single spin flips goes here\n",
    "           neweng = eng\n",
    "\n",
    "        # Now decide whether or not to accept the move\n",
    "        # YOU NEED TO determine the two arguments to the min function in the if\n",
    "        # statement in the line below.\n",
    "        if np.random.uniform(0,1)<min( , ) :\n",
    "           # Set the energy to its new value\n",
    "           eng = neweng\n",
    "           # Update the spins array\n",
    "           if move==L*L :\n",
    "               # YOU NEED TO ADD CODE HERE\n",
    "           else :\n",
    "               # YOU NEED TO ADD CODE HERE\n",
    "\n",
    "\n",
    "        step = i-equil\n",
    "        if step>=0 and step%stride==0 :\n",
    "            energies[int(step/stride)] = eng\n",
    "\n",
    "    return energies\n",
    "\n",
    "\n",
    "# This is the part of the code that allows you to visualise the series of\n",
    "# energies your Monte Carlo function generates.  You do not need to modify\n",
    "# anything from here onwards.  You can modify this code though.\n",
    "energies = monte_carlo( 1000, 0, 10, 20, 0, 1.0, 319 )\n",
    "plt.plot( energies, 'ko' )\n",
    "plt.xlabel('index')\n",
    "plt.ylabel('energy')\n",
    "plt.show() \n",
    "# This code is required for the Automated feedback, don't delete it!\n",
    "fighand = plt.gca()"
   ]
  },
  {
   "cell_type": "code",
   "execution_count": null,
   "metadata": {
    "id": "TEUpt2lXy9Db"
   },
   "outputs": [],
   "source": [
    "runtest(['test_MC1'])"
   ]
  },
  {
   "cell_type": "markdown",
   "metadata": {
    "id": "l5nslgNT81y8"
   },
   "source": [
    "# Estimating the magnetic susceptibility\n",
    "\n",
    "By completing the last exercise you demonstrate that you can sample states using the Metropolis Monte Carlo algorithm. To analyse the sequence of sampled states that this algorithm generates you can use the same tools that you used in the previous exercise to analyse molecular dynamics trajectories.  In other words, when you take averages over observables for the sampled states you get estimates of ensemble averages.  You can also use block averaging to obtain estimates of the error on these estimates.  In doing all this, however, you need\n",
    "to take care that you have equilibrated the system before you start collecting statistics.\n",
    "\n",
    "__In this exercise I want you to estimate a thermodynamic quantity by performing a Monte Carlo simulation__.  The quantity I want you to estimate is the\n",
    "susceptibility per atom:\n",
    "\n",
    "$$\n",
    "\\chi = \\frac{1}{L^2} \\frac{ \\langle M^2 \\rangle - \\langle M \\rangle^2}{k_B T}\n",
    "$$\n",
    "\n",
    "In this expression $\\langle M \\rangle$ is the ensemble average of the magnetisation:\n",
    "\n",
    "$$\n",
    "M = \\sum_{i=1}^L \\sum_{j=1}^L s_{i,j}\n",
    "$$\n",
    "\n",
    "where $s_{i,j}$ is the spin on site $i,j$ and the sum runs over all the $L^2$ lattice sites.  $\\langle M^2 \\rangle$ is the average of the squares of magnetisation.\n",
    "\n",
    "The calculation you are going to perform here is discussed in more detail in the following video.\n",
    "\n",
    "There are also some notes on this quantity that you can read [here](https://farside.ph.utexas.edu/teaching/329/lectures/node110.html)."
   ]
  },
  {
   "cell_type": "code",
   "execution_count": 4,
   "metadata": {},
   "outputs": [
    {
     "data": {
      "text/html": [
       "<iframe width=\"560\" height=\"315\" src=\"https://www.youtube.com/embed/KDY6WoALyh4?si=Jvr8gs_Y-lS0eHPH\" title=\"YouTube video player\" frameborder=\"0\" allow=\"accelerometer; autoplay; clipboard-write; encrypted-media; gyroscope; picture-in-picture; web-share\" referrerpolicy=\"strict-origin-when-cross-origin\" allowfullscreen></iframe>\n"
      ],
      "text/plain": [
       "<IPython.core.display.HTML object>"
      ]
     },
     "metadata": {},
     "output_type": "display_data"
    }
   ],
   "source": [
    "%%HTML \n",
    "<iframe width=\"560\" height=\"315\" src=\"https://www.youtube.com/embed/KDY6WoALyh4?si=Jvr8gs_Y-lS0eHPH\" title=\"YouTube video player\" frameborder=\"0\" allow=\"accelerometer; autoplay; clipboard-write; encrypted-media; gyroscope; picture-in-picture; web-share\" referrerpolicy=\"strict-origin-when-cross-origin\" allowfullscreen></iframe>"
   ]
  },
  {
   "cell_type": "markdown",
   "metadata": {},
   "source": [
    "I have written an outline code in following cell.  As in the last exercise I have written a function called `monte_carlo` that takes the following 7 input arguments:\n",
    "\n",
    "* `N` - the number of production steps of Monte Carlo to perform.  Statistics are accumulated during the production phase of the run.\n",
    "\n",
    "* `equil` - the number of equilibration steps that should be performed before starting the production phase of the simulation.  All the states that are visited during this equilibration phase are discarded.  They are not used when accumulating averages.\n",
    "\n",
    "* `stride` - the frequency that should be used for collecting statistics during the production phase of the calculation.  Averages are only updated every `stride` steps.  States visted on steps that are not a multiple of stride are discarded and not used when accumulating averages.\n",
    "\n",
    "* `L` - the size of the sysstem.  An LxL array of spins in simulated.\n",
    "\n",
    "* `H` - the magnetic field strength\n",
    "\n",
    "* `T` - the temperature\n",
    "\n",
    "* `seed` - the random number seed\n",
    "\n",
    "This function should return one scalar - your estimate for the suceptibility that is computed using the formula above.  To complete the code you will need to complete the following tasks:\n",
    "\n",
    "1.  Write code to calculate the energy and magnetisation of the initial configuration.  The initial configuration is set up in the NumPy array called `spins`.  To calculate the energy of this configuration you will need to use what you learned in the exercises on evaluating these spin hamiltonians.  The energy should be stored in a variable called `eng`.  You have also learned how to calculate the magnetisation in previous exercises.\n",
    "\n",
    "2. Write code to calculate the energy of the new state that is generated by the trial move.  You will notice that I generate a random integer `move`.  This variable determines the random move that should be performed.  If `move` is equal to `L*L` then the trial move involves flipping every spin.  If `move` is equal to any other value then the `spin[j,k]` is flipped.  You should set the variable `neweng` equal to the energy of the new configuration.  To complete this task you will need to use what you learned in the exercise that came just before the previous one.\n",
    "\n",
    "3. You need to decide whether or not to accept the trial move.  You need to complete the if statement that contains a call to the `min` function.  To complete this line of the code you will need to use what you learned in the first exercise on Monte Carlo that you completed.  The exercise where you used Monte Carlo to sample a harmonic potential.\n",
    "\n",
    "4. You need to update the `spins` array so that it contains the trial move when the trial move is accepted. If this updating of `spins` is not performed then we cannot determine the energy of the trial move when we start the new move on the next pass through the loop.  At this point you also need to determine the new value of the magnetisation.  Please note that you can quickly update the magnetisation from the old magnetisation in much the same way as you have learned to quickly recompute the energy.  You do not (and should not) sum all the elements of the `spins` array on every step\n",
    "\n",
    "5. You need to add code to accumulate the ensemble averages <M> and <M^2>.  I would use the variables `M` and `M2` to hold the numerators of these ensemble averages and `ns` to hold the denominator.  Please note that to pass the test you should only\n",
    "modify these varaibles after the first `equil` steps of Monte Carlo have been completed.  Furthermore, even when those first `equil` steps have been complted you should only be updating `M`, `M2` and `ns` every `stride` steps.\n",
    "\n",
    "6. At the end of the run you should calculate the suscetibility using the formula above and return this value.\n",
    "\n",
    "Once you have completed those four bits of code and the code is run the values of the suscebility for two distinct two temperatures will be output."
   ]
  },
  {
   "cell_type": "code",
   "execution_count": null,
   "metadata": {
    "id": "D8Ch7xO2s997"
   },
   "outputs": [],
   "source": [
    "def monte_carlo( N, equil, stride, L, H, T, seed ) :\n",
    "    # Set the seed to the value input\n",
    "    np.random.seed(seed)\n",
    "\n",
    "    # Generate the initial configuration\n",
    "    spins = np.ones([L,L])\n",
    "    for i in range(L) :\n",
    "        for j in range(L) :\n",
    "            if np.random.uniform(0,1)<0.5 : spins[i,j]=-1\n",
    "\n",
    "    # Calculate the energy of the initial configuration that you generated\n",
    "    # YOUR CODE TO CALCULATE THE INITIAL ENERGY AND THE INITIAL MAGNETISATION OF THE CONFIGURATION GOES HERE\n",
    "\n",
    "    # Do the main Monte Carlo loop\n",
    "    neweng, M, M2, ns = 0, 0, 0, 0\n",
    "    for i in range(equil + N) :\n",
    "        # Generate the trial move\n",
    "        move = np.floor( (L*L+1)*np.random.uniform(0,1) )\n",
    "        if move==L*L :\n",
    "           # Your code to calculate the energy when all the spins are flipped goes here\n",
    "           neweng = eng\n",
    "        else :\n",
    "           # This is going to be flipping a single spin\n",
    "           j, k = int( np.floor( move / L ) ), int( move%L )\n",
    "           # Your code to calculate the energy when a single spin flips goes here\n",
    "           neweng = eng\n",
    "\n",
    "        # Now decide whether or not to accept the move\n",
    "        if np.random.uniform(0,1)<min( , )  :\n",
    "           # Set the energy to its new value\n",
    "           eng = neweng\n",
    "           # Update the spins array\n",
    "           if move==L*L :\n",
    "               # YOU NEED TO ADD CODE HERE TO UPDATE THE SPINS AND THE MAGNETISATION\n",
    "           else :\n",
    "               # YOU NEED TO ADD CODE HERE TO UPDATE THE SPINS AND THE MAGNETISATION\n",
    "\n",
    "        # YOU NEED TO ADD CODE HERE TO ACCUMULATE YOUR ENSEMBLE AVERAGES\n",
    "\n",
    "    # YOU SHOULD CALCULATE THE SUSCETIBILITY FROM THE ENSEMBLE AVERAGES HERE\n",
    "    S = 0\n",
    "    return S\n",
    "\n",
    "# Lets look at the time series of energies from our Monte Carlo simulation\n",
    "print('The suceptibility at T=2 and H=0 is', monte_carlo( 10000, 1000, 10, 20, 0, 2, 319 ) )\n",
    "print('The suceptibility at T=5 and H=0 is', monte_carlo( 10000, 1000, 10, 20, 0, 5, 450 ) )\n"
   ]
  },
  {
   "cell_type": "code",
   "execution_count": null,
   "metadata": {
    "id": "4M9Yotxjs8Yi"
   },
   "outputs": [],
   "source": [
    "runtest(['test_MC2'])"
   ]
  },
  {
   "cell_type": "markdown",
   "metadata": {
    "id": "Oge7UnpYyzae"
   },
   "source": [
    "# Calculating a histogram\n",
    "\n",
    "By now you should be pretty comfortable using Monte Carlo to estimate ensemble averages.  You have seen that to estimate an ensemble average for an observable, A, you simply calculate\n",
    "the value of that observable for each microstate that was generated in your Monte Carlo simulation.  You then add all these observations together and divide by the number of observations.\n",
    "In other words, you calculate the mean for the sample.  Similarly, you have also seen how we can calculate the variance for a sampled observable and how these variances are related to response\n",
    "functions such as the heat capacity and susceptibility.\n",
    "\n",
    "For this last batch of exercises I have given some data that has been collected from an Monte Carlo simulation.  You can load this data by executing the command in the cell below. "
   ]
  },
  {
   "cell_type": "code",
   "execution_count": null,
   "metadata": {},
   "outputs": [],
   "source": [
    "# Read in the list of magnetisation values\n",
    "mags = np.loadtxt('https://raw.githubusercontent.com/autofeedback-exercises/exercises/main/New-MTH4332/IsingModel/magnetisations')"
   ]
  },
  {
   "cell_type": "markdown",
   "metadata": {},
   "source": [
    "We are going to use this data to estimate the distribution that an observable takes from a Monte Carlo simulation by taking a histogram. We are then going to learn how to calculate the free energy as a function of our observable and how we can report these free energy surfaces (together with suitable errors) in a paper.  The reason this is a useful thing to do is explained in the following video.\n",
    "\n",
    "You should really know how to calculate a histogram by now but if you need a refresher you can find some notes [here](https://www.notion.so/Histogram-2d2527795f0140008b318d3bc958ee4c) and a detailed tutorial that covers these ideas [here](https://www.plumed-tutorials.org/lessons/21/002/data/GAT_SAFE_README.html).  "
   ]
  },
  {
   "cell_type": "code",
   "execution_count": 5,
   "metadata": {},
   "outputs": [
    {
     "data": {
      "text/html": [
       "<iframe width=\"560\" height=\"315\" src=\"https://www.youtube.com/embed/-1NLaqOJKS0?si=x1cBoivYe2ZNNsv3\" title=\"YouTube video player\" frameborder=\"0\" allow=\"accelerometer; autoplay; clipboard-write; encrypted-media; gyroscope; picture-in-picture; web-share\" referrerpolicy=\"strict-origin-when-cross-origin\" allowfullscreen></iframe>\n"
      ],
      "text/plain": [
       "<IPython.core.display.HTML object>"
      ]
     },
     "metadata": {},
     "output_type": "display_data"
    }
   ],
   "source": [
    "%%HTML\n",
    "<iframe width=\"560\" height=\"315\" src=\"https://www.youtube.com/embed/-1NLaqOJKS0?si=x1cBoivYe2ZNNsv3\" title=\"YouTube video player\" frameborder=\"0\" allow=\"accelerometer; autoplay; clipboard-write; encrypted-media; gyroscope; picture-in-picture; web-share\" referrerpolicy=\"strict-origin-when-cross-origin\" allowfullscreen></iframe>"
   ]
  },
  {
   "cell_type": "markdown",
   "metadata": {},
   "source": [
    "When you executed the last python code cell before this markdown cell you created a NumPy array called `mags`.  This array contains the magnetisation values for each of the frames that were visited during a short Monte Carlo simulation of a $20 \\times 20$ 2D Lattice of Ising spins.  These magnetisations were calculated using:\n",
    "\n",
    "$$\n",
    "M = \\sum_i s_i\n",
    "$$\n",
    "\n",
    "where the sum runs over all the spins and the $s_i$ are the spin coordinates.  __Your task is to draw a histogram that gives an estimate of the probablity density as a function of the average magnetisation\n",
    "per spin__\n",
    "\n",
    "$$\n",
    "\\overline{M} = \\frac{M}{L^2} = \\frac{1}{L^2} \\sum_i s_i\n",
    "$$\n",
    "\n",
    "Your estimate for the probability density should be normalised so:\n",
    "\n",
    "$$\n",
    "\\int_{-\\infty}^\\infty P(\\overline{M})\\textrm{d}\\overline{M} = 1\n",
    "$$\n",
    "\n",
    "Furthermore, as the probability density is a continous function, when you draw your graph you should draw a graph with a continuous line showing the estimated distribution with the x-axis label 'average magnetisation per spin' and y-axis label 'probability density'.\n",
    "\n",
    "To estimate the probability density you should construct a histogram with `nbins` bins.  The first of these bins should start at `minx` and the last of them should end at `maxx`.  The estimate for the pdf that you get from each\n",
    "of the bins in your histogram should be plotted at the midpoint of the bin."
   ]
  },
  {
   "cell_type": "code",
   "execution_count": null,
   "metadata": {
    "id": "97cRlPeEmHop"
   },
   "outputs": [],
   "source": [
    "\n",
    "\n",
    "# This is the number of bins\n",
    "nbins = 50\n",
    "# This is the minimum and maximum for the grid\n",
    "minx, maxx = -1.1, 1.1\n",
    "# Your code to calculate and plot the histogram goes here\n",
    "\n",
    "\n",
    "\n",
    "\n",
    "# This code is required for the Automated feedback, don't delete it!\n",
    "fighand = plt.gca()"
   ]
  },
  {
   "cell_type": "code",
   "execution_count": null,
   "metadata": {
    "id": "4VNIGuS8Ordu"
   },
   "outputs": [],
   "source": [
    "runtest(['test_graph1'])"
   ]
  },
  {
   "cell_type": "markdown",
   "metadata": {
    "id": "e4ta4C487a5j"
   },
   "source": [
    "# Calculating the free energy\n",
    "\n",
    "If we are running a simulation in the canonical ensemble the probability density that we have just calculated is an estimate for the following integral.\n",
    "\n",
    "$$\n",
    "P(\\overline{M}) = \\frac{1}{Z} \\int_{-\\infty}^\\infty \\int_{-\\infty}^\\infty \\dots \\int_{-\\infty}^\\infty \\textrm{d}x_1 \\textrm{d}x_2 \\dots \\textrm{d}x_n \\delta(\\overline{M} - M(\\mathbf{x}))e^{-\\beta H(\\mathbf{x})} \n",
    "$$\n",
    "\n",
    "where:\n",
    "\n",
    "$$\n",
    "Z = \\int_{-\\infty}^\\infty \\int_{-\\infty}^\\infty \\dots \\int_{-\\infty}^\\infty \\textrm{d}x_1 \\textrm{d}x_2 \\dots \\textrm{d}x_n e^{-\\beta H(\\mathbf{x})} \n",
    "$$\n",
    "\n",
    "In this expression $\\delta$ is a Dirac delta function and the integral here runs over all of phase space. It is thus a multidimensional integral over\n",
    "multiple coordinates.  It is useful to introduce an energy F(M) of the single coordinate, M, that would have given rise to the distribution above as follows:\n",
    "\n",
    "$$\n",
    "P(\\overline{M}) = \\frac{1}{Z} e^{-\\beta F(\\overline{M})}\n",
    "$$\n",
    "\n",
    "Notice that in introducing this energy we have just used what we know about the canonical ensemble.  The $F(\\overline{M})$ that we have introduced here is a quantity known as the free energy.\n",
    "It can be estimated from the probability density that we obtained from our simulation using:\n",
    "\n",
    "$$\n",
    "F(\\overline{M}) \\propto -k_B T \\log\\left[ P(\\overline{M}) \\right]\n",
    "$$\n",
    "\n",
    "__Your task in this exercise is to estimate the free energy F(M) as a function of the magnetisation per spin__. You should use the data in the variable `mags` that we read in previously and analyzed in the previous exercise. You should also draw a graph with a continuous line showing the estimated free energy with the x-axis\n",
    "label 'average magnetisation per spin' and y-axis label 'free energy / natural units'.\n",
    "\n",
    "To estimate the free energy you should construct a histogram with `nbins` bins.  The first of these bins should start at `minx` and the last of them should end at `maxx`.  The estimate of the free energy that you get from each\n",
    "of the bins in your histogram should be plotted at the midpoint of the bin.  Please note that I ran the simulation at a temperature equivalent to kT=5.0.\n",
    "\n",
    "N.B.\n",
    "\n",
    "When you calculate the free energy from the probability density you will need to ensure that the probablity density is normalised to pass this exercise.  In other words, your estimate of the probablity density, $P(\\overline{M})$, should satisfy:\n",
    "\n",
    "$$\n",
    "\\int_{-\\infty}^\\infty P(\\overline{M})\\textrm{d}\\overline{M} = 1\n",
    "$$\n",
    "\n",
    "When calculating free energies this normalisation is not strictly necessary.  Notice that if we take the first equation in these instructions and insert it in the second equation we arrive at:\n",
    "\n",
    "$$\n",
    "F(\\overline{M}) = -k_B T \\log\\left( \\int_{-\\infty}^\\infty \\int_{-\\infty}^\\infty \\dots \\int_{-\\infty}^\\infty \\textrm{d}x_1 \\textrm{d}x_2 \\dots \\textrm{d}x_n \\delta(\\overline{M} - M(\\mathbf{x}))e^{-\\beta H(\\mathbf{x})} \\right) + k_B T \\log( Z )\n",
    "$$\n",
    "\n",
    "In other words, the normalisation constant here (which is equal to the partition function) only appears in an additive constant.  We could thus get the free energy from the unormalised histogram.\n",
    "\n",
    "The fact that the normalisation doesn't matter is important.  Noting this fact reminds us that whenever we quote energies (or free energies) we need to quote them relative to some reference structure.\n",
    "In other words, every time we give an energy (or free energy) of a state A we are actually giving the difference between the energy of state A and some other (reference) state B.  Your work is incomplete if\n",
    "you give an energy without specifying the state that has zero energy.\n"
   ]
  },
  {
   "cell_type": "code",
   "execution_count": null,
   "metadata": {
    "id": "Rswnh68WHT1t"
   },
   "outputs": [],
   "source": [
    "# This is the number of bins\n",
    "nbins = 50\n",
    "# This is the minimum and maximum for the grid\n",
    "minx, maxx = -1.1, 1.1\n",
    "# Your code to calculate and plot the free energy goes here\n",
    "\n",
    "\n",
    "\n",
    "\n",
    "# This code is required for the Automated feedback, don't delete it!\n",
    "fighand = plt.gca()"
   ]
  },
  {
   "cell_type": "code",
   "execution_count": null,
   "metadata": {
    "id": "K4IPEvxUzAf2"
   },
   "outputs": [],
   "source": [
    "runtest(['test_graph2'])"
   ]
  },
  {
   "cell_type": "markdown",
   "metadata": {
    "id": "LcS2DAsd9C76"
   },
   "source": [
    "# Error bars for free energy surfaces\n",
    "\n",
    "As you know any averages that we calculate from Monte Carlo simulations are estimates and must be reported with errors.  The same holds for these estimates\n",
    "of the free energy that we have just learned to calculate.  In this exercise I am going to show you how to calculate and report these errors.\n",
    "\n",
    "The first step in calculating the errors comes once you recognise that the fraction of counts in each of the bin in the histogram is an estimate of an ensemble average.  The observable we are calculating in this case is a funtion that is one when $\\overline{M}$ is between $a$ and $b$ and zero otherwise.  We can thus use the block averaging\n",
    "technique that should be familar by now to get multiple estimates for these ensemble averages.  In other words, we split up the trajectory into $N$ blocks.  We then calculate $N$ separate estimates of the histogram from these $N$ blocks of trajectory.  The final histogram and errors upon it that we report are then determined by computing averages and variances from these $N$ separate estimates.  To get the error for a $p_c$ confidence limit from the variance we use:\n",
    "\n",
    "$$\n",
    "\\epsilon_k = \\sqrt{\\frac{\\sigma_k^2}{N}} \\Phi^{-1}\\left( \\frac{p_c + 1}{2} \\right)\n",
    "$$\n",
    "\n",
    "where $\\sigma_k^2$ is the estimate for the variance, $N$ is the number of blocks and $\\Phi^{-1}$ is the inverse of the cumulative distribution function for a standard normal distribution.\n",
    "This last function can be calculated using:\n",
    "\n",
    "```python\n",
    "scipy.stats.norm.ppf( (pc+1)/2 )\n",
    "```\n",
    "\n",
    "Notice that when we calculate a histogram we are calculating $M$ ensemble averages in one shot, where $M$ is the number of bins we have used when calculating our histogram.  At the end of the process of calculating the histogram we will thus have $M$ averages, which we will call $p_k$, and $M$ error values, which we will call $e_k$.  As you know the free energy is obtained from the histogram using:\n",
    "\n",
    "$$\n",
    "f_k = -k_B T \\log p_k\n",
    "$$\n",
    "\n",
    "The error on the free energy is thus obtained as:\n",
    "\n",
    "$$\n",
    "e(f)_k = k_B T \\frac{e_k}{p_k}\n",
    "$$\n",
    "\n",
    "When I draw an estimate for a free energy surface in one of my papers I like the width of the line I draw to indicate the confidence limit on my estimate of the free energy surface.  I will\n",
    "thus use a command like this one:\n",
    "\n",
    "```python\n",
    "plt.fill_between( xv, f - e, f + e )\n",
    "```\n",
    "\n",
    "which generates the figure shown below:\n",
    "\n",
    "![](https://raw.githubusercontent.com/autofeedback-exercises/exercises/main/New-MTH4332/IsingModel/fillbetween_example.png)\n",
    "\n",
    "In the python fragment above the NumPy array `xv` contains the mid points of the histogram bins.  `f` is a NumPy array that contains the estimates of the free energy that were obtained using block averaing.\n",
    "`e` is the error on the estimate of the free energy.  Hopefully, you can see how any line through the filled part of the curve is consistent with the results I obtained.\n",
    "\n",
    "__Your task for this exercise is to generate a plot of the free energy surface with error bars calculated in the way described above__  You should analyse the data in the NumPy array `mags` that we created at the start of this section on calculating free energy.  You should also use blocks with size `nblocks` in your program.\n",
    "\n",
    "The data I have given you was collected at a temperature that corresponded to $k_B T = 5$ and is (obviously) the same as the data you have had in the previous two exercises.  As with the previous two exercises, to estimate the free energy you should construct a histogram with `nbins` bins.  The first of these bins should start at `minx` and the last of them should end at `maxx`.  The estimate of the free energy that you get from each of the bins in your histogram should be plotted at the midpoint of the bin.\n",
    "\n",
    "The tests don't look at the graph you are generating but instead look at the values in the two arrays `lower_yv` and `upper_yv`.  These arrays must be set so that a graph similar to the one shown above is drawn with the\n",
    "shaded area representing the 90% confidence limit on your estimate of the free energy.\n",
    "\n",
    "Notice that as in the previous exercise you need to ensure that you normalise the histograms before computing free energies to pass the tests.\n",
    "\n",
    "=====\n",
    "\n",
    "A final note of caution: You will find multiple bins in the histogram which will have zero visits in the trajectory. The error for these bins should also be zero but will come out as nan (not a number) as in calculating the error we need to divide by the fraction of time spent in the bin (which is zero). $a/0$ cannot be computed which is why you get nan.\n",
    "\n",
    "I mention this because, to pass the test, you will need to ensure that there are no nan values in the arrays `lower_yv` and `upper_yv` that are plotted.  You can get rid of these values by ensuring that you do not divide by zero.  In other words, you will need to calculate the error for a bin differently when the estimate for the histogram in that bin is zero and when the estimate is non-zero.\n"
   ]
  },
  {
   "cell_type": "code",
   "execution_count": null,
   "metadata": {
    "id": "HW82apmTLyuu"
   },
   "outputs": [],
   "source": [
    "# This is the number of bins\n",
    "nbins = 50\n",
    "# This is the minimum and maximum for the grid\n",
    "minx, maxx = -1.1, 1.1\n",
    "# These variables should hold the x coordinates of the graph and the upper and lower\n",
    "# confident limits on the estimate of the free energy\n",
    "xv, lower_yv, upper_yv = np.zeros( nbins ), np.zeros( nbins ), np.zeros( nbins )\n",
    "\n",
    "# This is the size of the blocks.  You will calculate one estimate of the histogram\n",
    "# over the blocks of this size\n",
    "blocksize = 200\n",
    "# This is the number of blocks that you are splitting the trajectory in\n",
    "nblocks = int( np.floor( len(mags) / blocksize ) )\n",
    "# This loop calculates your nblocks estimates of the histogram\n",
    "for i in range(nblocks) :\n",
    "    # Your code for calculating each of the nblocks estimate of the histogram goes here\n",
    "\n",
    "\n",
    "\n",
    "# This part plots the graph.  You need to define and set the variables lower_yv and upper_yv\n",
    "# as described in the instructions\n",
    "plt.fill_between( xv, lower_yv, upper_yv )\n",
    "plt.xlabel('average magnetisation per spin')\n",
    "plt.ylabel('free energy / natural units')\n",
    "plt.show()"
   ]
  },
  {
   "cell_type": "code",
   "execution_count": null,
   "metadata": {
    "id": "ZK4-50s8Giui"
   },
   "outputs": [],
   "source": [
    "runtest(['test_x', 'test_errors'])"
   ]
  },
  {
   "cell_type": "markdown",
   "metadata": {
    "id": "IJCnnuxh9r7q"
   },
   "source": [
    "# Ensuring errors are not underestimated\n",
    "\n",
    "Hopefully you found extending concepts of block averaging that you learned about when you were estimating ensemble averages to estimating free energy surfaces not too difficult.  This procedure was covered in the last exercise.  There is one further concept that you learned about in the earlier exercises about block averaging that we need to cover here.  Once we have covered that in this exercise you can move on to the assignment.\n",
    "\n",
    "As you hopefully remember we introduced block averaging because we were worried about correlations between random variables extracted from trajectories.  The existence of these correlations ensures that we will underestimate the variance if we calculate it the normal way.  We thus do this business with blocks instead.\n",
    "\n",
    "When you last looked at calculating block averages you learned to draw graphs that showed how the variance changes with block size like this one:\n",
    "\n",
    "![](https://raw.githubusercontent.com/autofeedback-exercises/exercises/main/New-MTH4332/IsingModel/block-average1.png)\n",
    "\n",
    "For this exercise you need to do something similar and investigate how the size of the average error for the histogram depends on the sizes of the blocks that it is computed from. You should calculate the block-averaged histograms for block sizes of 10, 20, 25, 100, 200, 250 and 500 along with the errors on the average histograms.  From these histograms and errors you can caluclate the free energy and its associated error.  If you then take an average of the errors for those bins that have been visted more than 0 times you can get a measure of the average\n",
    "error on the estimate of the free energy for each block size.  You will thus be able to produce a graph something like the one shown below:\n",
    "\n",
    "![](https://raw.githubusercontent.com/autofeedback-exercises/exercises/main/New-MTH4332/IsingModel/block-average2.png)\n",
    "\n",
    "It is this graph that is tested at the end of the exercise.  As always you need to use the data in the NumPy array called `mags` to produce your graph.  This array contains data from a Monte Carlo trajectory that was run at a tmperature equivalant to $k_BT=5$.\n",
    "\n",
    "You should construct a histogram with `nbins` bins.  The first of these bins should start at `minx` and the last of them should end at `maxx`.  Your graph should have estimates of the average for block sizes of\n",
    "10, 20, 25, 100, 200, 250 and 500. The x-axis label should be 'Length of block' the y axis label should be 'Average error on free energy'."
   ]
  },
  {
   "cell_type": "code",
   "execution_count": null,
   "metadata": {
    "id": "4minXh9MSElK"
   },
   "outputs": [],
   "source": [
    "# This is the number of bins\n",
    "nbins = 50\n",
    "# This is the minimum and maximum for the grid\n",
    "minx, maxx = -1.1, 1.1\n",
    "# This is the list of block sizes you should investigate\n",
    "blocksizes = np.array([10, 20, 25, 100, 200, 250, 500])\n",
    "\n",
    "\n",
    "# Your code to draw the graph described in the instructions goes here.\n",
    "# I would recommend writing a function to calculate the histogram with\n",
    "# different block sizes\n",
    "\n",
    "# This code is required for the Automated feedback, don't delete it!\n",
    "fighand = plt.gca()"
   ]
  },
  {
   "cell_type": "code",
   "execution_count": null,
   "metadata": {
    "id": "ajjtks50VD9t"
   },
   "outputs": [],
   "source": [
    "runtest(['test_graph3'])"
   ]
  }
 ],
 "metadata": {
  "colab": {
   "cell_execution_strategy": "setup",
   "collapsed_sections": [
    "NVOkK4hCU7RK"
   ],
   "private_outputs": true,
   "provenance": []
  },
  "kernelspec": {
   "display_name": "Python 3 (ipykernel)",
   "language": "python",
   "name": "python3"
  },
  "language_info": {
   "codemirror_mode": {
    "name": "ipython",
    "version": 3
   },
   "file_extension": ".py",
   "mimetype": "text/x-python",
   "name": "python",
   "nbconvert_exporter": "python",
   "pygments_lexer": "ipython3",
   "version": "3.9.19"
  }
 },
 "nbformat": 4,
 "nbformat_minor": 1
}
