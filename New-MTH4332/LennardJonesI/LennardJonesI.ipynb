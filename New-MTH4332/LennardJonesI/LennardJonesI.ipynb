{
 "cells": [
  {
   "cell_type": "markdown",
   "metadata": {
    "id": "NVOkK4hCU7RK"
   },
   "source": [
    "# Run this cell first"
   ]
  },
  {
   "cell_type": "code",
   "execution_count": null,
   "metadata": {
    "id": "QCMw-lybOsz-"
   },
   "outputs": [],
   "source": [
    "# this code enables the automated feedback. If you remove this, you won't get any feedback\n",
    "# so don't delete this cell!\n",
    "try:\n",
    "  import AutoFeedback\n",
    "except (ModuleNotFoundError, ImportError):\n",
    "  !pip install git+https://github.com/abrown41/AutoFeedback@notebook\n",
    "  import AutoFeedback\n",
    "\n",
    "try:\n",
    "  from testsrc import test_main\n",
    "except (ModuleNotFoundError, ImportError):\n",
    "  !pip install \"git+https://github.com/autofeedback-exercises/exercises.git@testpip#subdirectory=New-MTH4332/LennardJonesI\"\n",
    "  from testsrc import test_main\n",
    "\n",
    "def runtest(tlist):\n",
    "  import unittest\n",
    "  from contextlib import redirect_stderr\n",
    "  from os import devnull\n",
    "  with redirect_stderr(open(devnull, 'w')):\n",
    "    suite = unittest.TestSuite()\n",
    "    for tname in tlist:\n",
    "      suite.addTest(eval(f\"test_main.UnitTests.{tname}\"))\n",
    "    runner = unittest.TextTestRunner()\n",
    "    try:\n",
    "      runner.run(suite)\n",
    "    except AssertionError:\n",
    "      pass\n"
   ]
  },
  {
   "cell_type": "markdown",
   "metadata": {
    "id": "t5QIItvALCf8"
   },
   "source": [
       "# Setting the initial configuration using Atomistic Simulation Environment\n",
    "\n",
    "In the assignments you have completed thus far you have written all the python code for doing your simulations from scratch.\n",
    "Writing code in this way is not particularly common when you do graduate level research.  The simulations that are typically done\n",
    "as part of a PhD project are far more complicated than the ones you have performed in this module.  We thus need to reuse code that\n",
    "has been written by other people as there simply is not time to write all the simulation code from scratch.  You are going to learn to\n",
    "use a package for doing molecular dynamics simulations called [atomistic simulation environment (ase)](https://wiki.fysik.dtu.dk/ase/)\n",
    "in these exercises.  You are then going to use this package to complete the next assignment.\n",
    "\n",
    "Your task in this exercise involves using the `FaceCenteredCubic` method from ase to create an object called `atoms`.  This object will\n",
    "contain the initial positions of the atoms.  The atomic positions should be sat on an face centered cubic lattice that has the [1,0,0]\n",
    "direction of the crystal aligned with the x-axis, the [0,1,0] direction of the crystal aligned with the y-axis and the [0,0,1] direction of the crystal\n",
    "aligned with the z-axis.  Each of the atoms in the lattice should have the symbol 'Ar' and the minimal unit cell should be repeated\n",
    "3 X 3 X 3 times.  The structure should be set up so that there are pbc in all three directions.  The lattice constant should be set equal to 2^(2/3).\n",
    "\n",
    "You then need to use the [set_masses method](https://wiki.fysik.dtu.dk/ase/ase/atoms.html) from `atoms` to set all the masses of the atoms equal to one.\n",
    "\n",
    "Lastly, because we are planning to do molecular dynamics, you will need to give each atom an initial velocity.  You can do this using the\n",
    "[MaxwellBoltzmannDistribution](https://wiki.fysik.dtu.dk/ase/ase/md.html) method from ASE.  You should use this method to set your atoms to have velocities\n",
    "that are consistent with the ones they would be expected to have at a temperature at which (k_B T) = 2.0 (to set the temperature you need to use the depreciated\n",
    "temp argument to this function).\n",
    "\n",
    "In completing this task you will likely find [this page](https://wiki.fysik.dtu.dk/ase/ase/lattice.html) of the ASE manual useful as well as the links above.\n"

   ]
  },
  {
   "cell_type": "code",
   "metadata": {
    "id": "UlA7LTrJLaZy"
   },
   "execution_count": null,
   "outputs": [],
   "source": [
   
   ]
  },
  {
   "cell_type": "code",
   "execution_count": null,
   "metadata": {
    "id": "wQ6igH2EKkVw"
   },
   "outputs": [],
   "source": [
    "runtest(['test_ase'])"
  ]
  },
  {
   "cell_type": "markdown",
   "metadata": {
    "id": "hERlYK2oBTvJ"
   },
   "source": [
       "# Setting up the calculator\n",
    "\n",
    "In completing the previous exercise you learned how to setup the initial structure.  You are thus half way towards\n",
    "running an MD simulation.  The other half that you need to learn is how to create code to calculate the energy of the system\n",
    "and the forces on the individual atoms.  Once you have code to calculate the forces ASE can use the Verlet algorithm that you\n",
    "learned for second of these assignments to propegate the initial positions and velocities with time.\n",
    "\n",
    "In ASE the forces are calculated by a calculator method that is attached to the atoms object that you learned to create in the previous\n",
    "exericse.  Code to attach this method to the atoms object and then run NVT molecular dynamics would look something like this:\n",
    "\n",
    "```python\n",
    "import pairwise_calc\n",
    "\n",
    "# Insert code from last exercise to create an atoms object and set masses and velocities here.\n",
    "\n",
    "# Attach the method that should be used to calculate energies and forces to the atoms object\n",
    "atoms.calc = pairwise_calculator( rc=4, pairwise_e=fff )\n",
    "\n",
    "# And run 1000 steps of Langevin dynamics on the particles. We are running Langevin dynamics\n",
    "# with k_B T = 2, a timestep of 0.005 and a thermostat friction of 1.0 here.\n",
    "dyn = Langevin( atoms, 0.005, 2.0, 1.0 )\n",
    "dyn.run(1000)\n",
    "```\n",
    "\n",
    "The calculator method that we are using in this input is one that I have written for you (there are many others that\n",
    "form part of of the ASE package).  You can look at the code for this calculator by opening the file `pairwise_calc.py`.\n",
    "When you come to do the assignments you will also need to copy the contents of this file to your python notebooks in order\n",
    "to use the functionality within it.\n",
    "\n",
    "The `pairwise_calc.py` calculator that I have written for you allows you to write a function to calulate the pair potential\n",
    "that acts between the atoms.  This function is then passed to ASE and used in the `pairwise_calculator` object.  In your projects\n",
    "you should use the potential that you studied in the exercise on MD as a pair\n",
    "potential.  In other words, the energy for a pair of atoms separated by a distance r should be f(r) where f is the potential\n",
    "that you used in that previous MD assignment.\n",
    "\n",
    "__To complete this repl exercise you need to complete the code in `main.py` so that it can be used to run molecular dynamics for a\n",
    "system of Lennard Jones particles.__  The energy of a pair of atoms that are separated by a distance r_ij and that interact through\n",
    "the Lennard Jones potential is given by:\n",
    "\n",
    "![](eq1.png)\n",
    "\n",
    "This quantity should be calculated and returned by the function called `fff` that you must complete.  This function should also\n",
    "return a second quantity, which is the value of f_ij such that:\n",
    "\n",
    "![](eq2.png)\n",
    "\n",
    "In this expression the derivative of V the left hand side is the derivative of the pair potential with respect the x position of atom i\n",
    "and x_ij is the x-component of the vector that connects atom i to atom j.  Notice that the r that enters the expression for the Lennard Jones pontential\n",
    "is given by:\n",
    "\n",
    "![](eq3.png)\n",
    "\n",
    "and that when you calculate the forces on the atoms you have to differentiate with respect to the atomic positions and not the distance between\n",
    "the atoms.  Doing this differentiation involves using the chain rule.\n",
    "\n",
    "The fact that the function `fff` is to be used to calculate the pairwise energies is passed to the `pairwise_calculator` method by setting the\n",
    "argument `pairwise_e` equal to `fff`. The other argument to the function `rc` is a cutoff that tells ASE that the potential should be assumed\n",
    "to be zero when atoms are separated by a distance that is greater than `rc`.  To pass this exercise `rc` must be set to 4.  However, you may find this\n",
    "cutoff needs to be set to a larger (or smaller) value when you study your potential\n",
    "\n",
    "__Notice that you will also need to copy the code for setting the masses, initial positions and initial velocities that you wrote in the last exercise to `main.py` to complete the exercise.__\n",
    "The initial positions, number of atoms and temperature should be set as they were in that previous exercise.\n"

   ]
  },
  {
   "cell_type": "code",
   "metadata": {
    "id": "3IhYMci5SDoo"
   },
   "execution_count": null,
   "outputs": [],
   "source": [
       "from pairwise_calc import *\n",
    "\n",
    "def fff(r):\n",
    "   # Insert your code to calculate the Lennard Jones energy and forces here\n",
    "\n",
    "   return e, f  # First argument should be energy and second should be force\n",
    "\n",
    "# Insert code from last exercise to create an atoms object and set masses and velocities here.\n",
    "\n",
    "\n",
    "\n",
    "# Attach the method that should be used to calculate energies and forces to the atoms object\n",
    "atoms.calc = pairwise_calculator( rc=4, pairwise_e=fff )\n",
    "\n",
    "# And run 1000 steps of Langevin dynamics on the particles. We are running Langevin dynamics\n",
    "# with k_B T = 2, a timestep of 0.005 and a thermostat friction of 1.0 here.\n",
    "dyn = Langevin( atoms, 0.005, 2.0, 1.0 )\n",
    "dyn.run(1000)\n"

   ]
  },
  {
   "cell_type": "code",
   "execution_count": null,
   "metadata": {
    "id": "X1hVCkjNrpTm"
   },
   "outputs": [],
   "source": [
    "runtest(['test_forces', 'test_calculator'])"
  ]
  },
  {
   "cell_type": "markdown",
   "metadata": {
    "id": "oD1tca4UyHlk"
   },
   "source": [
       "# Analysing the MD trajectories\n",
    "\n",
    "The `main.py` file that you have for this exercise is very similar to the one you had in the previous exericse.\n",
    "To complete this exericse you are thus going to have to consolidate what you learned in the last exercise\n",
    "and copy the codes that you have just written for calculating the Lennard Jones energies and forces, initialising\n",
    "the MD trajectory and running Langevin dynamics.\n",
    "\n",
    "As you have seen in previous exercises, just running molecular dynamics caclulations is pointless.  You also need to do\n",
    "some analysis of the trajectories that are generated and compute some averages.  When we use a code like ASE there are two\n",
    "ways we can do this analysis:\n",
    "\n",
    "1. We can modify what is done in the main MD loop for ASE and calculate the quantities that interest us 'on the fly'.  When you wrote your MD and MC codes for the previous assignments this is what you did.\n",
    "\n",
    "2. We can save the trajectory that ASE generates to a file.  We can then read this trajectory after the MD simulation is completed and analyse it.\n",
    "\n",
    "The other exercises for the readings for this assignments will teach you how to analyse the trajectory files that are output when you do (2)\n",
    "(this way makes it easier for me to autograde your work).  However, when you come to doing the assignments you may prefer to use method (1) so I will\n",
    "show you how to modify ASE's MD loop here as well.\n",
    "\n",
    "You can ensure that a function is called after every 10 steps of MD by using code like the one below:\n",
    "\n",
    "```python\n",
    "# Code to initalise the structure and velocites in atoms needs to go here.\n",
    "\n",
    "# Code to setup the routines for calculating the energies and forces goes here.\n",
    "\n",
    "# Now that we have setup our initial positions and our routines for calculating energies and forces\n",
    "# we can setup an object that does will allow us to do as much Langevin dynamics as we want.\n",
    "# When we do this Langevin dynamics we will be running simulations with k_B T = 2, a timestep of 0.005 and a thermostat friction of 1.0 here.\n",
    "dyn = Langevin( atoms, 0.005, 2.0, 1.0 )\n",
    "\n",
    "# We now create an empty list that is going to hold snapshots of data we are collecting from the trajectory\n",
    "stats = []\n",
    "\n",
    "# When this function is called the current value of the potential energy is appended to the array stats\n",
    "def printenergy(stats = stats, a=atoms ):\n",
    "    stats.append( a.get_potential_energy() )\n",
    "\n",
    "# This command ensures that the function printenergy above is called every 10 seconds of MD\n",
    "dyn.attach( printenergy, interval=10 )\n",
    "# And run 1000 steps of Langevin dynamics\n",
    "dyn.run(1000)\n",
    "```\n",
    "\n",
    "This code calculates the energy potential energy on every 10th MD step and appends these values to the list called stats.  To do this\n",
    "we use the `dyn.attach` method from ASE to tell it that it should call the function printenergy on every 10th MD step.  You can see that\n",
    "this function just appends the instantaneous atom to the list called stats.\n",
    "\n",
    "To output the trajectory we do something similar.  The only difference is that we use a function that is already part of ASE and that is\n",
    "one of the methods in the Trajectory object.  The code to output the trajectory to a file called moldyn3.traj is as follows:\n",
    "\n",
    "```python\n",
    "# Code to initalise the structure and velocites in atoms needs to go here.\n",
    "\n",
    "# Code to setup the routines for calculating the energies and forces goes here.\n",
    "\n",
    "# Now that we have setup our initial positions and our routines for calculating energies and forces\n",
    "# we can setup an object that does will allow us to do as much Langevin dynamics as we want.\n",
    "# When we do this Langevin dynamics we will be running simulations with k_B T = 2, a timestep of 0.005 and a thermostat friction of 1.0 here.\n",
    "dyn = Langevin( atoms, 0.005, 2.0, 1.0 )\n",
    "\n",
    "# Create a trajectory object.  This opens the file on which we will output configurations\n",
    "traj = Trajectory('moldyn3.traj', 'w', atoms)\n",
    "\n",
    "# Attach the write method for the Trajectory object to the MD loop\n",
    "dyn.attach( traj.write, interval=10 )\n",
    "\n",
    "# And run 1000 steps of Langevin dynamics\n",
    "dyn.run(1000)\n",
    "\n",
    "# And close the trajectory file once we are done writing to it\n",
    "traj.close()\n",
    "```\n",
    "\n",
    "Notice how this code uses the `dyn.attach` method to attach the `traj.write` method to the MD loop.  It is this that ensures that the trajectory\n",
    "is output to the file every 10 MD steps.\n",
    "\n",
    "__Your task in this exercise is to use ASE to write an MD code.  Your MD code should save the values the potential energy took on every 20th step to a\n",
    "NumPy array called `energies`.  Your code should also output the positions of all the atoms on every 20th step to a file called `mytraj.traj`.__ The energies\n",
    "and forces should be calculated using the Lennard Jones potential with cutoff of 4 that you have encountered in previous exercises.  I will test your code by ensuring that\n",
    "the energies in the NumPy array `energies` are consistent with energies of the configurations that are output in `mytraj.traj`.\n",
    "\n"

   ]
  },
  {
   "cell_type": "code",
   "metadata": {
    "id": "7HksOL8wfN1K"
   },
   "execution_count": null,
   "outputs": [],
   "source": [
       "from pairwise_calc import *\n",
    "\n",
    "def fff(r):\n",
    "   # Insert your code to calculate the Lennard Jones energy and forces here\n",
    "\n",
    "   return e, f  # First argument should be energy and second should be force\n",
    "\n",
    "# Insert code from last exercise to create an atoms object and set masses and velocities here.\n",
    "\n",
    "\n",
    "\n",
    "# Attach the method that should be used to calculate energies and forces to the atoms object\n",
    "atoms.calc = pairwise_calculator( rc=4, pairwise_e=fff )\n",
    "\n",
    "# And run 1000 steps of Langevin dynamics on the particles.  Use the information in the instructions\n",
    "# to attach a funtion to the dynamics that keeps track of the values the potential energy took\n",
    "# during the simulation.  The values the energy took should be stored in a list called energies.\n",
    "# You should also output the trajectory to a file called mytraj.traj.  The frequency with which\n",
    "# you output the trajectory frames should be the same as the one with which you output energies.\n",
    "\n"

   ]
  },
  {
   "cell_type": "code",
   "execution_count": null,
   "metadata": {
    "id": "Q45PIZgGwMvQ"
   },
   "outputs": [],
   "source": [
    "runtest(['test_energies'])"
  ]
  },
  {
   "cell_type": "markdown",
   "metadata": {
    "id": "yH4p6ic2SLSd"
   },
   "source": [
       "# Calculating the radial distribution function\n",
    "\n",
    "In the previous exercise you learned how you can use `dyn.attach` to access the positions of the atoms.  In the remaining readings for this assignment you\n",
    "are going to learn two methods for analysing the trajectories that ASE generates.  You can perform these analysis methods\n",
    "by attaching a function to do the ananlysis on the fly using `dyn.attach`.  Alternatively, you can use the approach that I am using here, where you save the trajectory\n",
    "and then analyse it in postprocessing.  I am doing postprocessing here because it is easier for me to test your code.\n",
    "\n",
    "In this exercise you are going to learn to calculate the radial distribution.  This function describes how the density varies as a function of the distance from a refernece\n",
    "particle.  It is a measure of the probability of finding a particle at a distnace of r away from a given reference reference particles, relative to that probability in the ideal\n",
    "gas.\n",
    "\n",
    "To calculate the radial distirbution function you need to adapt the code that you have previously learned to write to estimate the histogram.  The first step in calculating this function\n",
    "is to divide the interval between 0 and some maximum distance `maxd` into `nbins` discrete bins.  Each of the distances in each of the frames of the trajectory are then assigned to the appropriate\n",
    "bin just as you have learned to ascribe other observables to bins in a histogram.\n",
    "\n",
    "There is a crucial difference between the process of calculating a histogram that you have gone through in previous exercises and the process of calculating a radial distribution function.  When you\n",
    "have calculated histograms in previous exercises there has been exactly one sample to add to the histogram for each frame of your trajectory.  __When you calculate a radial distribution function from a\n",
    "trajectory of N atoms each frame gives you N(N-1) samples of the random variable__ as there are N(N-1) distances between your N particles.  The radial distribution function should, therefore, converge\n",
    "relatively quickly as you can quickly generate a lot of data to estimate it from.\n",
    "\n",
    "Having said all that, you will hopefully find the process of calculating the (unormalised) rdf rather easy as the code that I am asking you to write here is very similar to the code for writing a histogram\n",
    "that you have written many times before.  To help you get started I have written the following piece of code in `main.py`:\n",
    "\n",
    "```python\n",
    "# Do a loop over all the trajectory frames\n",
    "for atoms in Trajectory('trajectory.traj') :\n",
    "    # Calculate the distances between all pairs of atoms\n",
    "    distances = atoms.get_all_distances( mic=True )\n",
    "    # Do a double loop over all the distances\n",
    "    for i in range(1,distances.shape[0]) :\n",
    "        for j in range(0,i) :\n",
    "            if  distances[i,j]>maxd : continue\n",
    "            # You need to add code to accumulate the histogram here\n",
    "```\n",
    "\n",
    "The first loop in this code iterates over all the trajectory frames.  I then use the `atoms.get_all_distances` from ASE to calculate the distances between all the particles in the system.  This method returns\n",
    "an NxN NumPy array in which element i,j gives the distance between atom i and atom j.  The two inner loops in the code above iterate over the lower triangle of this (symmetric) matrix.  You need to add code\n",
    "to accumulate the histogram from the various `distance[i,j]` values that are iterated over.  Think carefully about the fact that the loop will iterate over only N(N-1)/2 of the distance elements of the matrix\n",
    "`distances`.\n",
    "\n",
    "Once you have accumulated your histogram you need to normalise it.  When normalising the rdf you need to divide by:\n",
    "\n",
    "1. The number of frames in the trajectory.\n",
    "2. The number of atoms in the system.\n",
    "3. The number of atoms that you would expect to find in an ideal gas that has the same volume and density as the bin.\n",
    "\n",
    "The third of these quantities is given by the following expression:\n",
    "\n",
    "![](eq.png)\n",
    "\n",
    "In this expression `l` indicates the value at which the bin starts, `d` is the width of the bins `N` is the total number of atoms and `V` is the volume of the box.  This expression is just the difference\n",
    "in volume between a sphere with radius `l+d` and a sphere with radius `l` multiplied by the density of the medium.  You can get the volume of the box from the ASE atoms object by using the command `V=atoms.get_volume()`\n",
    "\n",
    "To pass the assignment you need to generate a plot of the radial distribution function that you have calculated from the trajectory.  Your radial distribution function should be calculated up to a maximum distance of `maxd` and\n",
    "should have `nbins` bins.  The value of the radial distribution in the ith bin should be plotted at the midpoint of the bin.  The x-axis label for your plot should be 'r / sigma' and the y-axis label should be 'g(r)'.\n"

   ]
  },
  {
   "cell_type": "code",
   "metadata": {
    "id": "roSnY6sFG6n5"
   },
   "execution_count": null,
   "outputs": [],
   "source": [
       "from ase.io.trajectory import Trajectory\n",
    "import matplotlib.pyplot as plt\n",
    "import numpy as np\n",
    "\n",
    "\n",
    "# Set the maximum distances that you are going to plot out to\n",
    "# and the number of bins to use when calculating the radial distribution function\n",
    "maxd, nbins = 3, 150\n",
    "\n",
    "# Do a loop over all the trajectory frames\n",
    "for atoms in Trajectory('trajectory.traj') :\n",
    "    # Calculate the distances between all pairs of atoms\n",
    "    distances = atoms.get_all_distances( mic=True )\n",
    "    # Do a double loop over all the distances\n",
    "    for i in range(1,distances.shape[0]) :\n",
    "        for j in range(0,i) :\n",
    "            if  distances[i,j]>maxd : continue\n",
    "            # You need to add code to accumulate the histogram here\n",
    "\n",
    "\n",
    "# Now you need to add code to normalise and plot the radial distribution function\n"

   ]
  },
  {
   "cell_type": "code",
   "execution_count": null,
   "metadata": {
    "id": "rVfUkwxIDNi-"
   },
   "outputs": [],
   "source": [
    "runtest(['test_rdf3'])"
  ]
  },
  {
   "cell_type": "markdown",
   "metadata": {
    "id": "x-OiG8C2IuHg"
   },
   "source": [
       "# Errors on radial distribution functions\n",
    "\n",
    "When you calculate a radial distribution function from an MD simulation the result you get is an estimate.  Consequently, as with everything else you have learned to calculate from MD simulations,\n",
    "you need to quote error bars on your estimate.  You can get these errors using the block averaging technique that we have seen elsewhere in this course.  Furthermore, when you work out the lengths\n",
    "of the blocks that are needed you use the same techniques as we have used in previous exercises.\n",
    "\n",
    "__In this exercise you are going to generate a estimate of the radial distribution function along with the erorrs on this estimate of the distribution.__  I would like you to spit the data in the trajectory\n",
    "that I have provided into __five__ blocks.  You can calculate 5 separate estimates of the radial distribution function from these five blocks of data.  Each of these estimates of the radial distribution function\n",
    "should be calculated to a maximum distance of `maxd` and should use `nbins` bins.\n",
    "\n",
    "Once you have calculated and normalised the five rdfs using what you learned in the previous exercise you should set the variable called `average` equal to the average of these five estimates of the rdf.  The variable\n",
    "called error should be set equal to the error for a 90% confidence limit on your estimate.  To set this array you will need to calculate the variance for each of the bins from your five estimates of the rdf.\n",
    "\n",
    "The variabels `average` and `error` that you will set (and that I test) should be NumPy arrays.  I have included code at the end of `main.py` that will plot the radial distribution function and the estimate of the errors for you.\n",
    "Notice that I use `plt.fill_between` as the rdf is a continuous function.  We thus do what we did in previous exericses and display the part of the xy-plane that this function passes through as a shaded area.\n"

   ]
  },
  {
   "cell_type": "code",
   "metadata": {
    "id": "UoM-PXLyGLDY"
   },
   "execution_count": null,
   "outputs": [],
   "source": [
       "from ase.io.trajectory import Trajectory\n",
    "import matplotlib.pyplot as plt\n",
    "import scipy.stats\n",
    "import numpy as np\n",
    "\n",
    "maxd, nbins = 3, 150\n",
    "# This is the width of each of the bins in your histogram\n",
    "delx = maxd / nbins\n",
    "# Your code to calculate the five estimates of the radial distribution from the blocks goes here\n",
    "\n",
    "\n",
    "# I have calculated the x-coordinates at which to plot the histogram here\n",
    "xbins = np.zeros(nbins)\n",
    "for i in range(nbins) : xbins[i] = (0.5+i)*delx\n",
    "\n",
    "# The first of these variables (average) should be the average rdf from the 5 blocks\n",
    "# The secould (error) should contain the errors on the estimates of the density in each bin.\n",
    "# Your error should be indicative of a 95 % confidence limit\n",
    "average =\n",
    "error =\n",
    "\n",
    "# This will draw a graph showing your radial distribution function.  Notice that the radial distribution\n",
    "# function we are plotting here is not well converged.  None of the radial distribution functions in your final\n",
    "# project should look like this.  The big spikes suggest there is a problem.\n",
    "plt.fill_between( xbins, average - error, average + error )\n",
    "plt.xlabel('r / sigma')\n",
    "plt.ylabel('g(r)')\n",
    "plt.savefig('rdf.png')\n"

   ]
  },
  {
   "cell_type": "code",
   "execution_count": null,
   "metadata": {
    "id": "ctpAifmfWRPQ"
   },
   "outputs": [],
   "source": [
    "runtest(['test_rdf1'])"
  ]
  },
  {
   "cell_type": "markdown",
   "metadata": {
    "id": "zrWBpgEy2X4M"
   },
   "source": [
       "# Calculating the FCC cubic parameter\n",
    "\n",
    "The radial distribution provides indirect information on whether the average structure of the material resembles an ordered solid or a more disordered liquid.\n",
    "Another way to make this distinction is to use an order parameter or symmetry function.  If you are modelling a system of N atoms you can caluclate N instances\n",
    "of the order parameter as you calculate one order parameter for each atom in the system.  The order parameter is computed from the vectors that connect the central\n",
    "atom to each of the atoms in its first coordination sphere.  Often times order parameters are designed to be one when the environment about the atom resembles the\n",
    "environment in an ideal, crystalline solid and zero if it does not.\n",
    "\n",
    "In this exercise you are going to learn to calculate an order parameter that can be used to detect whether the environment around an atom resmebles the environment in\n",
    "an ideal fcc crystal.  The functional form of this order parameter is as follows:\n",
    "\n",
    "![](eq1.png)\n",
    "\n",
    "The sums in this expression run over all the atoms in the syste.  $r_{ij}$ is the distance between atom $i$ and atom $j$ and $x_{ij}, $y_{ij}$ and $z_{ij}$ are the $x$, $y$ and $z$ components\n",
    "of the vector that connects atom $i$ to atom $j$.  $\\sigma(r_{ij})$ is a switching function that is 1 if $r_{ij}<1.5$ and 0 otherwise.  When this function is used to identify\n",
    "regions where the structure resembles the fcc crystal it is useally tranformed using the following expression:\n",
    "\n",
    "![](eq2.png)\n",
    "\n",
    "__Your task in this exercise is to write a function called `fcc_cubic` that calculates this order parameter.__ Your function should take an Atoms object called atoms from\n",
    "ASE as input.  It should calculate the function above for __all__ N atoms in this input object and store this information in a NumPy array with N elements.  Your function\n",
    "should then return this NumPy array.\n",
    "\n",
    "In the file `main.py` I have included some code to get you started.  The code that I have written used ASE to generate a 2D NumPy array called `distances` that contains the\n",
    "pairwise distances between all pairs of particles in the syste.  I have also used ASE to generate a 3D NumPy array called `vecs` that contains the x, y and z components of all the\n",
    "vectors connecting distinct pairs of atoms.  To get the x, y and z components of the vector connecting atom i to atom j from this array you would use code like this:\n",
    "\n",
    "```python\n",
    "x, y, z = vecs[i,j,0], vecs[i,j,1], vecs[i,j,2]\n",
    "```\n",
    "\n",
    "I have also setup NumPy array called `order_p` that you can use to hold the values of all the order parameters that you will calculate.\n",
    "\n",
    "\n"

   ]
  },
  {
   "cell_type": "code",
   "metadata": {
    "id": "-AkfJCGIuY6o"
   },
   "execution_count": null,
   "outputs": [],
   "source": [
       "from ase.io.trajectory import Trajectory\n",
    "import numpy as np\n",
    "\n",
    "def fcc_cubic( atoms ) :\n",
    "    N = len(atoms)\n",
    "    order_p = np.zeros(N)\n",
    "    distances = atoms.get_all_distances( mic=True )\n",
    "    vecs = atoms.get_all_distances( mic=True, vector=True )\n",
    "    # Your code goes here\n",
    "\n",
    "\n",
    "   return order_p\n"

   ]
  },
  {
   "cell_type": "code",
   "execution_count": null,
   "metadata": {
    "id": "jxwD8o4pctoT"
   },
   "outputs": [],
   "source": [
    "runtest(['test_fcc'])"
  ]
  },
  {
   "cell_type": "markdown",
   "metadata": {
    "id": "QcjuB4ULdw3F"
   },
   "source": [
       "# Calculating the free energy as a function of an order parameter\n",
    "\n",
    "This exercise should revise ideas that you covered last week when you learned to calculate the free energy as a function of the total magnetisation for the 2D Ising model.\n",
    "What I would like you to calculate is the free energy as a function of the order parameter.  Furthermore, I would like you to calculate an error on your estimate of this free\n",
    "energy using block averaging.\n",
    "\n",
    "We covered how to esimtate a free energy surface when we looked at the 2D Ising model.  The only difference from what you did last week and what you will do here is that last\n",
    "week you only had one magnetisation value from each trajectory frame.  This week you have N=the number of atoms values for the order parameter for each trajectory frame.  You can use\n",
    "all of these N values when you accumulate your histograms.\n",
    "\n",
    "You should devide up the trajectory into five blocks as you did when you caluclated the errors on the radial distribution function.  One histogram should be calculated from each block\n",
    "of trajectory data.  These histograms should show the distribution of CV values between `minx` and `mixx` and this interval should be split into `nbins` histogram bins.\n",
    "\n",
    "Once you have calculated your 5 estimates for the histogram you can calculate the overal average and the error on the estimate of the distribution.  The error on the estimate of the distribution\n",
    "should be calculated for a 90% confidence limit.\n",
    "\n",
    "The free energy can be calculated from your estimate of the distribution in the usual way.  The variable `fes` should be set equal to the final estimate of the free energy.  You should use error\n",
    "propegation (as you did in the previous exercise) to calculate the error on the free energy.  The variabel `error` should be set equal to this value of the error.  The tests check that these two\n",
    "variables have been set to the correct values.  At the end of the exercise I have included code that will generate a figure that shows the final estimate for the free energy as a function of the\n",
    "order parameter.  The width of the line in this figure is related to the error on your estimate of the this free energy.\n"

   ]
  },
  {
   "cell_type": "code",
   "metadata": {
    "id": "E5eFhei72kGU"
   },
   "execution_count": null,
   "outputs": [],
   "source": [
       "from ase.io.trajectory import Trajectory\n",
    "import matplotlib.pyplot as plt\n",
    "import scipy.stats\n",
    "import numpy as np\n",
    "\n",
    "minx, maxx, nbins = -.5, 1.1, 70\n",
    "# Your code to calculate the estimates of the histogram goes here\n",
    "\n",
    "# You then need to calculate the average histogram and the errors on the histogram here\n",
    "\n",
    "# And lastly you need to convert the histogram to a free energy surface here\n",
    "\n",
    "\n",
    "# This variable should be set equal to your final estimate of the free energy as a function of the order parameter\n",
    "fes =\n",
    "# This variable should be set equla to the error on your estimate of the free energy as a function of the order parameter\n",
    "error =\n",
    "\n",
    "\n",
    "# This sets the coordinates at which the x values of the points in your free energy surface should be plotted\n",
    "xbins = np.zeros( nbins )\n",
    "for i in range(len(gat_average)) :\n",
    "    xbins[i] = (i+1)*delx\n",
    "\n",
    "\n",
    "# This will draw a graph showing your free energy surface. Notice that the free energy surface\n",
    "# we are plotting here is not well converged.\n",
    "plt.fill_between( xbins, fes - error , fes + error )\n",
    "plt.xlabel('order parameter')\n",
    "plt.ylabel('free energy')\n",
    "plt.savefig('fes.png')\n"

   ]
  },
  {
   "cell_type": "code",
   "execution_count": null,
   "metadata": {
    "id": "HBnvGifXnHe6"
   },
   "outputs": [],
   "source": [
    "runtest(['test_rdf2'])"
  ]
  }
],
 "metadata": {
  "colab": {
   "cell_execution_strategy": "setup",
   "collapsed_sections": [
    "NVOkK4hCU7RK"
   ],
   "private_outputs": true,
   "provenance": []
  },
  "kernelspec": {
   "display_name": "Python 3 (ipykernel)",
   "language": "python",
   "name": "python3"
  },
  "language_info": {
   "codemirror_mode": {
    "name": "ipython",
    "version": 3
   },
   "file_extension": ".py",
   "mimetype": "text/x-python",
   "name": "python",
   "nbconvert_exporter": "python",
   "pygments_lexer": "ipython3",
   "version": "3.9.13"
  }
 },
 "nbformat": 4,
 "nbformat_minor": 1
}
