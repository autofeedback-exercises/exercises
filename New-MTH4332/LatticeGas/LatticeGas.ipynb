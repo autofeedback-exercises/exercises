{
 "cells": [
  {
   "cell_type": "markdown",
   "metadata": {
    "id": "NVOkK4hCU7RK"
   },
   "source": [
    "# Run this cell first"
   ]
  },
  {
   "cell_type": "code",
   "execution_count": null,
   "metadata": {
    "id": "QCMw-lybOsz-"
   },
   "outputs": [],
   "source": [
    "# this code enables the automated feedback. If you remove this, you won't get any feedback\n",
    "# so don't delete this cell!\n",
    "try:\n",
    "  import AutoFeedback\n",
    "except (ModuleNotFoundError, ImportError):\n",
    "  !pip install AutoFeedback\n",
    "  import AutoFeedback\n",
    "\n",
    "try:\n",
    "  from testsrc import test_main\n",
    "except (ModuleNotFoundError, ImportError):\n",
    "  !pip install \"git+https://github.com/autofeedback-exercises/exercises.git@main#subdirectory=New-MTH4332/LatticeGas\"\n",
    "  from testsrc import test_main\n",
    "\n",
    "def runtest(tlist):\n",
    "  import unittest\n",
    "  from contextlib import redirect_stderr\n",
    "  from os import devnull\n",
    "  with redirect_stderr(open(devnull, 'w')):\n",
    "    suite = unittest.TestSuite()\n",
    "    for tname in tlist:\n",
    "      suite.addTest(eval(f\"test_main.UnitTests.{tname}\"))\n",
    "    runner = unittest.TextTestRunner()\n",
    "    try:\n",
    "      runner.run(suite)\n",
    "    except AssertionError:\n",
    "      pass\n"
   ]
  },
  {
   "cell_type": "markdown",
   "metadata": {},
   "source": [
    "# Introduction\n",
    "\n",
    "The exercises in this notebook provide a practical introduction to the language of statistical mechanics.  Watch the following video to get started, which tells you about the key concepts.  If you want you can also read the notes [here](https://robust-creature-3df.notion.site/Microstates-phase-space-and-the-principle-of-equal-a-priori-probabilities-9dbd484a47654bff858313634f01d875), which cover some of the same ideas.\n",
    "\n",
    "If you need to revise lists in python read [these notes](https://robust-creature-3df.notion.site/List-4ffa65bfae8e4288886bfec1be40a376)"
   ]
  },
  {
   "cell_type": "code",
   "execution_count": 1,
   "metadata": {},
   "outputs": [
    {
     "data": {
      "text/html": [
       "<iframe width=\"560\" height=\"315\" src=\"https://www.youtube.com/embed/0LdL1LUrE0I?si=Qh0R25YtixUAh9DQ\" title=\"YouTube video player\" frameborder=\"0\" allow=\"accelerometer; autoplay; clipboard-write; encrypted-media; gyroscope; picture-in-picture; web-share\" referrerpolicy=\"strict-origin-when-cross-origin\" allowfullscreen></iframe>\n"
      ],
      "text/plain": [
       "<IPython.core.display.HTML object>"
      ]
     },
     "metadata": {},
     "output_type": "display_data"
    }
   ],
   "source": [
    "%%HTML\n",
    "<iframe width=\"560\" height=\"315\" src=\"https://www.youtube.com/embed/0LdL1LUrE0I?si=Qh0R25YtixUAh9DQ\" title=\"YouTube video player\" frameborder=\"0\" allow=\"accelerometer; autoplay; clipboard-write; encrypted-media; gyroscope; picture-in-picture; web-share\" referrerpolicy=\"strict-origin-when-cross-origin\" allowfullscreen></iframe>"
   ]
  },
  {
   "cell_type": "markdown",
   "metadata": {},
   "source": [
    "Now that you are prepared for the exercises, prepare the notebook to complete the exercises by running the cell below and loading the libraries that we need."
   ]
  },
  {
   "cell_type": "code",
   "execution_count": null,
   "metadata": {},
   "outputs": [],
   "source": [
    "import matplotlib.pyplot as plt\n",
    "import numpy as np\n",
    "import sympy as sy"
   ]
  },
  {
   "cell_type": "markdown",
   "metadata": {
    "id": "AdpBrjscDzyL"
   },
   "source": [
    "# Generating microstates I\n",
    "\n",
    "In these exercises we are going to be studying one systems of non-interacting particles.  Each particle in these non-interacting systems can be in a series of distinct states.  For example where might have a system of nuclear spins that can either point up (+1) or down (-1).  Each of the spins can thus occupy one of two possible states +1 or -1.  Consequently, if there are $N$ spins in total then there are $2^N$ possible microstates.\n",
    "\n",
    "We can store the coordinates that the $N$ spins take when the system is in one particular micostate in a python list containing $N$ elements.  The elements in this list are equal to +1 if the corresponding spin is in the up state and -1 if the corresponding spin is in the down state.\n",
    "\n",
    "I would like you to generate three of the possible micro states for the system of spins described above in the programming exercises.  You will notice that I have created three lists for you `allup`, `alldown` and `alternating`.  I would like you to:\n",
    "\n",
    "1. Set the elements of the list `allup` so that the list gives the coordinates for microstate in which all the spins are in the spin up state.\n",
    "2. Set the elements of the list `alldown` so that the list gives the coordinates for microstate in which all the spins are in the spin down state.\n",
    "3. Set the elements of the list `alternating` so that the list gives the coordinates for the microstate in which all the odd numbered spins are spin up and all the even numbered spins are spin down.\n",
    "\n",
    "__You will need to use for loops when setting the spin coordinates in each of these microstates.__\n",
    "\n",
    "Also notice that I can use modulo arithmetic as shown below to determine whether a number is even or odd.\n",
    "\n",
    "```python\n",
    "if number%2==0 : print('number is even')\n",
    "else : print('number is odd')\n",
    "```\n"
   ]
  },
  {
   "cell_type": "code",
   "execution_count": null,
   "metadata": {
    "id": "ZOTYz7p5foBz"
   },
   "outputs": [],
   "source": [
    "nspins = 10\n",
    "\n",
    "allup = np.zeros(nspins)\n",
    "\n",
    "alldown = np.zeros(nspins)\n",
    "\n",
    "alternating = np.zeros(nspins)\n"
   ]
  },
  {
   "cell_type": "code",
   "execution_count": null,
   "metadata": {
    "id": "esLxXNiUsS-I"
   },
   "outputs": [],
   "source": [
    "runtest(['test_alternating', 'test_spinDown', 'test_spinUp'])"
   ]
  },
  {
   "cell_type": "markdown",
   "metadata": {
    "id": "h-VRv6XqWObL"
   },
   "source": [
    "# Generating microstates II\n",
    "\n",
    "You can easily do a project that is different from the example one I have provided you by by studying a system of non-interacting particles that can each be in 3 or more states.  You can store the coordinates of the microstate for a system of N of these particles in a NumPy array as you learned to do in the previous exercise.  Now, however, the coordinates of the particles are no longer -1 and 1.  Instead the coordinate for each particle can be 0, 1, 2,... or M-1, where M is the number of states.\n",
    "\n",
    "To demonstrate that you can manipulate these arrays that hold the microstate I would like you to write 3 functions.  Each of these functions will take two arguments:\n",
    "\n",
    "* `N` - the number of particles that the system contains\n",
    "* `M` - the number of distinct states that each particle can adopt\n",
    "\n",
    "The three functions will then return a microstate for a system of `N` particles that can each be in 1 of `M` states.  In particular:\n",
    "\n",
    "* `rising_states` - should return a microstate in which spin 0 is in state 0, spin 1 is in state 1, spin 2 is in state 2 and so on up to spin M-1, which should be in state M-1. Spin M should then be in state 0 again, Spin M+1 should be in state 1 etc.\n",
    "\n",
    "* `lowering_states` - should return a microstate in which spin 0 is in state M-1, spin 1 is in state M-2, spin 2 is in state M-3 and so on up to spin M-1, which should be in state 0.  Spin M should then be in state M-1 again, spin M+1 should be in state M-2 etc.\n",
    "\n",
    "* `updown_states` - should return a microstate in which spin 0 is in state 0, spin 1 is in state 1, spin 2 is in state 2 and so on up to spin M-1, which should be in state M-1.  Spin M should then be in state M-1, spin M+1 shoudl be in state M-2, spin M+2, should be in state M-3 and so on up to spin 2M, which should be in state 0.  Spin 2M + 1 should then be in state 0, spin 2M + 2 should be in state 1 and so on in this raising and lowering pattern.\n",
    "\n",
    "Hint: You may find the modulo operator (%) useful.  `a%b` returns the remainder that is obtained when `a` is divided by `b`.  `5%2` thus returns `2` as 5/2 is 2 remainder 1.  When writing the function `updown_states` you may also find the NumPy function `np.floor` useful.\n"
   ]
  },
  {
   "cell_type": "code",
   "execution_count": null,
   "metadata": {
    "id": "hzxMmjF7QZ7O"
   },
   "outputs": [],
   "source": [
    "def rising_states( nspins, nstates ) :\n",
    "\n",
    "def lowering_states( nspins, nstates ) :\n",
    "\n",
    "def updown_states( nspins, nstates ) :\n",
    "\n"
   ]
  },
  {
   "cell_type": "code",
   "execution_count": null,
   "metadata": {
    "id": "DBLmzI-6fh5I"
   },
   "outputs": [],
   "source": [
    "runtest(['test_rising', 'test_lowering', 'test_updown'])"
   ]
  },
  {
   "cell_type": "markdown",
   "metadata": {
    "id": "enn2LfotdY25"
   },
   "source": [
    "# Hamiltonian for lattice gas system\n",
    "\n",
    "To progress further with statistical mechanics we need to introduce a Hamiltonian.  We can use this Hamiltonian to determine the energy of a microstate from the microscopic coordinates of the particles that the system is composed of.\n",
    "\n",
    "During the next few exercises, we are going to write functions to compute Hamiltonians.  As explained in the following video, the Hamiltonian functions that we will write will take the list of coordinates as input.  The energy will then be returned, which we will be able to compute as the energy is simply some function of the spin coordinates.\n",
    "\n",
    "If you want a reminder of why we have a ladder of energy levels you can read [this Wikipedia page](https://en.wikipedia.org/wiki/Energy_level). "
   ]
  },
  {
   "cell_type": "code",
   "execution_count": 2,
   "metadata": {},
   "outputs": [
    {
     "data": {
      "text/html": [
       "<iframe width=\"560\" height=\"315\" src=\"https://www.youtube.com/embed/Pttnbq42ljk?si=utBut4DVktmO_IIE\" title=\"YouTube video player\" frameborder=\"0\" allow=\"accelerometer; autoplay; clipboard-write; encrypted-media; gyroscope; picture-in-picture; web-share\" referrerpolicy=\"strict-origin-when-cross-origin\" allowfullscreen></iframe>\n"
      ],
      "text/plain": [
       "<IPython.core.display.HTML object>"
      ]
     },
     "metadata": {},
     "output_type": "display_data"
    }
   ],
   "source": [
    "%%HTML\n",
    "<iframe width=\"560\" height=\"315\" src=\"https://www.youtube.com/embed/Pttnbq42ljk?si=utBut4DVktmO_IIE\" title=\"YouTube video player\" frameborder=\"0\" allow=\"accelerometer; autoplay; clipboard-write; encrypted-media; gyroscope; picture-in-picture; web-share\" referrerpolicy=\"strict-origin-when-cross-origin\" allowfullscreen></iframe>"
   ]
  },
  {
   "cell_type": "markdown",
   "metadata": {},
   "source": [
    "In this first exercise we are going to consider a so called lattice gas model in which each spin only interacts with the external magnetic field, $H$.  Each particle has a coordinate, $s_i$ that is either +1 or -1.  The Hamiltonian is then:\n",
    "\n",
    "$$\n",
    "E = -\\sum_{i=1}^N H s_i\n",
    "$$\n",
    "\n",
    "where $N$ is the number of spins and $s_i$ indicates the state of the $i$th spin (i.e. +1 or -1).\n",
    "\n",
    "Modify the code below so that the function called `hamiltonian` calculates the the quantity defined by the formula above.  Notice that this function takes a list called `spins`, which contains all the spin coordinates, as input as well as a scalar variable called `H` that gives the magnetic field strength."
   ]
  },
  {
   "cell_type": "code",
   "execution_count": null,
   "metadata": {
    "id": "qyLEzHSCRlH2"
   },
   "outputs": [],
   "source": [
    "def hamiltonian( spins, H ) :\n",
    "    energy = 0\n",
    "    # Your code goes here\n",
    "\n",
    "    return energy\n",
    "\n",
    "allup, alldown = np.ones(10), -1*np.ones(10)\n",
    "print( 'ENERGY FOR ALL SPIN UP', hamiltonian( allup, 1 ) )\n",
    "print( 'ENERGY FOR ALL SPIN DOWN', hamiltonian( alldown, 1 ) )"
   ]
  },
  {
   "cell_type": "code",
   "execution_count": null,
   "metadata": {
    "id": "310swlKbDOdt"
   },
   "outputs": [],
   "source": [
    "runtest(['test_eng1'])"
   ]
  },
  {
   "cell_type": "markdown",
   "metadata": {
    "id": "3EvnpgISIw4X"
   },
   "source": [
    "# Hamiltonian for a three level system\n",
    "\n",
    "Lets now introduce a Hamiltonian for a three level system.  Each particle in our system will be in one of three states, which we will call state 0, state 1 and state 2.  We can thus specify the microstate for a system of $N$ particles by using a NumPy array in which each element is either 0, 1 or 2.  If a particle is in state 0 it has an energy of 0, if a particle is in state 1 it has an energy of 2 and if it is in state 2 it will have an energy of 3.  The total energy for our $N$ particle system will be the sum of the energies of all the particles.\n",
    "\n",
    "Modify the code in in main.py so that the function called `hamiltonian2` calculates the the energy for a system of N of these (non-interacting) particles.  Notice that this function takes a NumPy array called `coords`, which contains all the particle coordinates, as input.  The number of particles in your system is equal to the number of elements in this list.\n"
   ]
  },
  {
   "cell_type": "code",
   "execution_count": null,
   "metadata": {
    "id": "Z8B1zNxX1G9N"
   },
   "outputs": [],
   "source": [
    "def hamiltonian2( coords ) :\n",
    "    energy = 0\n",
    "    # Your code goes here\n",
    "\n",
    "    return energy\n",
    "\n",
    "allzero, allone, alltwo = np.zeros(10), np.ones(10), 2*np.ones(10)\n",
    "print( 'ENERGY FOR ALL ZERO', hamiltonian2( allzero ) )\n",
    "print( 'ENERGY FOR ALL ONE', hamiltonian2( allone ) )\n",
    "print( 'ENERGY FOR ALL TWO', hamiltonian2( alltwo ) )\n"
   ]
  },
  {
   "cell_type": "code",
   "execution_count": null,
   "metadata": {
    "id": "mWXl96iV5LqZ"
   },
   "outputs": [],
   "source": [
    "runtest(['test_eng2'])"
   ]
  },
  {
   "cell_type": "markdown",
   "metadata": {
    "id": "h-Un2RpF7EfI"
   },
   "source": [
    "# Hamiltonian for a four state system\n",
    "\n",
    "Lets now introduce a Hamiltonian for a system in which each particle can be in one of four states.  Each particle in our system will be in one of four states, which we will call state 0, state 1, state 2 and state 4.  We can thus specify the microstate for a system of $N$ particles by using a NumPy array in which each element is either 0, 1, 2 or 3.  If a particle is in state 0 it has an energy of 0, if a particle is in state 1 it has an energy of 1, if it is state 2 it has an energy of 1 and if it is in state 3 it will have an energy of 2.  States 1 and 2 are thus degenerate but the total energy for our N particle system is still the sum of the energies of all the particles.\n",
    "\n",
    "Modify the code in in main.py so that the function called `hamiltonian3` calculates the the energy for a system of $N$ of these (non-interacting) particles.  Notice that this function takes a NumPy array called `coords`, which contains all the particle coordinates, as input.  The number of particles in your system is equal to the number of elements in this list."
   ]
  },
  {
   "cell_type": "code",
   "execution_count": null,
   "metadata": {
    "id": "dzJ1MGoHci0r"
   },
   "outputs": [],
   "source": [
    "def hamiltonian3( coords ) :\n",
    "    energy = 0\n",
    "    # Your code goes here\n",
    "\n",
    "    return energy\n",
    "\n",
    "allzero, allone, alltwo, allthree = np.zeros(10), np.ones(10), 2*np.ones(10), 3*np.ones(10)\n",
    "print( 'ENERGY FOR ALL ZERO', hamiltonian3( allzero ) )\n",
    "print( 'ENERGY FOR ALL ONE', hamiltonian3( allone ) )\n",
    "print( 'ENERGY FOR ALL TWO', hamiltonian3( alltwo ) )\n",
    "print( 'ENERGY FOR ALL THREE', hamiltonian3( allthree ) )\n"
   ]
  },
  {
   "cell_type": "code",
   "execution_count": null,
   "metadata": {
    "id": "3X3Qnp8Zydnf"
   },
   "outputs": [],
   "source": [
    "runtest(['test_eng3'])"
   ]
  },
  {
   "cell_type": "markdown",
   "metadata": {
    "id": "vb7ZUjI9pD4d"
   },
   "source": [
    "# Converting to binary\n",
    "\n",
    "In the following video I explained how we can enumerate all the states that a system of $N$ non-interacting particles can adopt by using the same ideas that we use for representing numbers.  In these next three exercises I am going to check that you understand these ideas and that you are able to use them to enumerate all the microstates that a system of $N$ particles that can each adopt $M$ states can be in so please watch this video now.\n",
    "\n",
    "There are also some notes on the base conversion algorithm that we are using in these exercises that you can read [here](https://www.mathsisfun.com/base-conversion-method.html)."
   ]
  },
  {
   "cell_type": "code",
   "execution_count": 3,
   "metadata": {},
   "outputs": [
    {
     "data": {
      "text/html": [
       "<iframe width=\"560\" height=\"315\" src=\"https://www.youtube.com/embed/SXUyRYIu3Jg?si=0F75suTIjYLRMHR5\" title=\"YouTube video player\" frameborder=\"0\" allow=\"accelerometer; autoplay; clipboard-write; encrypted-media; gyroscope; picture-in-picture; web-share\" referrerpolicy=\"strict-origin-when-cross-origin\" allowfullscreen></iframe>\n"
      ],
      "text/plain": [
       "<IPython.core.display.HTML object>"
      ]
     },
     "metadata": {},
     "output_type": "display_data"
    }
   ],
   "source": [
    "%%HTML \n",
    "<iframe width=\"560\" height=\"315\" src=\"https://www.youtube.com/embed/SXUyRYIu3Jg?si=0F75suTIjYLRMHR5\" title=\"YouTube video player\" frameborder=\"0\" allow=\"accelerometer; autoplay; clipboard-write; encrypted-media; gyroscope; picture-in-picture; web-share\" referrerpolicy=\"strict-origin-when-cross-origin\" allowfullscreen></iframe>"
   ]
  },
  {
   "cell_type": "markdown",
   "metadata": {},
   "source": [
    "In this first exercise we will consider a system of $N$ particles that can each be in one of two states (0 or 1).  For such systems the state of the $N$ particle system can be stored in a NumPy array that contains only zeros and ones.  This list of ones and zeros can also be converted to a single number if we think of each number as a binary digit.  Your task in these first two exercises is thus to review how we can write algorithms to convert numbers from one representation to another.  This algorithm will prove essential when it comes to enumerating all the microstates that a system can be within.\n",
    "\n",
    "Lets start by reviewing ideas about the represtation of number that should be familiar. It may sound conterintuitive by the set of symbols 3260 is not actually the number three thousand two hunder and sixty. Instead, it is a representation of that number.  In other words, the four digit number 3260 is actually a set of instructions for constructing a number from simpler parts.  In this case we are being told to construct a number by completing the following set of operations:\n",
    "\n",
    "1. First, multiply three by one thousand.\n",
    "2. Next, multiply two by one hundred.\n",
    "3. Next, multiply six by ten.\n",
    "4. Next, multiply one by zero.\n",
    "5. The number we are interested in is the sum of the four numbers that you obtained from these four multiplications.\n",
    "\n",
    "We can express these instructions more compactly using the following summation:\n",
    "\n",
    "$$\n",
    "37 = \\sum_n=0^3 a_n 10^n\n",
    "$$\n",
    "\n",
    "where $a_0=0$, $a_1=6$, $a_2=2$ and $a_3=3$.\n",
    "\n",
    "The $a_n$ coefficients in this expression are multiplied by powers of ten because we have ten basic symbols for representing numbers 0, 1, 2, 3, 4, 5, 6, 7, 8 and 9.  We do not have a single symbol for representing the numbers eleven or ten so we have to use a pair of symbols to represent these numbers when they are represented in base ten.\n",
    "\n",
    "We can use a similar idea to express the microstate for our system with $N$ particles that can each be in one of two states using a single number.  As each particle can only be in the zero 0 or 1 state this representation of number does not use base ten as the basic components of the numbers - the states of our particles - cannot be in ten different states.  Each particle can instead only be in two distinct states.  We thus only have two symbols 0 and 1 available to us.  There is no way that the numbers 2 or 3 can be stored using a single particle.\n",
    "\n",
    "We thus must understand the coordinates of the microstates as a representation of a number in base 2 rather than base 10.  If the microstate is 100101 then this is a set of instruction that tells us to:\n",
    "\n",
    "1. First, multiply the number 1 by  32\n",
    "2. Next, multiply the number 0 by 16\n",
    "3. Next, multiply the number 0 by 8\n",
    "4. Next, multiply the number 1 by 4\n",
    "5. Next, multiply the number 0 by 2\n",
    "6. Next, multiply the number 1 by 1\n",
    "7. The number 100101 is the sum of the six numbers that you obtained from these six multiplications.  In base 10 this is 37\n",
    "\n",
    "We can express these instructions more compactly using the following summation:\n",
    "\n",
    "$$\n",
    "37 = \\sum_{n=0}^5 a_n 2^n\n",
    "$$\n",
    "\n",
    "where $a_0=1$, $a_1=0$, $a_2=1$, $a_3=0$, $a_4=0$ and $a_5=1$.\n",
    "\n",
    "__In this exercise, you to use what you have learned by reading the above to complete the function `getBinary`.__  This function should take an integer with a value less than or equal to 63, which we shall call `N` as input.  The function will then return a NumPy array with 6 elements all of which should equal 0 or 1  The zeroth element in this numpy array should be the equivalent of $a_0$ in the sum above, the second will be $a_1$ the third $a_2$ and so on.\n",
    "\n",
    "At the end of the exercise you should understand the mapping between the microstates a system of $N$ particles that can each be in two states can adopt and the numbers between 0 and $2^N-1$"
   ]
  },
  {
   "cell_type": "code",
   "execution_count": null,
   "metadata": {
    "id": "TVuul9nmBr58"
   },
   "outputs": [],
   "source": [
    "def getBinary( N ) :\n",
    "  # Your code goes here\n",
    "\n",
    "\n",
    "for i in range(16) :\n",
    "    print('The binary representation of', i, 'is', getBinary(i) )\n"
   ]
  },
  {
   "cell_type": "code",
   "execution_count": null,
   "metadata": {
    "id": "EfnEHpGwt-YF"
   },
   "outputs": [],
   "source": [
    "runtest(['test_function1'])"
   ]
  },
  {
   "cell_type": "markdown",
   "metadata": {
    "id": "TijPtlE6SJ-2"
   },
   "source": [
    "# Generating microstates for systems composed of particles with M<10 states\n",
    "\n",
    "The last exercise showed you how to convert numbers into their binary representation.  In the next exercise I will show you how this idea is used when we enumerate all the possible microstates for system composed of $N$ particles that can each be in two states.  Before that, however, I want you to generalise the ideas that were introduced in the last exercise by writing a function that returns the base $M$ representation of a number.  You will need this idea for studyding a sytem with particles that can be in three or more distinct states.\n",
    "\n",
    "The idea that we are using in this exercise and the last one is that of the base of a number.  In this exercise, we are going to generalise this idea by noting that if each particle has $M$ possible states then each of the microstates for a system of $N$ of these particles can be mapped onto the non-negative integers that are less than $M^N$ symbols using:\n",
    "\n",
    "$$\n",
    "\\sum_{n=0}^\\infty a_n M^n\n",
    "$$\n",
    "\n",
    "where the $a_n$ values tell us which states each of the particles is in.  Your task is to write a function that returns the $a_n$ values in the sum above from the value of the sum.\n",
    "In other words, to complete this exercise you will need to complete the function `convertToBase`.  This function takes an integer with a value less than or equal to 127, which we will call `N` in input as well as a second integer called `base`, which must be greater than 1 and less than eleven.  Once you have completed it this function should return a numpy array of length 7.   The zeroth element of this array should be the first digit of the base `base` representation of the number, the first element of the array should be the second digit of the base `base` representation of the number and so on.  In other words, the zeroth element in this numpy array should be the equivalent of $a_0$ in the sum above, the second will be $a_1$ , the third $a_2$ and so on.\n"
   ]
  },
  {
   "cell_type": "code",
   "execution_count": null,
   "metadata": {
    "id": "Abdxasvaq9wR"
   },
   "outputs": [],
   "source": [
    "def convertToBase( N, base ) :\n",
    "  # Your code goes here\n",
    "\n",
    "\n",
    "# This will print some output that will allow you to test your function\n",
    "for b in range(2,10) :\n",
    "    for n in range(10) :\n",
    "        print('The number', n, 'in base', b, 'is', convertToBase(n,b) )\n"
   ]
  },
  {
   "cell_type": "code",
   "execution_count": null,
   "metadata": {
    "id": "owKhMBA64GVm"
   },
   "outputs": [],
   "source": [
    "runtest(['test_function2'])"
   ]
  },
  {
   "cell_type": "markdown",
   "metadata": {
    "id": "LrR0WkDJMphN"
   },
   "source": [
    "# Generating all the microstates\n",
    "\n",
    "Now that we know how to convert a number into its base $M$ representation we have all that we need to enumerate all the microstates for a system of $N$ particles that can each be in one of $M$ distinct states.  Such a system can be in one of $M^N$ distinct microstates.  Each of these microstates can be represented using a single integer that is greater than or equal to 0 and less than $M^N$.  You generate the microstate for the number $X$ by converting $X$ to its base $M$ representation.  The $N$ digits of this base $M$ representation of the number then represent the states of the $N$ particles.\n",
    "\n",
    "If you want to generate all the microstates you thus:\n",
    "\n",
    "1. Write a loop that runs from 0 up to $M^N$ like this:\n",
    "\n",
    "```python\n",
    "for i in range(M**N) :\n",
    "```\n",
    "\n",
    "2. You then generate the binary representation for each $i$ value in the loop.\n",
    "\n",
    "With all that in mind to complete this task you must complete the function `microstate_energies`.  This function takes a single argument `N`, which should be equal to the number of particles in the system.  Within the function you should generate all the microstates for a system with N particles that can be each be in 2 states with energies of -1 and +1.  The energies of all these microstates should be computed and stored in a numpy array with $2^N$ elements, which the function will return.  In other words, you will need to write a loop something like this in the function:\n",
    "\n",
    "```python\n",
    "for i in range(2**N):\n",
    "    # Generate coordinates of particles for ith microstate\n",
    "    coords = genstate( i )\n",
    "    # Evaluate the energy of the microstate\n",
    "    energies[i] = hamiltonian( coords, -1 )\n",
    "```\n",
    "\n",
    "You may choose to generate the coordinates of the particles in a separate function called `coords`.  You can also use the `hamiltonian` function that you wrote for the third exercise in this notebook as I have done here.  That function calculates the energy as:\n",
    "\n",
    "$$\n",
    "E = - H \\sum_{i=1}^N s_i\n",
    "$$\n",
    "\n",
    "and that the energy function that I have asked you to compute here is:\n",
    "\n",
    "$$\n",
    "E = \\sum_{i=1}^N s_i \n",
    "$$"
   ]
  },
  {
   "cell_type": "code",
   "execution_count": null,
   "metadata": {
    "id": "tYIa6N9hYRQx"
   },
   "outputs": [],
   "source": [
    "def microstate_energies( N ) :\n",
    "    # Create an array to hold the energies of all the microstates\n",
    "    energies = np.zeros( 2**N )\n",
    "    for i in range(2**N) :\n",
    "        # Generate coordinates of particles for ith microstate\n",
    "\n",
    "        # Evaluate the energy of the microstate and store it in the array that we will return\n",
    "        energies[i] =\n",
    "\n",
    "   # Return the array that holds the energies of the microstates\n",
    "   return energies\n"
   ]
  },
  {
   "cell_type": "code",
   "execution_count": null,
   "metadata": {
    "id": "Bb6JEbQcXSEu"
   },
   "outputs": [],
   "source": [
    "runtest(['test_function3'])"
   ]
  },
  {
   "cell_type": "markdown",
   "metadata": {
    "id": "MTfpUmoeoH7V"
   },
   "source": [
    "# Calculating the canonical partition function\n",
    "\n",
    "Now that we know how to generate all the possible microstates for a set of N spins we are in a position where we can finally calculate the canonical partition function using:\n",
    "\n",
    "$$\n",
    "Z = \\sum_{j=1}^K e^{-\\beta E(\\mathbf{x}_j)}\n",
    "$$\n",
    "\n",
    "Remember that, as discussed in the following video, in this expression beta is the inverse temperature and the sum runs over the $K$ microstates that the system can adopt. $E$, meanwhile, is the Hamiltonian.\n",
    "\n",
    "If you want to read more about the derivativation of the partition function you can find information [here](https://robust-creature-3df.notion.site/Generalised-partition-function-10ed8ca2b3c943aa82dff2116ae955e5?pvs=4).\n"
   ]
  },
  {
   "cell_type": "code",
   "execution_count": 4,
   "metadata": {},
   "outputs": [
    {
     "data": {
      "text/html": [
       "<iframe width=\"560\" height=\"315\" src=\"https://www.youtube.com/embed/p6crWN5EBSE?si=DaKCxzc2vz4J66RV\" title=\"YouTube video player\" frameborder=\"0\" allow=\"accelerometer; autoplay; clipboard-write; encrypted-media; gyroscope; picture-in-picture; web-share\" referrerpolicy=\"strict-origin-when-cross-origin\" allowfullscreen></iframe>\n"
      ],
      "text/plain": [
       "<IPython.core.display.HTML object>"
      ]
     },
     "metadata": {},
     "output_type": "display_data"
    }
   ],
   "source": [
    "%%HTML\n",
    "<iframe width=\"560\" height=\"315\" src=\"https://www.youtube.com/embed/p6crWN5EBSE?si=DaKCxzc2vz4J66RV\" title=\"YouTube video player\" frameborder=\"0\" allow=\"accelerometer; autoplay; clipboard-write; encrypted-media; gyroscope; picture-in-picture; web-share\" referrerpolicy=\"strict-origin-when-cross-origin\" allowfullscreen></iframe>"
   ]
  },
  {
   "cell_type": "markdown",
   "metadata": {},
   "source": [
    "For this exercise, we are going to assume that each particle can be in one of two distinct states with coordinates -1 and +1 and that if we have the coordinates of all the particles, $s_i$, we can evaluate the energy using the following Hamiltonian:\n",
    "\n",
    "$$\n",
    "E = -\\sum_{i=1}^N H s_i\n",
    "$$\n",
    "\n",
    "The sum here run over the number of spins, $N$.  The Hamiltonian above is often used to describe a set of (non-interacting) nuclear spins that interact with an external magnetic field.  The $H$ parameter in the expression above is, therefore, the magnetic field strength.  In other words, this is the expression for the Hamiltonian that you implemented in the third exercise of this notebook.  You can thus reuse the implementation of this function that you wrote for that earlier exercise here.\n",
    "\n",
    "When you fill in the code in `main.py` the function `partitionfunction` should return the value of $Z$ calculated by the formula above.  Within this function you will thus have a write a sum over all the possible microstates.  Notice, furthermore, that this function takes `N` (the number of spins), `H` (the magnetic field strength) and `T` (the temperature) as its input parameters.\n",
    "\n",
    "To compute $Z$ you will need to compute the energy for each of the microstates that you generate.  As already explained you should reuse the function called `hamiltonian` that takes the microscopic coordinates for all the spins and the magnetic field strength as its input parameters.  This function should calculate the energy for the input microstate using the Hamiltonian given above.   This function will need to be called for each of the microstates that you generate in the function called `partitionfunction`."
   ]
  },
  {
   "cell_type": "code",
   "execution_count": null,
   "metadata": {
    "id": "RPv6660n3klo"
   },
   "outputs": [],
   "source": [
    "def partitionfunction( N, H, T ) :\n",
    "    Z = 0\n",
    "    # Your code to calculate the partition function goes here\n",
    "\n",
    "    return Z\n",
    "\n",
    "# Calculate the partition function for a system of 5 spins\n",
    "# with no external field at a temperature of 0.1\n",
    "print( partitionfunction(5,0,0.1) )\n",
    "\n",
    "# Calculate the paritition function for a system of 6 spins\n",
    "# with a magnetic field strength of 1 at a temperature of 0.5\n",
    "print( partitionfunction(6,1,0.5) )\n"
   ]
  },
  {
   "cell_type": "code",
   "execution_count": null,
   "metadata": {
    "id": "Yh0GGmsR7mxu"
   },
   "outputs": [],
   "source": [
    "runtest(['test_partition_function', 'test_hamiltonian'])"
   ]
  },
  {
   "cell_type": "markdown",
   "metadata": {
    "id": "YB378m38hMcq"
   },
   "source": [
    "# Plotting the energies of all the microstates\n",
    "\n",
    "Over the course of these next two exercises you are going to learn to compute the density of states.  As discused in the following video, the density of states is a graph that shows how many microstates have each value of the energy.  \n",
    "\n",
    "The reason why the density of states is important is explained in [these notes](https://robust-creature-3df.notion.site/Relation-between-ensembles-5e01240ccaad40ab855e1fdff52ab3ce) and [these notes](https://robust-creature-3df.notion.site/Density-of-states-06dc475947d04a67a2f691481319e07e)."
   ]
  },
  {
   "cell_type": "code",
   "execution_count": 5,
   "metadata": {},
   "outputs": [
    {
     "data": {
      "text/html": [
       "<iframe width=\"560\" height=\"315\" src=\"https://www.youtube.com/embed/b80HqGNaKzw?si=WBnrSRXlt4g7s_86\" title=\"YouTube video player\" frameborder=\"0\" allow=\"accelerometer; autoplay; clipboard-write; encrypted-media; gyroscope; picture-in-picture; web-share\" referrerpolicy=\"strict-origin-when-cross-origin\" allowfullscreen></iframe>\n"
      ],
      "text/plain": [
       "<IPython.core.display.HTML object>"
      ]
     },
     "metadata": {},
     "output_type": "display_data"
    }
   ],
   "source": [
    "%%HTML\n",
    "<iframe width=\"560\" height=\"315\" src=\"https://www.youtube.com/embed/b80HqGNaKzw?si=WBnrSRXlt4g7s_86\" title=\"YouTube video player\" frameborder=\"0\" allow=\"accelerometer; autoplay; clipboard-write; encrypted-media; gyroscope; picture-in-picture; web-share\" referrerpolicy=\"strict-origin-when-cross-origin\" allowfullscreen></iframe>"
   ]
  },
  {
   "cell_type": "markdown",
   "metadata": {},
   "source": [
    "Before learning to calculate the density of states properly we will first review what we have learned in previous exercises and draw a graph that shows the energies of all the microstates that the system can adopt.  In this exercise, we are going to use the same Hamiltonian we used in the previous exercise about the partition function:\n",
    "\n",
    "$$\n",
    "E = -\\sum_{i=1}^N H s_i\n",
    "$$\n",
    "\n",
    "Each of our individual particles can thus be in one of two states, where they have coordinates of 1 or -1 respectively.  Furthermore, for the sake of simplicity we will set the magnetic field, $H$, equal to one.\n",
    "\n",
    "I have written a loop that will run over all the microstates within the code for you.  Within this loop you will need to implement the usual algorithm that converts each of the integers between 0 and $2^{8-1}$ to a set of microscopic coordinates for a system of 8 spins.  You will then need to calculate the energies of each of these states.\n",
    "\n",
    "You will notice that I have created a list called `indices` and a list called `energies` that will ultimately hold each of the numerical indices for the microstates and the energies of each of the microstates respectively.  I have then written code to plot these `indices` against the `energies`.  The final result of your calculation will thus be a graph that contains one point for each microstate that indicates its energy.\n",
    "\n",
    "You can again reuse the function called `hamiltonian` that returns the energy of a set of `N` particles in a magnetic field with strength `H` using the Hamiltonian above.  "
   ]
  },
  {
   "cell_type": "code",
   "execution_count": null,
   "metadata": {
    "id": "v1DRjXEYiC-D"
   },
   "outputs": [],
   "source": [
    "# Generate an index for each microstate\n",
    "indices = np.zeros(2**8)\n",
    "for i in range(2**8) : indices[i] = i\n",
    "\n",
    "energies = np.zeros(2**8)\n",
    "for index in indices :\n",
    "    spins, ind = np.zeros(8), index\n",
    "    # Your code to convert the integer index to the corresponding spin coordinates goes here\n",
    "\n",
    "    energies[int(index)] = hamiltonian( spins, 1 )\n",
    "\n",
    "# This will plot the energies of the configurations against their numerical indexes.\n",
    "plt.plot( indices, energies, 'ko')\n",
    "plt.xlabel('numerical index')\n",
    "plt.ylabel('energy')\n",
    "plt.savefig(\"allenergies.png\")\n",
    "\n",
    "\n",
    "# This code is required for the Automated feedback, don't delete it!\n",
    "fighand = plt.gca()"
   ]
  },
  {
   "cell_type": "code",
   "execution_count": null,
   "metadata": {
    "id": "j2Y2xwYoGJfr"
   },
   "outputs": [],
   "source": [
    "runtest(['test_hamiltonian1', 'test_graph2'])"
   ]
  },
  {
   "cell_type": "markdown",
   "metadata": {
    "id": "-9nr1V4EEAtq"
   },
   "source": [
    "# The density of states I\n",
    "\n",
    "What you should have seen in the previous exercise was that a system of 8 Ising spins the energy can only take one of nine possible values; namely, -8, -6, -4, -2, 0, 2, 4, 6 and 8.  Rather than plotting the energies of all the states it might therefore be useful to plot the number of microstates that have an energy of -8, the number of microstates that have an energy of -6, the number of microstates that have an energy of -4, the number of microstates that have an energy of -2 and so on as we are going to learn to do in this exercise.  In other words, what we are going to calculate is a histogram showing the number of microstates that have each of the possible values for the energy.  The graph that we will draw is the density of states.\n",
    "\n",
    "We are once again going to use the following Hamiltonian\n",
    "\n",
    "$$\n",
    "E = -\\sum_{i=1}^N H s_i\n",
    "$$\n",
    "\n",
    "with $N=8$ and $H=1$ so you can use the `hamiltonian` function you wrote for exercise 3 again.  You then also need to write a loop over all the possible microstates.  Within this loop you are going to calculate the energy of each microstate E by using your hamiltonian function.  You will then want to use the list called `number_of_microstates` to record the number of microstates that have each of nine the possible energy values in the list called energies.\n",
    "\n",
    "Notice that we can express the $i$th element of `number_of_microstates` as:\n",
    "\n",
    "$$\n",
    "N(E_i) = \\sum_{j=1}^K \\delta(H(\\mathbf{x}_j) - E_i) \\quad \\textrm{where} \\quad \\delta(0) = 1 \\quad \\textrm{and} \\quad \\delta(x)=0 \\quad \\textrm{if} \\quad x \\ne 0 \n",
    "$$\n",
    "\n",
    "where $E_i$ is the ith element of energies.  When the formula for the elements of `number_of_microstates` is written this way it is tempting to think that we need to write 9 if statements that check the value of each energy against the five values in the list called energies. We do not need to do this, however, as the 9 values in energies are evenly spaced.  This fact ensures that there is a formula that maps the values of the energy on to the corresponding index of `number_of_microstates` that we should add one to:\n",
    "\n",
    "$$\n",
    "-8 \\rightarrow 0 \\quad -6 \\rightarrow 1 \\quad -4 \\rightarrow 2 \\quad -2 \\rightarrow 3 \\quad 0 \\rightarrow 4 \\quad 2 \\rightarrow 4 \\quad 4 \\rightarrow 5 \\quad 6 \\rightarrow 6 \\quad 8 \\rightarrow 7  \n",
    "$$\n",
    "\n",
    "Once you have worked out the formula to use to convert the energies on the left of the arrows above above to the indices on the right you will need to convert the real number that is output to an integer by using the Python command:\n",
    "\n",
    "````\n",
    "int_number = int( real_number )\n",
    "````\n",
    "\n",
    "As with the previous exerise, your Hamiltonian function should work for a system with an arbitrary numbers of spins and an arbitrary magnetic field strength.\n"
   ]
  },
  {
   "cell_type": "code",
   "execution_count": null,
   "metadata": {
    "id": "UkzYCXbheldg"
   },
   "outputs": [],
   "source": [
    "# Create a list of the posssible values the energy can take\n",
    "energies = np.zeros(9)\n",
    "for i in range(9) : energies[i] = -8+i*2\n",
    "\n",
    "# Create a list that will hold the number of microstates with each energy\n",
    "number_of_microstates = np.zeros(9)\n",
    "# Your code to do the loop over all the microstates and to count how many times each\n",
    "# of the energy values appear goes here\n",
    "\n",
    "\n",
    "# This will plot the possible values for the energy against the number of microstates with\n",
    "# that particular energy.\n",
    "plt.bar( energies, number_of_microstates, width=0.1 )\n",
    "plt.xlabel('energy')\n",
    "plt.ylabel('Number of microstates')\n",
    "plt.savefig(\"dos.png\")\n",
    "\n",
    "\n",
    "# This code is required for the Automated feedback, don't delete it!\n",
    "fighand = plt.gca()"
   ]
  },
  {
   "cell_type": "code",
   "execution_count": null,
   "metadata": {
    "id": "42Sg9wgkRMKw"
   },
   "outputs": [],
   "source": [
    "runtest(['test_hamiltonian2', 'test_graph4'])"
   ]
  },
  {
   "cell_type": "markdown",
   "metadata": {
    "id": "mCq7ZSkD3DrZ"
   },
   "source": [
    "# Entropy as a function of energy\n",
    "\n",
    "We can calculate the entropy as a function of the energy, $S(E)$, from the density that we have just calculated because, as discussed in the following video, the entropy associated with energy E is given by:\n",
    "\n",
    "$$\n",
    "S(E) = k_B \\log[\\Omega(E)]\n",
    "$$\n",
    "\n",
    "Where $\\Omega(E)$ is equal to the number of states with energy $E$.  "
   ]
  },
  {
   "cell_type": "code",
   "execution_count": 6,
   "metadata": {},
   "outputs": [
    {
     "data": {
      "text/html": [
       "<iframe width=\"560\" height=\"315\" src=\"https://www.youtube.com/embed/xdo1t6_so20?si=bTIGnGYIQHzCBoe5\" title=\"YouTube video player\" frameborder=\"0\" allow=\"accelerometer; autoplay; clipboard-write; encrypted-media; gyroscope; picture-in-picture; web-share\" referrerpolicy=\"strict-origin-when-cross-origin\" allowfullscreen></iframe>\n"
      ],
      "text/plain": [
       "<IPython.core.display.HTML object>"
      ]
     },
     "metadata": {},
     "output_type": "display_data"
    }
   ],
   "source": [
    "%%HTML\n",
    "<iframe width=\"560\" height=\"315\" src=\"https://www.youtube.com/embed/xdo1t6_so20?si=bTIGnGYIQHzCBoe5\" title=\"YouTube video player\" frameborder=\"0\" allow=\"accelerometer; autoplay; clipboard-write; encrypted-media; gyroscope; picture-in-picture; web-share\" referrerpolicy=\"strict-origin-when-cross-origin\" allowfullscreen></iframe>"
   ]
  },
  {
   "cell_type": "markdown",
   "metadata": {},
   "source": [
    "Your task for this exercise is, therefore, to draw a bar chart that shows the entropy as a function of the energy for a system of 8 particles that can each be in either a +1 or a -1 state.  Once again we will use the following Hamiltonian\n",
    "\n",
    "$$\n",
    "E = -\\sum_{i=1}^N H s_i\n",
    "$$\n",
    "\n",
    "with $N=8$ and $H=1$.\n",
    "\n",
    "As in the previous exerise you will need to use the array called `number_of_microstates` to record the number of microstates that have each of nine the possible energy values in the list called energies.\n",
    "At variance with the previous exericse, however, you will not plot `eneriges` against `number_of_microstates`.   Instead you are going to use the formula above to calculate the entropy associated with each\n",
    "energy, which you will plot on the y-axis.\n",
    "\n",
    "As with the previous exerise, you can reuse the Hamiltonian function that you wrote for exercise 3 in your solution."
   ]
  },
  {
   "cell_type": "code",
   "execution_count": null,
   "metadata": {
    "id": "koN9NjFQJRGs"
   },
   "outputs": [],
   "source": [
    "# Create a list of the posssible values the energy can take\n",
    "energies = np.zeros(9)\n",
    "for i in range(9) : energies[i] = -8+i*2\n",
    "\n",
    "# Create a list that will hold the number of microstates with each energy\n",
    "number_of_microstates = np.zeros(9)\n",
    "# Your code to do the loop over all the microstates and to count how many times each\n",
    "# of the energy values appear goes here\n",
    "\n",
    "\n",
    "# use the number of microstates array to calculate the entropy\n",
    "\n",
    "# This will plot the possible values for the energy against the number of microstates with\n",
    "# that particular energy.\n",
    "plt.bar( energies, entropy, width=0.1 )\n",
    "plt.xlabel('energy')\n",
    "plt.ylabel('Entropy')\n",
    "plt.savefig(\"entropy.png\")\n",
    "\n",
    "\n",
    "# This code is required for the Automated feedback, don't delete it!\n",
    "fighand = plt.gca()"
   ]
  },
  {
   "cell_type": "code",
   "execution_count": null,
   "metadata": {
    "id": "s6PcDpbPyxR1"
   },
   "outputs": [],
   "source": [
    "runtest(['test_hamiltonian5', 'test_graph3'])"
   ]
  },
  {
   "cell_type": "markdown",
   "metadata": {
    "id": "iReST-MtwyBM"
   },
   "source": [
    "# Ensemble averages\n",
    "\n",
    "All the textbooks on statistical mechanics (including these [notes](https://robust-creature-3df.notion.site/The-canonical-NVT-ensemble-112c3f99f215472cae55d5f6c36f4599)) will explain to you how, if you have an analytic expression for the partition function, you can extract the ensemble average for the energy.  The problem is that we have not developed an analytic expression by performing these programming exercises.  When we calculated the partition function we instead wrote a program that allowed us to calculate the value of the canonical partition function when the temperature and the magnetic field took on particular values.  In other words, the partition function we have learned to calculate is a single scalar and not an analytic function.  As it is not an analytic function we cannot extract values for the ensemble averages from it.\n",
    "\n",
    "We must, therefore, calculate ensemble averages by a different means.  In this exercise we are, therefore, going to learn how to compute the ensemble average of the energy by using the following expression:\n",
    "\n",
    "$$\n",
    "\\langle E \\rangle = \\frac{1}{Z} \\sum_{j=1}^K E(\\mathbf{x}_j) e^{-\\beta E(\\mathbf{x}_j)}\n",
    "$$\n",
    "\n",
    "As explained in the following video, in this expression $Z$ is the canonical partition function, which should be evaluated in the way that we learned to calculate it a few exercises previously, $\\beta$ is the inverse temperature and the sum runs over the $K$ microstates, $\\mathbf{x}_j$, that the system can adopt.  $E$, meanwhile, is the Hamiltonian.  "
   ]
  },
  {
   "cell_type": "code",
   "execution_count": 7,
   "metadata": {},
   "outputs": [
    {
     "data": {
      "text/html": [
       "<iframe width=\"560\" height=\"315\" src=\"https://www.youtube.com/embed/N0bZUgiQgBo?si=3RHspyPG5CKOYoN9\" title=\"YouTube video player\" frameborder=\"0\" allow=\"accelerometer; autoplay; clipboard-write; encrypted-media; gyroscope; picture-in-picture; web-share\" referrerpolicy=\"strict-origin-when-cross-origin\" allowfullscreen></iframe>\n"
      ],
      "text/plain": [
       "<IPython.core.display.HTML object>"
      ]
     },
     "metadata": {},
     "output_type": "display_data"
    }
   ],
   "source": [
    "%%HTML \n",
    "<iframe width=\"560\" height=\"315\" src=\"https://www.youtube.com/embed/N0bZUgiQgBo?si=3RHspyPG5CKOYoN9\" title=\"YouTube video player\" frameborder=\"0\" allow=\"accelerometer; autoplay; clipboard-write; encrypted-media; gyroscope; picture-in-picture; web-share\" referrerpolicy=\"strict-origin-when-cross-origin\" allowfullscreen></iframe>"
   ]
  },
  {
   "cell_type": "markdown",
   "metadata": {},
   "source": [
    "In this particular exercise we are going to continue using the Hamiltonian that we have used previously when applying the ideas from the video:\n",
    "\n",
    "$$\n",
    "E = -\\sum_{i=1}^N H s_i\n",
    "$$\n",
    "\n",
    "so each of our individual particles can thus be in one of two states, where they have coordinates of 1 or -1 respectively.  You can thus use the function `hamiltonian` that you wrote when you completed exercise 3 again.\n",
    "\n",
    "The function that returns the ensble average should be called `ensemble_average`.  This function will return the value of $\\langle E \\rangle$ that is calculated using the formula above. Within this function you will thus have a write a sum over all the possible microstates.  Notice, furthermore, that this function takes `N` (the number of spins), `H` (the magnetic field strength) and `T` (the temperature) as its input parameters.\n",
    "\n",
    "To compute $\\langle E \\rangle$ you will need to compute the energy for each of the microstates that you generate by calling the `hamiltonian` function that you wrote when you completed exercise 3 for each of the microstates that you generate in the function called `ensemble_average`."
   ]
  },
  {
   "cell_type": "code",
   "execution_count": null,
   "metadata": {
    "id": "kQq2DA-0PG4C"
   },
   "outputs": [],
   "source": [
    "def ensemble_average( N, H, T ) :\n",
    "    numerator, Z = 0, 0\n",
    "    # Your code to calculate the ensemble average goes here\n",
    "\n",
    "    return numerator / Z\n",
    "\n",
    "# Calculate the ensemble average of the energy for a system of 5 spins\n",
    "# with an external field of 1 at a temperature of 0.1\n",
    "print( ensemble_average(5,0,1.1) )\n",
    "\n",
    "# Calculate the ensemble average for a system of 6 spins\n",
    "# with a magnetic field strength of 1 at a temperature of 0.5\n",
    "print( ensemble_average(6,1,0.5) )\n"
   ]
  },
  {
   "cell_type": "code",
   "execution_count": null,
   "metadata": {
    "id": "8LrfWKvb2pNP"
   },
   "outputs": [],
   "source": [
    "runtest(['test_ensemble_average', 'test_hamiltonian3'])"
   ]
  },
  {
   "cell_type": "markdown",
   "metadata": {
    "id": "FhomDCOguA8L"
   },
   "source": [
    "# Understanding changes in the behaviour of the system\n",
    "\n",
    "Having learned how to calculate ensemble averages we are now in a position where we can study how the behaviour of the system of spins changes as we change the environmental parameters.  In this exercise, for instance, we are going to look at how the average energy changes as we change the temperature of the system.\n",
    "\n",
    "In order to complete this exercise you are going to use the function you just wrote to compute the ensemble average for the energy using this formula:\n",
    "\n",
    "$$\n",
    "\\langle E \\rangle = \\frac{1}{Z} \\sum_{j=1}^K E(\\mathbf{x}_j) e^{-\\beta E(\\mathbf{x}_j)}\n",
    "$$\n",
    "\n",
    "\n",
    "In that last exercise I encouraged you  to write an `ensemble_average` function that works for all `N`, `H` and `T` values even though this was not strictly necessary to complete the exercises.  We can take advantage of that here and use this function to calculate the ensemble averages for $N=8$, $H=1$ and each of the temperatures in the NumPy array `temperatures` to construct our graph of the average energy versus temperature.  "
   ]
  },
  {
   "cell_type": "code",
   "execution_count": null,
   "metadata": {
    "id": "kT064EXKsy0a"
   },
   "outputs": [],
   "source": [
    "energies, k = np.zeros(15), 0\n",
    "temperatures = np.linspace(0.1,3.1,15)\n",
    "for temp in temperatures :\n",
    "    energies[k] =  # Your call to the ensemble_average function goes here\n",
    "    k = k + 1\n",
    "plt.plot( temperatures, energies, 'k-' )\n",
    "plt.xlabel('temperature / arbitrary units')\n",
    "plt.ylabel('average energy / arbitrary units')\n",
    "plt.savefig(\"ensemble-average.png\")\n",
    "\n",
    "\n",
    "# This code is required for the Automated feedback, don't delete it!\n",
    "fighand = plt.gca()"
   ]
  },
  {
   "cell_type": "code",
   "execution_count": null,
   "metadata": {
    "id": "12K4NmSoLHOV"
   },
   "outputs": [],
   "source": [
    "runtest(['test_hamiltonian4', 'test_graph5'])"
   ]
  },
  {
   "cell_type": "markdown",
   "metadata": {
    "id": "00dhwqNEgDqA"
   },
   "source": [
    "# The analytic derivations\n",
    "\n",
    "The method that I showed you in the last exercise for calculating the ensemble average for the energy as a function of temperature will (in theory) work for any system where each the individual particles can adopt one of a finite number of $M$ distinct states.  In other words, this method will work for both interacting and non-interacting particles.  It is important to note, however, that using it is not really feasible when the number of particles in the system, $N$, is large.\n",
    "\n",
    "In some special cases we can also calculate an anlytic expression that gives the partition function in terms of the magnetic field strength $H$, the number of spins and the temperature $T$.  As discussed in the following video, deriving these expressions is certainly possibly for the non-interacting particles that you are studying in this exercise.  "
   ]
  },
  {
   "cell_type": "code",
   "execution_count": 8,
   "metadata": {},
   "outputs": [
    {
     "data": {
      "text/html": [
       "<iframe width=\"560\" height=\"315\" src=\"https://www.youtube.com/embed/-LGHCcr6LOM?si=F-ggFMfw5QC8URsf\" title=\"YouTube video player\" frameborder=\"0\" allow=\"accelerometer; autoplay; clipboard-write; encrypted-media; gyroscope; picture-in-picture; web-share\" referrerpolicy=\"strict-origin-when-cross-origin\" allowfullscreen></iframe>\n"
      ],
      "text/plain": [
       "<IPython.core.display.HTML object>"
      ]
     },
     "metadata": {},
     "output_type": "display_data"
    }
   ],
   "source": [
    "%%HTML\n",
    "<iframe width=\"560\" height=\"315\" src=\"https://www.youtube.com/embed/-LGHCcr6LOM?si=F-ggFMfw5QC8URsf\" title=\"YouTube video player\" frameborder=\"0\" allow=\"accelerometer; autoplay; clipboard-write; encrypted-media; gyroscope; picture-in-picture; web-share\" referrerpolicy=\"strict-origin-when-cross-origin\" allowfullscreen></iframe>"
   ]
  },
  {
   "cell_type": "markdown",
   "metadata": {},
   "source": [
    "In this exercise, I am  going to show you how we can use SymPy to calculate the partition function and the ensemble average for the energy analytically for these non-intracting systems.\n",
    "\n",
    "The first thing you need to recognise when deriving these analytic expression is that if the particles are on a lattice and if they do not interact we can determine the $N$-particle partition function $Z(N)$ from the one particle partition function $Z(1)$ as follows:\n",
    "\n",
    "$$\n",
    "Z(N) = Z(1)^N\n",
    "$$\n",
    "\n",
    "The one particle partition function is easy to calculate as it is simply:\n",
    "\n",
    "$$\n",
    "Z(1) = \\sum_{i=1}^M e^{-\\beta E_i}\n",
    "$$\n",
    "\n",
    "where the sum runs over all the $M$ states the individual particles can be within and where $E_i$ is the energy of the $i$th state the particle can be within.  Hence, for systems with the Hamiltonian that we have been studying in these exercises:\n",
    "\n",
    "$$\n",
    "E = -\\sum_{i=1}^N H s_i\n",
    "$$\n",
    "\n",
    "where the individual particles can be in state $s_n = -1$ or $s_n = +1$ the one particle partition function is thus:\n",
    "\n",
    "$$\n",
    "Z(1) = e^{-\\beta H} + e^{\\beta H} = 2\\cosh(\\beta H)\n",
    "$$\n",
    "\n",
    "so the $N$ particle partition function is;\n",
    "\n",
    "$$\n",
    "Z(N) = 2^N \\cosh^N(\\beta H)\n",
    "$$\n",
    "\n",
    "Once we have an analytic expression for the partition function for our system such as the one above we can easily calculate all thermodynmaic averages.  For example, we can calculate the ensemble average of the energy as a function of temperature from the function aboveusing:\n",
    "\n",
    "$$\n",
    "\\langle E \\rangle = - \\left( \\frac{\\partial \\ln Z}{\\partial \\beta} \\right)\n",
    "$$\n",
    "\n",
    "In the following cell, I have used Sympy and the expressions above to derive an analytic expression for the ensemble average of the energy as a function of temperature.  As you can see, Sympy can compute the partial derivaties that I need directly.  I can thus avoid doing tedious derivations using pen and paper (or I can use Sympy to check that I got the correct results from my tedious derivatives).\n",
    "\n",
    "The derivation that I have done is for the Hamiltonian that I have written in the third of the equations above.  I would like you to modify the code below to derive an analytic expression for the ensemble average of the energy for a system of non-interacting particles that can each occupy three distinct states that have energies of 0, 1 and 3 units.\n",
    "\n",
    "At the end of the cell file I have used NumPy and Matplotlib to draw a graph showing the analytic function for the ensemble average of the energy as a function of temperature.  To pass this exercise you will need to use the expression you derived using Sympy to redraw this graph.  You will pass once you have a graph that shows how the ensemble average of the energy for a system with 8 particles that can each be in the three states described above changes with temperature."
   ]
  },
  {
   "cell_type": "code",
   "execution_count": null,
   "metadata": {
    "id": "vW7xtfaVLx1N"
   },
   "outputs": [],
   "source": [
    "# Define symbols that we will use to represent:\n",
    "# N = number of particles\n",
    "# H = magnetic field strength\n",
    "# B = 1/T where T is temperature\n",
    "N, H, B = sy.symbols('N H B')\n",
    "# One particle partition function\n",
    "Z1 = sy.cosh( B*H )\n",
    "# N particle partition function\n",
    "ZN = Z1**N\n",
    "# Now ensemble average of the energy\n",
    "# sy.diff calculates the derivative with respect to B\n",
    "E = -sy.diff( sy.log(ZN), B )\n",
    "\n",
    "print('The ensemble average for the energy can be calculated using', E )\n",
    "\n",
    "# Lets now draw a graph of this result using matplotlib and NumPy\n",
    "# WE are setting H=1 and N=8 here\n",
    "temperatures = np.linspace(0.1,3,100)\n",
    "energies = -8*np.sinh( 1/temperatures ) / np.cosh( 1/temperatures )\n",
    "\n",
    "plt.plot( temperatures, energies, 'k-' )\n",
    "plt.xlabel('temperature')\n",
    "plt.ylabel('average energy')\n",
    "plt.savefig(\"analytic.png\")\n",
    "\n",
    "\n",
    "# This code is required for the Automated feedback, don't delete it!\n",
    "fighand = plt.gca()"
   ]
  },
  {
   "cell_type": "code",
   "execution_count": null,
   "metadata": {
    "id": "4bua-n2WqrFN"
   },
   "outputs": [],
   "source": [
    "runtest(['test_graph1'])"
   ]
  }
 ],
 "metadata": {
  "colab": {
   "cell_execution_strategy": "setup",
   "collapsed_sections": [
    "NVOkK4hCU7RK"
   ],
   "private_outputs": true,
   "provenance": []
  },
  "kernelspec": {
   "display_name": "Python 3 (ipykernel)",
   "language": "python",
   "name": "python3"
  },
  "language_info": {
   "codemirror_mode": {
    "name": "ipython",
    "version": 3
   },
   "file_extension": ".py",
   "mimetype": "text/x-python",
   "name": "python",
   "nbconvert_exporter": "python",
   "pygments_lexer": "ipython3",
   "version": "3.9.19"
  }
 },
 "nbformat": 4,
 "nbformat_minor": 1
}
