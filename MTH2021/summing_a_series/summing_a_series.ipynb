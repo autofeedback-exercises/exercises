{
 "cells": [
  {
   "cell_type": "markdown",
   "metadata": {
    "id": "NVOkK4hCU7RK"
   },
   "source": [
    "# Run this cell first "
   ]
  },
  {
   "cell_type": "code",
   "execution_count": null,
   "metadata": {
    "id": "QCMw-lybOsz-"
   },
   "outputs": [],
   "source": [
    "# this code enables the automated feedback. If you remove this, you won't get any feedback\n",
    "# so don't delete this cell!\n",
    "try:\n",
    "  import AutoFeedback\n",
    "except (ModuleNotFoundError, ImportError):\n",
    "  !pip install git+https://github.com/abrown41/AutoFeedback@notebook\n",
    "  import AutoFeedback\n",
    "\n",
    "try:\n",
    "  from testsrc import test_main\n",
    "except (ModuleNotFoundError, ImportError):\n",
    "  !pip install \"git+https://github.com/autofeedback-exercises/exercises.git#subdirectory=MTH2021/summing_a_series\"\n",
    "  from testsrc import test_main\n",
    "\n",
    "def runtest():\n",
    "  import unittest\n",
    "  from contextlib import redirect_stderr\n",
    "  from os import devnull\n",
    "  with redirect_stderr(open(devnull, 'w')):\n",
    "    unittest.main(argv=[''], module=test_main, exit=False)\n"
   ]
  },
  {
   "cell_type": "markdown",
   "metadata": {
    "id": "re035fXS3gi5"
   },
   "source": [
    "# Summing a series\n",
    "\n",
    "Create a function named `sum_geometric` which evaluates the geometric series\n",
    "\n",
    "$$\\sum \\limits _{n=0} ^{N} x^n$$\n",
    "\n",
    "for some given values of _x_ and _N_. Please note the difference between _n_ and _N_: _n_ is a dummy variable that designates the index of the summation (and thereby the power of _x_) and _N_ is the upper limit on the value of _n_.\n",
    "\n",
    "The function should return the value of the geometric series as calculated with those inputs\n",
    "\n",
    "E.G.\n",
    "\n",
    "```\n",
    "print (sum_geometric(0.5,4))\n",
    "```\n",
    "\n",
    "should print\n",
    "\n",
    "```\n",
    "1.9375\n",
    "```\n",
    "\n",
    "I.E\n",
    "\n",
    "```\n",
    "1 + 0.5 + 0.25 + 0.125 + 0.0625\n",
    "```\n",
    "\n",
    "To do this\n",
    "\n",
    "1. Define the function with the required input variables (`x` and `N`)\n",
    "2. Define a variable `running_total` and set its value to zero\n",
    "3. Set up a loop which will run over the required values of the variable `n`\n",
    "4. Within the loop, calculate the value of a variable (call it '`term`') which is the value of the term in the geometric series (i.e. 'x to the n')\n",
    "5. Add `term` onto the `running_total`: i.e. `running_total` should be set equal to `running_total` + `term`\n",
    "6. Outside the loop, return the value of the `running_total`.\n",
    "\n",
    "\n",
    "\n"
   ]
  },
  {
   "cell_type": "code",
   "execution_count": null,
   "metadata": {
    "id": "-Gvh6NfQ3I2C"
   },
   "outputs": [],
   "source": []
  },
  {
   "cell_type": "code",
   "execution_count": null,
   "metadata": {
    "id": "5At9CUQ43LdY"
   },
   "outputs": [],
   "source": [
    "runtest()"
   ]
  },
  {
   "cell_type": "markdown",
   "metadata": {},
   "source": [
    "Once you have a working piece of code experiment with your function by looking at the value of the sum for increasing values of $N$. Provided your chosen value of $x$ satisfies $-1<x<1$, the behaviour you (should) observe is convergence of the sum to a limit. If instead you have $|x|\\geq 1$, the sum will diverge. E.G you might try"
   ]
  },
  {
   "cell_type": "code",
   "execution_count": null,
   "metadata": {},
   "outputs": [],
   "source": [
    "for N in range(10):\n",
    "    print(sum_geometric(0.5, N))"
   ]
  }
 ],
 "metadata": {
  "colab": {
   "cell_execution_strategy": "setup",
   "collapsed_sections": [
    "NVOkK4hCU7RK"
   ],
   "private_outputs": true,
   "provenance": []
  },
  "kernelspec": {
   "display_name": "Python 3 (ipykernel)",
   "language": "python",
   "name": "python3"
  },
  "language_info": {
   "codemirror_mode": {
    "name": "ipython",
    "version": 3
   },
   "file_extension": ".py",
   "mimetype": "text/x-python",
   "name": "python",
   "nbconvert_exporter": "python",
   "pygments_lexer": "ipython3",
   "version": "3.9.13"
  }
 },
 "nbformat": 4,
 "nbformat_minor": 1
}
