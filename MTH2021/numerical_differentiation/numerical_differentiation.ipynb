{
 "cells": [
  {
   "cell_type": "markdown",
   "metadata": {
    "id": "NVOkK4hCU7RK"
   },
   "source": [
    "# ."
   ]
  },
  {
   "cell_type": "code",
   "execution_count": null,
   "metadata": {
    "id": "QCMw-lybOsz-"
   },
   "outputs": [],
   "source": [
    "# this code enables the automated feedback. If you remove this, you won't get any feedback\n",
    "# so don't delete this cell!\n",
    "try:\n",
    "  import AutoFeedback\n",
    "except (ModuleNotFoundError, ImportError):\n",
    "  !pip install git+https://github.com/abrown41/AutoFeedback@notebook\n",
    "  import AutoFeedback\n",
    "\n",
    "try:\n",
    "  from testsrc import test_main\n",
    "except (ModuleNotFoundError, ImportError):\n",
    "  !pip install \"git+https://github.com/autofeedback-exercises/exercises.git@testpip#subdirectory=MTH2021/numerical_differentiation\"\n",
    "  from testsrc import test_main\n",
    "\n",
    "def runtest():\n",
    "  import unittest\n",
    "  from contextlib import redirect_stderr\n",
    "  from os import devnull\n",
    "  with redirect_stderr(open(devnull, 'w')):\n",
    "    unittest.main(argv=[''], module=test_main, exit=False)\n"
   ]
  },
  {
   "cell_type": "markdown",
   "metadata": {
    "id": "re035fXS3gi5"
   },
   "source": [
    "# Numerical differentiation with python\n",
    "\n",
    "Consider a function $f(x)$. It can be shown by considering the second order Taylor expansions of $f(x + h)$ and $f(x - h)$, that the second derivative of $f$ can be approximated by\n",
    "\n",
    "$$f^{\\prime\\prime}(x) \\approx \\dfrac{f(x-h) -2f(x) + f(x+h)}{h^2}$$\n",
    "\n",
    "(You should verify this for yourself). If we use a grid of $x$ values, such that\n",
    "\n",
    "$$x_i = ih, \\; \\; f_i = f(x_i), \\quad \\mathrm{ where } \\; i=0,1,\\ldots,n_s$$\n",
    "\n",
    "this formula for the second derivative can be applied to each point in the interval as\n",
    "\n",
    "$$f^{\\prime\\prime}(x) \\approx \\dfrac{1}{h^2} \\left(f_{i-1} - 2f_i +f_{i+1}\\right) \\quad \\mathrm{ for } \\;i = 1,2,\\ldots,n_{s}-1$$\n",
    "\n",
    "We note two things: \n",
    "\n",
    "1. This formula only applies to the so-called 'internal points' (i.e. we can't use it for the first and last points). \n",
    "2. The formula consititues a set of linear equations (i.e. one equation for each value of $i$).\n",
    "\n",
    "We will see in subsequent exercises that the first of these issues is mitigated in real problems (where we solve a differential equation) by the use of appropriate boundary conditions. For now, we will make the assumption that the second derivative at the end points of our interval is zero, i.e\n",
    "\n",
    "$$f''_0 =f''_{n_s} = 0.$$\n",
    "\n",
    "These two equations, plus the set of equations defined above, give us a set of $ns+1$ equations which we may solve to compute the second derivative $(f'')$ at every point in our interval. These equations can be expressed in matrix form as\n",
    "\n",
    "$$\\mathbf{f}^{\\prime\\prime} = \\mathbf{Df},$$\n",
    "\n",
    "where the matrix $\\mathbf{D}$ encodes the coefficients of our equations as\n",
    "\n",
    "$$\\mathbf{D} = \\dfrac{1}{h^2}\\left(\n",
    "\\begin{array}{ccccccc}\n",
    "0 & 0 & 0 & \\ldots & 0 &0 & 0 \\\\\n",
    "1 & -2 & 1 & \\ldots & 0 &0 & 0 \\\\\n",
    "0 &1 & -2  & \\ldots & 0 &0 & 0 \\\\\n",
    "\\vdots &\\vdots &\\vdots &\\ddots &\\vdots &\\vdots &\\vdots \\\\\n",
    "0 &0 & 0& \\ldots &-2 & 1 &0 \\\\\n",
    "0 &0 & 0& \\ldots &1 &-2 &1 \\\\\n",
    "0 & 0 & 0 & \\ldots & 0 &0 & 0 \\\\\n",
    "\\end{array}\n",
    "\\right).\n",
    "$$\n",
    "\n",
    "If you're in doubt about this, try writing out the first few equations (i.e. multiply out the top row of the matrix times the array of values $f_0$, $f_1$, $f_2$ etc.), then the second row etc. \n",
    " \n",
    "---\n",
    "\n",
    "### TASKS\n",
    "\n",
    "Set up/compute the following variables (taking care to name them correctly).\n",
    "\n",
    "* `N=101`: the number of points in our grid of $x$ values\n",
    "* `x`: a linearly spaced array of `N` values beginning at $-5$ and ending at $5$\n",
    "* `h`: the gap between successive values of `x`.\n",
    "* `f= np.exp(-x**2)`: a sample function to differentiate\n",
    "* `D`: the matrix $\\mathbf{D}$ as defined above $^*$\n",
    "* `f2p`: the second derivative of `f` as computed using $\\mathbf{D}\\cdot \\mathbf{f}$ $^{**}$ \n",
    "\n",
    "$^*$ To define the matrix, start by creating a [matrix full of zeros](https://moonbooks.org/Articles/How-to-create-and-initialize-a-matrix-in-python-using-numpy-/#create-a-matrix-containing-only-0), and then use a for-loop to set the `D[i, i-1]`, `D[i, i]` and `D[i, i+1]` elements to the correct values.\n",
    "\n",
    "**Note, this is a dot product (use `np.dot`)\n",
    "\n",
    "\n",
    "You can test whether your code accurately computes the derivative of $f$ by computing the derivative of the function \n",
    "\n",
    "$$f(x) = e^{-x^2}$$\n",
    "\n",
    "by hand, then defining a new variable and plotting it and `f2p` on the same graph to see if they match (note, the automated feedback doesn't test for this plot, only for the correct definition of the variables in the list above).\n"
   ]
  },
  {
   "cell_type": "code",
   "execution_count": null,
   "metadata": {
    "id": "-Gvh6NfQ3I2C"
   },
   "outputs": [],
   "source": []
  },
  {
   "cell_type": "code",
   "execution_count": null,
   "metadata": {
    "id": "5At9CUQ43LdY"
   },
   "outputs": [],
   "source": [
    "runtest()"
   ]
  },
  {
   "cell_type": "code",
   "execution_count": null,
   "metadata": {},
   "outputs": [],
   "source": []
  }
 ],
 "metadata": {
  "colab": {
   "cell_execution_strategy": "setup",
   "collapsed_sections": [
    "NVOkK4hCU7RK"
   ],
   "private_outputs": true,
   "provenance": []
  },
  "kernelspec": {
   "display_name": "Python 3 (ipykernel)",
   "language": "python",
   "name": "python3"
  },
  "language_info": {
   "codemirror_mode": {
    "name": "ipython",
    "version": 3
   },
   "file_extension": ".py",
   "mimetype": "text/x-python",
   "name": "python",
   "nbconvert_exporter": "python",
   "pygments_lexer": "ipython3",
   "version": "3.9.13"
  }
 },
 "nbformat": 4,
 "nbformat_minor": 1
}
