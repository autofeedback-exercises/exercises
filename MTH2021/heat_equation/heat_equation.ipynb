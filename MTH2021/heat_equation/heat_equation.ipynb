{
 "cells": [
  {
   "cell_type": "markdown",
   "metadata": {
    "id": "NVOkK4hCU7RK"
   },
   "source": [
    "# Run this cell first"
   ]
  },
  {
   "cell_type": "code",
   "execution_count": null,
   "metadata": {
    "id": "QCMw-lybOsz-"
   },
   "outputs": [],
   "source": [
    "# this code enables the automated feedback. If you remove this, you won't get any feedback\n",
    "# so don't delete this cell!\n",
    "try:\n",
    "  import AutoFeedback\n",
    "except (ModuleNotFoundError, ImportError):\n",
    "  !pip install AutoFeedback\n",
    "  import AutoFeedback\n",
    "\n",
    "try:\n",
    "  from testsrc import test_main\n",
    "except (ModuleNotFoundError, ImportError):\n",
    "  !pip install \"git+https://github.com/autofeedback-exercises/exercises.git#subdirectory=MTH2021/heat_equation\"\n",
    "  from testsrc import test_main\n",
    "\n",
    "def runtest():\n",
    "  import unittest\n",
    "  from contextlib import redirect_stderr\n",
    "  from os import devnull\n",
    "  with redirect_stderr(open(devnull, 'w')):\n",
    "    unittest.main(argv=[''], module=test_main, exit=False)\n"
   ]
  },
  {
   "cell_type": "markdown",
   "metadata": {
    "id": "re035fXS3gi5"
   },
   "source": [
    "# The solution of the heat equation\n",
    "\n",
    "In the previous exercise, we computed the Fourier sum for a function of one variable. In this exercise, we will extend this function to account for the solution of the heat equation, which depends on both space and time ($x$ and $t$).\n",
    "\n",
    "Recall that the Fourier sum which describes the solution of the heat equation is \n",
    "\n",
    "$$u\\left(x,t\\right)\\: = \\sum \\limits _{n=1} ^{N} B_n \\sin \\dfrac{n\\pi x}{l} \\,\\exp \\left(-\\dfrac{n^2\\pi ^2}{l^2} Kt\\right)$$\n",
    "\n",
    "Thus we need to extend our function `fourierSum` to include the time-dependent exponential decay term. \n",
    "\n",
    "Begin by copying in your function, `fourierSum` from the previous exercise, and extend it so that \n",
    "\n",
    "\n",
    "1. it takes *five* input variables, `(Bn, x, l, t, K)` (make sure you get the order right):\n",
    "      * `Bn` contains a list of coefficients for the sine terms in the Fourier expansion\n",
    "      * `x` is an array of values for the independent variable $x$ \n",
    "      * `l` is a single value corresponding to the parameter $l$ (the length of the spatial interval)\n",
    "      * `t` is a single value for the independent variable $t$\n",
    "      * `K` is the diffusion constant from the heat equation\n",
    "2. returns the solution of the heat equation computed with the input variables, i.e. $u(x, t)$ as given in the equation above.\n",
    "\n",
    "Note that the returned object is an array of the same length as `x`, which can then be plotted as a function of `x`. Thus, by varying the number of coefficients in the list `Bn` you may investigate the effect of including different numbers of terms in the Fourier sum, i.e. varying the value of $N$ in the summation. Or, by calling the function with different values of `t` you can produce plots of the solution at different times.  These are the two tasks labelled 2(a) and 2(b) in the project description."
   ]
  },
  {
   "cell_type": "code",
   "execution_count": null,
   "metadata": {
    "id": "-Gvh6NfQ3I2C"
   },
   "outputs": [],
   "source": []
  },
  {
   "cell_type": "code",
   "execution_count": null,
   "metadata": {
    "id": "5At9CUQ43LdY"
   },
   "outputs": [],
   "source": [
    "runtest()"
   ]
  }
 ],
 "metadata": {
  "colab": {
   "cell_execution_strategy": "setup",
   "collapsed_sections": [
    "NVOkK4hCU7RK"
   ],
   "private_outputs": true,
   "provenance": []
  },
  "kernelspec": {
   "display_name": "Python 3 (ipykernel)",
   "language": "python",
   "name": "python3"
  },
  "language_info": {
   "codemirror_mode": {
    "name": "ipython",
    "version": 3
   },
   "file_extension": ".py",
   "mimetype": "text/x-python",
   "name": "python",
   "nbconvert_exporter": "python",
   "pygments_lexer": "ipython3",
   "version": "3.9.13"
  }
 },
 "nbformat": 4,
 "nbformat_minor": 1
}
