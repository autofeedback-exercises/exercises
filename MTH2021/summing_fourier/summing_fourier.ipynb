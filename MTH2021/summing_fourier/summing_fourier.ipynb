{
 "cells": [
  {
   "cell_type": "markdown",
   "metadata": {
    "id": "NVOkK4hCU7RK"
   },
   "source": [
    "# ."
   ]
  },
  {
   "cell_type": "code",
   "execution_count": null,
   "metadata": {
    "id": "QCMw-lybOsz-"
   },
   "outputs": [],
   "source": [
    "# this code enables the automated feedback. If you remove this, you won't get any feedback\n",
    "# so don't delete this cell!\n",
    "try:\n",
    "  import AutoFeedback\n",
    "except (ModuleNotFoundError, ImportError):\n",
    "  !pip install git+https://github.com/abrown41/AutoFeedback@notebook\n",
    "  import AutoFeedback\n",
    "\n",
    "try:\n",
    "  from testsrc import test_main\n",
    "except (ModuleNotFoundError, ImportError):\n",
    "  !pip install \"git+https://github.com/autofeedback-exercises/exercises.git@testpip#subdirectory=MTH2021/summing_fourier\"\n",
    "  from testsrc import test_main\n",
    "\n",
    "def runtest():\n",
    "  import unittest\n",
    "  from contextlib import redirect_stderr\n",
    "  from os import devnull\n",
    "  with redirect_stderr(open(devnull, 'w')):\n",
    "    unittest.main(argv=[''], module=test_main, exit=False)\n"
   ]
  },
  {
   "cell_type": "markdown",
   "metadata": {
    "id": "re035fXS3gi5"
   },
   "source": [
    "# Summing the Fourier Series\n",
    "\n",
    "In the last exercise you have seen the general structure for computing summations with python.\n",
    "\n",
    "1. Initialise sum (set `running_total = 0`)\n",
    "2. Loop over terms\n",
    "   1. add `term` to `running_total` \n",
    "\n",
    "In this exercise you will modify this general algorithm to compute the Fourier series expansion for a given set of expansion coefficients. Because the application we're working with (the Heat equation with homogeneous boundary conditions) requires Fourier series expansions for odd terms only (i.e. containing only sine terms), and so the summation we need to evaluate is of the form\n",
    "\n",
    "$$F = \\sum \\limits _{n=1} ^N B_n \\sin \\dfrac{n\\pi x}{l}.$$\n",
    "\n",
    "Your function should\n",
    "\n",
    "1. be called `fourierSum`\n",
    "2. take three input variables, `(Bn, x, l)` where\n",
    "      * `Bn` contains a list of coefficients for the sine terms in the Fourier expansion\n",
    "      * `x` is an array of values for the independent variable $x$\n",
    "      * `l` is a single value corresponding to the parameter $l$ (the length of the spatial interval)\n",
    "3. Return the computed sum."
   ]
  },
  {
   "cell_type": "code",
   "execution_count": null,
   "metadata": {
    "id": "-Gvh6NfQ3I2C"
   },
   "outputs": [],
   "source": []
  },
  {
   "cell_type": "code",
   "execution_count": null,
   "metadata": {
    "id": "5At9CUQ43LdY"
   },
   "outputs": [],
   "source": [
    "runtest()"
   ]
  },
  {
   "cell_type": "markdown",
   "metadata": {},
   "source": [
    "Once your code is passing tests, to test your function, you will need to provide the list of coefficients, `Bn`. You can use the coefficients you derive for one of the cases from the project description for a specific value of $l$. For instance, if you find\n",
    "\n",
    "$$B_n = \\dfrac{l}{2n\\pi} \\quad \\mathrm{ for } \\quad n=1,2,\\ldots$$\n",
    "\n",
    "then you could define, for the case of $l = 1$,\n",
    "\n",
    "```python\n",
    "import numpy as np\n",
    "Bn = [1/(2*np.pi), 1/(4*np.pi), 1/(6*np.pi)]\n",
    "```\n",
    "\n",
    "or, programmatically, for $l$ = 2 you could write\n",
    "\n",
    "```python\n",
    "l = 2\n",
    "Bn = l/(np.arange(1,11)*np.pi)\n",
    "```\n",
    "which will define the first 10 coefficients for you.  \n",
    "\n",
    "Your function can then be called with appropriate inputs, and the output plotted to test the behaviour\n",
    "\n",
    "```python\n",
    "import matplotlib.pyplot as plt\n",
    "\n",
    "x = np.linspace(0, l, 100)\n",
    "y = fourierSum(Bn, x, l)\n",
    "plt.plot(x, y)\n",
    "```\n",
    "to ensure that the Fourier Series expansion resembles the function you are expanding."
   ]
  },
  {
   "cell_type": "code",
   "execution_count": null,
   "metadata": {},
   "outputs": [],
   "source": []
  }
 ],
 "metadata": {
  "colab": {
   "cell_execution_strategy": "setup",
   "collapsed_sections": [
    "NVOkK4hCU7RK"
   ],
   "private_outputs": true,
   "provenance": []
  },
  "kernelspec": {
   "display_name": "Python 3 (ipykernel)",
   "language": "python",
   "name": "python3"
  },
  "language_info": {
   "codemirror_mode": {
    "name": "ipython",
    "version": 3
   },
   "file_extension": ".py",
   "mimetype": "text/x-python",
   "name": "python",
   "nbconvert_exporter": "python",
   "pygments_lexer": "ipython3",
   "version": "3.9.13"
  }
 },
 "nbformat": 4,
 "nbformat_minor": 1
}
