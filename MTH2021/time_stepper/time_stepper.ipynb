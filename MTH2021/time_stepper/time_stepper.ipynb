{
 "cells": [
  {
   "cell_type": "markdown",
   "metadata": {
    "id": "NVOkK4hCU7RK"
   },
   "source": [
    "# Numerical solution of the Heat equation\n",
    "\n",
    "In the previous exercise, we saw how we could encode a differential operator in a matrix, and apply it to a function to compute its second derivative. \n",
    "\n",
    "In the project description we adopt a grid of $x$ values spaced by $h$, and a grid of time values spaced by $\\epsilon$. Then are given that the solution of the heat equation may be computed from\n",
    "\n",
    "$$\\mathbf{u}^{(k+1)} = \\mathbf{A} \\mathbf{u}^{(k)}$$\n",
    "\n",
    "where the matrix $\\mathbf{A}$ is given by\n",
    "$$\n",
    "\\mathbf{A} = \\left(\n",
    "\\begin{array}{ccccccc}\n",
    "0 & 0 & 0 & \\ldots & 0 &0 & 0 \\\\\n",
    "\\alpha & \\beta & \\alpha & \\ldots & 0 &0 & 0 \\\\\n",
    "0 &\\alpha & \\beta  & \\ldots & 0 &0 & 0 \\\\\n",
    "\\vdots &\\vdots &\\vdots &\\ddots &\\vdots &\\vdots &\\vdots \\\\\n",
    "0 &0 & 0& \\ldots &\\beta & \\alpha &0 \\\\\n",
    "0 &0 & 0& \\ldots &\\alpha &\\beta &\\alpha \\\\\n",
    "0 & 0 & 0 & \\ldots & 0 &0 & 0 \\\\\n",
    "\\end{array}\n",
    "\\right)\n",
    "$$\n",
    "\n",
    "and \n",
    "\n",
    "$$\\alpha = \\dfrac{K\\varepsilon}{h^2} {\\quad \\mathrm{ and } \\quad } \\beta=1-2\\alpha$$\n",
    "\n",
    "where $K$ is the diffusion constant defined in the problem.\n",
    "\n",
    "Copy your solution from the previous exercise and modify it as follows.\n",
    "\n",
    "* define the parameters of the problem, $K$ and $l$, the diffusion constant and spatial interval respectively. To begin with, you may set `K=1` and `l=1`\n",
    "* define the grid `x`, e.g., 101 linearly spaced points between `0` and `l`\n",
    "* define the grid spacing `h` appropriately, based on `x`\n",
    "* define the time step `epsilon` in terms of `K` and `h`, using the stability condition ($\\alpha = 0.5$)\n",
    "* define parameters `alpha` and `beta` using the formulas given\n",
    "* define the matrix `A` in terms of `alpha` and `beta`\n",
    "* define the initial array, `u` using $f(x) = 4x(1 − x)$\n",
    "\n",
    "Your code should then contain a loop that will allow it to perform a given number of time steps (computing `A . u` repeatedly). You can then compare the temperature distribution for the final value of t with that obtained for the correct initial condition in Task 1. If the two distributions are in agreement, there’s a good chance your code is working correctly!\n",
    "\n",
    "---\n",
    "*The stability condition is strictly given by $\\alpha \\leq 0.5$. But in order to define `epsilon` you need to assign a specific value, and 0.5 works well for this.\n",
    "\n",
    "NOTE: there are no automated checks for this code, thus you should carry out appropriate checks yourself to make sure things are working correctly (e.g. printing out variables to check the numbers look reasonable).\n"
   ]
  },
  {
   "cell_type": "code",
   "execution_count": null,
   "metadata": {
    "vscode": {
     "languageId": "plaintext"
    }
   },
   "outputs": [],
   "source": []
  }
 ],
 "metadata": {
  "colab": {
   "cell_execution_strategy": "setup",
   "collapsed_sections": [
    "NVOkK4hCU7RK"
   ],
   "private_outputs": true,
   "provenance": []
  },
  "kernelspec": {
   "display_name": "Python 3 (ipykernel)",
   "language": "python",
   "name": "python3"
  },
  "language_info": {
   "codemirror_mode": {
    "name": "ipython",
    "version": 3
   },
   "file_extension": ".py",
   "mimetype": "text/x-python",
   "name": "python",
   "nbconvert_exporter": "python",
   "pygments_lexer": "ipython3",
   "version": "3.9.13"
  }
 },
 "nbformat": 4,
 "nbformat_minor": 1
}
