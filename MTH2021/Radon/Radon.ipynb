{
 "cells": [
  {
   "cell_type": "markdown",
   "metadata": {
    "id": "NVOkK4hCU7RK"
   },
   "source": [
    "# Run this cell first"
   ]
  },
  {
   "cell_type": "code",
   "execution_count": null,
   "metadata": {
    "id": "QCMw-lybOsz-"
   },
   "outputs": [],
   "source": [
    "# this code enables the automated feedback. If you remove this, you won't get any feedback\n",
    "# so don't delete this cell!\n",
    "try:\n",
    "  import AutoFeedback\n",
    "except (ModuleNotFoundError, ImportError):\n",
    "  !pip install git+https://github.com/abrown41/AutoFeedback@notebook\n",
    "  import AutoFeedback\n",
    "\n",
    "try:\n",
    "  from testsrc import test_main\n",
    "except (ModuleNotFoundError, ImportError):\n",
    "  !pip install \"git+https://github.com/autofeedback-exercises/exercises.git@testpip#subdirectory=MTH4332/Block1\"\n",
    "  from testsrc import test_main\n",
    "\n",
    "def runtest(tlist):\n",
    "  import unittest\n",
    "  from contextlib import redirect_stderr\n",
    "  from os import devnull\n",
    "  with redirect_stderr(open(devnull, 'w')):\n",
    "    suite = unittest.TestSuite()\n",
    "    for tname in tlist:\n",
    "      suite.addTest(eval(f\"test_main.UnitTests.{tname}\"))\n",
    "    runner = unittest.TextTestRunner()\n",
    "    try:\n",
    "      runner.run(suite)\n",
    "    except AssertionError:\n",
    "      pass\n"
   ]
  },
  {
   "cell_type": "markdown",
   "metadata": {
    "id": "D7BjTcprLOwM"
   },
   "source": [
       "# The analytic derivations\n",
    "\n",
    "The method that I showed you in the last exercise for calculating the ensemble average for the energy as a function of temperature will (in theory) work for any system where each the individual particles can adopt one of a finite number of M distinct states.  In other words, this method will work for both interacting and non-interacting particles.  It is important to note, however, that using it is not really feasible when the number of particles in the system, N, is large.\n",
    "\n",
    "In some special cases we can also calculate an anlytic expression that gives the partition function in terms of the magnetic field strength H, the number of spins and the temperature T.  Deriving these expressions is certainly possibly for the non-interacting particles that you are studying in this exercise.  In this exercise, I am thus going to show you how we can use SymPy to calculate the partition function and the ensemble average for the energy analytically for these non-intracting systems.\n",
    "\n",
    "The first thing you need to recognise when deriving these analytic expression is that if the particles are on a lattice and if they do not interact we can determine the N-particle partition function Z(N) from the one particle partition function Z(1) as follows:\n",
    "\n",
    "![](eq1.png)\n",
    "\n",
    "The one particle partition function is easy to calculate as it is simply:\n",
    "\n",
    "![](eq2.png)\n",
    "\n",
    "where the sum runs over all the M states the individual particles can be within and where E_i is the energy of the ith state the particle can be within.  Hence, for systems with the Hamiltonian that we have been studying in these exercises:\n",
    "\n",
    "![](eq3.png)\n",
    "\n",
    "where the individual particles can be in state s_n = -1 or s_n = +1 the one particle partition function is thus:\n",
    "\n",
    "![](eq4.png)\n",
    "\n",
    "so the N particle partition function is;\n",
    "\n",
    "![](eq5.png)\n",
    "\n",
    "Once we have an analytic expression for the partition function for our system such as the one above we can easily calculate all thermodynmaic averages.  For example, we can calculate the ensemble average of the energy as a function of temperature from the function aboveusing:\n",
    "\n",
    "![](eq6.png)\n",
    "\n",
    "In the `main.py` file I have provided for this exercise, I have used Sympy and the expressions above to derive an analytic expression for the ensemble average of the energy as a function of temperature.  As you can see, Sympy can compute the partial derivaties that I need directly.  I can thus avoid doing tedious derivations using pen and paper (or I can use Sympy to check that I got the correct results from my tedious derivatives).\n",
    "\n",
    "The derivation that I have done is for the Hamiltonian that I have written in the third of the equations above.  I would like you to modify the `main.py` file and to derive an analytic expression for the ensemble average of the energy for a system of non-interacting particles that can each occupy three distinct states that have energies of 0, 1 and 3 units.\n",
    "\n",
    "At the end of my `main.py` file I have used NumPy and Matplotlib to draw a graph showing the analytic function for the ensemble average of the energy as a function of temperature.  To pass this exercise you will need to use the expression you derived using Sympy to redraw this graph.  You will pass once you have a graph that shows how the ensemble average of the energy for a system with 8 particles that can each be in the three states described above changes with temperature.\n"

   ]
  },
  {
   "cell_type": "code",
   "metadata": {
    "id": "FwREVGs3F8wi"
   },
   "execution_count": null,
   "outputs": [],
   "source": [
       "import matplotlib.pyplot as plt\n",
    "import sympy as sy\n",
    "import numpy as np\n",
    "\n",
    "# Define symbols that we will use to represent:\n",
    "# N = number of particles\n",
    "# H = magnetic field strength\n",
    "# B = 1/T where T is temperature\n",
    "N, H, B = sy.symbols('N H B')\n",
    "# One particle partition function\n",
    "Z1 = sy.cosh( B*H )\n",
    "# N particle partition function\n",
    "ZN = Z1**N\n",
    "# Now ensemble average of the energy\n",
    "# sy.diff calculates the derivative with respect to B\n",
    "E = -sy.diff( sy.log(ZN), B )\n",
    "\n",
    "print('The ensemble average for the energy can be calculated using', E )\n",
    "\n",
    "# Lets now draw a graph of this result using matplotlib and NumPy\n",
    "# WE are setting H=1 and N=8 here\n",
    "temperatures = np.linspace(0.1,3,100)\n",
    "energies = -8*np.sinh( 1/temperatures ) / np.cosh( 1/temperatures )\n",
    "\n",
    "plt.plot( temperatures, energies, 'k-' )\n",
    "plt.xlabel('temperature')\n",
    "plt.ylabel('average energy')\n",
    "plt.savefig('analytic_graph.png')\n",
    "\n"

   ]
  },
  {
   "cell_type": "code",
   "execution_count": null,
   "metadata": {
    "id": "CDWzptTB3XhR"
   },
   "outputs": [],
   "source": [
    "runtest(['test_graph1'])"
  ]
  }
],
 "metadata": {
  "colab": {
   "cell_execution_strategy": "setup",
   "collapsed_sections": [
    "NVOkK4hCU7RK"
   ],
   "private_outputs": true,
   "provenance": []
  },
  "kernelspec": {
   "display_name": "Python 3 (ipykernel)",
   "language": "python",
   "name": "python3"
  },
  "language_info": {
   "codemirror_mode": {
    "name": "ipython",
    "version": 3
   },
   "file_extension": ".py",
   "mimetype": "text/x-python",
   "name": "python",
   "nbconvert_exporter": "python",
   "pygments_lexer": "ipython3",
   "version": "3.9.13"
  }
 },
 "nbformat": 4,
 "nbformat_minor": 1
}
