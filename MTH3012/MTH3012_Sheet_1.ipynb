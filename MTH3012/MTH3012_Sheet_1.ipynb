{
  "cells": [
    {
      "cell_type": "code",
      "execution_count": 4,
      "metadata": {
        "trusted": true
      },
      "outputs": [],
      "source": [
        "## Importing packages\n",
        "import sympy as sy\n",
        "from sympy.abc import x\n",
        "from sympy.interactive.printing import init_printing\n",
        "from IPython.display import display, Math\n",
        "from math import gcd, lcm"
      ]
    },
    {
      "cell_type": "markdown",
      "metadata": {
        "trusted": true
      },
      "source": [
        "## Arithmetic Examples"
      ]
    },
    {
      "cell_type": "code",
      "execution_count": null,
      "metadata": {
        "trusted": true
      },
      "outputs": [],
      "source": [
        "## Compute a + b\n",
        "a = 1\n",
        "b = 2\n",
        "result = a + b\n",
        "\n",
        "## Basic print\n",
        "print(\"result =\", result)\n",
        "\n",
        "## Print the result in LaTeX\n",
        "display(Math(str(a) + \"+\" + str(b) + \"=\" + str(result)))"
      ]
    },
    {
      "cell_type": "code",
      "execution_count": null,
      "metadata": {
        "trusted": true
      },
      "outputs": [],
      "source": [
        "## Compute a * b\n",
        "a = 1\n",
        "b = 2\n",
        "result = a * b\n",
        "\n",
        "## Basic print\n",
        "print(\"result =\", result)\n",
        "\n",
        "## Print the result in LaTeX\n",
        "display(Math(str(a) + \"\\\\times\" + str(b) + \"=\" + str(result)))"
      ]
    },
    {
      "cell_type": "code",
      "execution_count": null,
      "metadata": {
        "trusted": true
      },
      "outputs": [],
      "source": [
        "## Compute a ^ b\n",
        "a = 1\n",
        "b = 2\n",
        "result = a ** b\n",
        "\n",
        "## Basic print\n",
        "print(\"result =\", result)\n",
        "\n",
        "## Print the result in LaTeX\n",
        "display(Math(str(a) + \"^\" + str(b) + \"=\" + str(result)))"
      ]
    },
    {
      "cell_type": "code",
      "execution_count": null,
      "metadata": {
        "trusted": true
      },
      "outputs": [],
      "source": [
        "## Compute lcm(a,b)\n",
        "a = 1\n",
        "b = 2\n",
        "result = lcm(a,b)\n",
        "\n",
        "## Basic print\n",
        "print(\"result =\", result)\n",
        "\n",
        "## Print the result in LaTeX\n",
        "display(Math(\"\\\\mathrm{lcm}(\" + str(a) + \",\" + str(b) + \")=\" + str(result)))"
      ]
    },
    {
      "cell_type": "code",
      "execution_count": null,
      "metadata": {
        "trusted": true
      },
      "outputs": [],
      "source": [
        "## Compute gcd(a,b)\n",
        "a = 1\n",
        "b = 2\n",
        "result = gcd(a,b)\n",
        "\n",
        "## Basic print\n",
        "print(\"result =\", result)\n",
        "\n",
        "## Print the result in LaTeX\n",
        "display(Math(\"\\\\mathrm{gcd}(\" + str(a) + \",\" + str(b) + \")=\" + str(result)))"
      ]
    },
    {
      "cell_type": "markdown",
      "metadata": {
        "trusted": true
      },
      "source": [
        "## Modular Arithmetic Examples"
      ]
    },
    {
      "cell_type": "code",
      "execution_count": null,
      "metadata": {
        "trusted": true
      },
      "outputs": [],
      "source": [
        "## Compute a + b modulo n\n",
        "a = 1\n",
        "b = 2\n",
        "n = 5\n",
        "result = (a + b) % n\n",
        "\n",
        "## Basic print\n",
        "print(\"result =\", result)\n",
        "\n",
        "## Print the result in LaTeX\n",
        "display(Math(str(a) + \"+\" + str(b) + \"\\\\equiv\" + str(result) + \"\\\\text{ mod }\" + str(n)))"
      ]
    },
    {
      "cell_type": "code",
      "execution_count": null,
      "metadata": {
        "trusted": true
      },
      "outputs": [],
      "source": [
        "## Compute a * b modulo n\n",
        "a = 1\n",
        "b = 2\n",
        "n = 5\n",
        "result = (a * b) % n\n",
        "\n",
        "## Basic print\n",
        "print(\"result =\", result)\n",
        "\n",
        "## Print the result in LaTeX\n",
        "display(Math(str(a) + \"\\\\times\" + str(b) + \"\\\\equiv\" + str(result) + \"\\\\text{ mod }\" + str(n)))"
      ]
    },
    {
      "cell_type": "code",
      "execution_count": null,
      "metadata": {
        "trusted": true
      },
      "outputs": [],
      "source": [
        "## Compute a ^ b modulo n\n",
        "a = 3\n",
        "b = 2\n",
        "n = 5\n",
        "result = (a ** b) % n\n",
        "\n",
        "## Basic print\n",
        "print(\"result =\", result)\n",
        "\n",
        "## Print the result in LaTeX\n",
        "display(Math(str(a) + \"^\" + str(b) + \"\\\\equiv\" + str(result) + \"\\\\text{ mod }\" + str(n)))"
      ]
    },
    {
      "cell_type": "code",
      "execution_count": null,
      "metadata": {
        "trusted": true
      },
      "outputs": [],
      "source": [
        "## Displaying the interation between % (remainder) and // (number of divisors)\n",
        "a = 3\n",
        "n = 5\n",
        "result = (a % n) + n * (a // n)\n",
        "\n",
        "## Basic print\n",
        "print(\"result =\", result)\n",
        "\n",
        "## Print the result in LaTeX\n",
        "display(Math(str(a) + \"\\\\%\" + str(n) + \"=\" + str(a%n) + \"\\\\text{ and }\" + str(a) + \"//\" + str(n) + \"=\" + str(a//n) + \"\\\\text{. We have }\" +str(a) + \"\\\\%\" + str(n) + \"+\" + str(n) + \"\\\\times(\" + str(a) + \"//\" + str(n) + \") = \" + str(a)  ))"
      ]
    },
    {
      "cell_type": "code",
      "execution_count": null,
      "metadata": {
        "trusted": true
      },
      "outputs": [],
      "source": [
        "## Computing the units of Z/n\n",
        "n = 5\n",
        "\n",
        "result = []\n",
        "for i in range(0, n):\n",
        "    if gcd(i,n) == 1:\n",
        "        result.append(i)\n",
        "\n",
        "## Basic print\n",
        "print(\"result =\", result)\n",
        "\n",
        "## Print the result in LaTeX\n",
        "display(Math(\"\\\\text{The units of }\" + \"\\\\mathbb{Z}/\" + str(n) + \"\\\\text{ are }\\\\{\" + str(result)[1:-1] + \"\\\\}\"))\n"
      ]
    }
  ],
  "metadata": {
    "kernelspec": {
      "display_name": "Python (Pyodide)",
      "language": "python",
      "name": "python"
    },
    "language_info": {
      "codemirror_mode": {
        "name": "python",
        "version": 3
      },
      "file_extension": ".py",
      "mimetype": "text/x-python",
      "name": "python",
      "nbconvert_exporter": "python",
      "pygments_lexer": "ipython3",
      "version": "3.8"
    }
  },
  "nbformat": 4,
  "nbformat_minor": 4
}
