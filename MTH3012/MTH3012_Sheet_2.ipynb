{
  "metadata": {
    "kernelspec": {
      "name": "python",
      "display_name": "Python (Pyodide)",
      "language": "python"
    },
    "language_info": {
      "codemirror_mode": {
        "name": "python",
        "version": 3
      },
      "file_extension": ".py",
      "mimetype": "text/x-python",
      "name": "python",
      "nbconvert_exporter": "python",
      "pygments_lexer": "ipython3",
      "version": "3.8"
    }
  },
  "nbformat_minor": 4,
  "nbformat": 4,
  "cells": [
    {
      "cell_type": "code",
      "source": "## Importing packages\nimport sympy as sy\nfrom sympy.abc import x\nfrom sympy.interactive.printing import init_printing\nfrom IPython.display import display, Math\nfrom math import gcd, lcm",
      "metadata": {
        "trusted": true
      },
      "outputs": [],
      "execution_count": 2
    },
    {
      "cell_type": "code",
      "source": "\"\"\"\nPolynomials over the integers\n\"\"\"",
      "metadata": {
        "trusted": true
      },
      "outputs": [],
      "execution_count": null
    },
    {
      "cell_type": "code",
      "source": "## Compute f + g over the integers\nf = sy.poly(x**2 + 12, domain = (sy.ZZ))\ng = sy.poly(x**2 + 2, domain = (sy.ZZ))\n\nresult = f + g\n\n## Basic print\nprint(\"result =\", result)\n\n## Print the result in LaTeX\ndisplay(Math(\"(\" + str(f).split(\",\")[0][5:].replace(\"**\",\"^\").replace(\"*\",\"\") + \")+(\" + str(g).split(\",\")[0][5:].replace(\"**\",\"^\").replace(\"*\",\"\") + \")= \" + str(result).split(\",\")[0][5:].replace(\"**\",\"^\").replace(\"*\",\"\")))",
      "metadata": {
        "trusted": true
      },
      "outputs": [
        {
          "name": "stdout",
          "text": "result = Poly(2*x**2 + 24, x, domain='ZZ')\n",
          "output_type": "stream"
        },
        {
          "output_type": "display_data",
          "data": {
            "text/plain": "<IPython.core.display.Math object>",
            "text/latex": "$\\displaystyle (x^2 + 12)+(x^2 + 12)= 2x^2 + 24$"
          },
          "metadata": {}
        }
      ],
      "execution_count": 24
    },
    {
      "cell_type": "code",
      "source": "## Compute f * g over the integers\nf = sy.poly(x**2 + 12, domain = (sy.ZZ))\ng = sy.poly(x**2 + 12, domain = (sy.ZZ))\n\nresult = f * g\n\n## Basic print\nprint(\"result =\", result)\n\n## Print the result in LaTeX\ndisplay(Math(\"(\" + str(f).split(\",\")[0][5:].replace(\"**\",\"^\").replace(\"*\",\"\") + \")\\\\times (\" + str(g).split(\",\")[0][5:].replace(\"**\",\"^\").replace(\"*\",\"\") + \")= \" + str(result).split(\",\")[0][5:].replace(\"**\",\"^\").replace(\"*\",\"\")))",
      "metadata": {
        "trusted": true
      },
      "outputs": [],
      "execution_count": null
    },
    {
      "cell_type": "code",
      "source": "## Evaluate f at a over the integers\na = 7\nf = sy.poly(x**2 - 1, domain = (sy.ZZ))\n\nresult = f.eval(a)\n\n## Basic print\nprint(\"result =\", result)\n\n## Print the result in LaTeX\ndisplay(Math(\"f=\" + str(f).split(\",\")[0][5:].replace(\"**\",\"^\").replace(\"*\",\"\") + \", \\\\quad f(\" + str(a) + \") = \" + str(result)))",
      "metadata": {
        "trusted": true
      },
      "outputs": [
        {
          "name": "stdout",
          "text": "result = 48\n",
          "output_type": "stream"
        },
        {
          "output_type": "display_data",
          "data": {
            "text/plain": "<IPython.core.display.Math object>",
            "text/latex": "$\\displaystyle f=x^2 - 1, \\quad f(7) = 48$"
          },
          "metadata": {}
        }
      ],
      "execution_count": 25
    },
    {
      "cell_type": "code",
      "source": "\"\"\"\nPolynomials with modular arithmetic\n\nWARNING! Sympy does not correctly encode finite fields of order n, it instead encodes Z/n\n\"\"\"",
      "metadata": {
        "trusted": true
      },
      "outputs": [],
      "execution_count": null
    },
    {
      "cell_type": "code",
      "source": "## Compute f + g modulo n \nn = 5\nf = sy.poly(x**2 + 12, domain = (sy.FiniteField(n,symmetric=False)))\ng = sy.poly(x**2 + 12, domain = (sy.FiniteField(n,symmetric=False)))\n\nresult = f + g\n\n## Basic print\nprint(\"result =\", result)\n\n## Print the result in LaTeX\ndisplay(Math(\"(\" + str(f).split(\",\")[0][5:].replace(\"**\",\"^\").replace(\"*\",\"\") + \")+(\" + str(g).split(\",\")[0][5:].replace(\"**\",\"^\").replace(\"*\",\"\") + \")\\\\equiv \" + str(result).split(\",\")[0][5:].replace(\"**\",\"^\").replace(\"*\",\"\") + \"\\\\text{ mod }\" + str(n)))",
      "metadata": {
        "trusted": true
      },
      "outputs": [
        {
          "name": "stdout",
          "text": "result = Poly(2*x**2 + 4, x, modulus=5)\n",
          "output_type": "stream"
        },
        {
          "output_type": "display_data",
          "data": {
            "text/plain": "<IPython.core.display.Math object>",
            "text/latex": "$\\displaystyle (x^2 + 2)+(x^2 + 2)\\equiv2x^2 + 4\\text{ mod }5$"
          },
          "metadata": {}
        }
      ],
      "execution_count": 9
    },
    {
      "cell_type": "code",
      "source": "## Compute f * g modulo n \nn = 5\nf = sy.poly(x**2 - 1, domain = (sy.FiniteField(n,symmetric=False)))\ng = sy.poly(x**2 + 12, domain = (sy.FiniteField(n,symmetric=False)))\n\nresult = f * g\n\n## Basic print\nprint(\"result =\", result)\n\n## Print the result in LaTeX\ndisplay(Math(\"(\" + str(f).split(\",\")[0][5:].replace(\"**\",\"^\").replace(\"*\",\"\") + \")\\\\times(\" + str(g).split(\",\")[0][5:].replace(\"**\",\"^\").replace(\"*\",\"\") + \") \\\\equiv \" + str(result).split(\",\")[0][5:].replace(\"**\",\"^\").replace(\"*\",\"\") + \"\\\\text{ mod }\" + str(n)))",
      "metadata": {
        "trusted": true
      },
      "outputs": [
        {
          "name": "stdout",
          "text": "result = Poly(x**4 + x**2 + 3, x, modulus=5)\n",
          "output_type": "stream"
        },
        {
          "output_type": "display_data",
          "data": {
            "text/plain": "<IPython.core.display.Math object>",
            "text/latex": "$\\displaystyle (x^2 + 4)\\times(x^2 + 2) \\equiv x^4 + x^2 + 3\\text{ mod }5$"
          },
          "metadata": {}
        }
      ],
      "execution_count": 13
    },
    {
      "cell_type": "code",
      "source": "## Evaluate f at a modulo n \nn = 5\na = 7\nf = sy.poly(x**2 - 1, domain = (sy.FiniteField(n,symmetric=False)))\n\nresult = f.eval(a)\n\n## Basic print\nprint(\"result =\", result)\n\n## Print the result in LaTeX\ndisplay(Math(\"f=\" + str(f).split(\",\")[0][5:].replace(\"**\",\"^\").replace(\"*\",\"\") + \", \\\\quad f(\" + str(a) + \") \\\\equiv \" + str(result) + \"\\\\text{ mod }\" + str(n)))",
      "metadata": {
        "trusted": true
      },
      "outputs": [
        {
          "name": "stdout",
          "text": "result = 3\n",
          "output_type": "stream"
        },
        {
          "output_type": "display_data",
          "data": {
            "text/plain": "<IPython.core.display.Math object>",
            "text/latex": "$\\displaystyle f=x^2 + 4, \\quad f(7) \\equiv 3\\text{ mod }5$"
          },
          "metadata": {}
        }
      ],
      "execution_count": 23
    },
    {
      "cell_type": "code",
      "source": "",
      "metadata": {
        "trusted": true
      },
      "outputs": [],
      "execution_count": null
    }
  ]
}