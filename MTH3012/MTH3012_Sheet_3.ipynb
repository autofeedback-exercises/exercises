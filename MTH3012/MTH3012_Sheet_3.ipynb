{
  "metadata": {
    "kernelspec": {
      "name": "python",
      "display_name": "Python (Pyodide)",
      "language": "python"
    },
    "language_info": {
      "codemirror_mode": {
        "name": "python",
        "version": 3
      },
      "file_extension": ".py",
      "mimetype": "text/x-python",
      "name": "python",
      "nbconvert_exporter": "python",
      "pygments_lexer": "ipython3",
      "version": "3.8"
    }
  },
  "nbformat_minor": 4,
  "nbformat": 4,
  "cells": [
    {
      "cell_type": "code",
      "source": "import sympy as sy\nfrom sympy.abc import x\nfrom sympy.interactive.printing import init_printing\nfrom IPython.display import display, Math\nfrom math import gcd\n",
      "metadata": {
        "trusted": true
      },
      "outputs": [],
      "execution_count": 9
    },
    {
      "cell_type": "code",
      "source": "\"\"\"\nMatrices over the integers\n\"\"\"",
      "metadata": {
        "trusted": true
      },
      "outputs": [],
      "execution_count": null
    },
    {
      "cell_type": "code",
      "source": "## Compute M + N over Z\nM = sy.Matrix([[1, -1, 6], [3, 4, 5], [1, 1, 0]])\nN = sy.Matrix([[1, 1, -1], [2, 3, 4], [0, 1, 1]])\n\nresult = M + N\n## Basic print\nprint(\"result =\", result)\n\n## Print the result in LaTeX\ndisplay(result)",
      "metadata": {
        "trusted": true
      },
      "outputs": [
        {
          "name": "stdout",
          "text": "result = Matrix([[2, 0, 5], [5, 7, 9], [1, 2, 1]])\n",
          "output_type": "stream"
        },
        {
          "output_type": "display_data",
          "data": {
            "text/plain": "Matrix([\n[2, 0, 5],\n[5, 7, 9],\n[1, 2, 1]])",
            "text/latex": "$\\displaystyle \\left[\\begin{matrix}2 & 0 & 5\\\\5 & 7 & 9\\\\1 & 2 & 1\\end{matrix}\\right]$"
          },
          "metadata": {}
        }
      ],
      "execution_count": 17
    },
    {
      "cell_type": "code",
      "source": "## Compute M * N over Z\nM = sy.Matrix([[1, -1, 6], [3, 4, 5], [1, 1, 0]])\nN = sy.Matrix([[1, 1, -1], [2, 3, 4], [0, 1, 1]])\n\nresult = M * N\n## Basic print\nprint(\"result =\", result)\n\n## Print the result in LaTeX\ndisplay(result)",
      "metadata": {
        "trusted": true
      },
      "outputs": [
        {
          "name": "stdout",
          "text": "result = Matrix([[-1, 4, 1], [11, 20, 18], [3, 4, 3]])\n",
          "output_type": "stream"
        },
        {
          "output_type": "display_data",
          "data": {
            "text/plain": "Matrix([\n[-1,  4,  1],\n[11, 20, 18],\n[ 3,  4,  3]])",
            "text/latex": "$\\displaystyle \\left[\\begin{matrix}-1 & 4 & 1\\\\11 & 20 & 18\\\\3 & 4 & 3\\end{matrix}\\right]$"
          },
          "metadata": {}
        }
      ],
      "execution_count": 18
    },
    {
      "cell_type": "code",
      "source": "## Compute determinant M over Z\nM = sy.Matrix([[1, -1, 6], [3, 4, 5], [1, 1, 0]])\n\nresult = sy.det(M)\n## Basic print\nprint(\"result =\", result)\n\n## Print the result in LaTeX\ndisplay(Math(\"\\\\text{The determinant of }M \\\\text{ over } \\\\mathbb{Z} \\\\text{ is }\" + str(result) ))",
      "metadata": {
        "trusted": true
      },
      "outputs": [
        {
          "name": "stdout",
          "text": "result = -16\n",
          "output_type": "stream"
        },
        {
          "output_type": "display_data",
          "data": {
            "text/plain": "<IPython.core.display.Math object>",
            "text/latex": "$\\displaystyle \\text{The determinant of }M \\text{ over } \\mathbb{Z} \\text{ is }-16$"
          },
          "metadata": {}
        }
      ],
      "execution_count": 23
    },
    {
      "cell_type": "code",
      "source": "## Compute trace M over Z\nM = sy.Matrix([[1, -1, 6], [3, 4, 5], [1, 1, 0]])\n\nresult = sy.trace(M)\n## Basic print\nprint(\"result =\", result)\n\n## Print the result in LaTeX\ndisplay(Math(\"\\\\text{The trace of }M \\\\text{ over } \\\\mathbb{Z} \\\\text{ is }\" + str(result) ))",
      "metadata": {
        "trusted": true
      },
      "outputs": [
        {
          "name": "stdout",
          "text": "result = 5\n",
          "output_type": "stream"
        },
        {
          "output_type": "display_data",
          "data": {
            "text/plain": "<IPython.core.display.Math object>",
            "text/latex": "$\\displaystyle \\text{The trace of }M \\text{ over } \\mathbb{Z} \\text{ is }5$"
          },
          "metadata": {}
        }
      ],
      "execution_count": 24
    },
    {
      "cell_type": "code",
      "source": "\"\"\"\nMatrices modulo n\n\"\"\"",
      "metadata": {
        "trusted": true
      },
      "outputs": [],
      "execution_count": null
    },
    {
      "cell_type": "code",
      "source": "## Compute M + N modulo n\nM = sy.Matrix([[1, -1, 6], [3, 4, 5], [1, 1, 0]])\nN = sy.Matrix([[1, 1, -1], [2, 3, 4], [0, 1, 1]])\nn = 5\n\nresult = (M + N) % 5\n## Basic print\nprint(\"result =\", result)\n\n## Print the result in LaTeX\ndisplay(result)",
      "metadata": {
        "trusted": true
      },
      "outputs": [],
      "execution_count": null
    },
    {
      "cell_type": "code",
      "source": "## Compute M * N modulo n\nM = sy.Matrix([[1, -1, 6], [3, 4, 5], [1, 1, 0]])\nN = sy.Matrix([[1, 1, -1], [2, 3, 4], [0, 1, 1]])\nn = 5\n\nresult = (M * N) % n\n## Basic print\nprint(\"result =\", result)\n\n## Print the result in LaTeX\ndisplay(result)",
      "metadata": {
        "trusted": true
      },
      "outputs": [],
      "execution_count": null
    },
    {
      "cell_type": "code",
      "source": "## Compute determinant M modulo n\nM = sy.Matrix([[1, -1, 6], [3, 4, 5], [1, 1, 0]])\nn = 5\n\nresult = sy.det(M) % n\n## Basic print\nprint(\"result =\", result)\n\n## Print the result in LaTeX\ndisplay(Math(\"\\\\text{The determinant of }M \\\\text{ modulo }\"  + str(n) +  \"\\\\text{ is }\" + str(result) ))",
      "metadata": {
        "trusted": true
      },
      "outputs": [
        {
          "name": "stdout",
          "text": "result = 4\n",
          "output_type": "stream"
        },
        {
          "output_type": "display_data",
          "data": {
            "text/plain": "<IPython.core.display.Math object>",
            "text/latex": "$\\displaystyle \\text{The determinant of }M \\text{ modulo }5\\text{ is }4$"
          },
          "metadata": {}
        }
      ],
      "execution_count": 25
    },
    {
      "cell_type": "code",
      "source": "## Compute trace M modulo n\nM = sy.Matrix([[1, -1, 6], [3, 4, 5], [1, 1, 0]])\nn = 5\n\nresult = sy.trace(M) % n\n## Basic print\nprint(\"result =\", result)\n\n## Print the result in LaTeX\ndisplay(Math(\"\\\\text{The trace of }M \\\\text{ modulo }\"  + str(n) +  \"\\\\text{ is }\" + str(result) ))",
      "metadata": {
        "trusted": true
      },
      "outputs": [
        {
          "name": "stdout",
          "text": "result = 0\n",
          "output_type": "stream"
        },
        {
          "output_type": "display_data",
          "data": {
            "text/plain": "<IPython.core.display.Math object>",
            "text/latex": "$\\displaystyle \\text{The trace of }M \\text{ modulo }5\\text{ is }0$"
          },
          "metadata": {}
        }
      ],
      "execution_count": 26
    },
    {
      "cell_type": "code",
      "source": "",
      "metadata": {
        "trusted": true
      },
      "outputs": [],
      "execution_count": null
    }
  ]
}